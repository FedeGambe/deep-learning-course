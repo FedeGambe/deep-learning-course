{
  "nbformat": 4,
  "nbformat_minor": 0,
  "metadata": {
    "colab": {
      "name": "Intro-to-pytorch.ipynb",
      "provenance": [],
      "collapsed_sections": [],
      "authorship_tag": "ABX9TyPDNg1CKkeE63mMHEQFYIeQ",
      "include_colab_link": true
    },
    "kernelspec": {
      "name": "python3",
      "display_name": "Python 3"
    },
    "accelerator": "GPU"
  },
  "cells": [
    {
      "cell_type": "markdown",
      "metadata": {
        "id": "view-in-github",
        "colab_type": "text"
      },
      "source": [
        "<a href=\"https://colab.research.google.com/github/visiont3lab/deep-learning-course/blob/main/colab/Intro_to_pytorch.ipynb\" target=\"_parent\"><img src=\"https://colab.research.google.com/assets/colab-badge.svg\" alt=\"Open In Colab\"/></a>"
      ]
    },
    {
      "cell_type": "markdown",
      "metadata": {
        "id": "38zhmhg57csZ"
      },
      "source": [
        "# Getting Started With Pytorch for Deep Learning\r\n",
        "\r\n"
      ]
    },
    {
      "cell_type": "markdown",
      "metadata": {
        "id": "MrxlHaHG53rG"
      },
      "source": [
        "* [PyTorch Computer Vision Cookbook](https://github.com/PacktPublishing/PyTorch-Computer-Vision-Cookbook)\r\n",
        "* [Deep Learning Sample Code](https://github.com/PacktPublishing)"
      ]
    },
    {
      "cell_type": "markdown",
      "metadata": {
        "id": "BidnhEVh7tn6"
      },
      "source": [
        "## Installation"
      ]
    },
    {
      "cell_type": "markdown",
      "metadata": {
        "id": "YNjKSYqb7_PD"
      },
      "source": [
        "* Local (Own Pc)\r\n",
        "\r\n",
        "    Install [python 3.8](https://www.python.org/downloads/)\r\n",
        "\r\n",
        "    ```\r\n",
        "    pip3 install virtualenv\r\n",
        "    virtualenv env\r\n",
        "    source env/bin/activate # Linux - Mac\r\n",
        "    source env/Scripts/activate # Windows\r\n",
        "    pip install torch torchvision\r\n",
        "    ```\r\n",
        "\r\n",
        "\r\n",
        "* Google Colab\r\n",
        "\r\n",
        "    ```\r\n",
        "    pip3 install torch torchvision\r\n",
        "    ```\r\n",
        "These requirements should be arealdy satisied\r\n"
      ]
    },
    {
      "cell_type": "code",
      "metadata": {
        "colab": {
          "base_uri": "https://localhost:8080/"
        },
        "id": "1tH0Ck6L5kTQ",
        "outputId": "ab33673e-d014-44ca-d533-09a04cdb47fd"
      },
      "source": [
        "# Verify installation\r\n",
        "!pip list | grep torch"
      ],
      "execution_count": 3,
      "outputs": [
        {
          "output_type": "stream",
          "text": [
            "torch                         1.7.1+cu101   \n",
            "torchsummary                  1.5.1         \n",
            "torchtext                     0.3.1         \n",
            "torchvision                   0.8.2+cu101   \n"
          ],
          "name": "stdout"
        }
      ]
    },
    {
      "cell_type": "code",
      "metadata": {
        "colab": {
          "base_uri": "https://localhost:8080/"
        },
        "id": "q2rHdZ4a9Gl9",
        "outputId": "7686e2a1-86c2-4266-906d-a4822b37ba7c"
      },
      "source": [
        "# Change runtime colab type to enable GPU\r\n",
        "# Click on Runtime --> Select Change Runtime Type --> Select Hardware Accelarion GPU\r\n",
        "\r\n",
        "import torch\r\n",
        "import torchvision\r\n",
        "print(\"Torch Version: \",torch.__version__)\r\n",
        "print(\"Torch Vision Version:\", torchvision.__version__)\r\n",
        "print(\"Is Cuda available: \", torch.cuda.is_available())\r\n",
        "print(\"Number of  Cuda device: \", torch.cuda.device_count())\r\n",
        "print(\"Get Cuda Current device: \", torch.cuda.current_device())\r\n",
        "print(\"Get Name of Cuda  device: \", torch.cuda.get_device_name(0))"
      ],
      "execution_count": 116,
      "outputs": [
        {
          "output_type": "stream",
          "text": [
            "Torch Version:  1.7.1+cu101\n",
            "Torch Vision Version: 0.8.2+cu101\n",
            "Is Cuda available:  True\n",
            "Number of  Cuda device:  1\n",
            "Get Cuda Current device:  0\n",
            "Get Name of Cuda  device:  Tesla T4\n"
          ],
          "name": "stdout"
        }
      ]
    },
    {
      "cell_type": "markdown",
      "metadata": {
        "id": "xV3_nBpi_YJ5"
      },
      "source": [
        "## Pytorch: Tensors"
      ]
    },
    {
      "cell_type": "markdown",
      "metadata": {
        "id": "ERI7NZCk_dIu"
      },
      "source": [
        "> Tensor: n-dimensional array\r\n",
        "\r\n",
        "* [Pytoch documentation](https://pytorch.org/docs/stable/index.html)\r\n",
        "* [List of Pytorch Type](https://pytorch.org/docs/stable/tensors.html)"
      ]
    },
    {
      "cell_type": "code",
      "metadata": {
        "colab": {
          "base_uri": "https://localhost:8080/"
        },
        "id": "Daxr3q3798gv",
        "outputId": "eaead4dc-d3ba-468a-eec9-a03840a5cbde"
      },
      "source": [
        "import torch\r\n",
        "x = torch.ones(4,4)\r\n",
        "print(x)\r\n",
        "print(\"Shape: \", x.shape)\r\n",
        "print(\"Type : \", x.dtype) # Torch default data type is torch.float32"
      ],
      "execution_count": 117,
      "outputs": [
        {
          "output_type": "stream",
          "text": [
            "tensor([[1., 1., 1., 1.],\n",
            "        [1., 1., 1., 1.],\n",
            "        [1., 1., 1., 1.],\n",
            "        [1., 1., 1., 1.]])\n",
            "Shape:  torch.Size([4, 4])\n",
            "Type :  torch.float32\n"
          ],
          "name": "stdout"
        }
      ]
    },
    {
      "cell_type": "code",
      "metadata": {
        "colab": {
          "base_uri": "https://localhost:8080/"
        },
        "id": "NSM5NQafADMj",
        "outputId": "59e98a9b-6784-4de4-ed35-9401b4fec3da"
      },
      "source": [
        "# Specify tensor type\r\n",
        "x = 2*torch.ones(1,3,3, dtype=torch.int8)\r\n",
        "print(x)\r\n",
        "print(\"Shape: \", x.shape)\r\n",
        "print(\"Type : \", x.dtype)"
      ],
      "execution_count": 118,
      "outputs": [
        {
          "output_type": "stream",
          "text": [
            "tensor([[[2, 2, 2],\n",
            "         [2, 2, 2],\n",
            "         [2, 2, 2]]], dtype=torch.int8)\n",
            "Shape:  torch.Size([1, 3, 3])\n",
            "Type :  torch.int8\n"
          ],
          "name": "stdout"
        }
      ]
    },
    {
      "cell_type": "code",
      "metadata": {
        "colab": {
          "base_uri": "https://localhost:8080/"
        },
        "id": "UyLARNB4AjiJ",
        "outputId": "c2e9980d-8c77-40b3-ae8d-e67e905429a4"
      },
      "source": [
        "# Change tensor type\r\n",
        "x = torch.rand(3, dtype=torch.float32) # random uniform 0-1\r\n",
        "x = 5*x # Multiply by 5\r\n",
        "print(\"Tensor: %s , Type: %s \" % (x, x.dtype))\r\n",
        "x = x.type(torch.uint8) # change data type to unit8\r\n",
        "print(\"Tensor: %s , Type: %s \" % (x, x.dtype))"
      ],
      "execution_count": 119,
      "outputs": [
        {
          "output_type": "stream",
          "text": [
            "Tensor: tensor([2.7060, 2.9286, 1.7063]) , Type: torch.float32 \n",
            "Tensor: tensor([2, 2, 1], dtype=torch.uint8) , Type: torch.uint8 \n"
          ],
          "name": "stdout"
        }
      ]
    },
    {
      "cell_type": "code",
      "metadata": {
        "colab": {
          "base_uri": "https://localhost:8080/"
        },
        "id": "eb-gH_3EBFAC",
        "outputId": "d1b595b2-3db4-4605-b087-a5506254e0fe"
      },
      "source": [
        "# Tensor to numpy array\r\n",
        "x = torch.sin( torch.rand(4) + 2*torch.rand(4) )\r\n",
        "xnp = x.numpy()\r\n",
        "print(\"Numpy Array: %s , Type: %s \" % (xnp, xnp.dtype))"
      ],
      "execution_count": 120,
      "outputs": [
        {
          "output_type": "stream",
          "text": [
            "Numpy Array: [0.9927129  0.83238405 0.88557565 0.44139844] , Type: float32 \n"
          ],
          "name": "stdout"
        }
      ]
    },
    {
      "cell_type": "code",
      "metadata": {
        "colab": {
          "base_uri": "https://localhost:8080/"
        },
        "id": "_QNpDjIwCPlK",
        "outputId": "e7ee5492-1000-4376-de0f-ce955e2aa661"
      },
      "source": [
        "# Numpy array to tensor\r\n",
        "import numpy as np\r\n",
        "xnp = np.sin( np.random.rand(4) + 2*np.random.rand(4) ) # Float64 by default numpy\r\n",
        "x = torch.from_numpy(xnp)\r\n",
        "x = x.type(torch.float32)\r\n",
        "print(\"Tensor: %s , Type: %s \" % (x, x.dtype))"
      ],
      "execution_count": 121,
      "outputs": [
        {
          "output_type": "stream",
          "text": [
            "Tensor: tensor([0.7397, 0.8691, 0.9946, 0.7989]) , Type: torch.float32 \n"
          ],
          "name": "stdout"
        }
      ]
    },
    {
      "cell_type": "code",
      "metadata": {
        "colab": {
          "base_uri": "https://localhost:8080/"
        },
        "id": "DEN8ncC-CsCK",
        "outputId": "8729c6ad-6b21-42a2-818c-f9648010b42c"
      },
      "source": [
        "# Moving tensor bettwen cpu and cuda device\r\n",
        "# If u do not specify the device the tensorf will be hosted by default on cpu\r\n",
        "x = torch.tensor([[1,3,4.4,5.6]])\r\n",
        "print(\"Tensor: %s , Type: %s ,Shape: %s, Device: %s\" % (x.tolist(), x.dtype,x.shape,x.device))\r\n",
        "if torch.cuda.is_available():\r\n",
        "    device = torch.device(\"cuda:0\")\r\n",
        "    x = x.to(device)\r\n",
        "    print(\"Tensor: %s , Type: %s ,Shape: %s, Device: %s\" % (x.tolist(), x.dtype,x.shape,x.device))\r\n"
      ],
      "execution_count": 122,
      "outputs": [
        {
          "output_type": "stream",
          "text": [
            "Tensor: [[1.0, 3.0, 4.400000095367432, 5.599999904632568]] , Type: torch.float32 ,Shape: torch.Size([1, 4]), Device: cpu\n",
            "Tensor: [[1.0, 3.0, 4.400000095367432, 5.599999904632568]] , Type: torch.float32 ,Shape: torch.Size([1, 4]), Device: cuda:0\n"
          ],
          "name": "stdout"
        }
      ]
    },
    {
      "cell_type": "markdown",
      "metadata": {
        "id": "TZ3DJaT3Fxhb"
      },
      "source": [
        "## Pytorch: Dataset tools"
      ]
    },
    {
      "cell_type": "markdown",
      "metadata": {
        "id": "zX5F3V--GHJB"
      },
      "source": [
        "* [Torchvision Datasets](https://pytorch.org/vision/stable/datasets.html)\r\n",
        "* [Pytorch transforms augmentation](https://pytorch.org/docs/stable/torchvision/transforms.html)"
      ]
    },
    {
      "cell_type": "code",
      "metadata": {
        "id": "HM4RWPCoDaWz"
      },
      "source": [
        "from torchvision import datasets\r\n",
        "\r\n",
        "# Get Mnist Train Datasets inside folder dataset\r\n",
        "train_data = datasets.MNIST(\"./dataset\", train=True, download=True)"
      ],
      "execution_count": 123,
      "outputs": []
    },
    {
      "cell_type": "code",
      "metadata": {
        "colab": {
          "base_uri": "https://localhost:8080/"
        },
        "id": "giqyTFjWF74e",
        "outputId": "de1ed323-a597-43a5-b461-59f7b8f0fbba"
      },
      "source": [
        "# Extract Train data\r\n",
        "x_train, y_train = train_data.data, train_data.targets\r\n",
        "print(\"Training Dataset\")\r\n",
        "print(\"Shape: %s , Type: %s \" % (x_train.shape, x_train.dtype))\r\n",
        "print(\"Shape: %s , Type: %s \" % (y_train.shape, y_train.dtype))"
      ],
      "execution_count": 124,
      "outputs": [
        {
          "output_type": "stream",
          "text": [
            "Training Dataset\n",
            "Shape: torch.Size([60000, 28, 28]) , Type: torch.uint8 \n",
            "Shape: torch.Size([60000]) , Type: torch.int64 \n"
          ],
          "name": "stdout"
        }
      ]
    },
    {
      "cell_type": "code",
      "metadata": {
        "colab": {
          "base_uri": "https://localhost:8080/"
        },
        "id": "NtrfZKF7G00y",
        "outputId": "627a506e-83b1-4375-9254-03a9820335f8"
      },
      "source": [
        "# Get Mnist Validation Datasets inside folder dataset\r\n",
        "val_data = datasets.MNIST(\"./dataset\", train=False, download=True)\r\n",
        "print(val_data)"
      ],
      "execution_count": 125,
      "outputs": [
        {
          "output_type": "stream",
          "text": [
            "Dataset MNIST\n",
            "    Number of datapoints: 10000\n",
            "    Root location: ./dataset\n",
            "    Split: Test\n"
          ],
          "name": "stdout"
        }
      ]
    },
    {
      "cell_type": "code",
      "metadata": {
        "colab": {
          "base_uri": "https://localhost:8080/"
        },
        "id": "0_bdy5qfHI2p",
        "outputId": "814ca4ce-c267-44cb-f88f-a88840842363"
      },
      "source": [
        "# Extract Validation data\r\n",
        "x_val, y_val = val_data.data, val_data.targets\r\n",
        "print(\"Validation Dataset\")\r\n",
        "print(\"Shape: %s , Type: %s \" % (x_val.shape, x_val.dtype))\r\n",
        "print(\"Shape: %s , Type: %s \" % (y_val.shape, y_val.dtype))"
      ],
      "execution_count": 126,
      "outputs": [
        {
          "output_type": "stream",
          "text": [
            "Validation Dataset\n",
            "Shape: torch.Size([10000, 28, 28]) , Type: torch.uint8 \n",
            "Shape: torch.Size([10000]) , Type: torch.int64 \n"
          ],
          "name": "stdout"
        }
      ]
    },
    {
      "cell_type": "code",
      "metadata": {
        "colab": {
          "base_uri": "https://localhost:8080/"
        },
        "id": "gbiTZiumHija",
        "outputId": "7825c826-ff1e-4614-80d8-000bce2c5c18"
      },
      "source": [
        "# Modify tensor dimension\r\n",
        "print(\"Shape x_train: \", x_train.shape)\r\n",
        "print(\"Shape x_val: \", x_val.shape)\r\n",
        "if (len(x_train.shape)==3):\r\n",
        "    x_train=x_train.unsqueeze(1) # this nember specify where to  add new tensor\r\n",
        "    x_val = x_val.unsqueeze(1)\r\n",
        "print(\"Shape x_train: \", x_train.shape)\r\n",
        "print(\"Shape x_val: \", x_val.shape)"
      ],
      "execution_count": 127,
      "outputs": [
        {
          "output_type": "stream",
          "text": [
            "Shape x_train:  torch.Size([60000, 28, 28])\n",
            "Shape x_val:  torch.Size([10000, 28, 28])\n",
            "Shape x_train:  torch.Size([60000, 1, 28, 28])\n",
            "Shape x_val:  torch.Size([10000, 1, 28, 28])\n"
          ],
          "name": "stdout"
        }
      ]
    },
    {
      "cell_type": "code",
      "metadata": {
        "colab": {
          "base_uri": "https://localhost:8080/",
          "height": 364
        },
        "id": "BI9nAczpJMHC",
        "outputId": "bcc2c40f-48b9-4d83-af3c-dbe1ea66ec32"
      },
      "source": [
        "# Display Images\r\n",
        "from torchvision import utils \r\n",
        "import matplotlib.pyplot as plt \r\n",
        "import numpy as np\r\n",
        "import cv2\r\n",
        "from google.colab.patches import cv2_imshow\r\n",
        "\r\n",
        "# sets the backend of matplotlib to the 'inline' backend\r\n",
        "%matplotlib inline \r\n",
        "\r\n",
        "def show_matplotlib(img):\r\n",
        "    # img is a tensor!\r\n",
        "    # Convert tensor to numpy array\r\n",
        "    img_np = img.numpy()\r\n",
        "    # Reshape image\r\n",
        "    img_np = np.transpose(img_np, (1,2,0))\r\n",
        "    # Display using matplotlib\r\n",
        "    plt.imshow(img_np, interpolation=\"nearest\") #,aspect='auto')\r\n",
        "    plt.axis('off')\r\n",
        "\r\n",
        "def show_cv2(img):\r\n",
        "    # img is a tensor!\r\n",
        "    # Convert tensor to numpy array\r\n",
        "    img_np = img.numpy()\r\n",
        "    # Reshape image\r\n",
        "    img_np = np.transpose(img_np, (1,2,0))\r\n",
        "    # Display using opencv\r\n",
        "    scale_percent = 300 # percent of original size\r\n",
        "    width = int(img_np.shape[1] * scale_percent / 100)\r\n",
        "    height = int(img_np.shape[0] * scale_percent / 100)\r\n",
        "    dim = (width, height)  \r\n",
        "    img_np = cv2.resize(img_np, dim, interpolation = cv2.INTER_AREA)\r\n",
        "    print(\"Shape x_grid Resize: \", img_np.shape)\r\n",
        "    cv2_imshow(img_np)\r\n",
        "\r\n",
        "# Let's create a grid image that contains 40 images of the train dataset\r\n",
        "x_grid = utils.make_grid(x_train[:20], nrow=8, padding=5)\r\n",
        "print(\"Shape x_grid: \", x_grid.shape)\r\n",
        "#show_matplotlib(x_grid)\r\n",
        "show_cv2(x_grid)"
      ],
      "execution_count": 128,
      "outputs": [
        {
          "output_type": "stream",
          "text": [
            "Shape x_grid:  torch.Size([3, 104, 269])\n",
            "Shape x_grid Resize:  (312, 807, 3)\n"
          ],
          "name": "stdout"
        },
        {
          "output_type": "display_data",
          "data": {
            "image/png": "[encoded data removed]",
            "text/plain": [
              "<PIL.Image.Image image mode=RGB size=807x312 at 0x7F8251897B10>"
            ]
          },
          "metadata": {
            "tags": []
          }
        }
      ]
    },
    {
      "cell_type": "code",
      "metadata": {
        "colab": {
          "base_uri": "https://localhost:8080/",
          "height": 251
        },
        "id": "ikQhesIAIbZa",
        "outputId": "836de896-4cc3-4be3-cf98-01766fe99693"
      },
      "source": [
        "# Data transformation \r\n",
        "# Pytorch transform: https://pytorch.org/docs/stable/torchvision/transforms.html\r\n",
        "# Let's modify images to create some augmented ones\r\n",
        "from torchvision import datasets\r\n",
        "from torchvision import transforms\r\n",
        "import numpy as np\r\n",
        "import cv2\r\n",
        "import torch\r\n",
        "from torchvision import utils \r\n",
        "import matplotlib.pyplot as plt \r\n",
        "from google.colab.patches import cv2_imshow\r\n",
        "\r\n",
        "# Get Mnist Train Datasets inside folder dataset\r\n",
        "train_data = datasets.MNIST(\"./dataset\", train=True, download=True)\r\n",
        "x_train, y_train = train_data.data, train_data.targets\r\n",
        "if (len(x_train.shape)==3):\r\n",
        "    x_train=x_train.unsqueeze(1) # this nember specify where to  add new tensor\r\n",
        "\r\n",
        "# Transformation applied to an Image\r\n",
        "data_transform = transforms.Compose([\r\n",
        "                                    transforms.ToPILImage(),  # Tensor of Numpy array to Pillow\r\n",
        "                                    #transforms.RandomHorizontalFlip(p=1), # Pillow transformation\r\n",
        "                                    transforms.RandomVerticalFlip(p=1), # Pillow transformation\r\n",
        "                                    transforms.ToTensor(),          # Pillow to tensor\r\n",
        "                            ])\r\n",
        "\r\n",
        "img = x_train[0][0] # Pillow images (size)\r\n",
        "print(\"Shape: \", img.shape) # Black and white image\r\n",
        "img_tr = data_transform(img).numpy()  # range 0-1\r\n",
        "print(\"Transformed Shape: \", img_tr.shape)\r\n",
        "\r\n",
        "# Display images\r\n",
        "#cv2_imshow(img)\r\n",
        "#cv2_imshow(img_tr[0]*255)\r\n",
        "plt.subplot(1,2,1)\r\n",
        "plt.imshow(img, cmap=\"gray\")\r\n",
        "plt.title(\"Original\")\r\n",
        "plt.subplot(1,2,2)\r\n",
        "plt.imshow(img_tr[0], cmap=\"gray\")\r\n",
        "plt.title(\"Transformed\")\r\n",
        "plt.axis(\"off\")\r\n",
        "plt.show()"
      ],
      "execution_count": 129,
      "outputs": [
        {
          "output_type": "stream",
          "text": [
            "Shape:  torch.Size([28, 28])\n",
            "Transformed Shape:  (1, 28, 28)\n"
          ],
          "name": "stdout"
        },
        {
          "output_type": "display_data",
          "data": {
            "image/png": "[encoded data removed]",
            "text/plain": [
              "<Figure size 432x288 with 2 Axes>"
            ]
          },
          "metadata": {
            "tags": [],
            "needs_background": "light"
          }
        }
      ]
    },
    {
      "cell_type": "code",
      "metadata": {
        "id": "9IWlkAIHV7gf"
      },
      "source": [
        "# Wrapping Tensors into dataset\r\n",
        "from torchvision import datasets\r\n",
        "from torchvision import transforms\r\n",
        "import numpy as np\r\n",
        "import cv2\r\n",
        "import torch\r\n",
        "from torchvision import utils \r\n",
        "import matplotlib.pyplot as plt \r\n",
        "from google.colab.patches import cv2_imshow\r\n",
        "from torch.utils.data import TensorDataset,Dataset\r\n",
        "\r\n",
        "class CustomTensorDataset(Dataset):\r\n",
        "\r\n",
        "    def __init__(self, x,y, transform=None):\r\n",
        "        self.x = x\r\n",
        "        self.y = y\r\n",
        "        self.transform = transform\r\n",
        "\r\n",
        "    def __getitem__(self, index):\r\n",
        "        x = self.x[index]\r\n",
        "        if self.transform:\r\n",
        "            x = 255*self.transform(x)\r\n",
        "        y = self.y[index]\r\n",
        "        return x, y\r\n",
        "\r\n",
        "    def __len__(self):\r\n",
        "        return self.x.shape[0]\r\n",
        "\r\n",
        "\r\n",
        "# Transformation\r\n",
        "# Transformation applied to an Image\r\n",
        "data_transform = transforms.Compose([\r\n",
        "                                    transforms.ToPILImage(),  # Tensor of Numpy array to Pillow\r\n",
        "                                    transforms.RandomApply( \r\n",
        "                                        torch.nn.ModuleList([\r\n",
        "                                            transforms.RandomAffine((-10,10), translate=(0.1,0.2), scale=(0.5,1.3)),\r\n",
        "                                            transforms.ColorJitter(brightness=(0.3,2), contrast=(0.9,1.1)),\r\n",
        "                                        ]),\r\n",
        "                                        p=0.5),\r\n",
        "                                    #transforms.RandomHorizontalFlip(p=1), # Pillow transformation\r\n",
        "                                    #transforms.RandomVerticalFlip(p=1), # Pillow transformation\r\n",
        "                                    transforms.ToTensor(),          # Pillow to tensor (scale 0-1)\r\n",
        "                            ])\r\n",
        "# Loading data\r\n",
        "train_data = datasets.MNIST(\"./dataset\", train=True, download=True) #,transform=data_transform) # This transform will only be appluied on data loader\r\n",
        "val_data = datasets.MNIST(\"./dataset\", train=False, download=True) #,transform=data_transform)\r\n",
        "x_train, y_train = train_data.data, train_data.targets\r\n",
        "x_val, y_val = val_data.data, val_data.targets\r\n",
        "\r\n",
        "# Add extra dimension (Preprocessing)\r\n",
        "if (len(x_train.shape)==3):\r\n",
        "    x_train=x_train.unsqueeze(1) \r\n",
        "if (len(x_val.shape)==3):\r\n",
        "    x_val=x_val.unsqueeze(1) \r\n",
        "\r\n",
        "# Create a Tensor dataset\r\n",
        "#train_ds = TensorDataset(x_train, y_train)\r\n",
        "#val_ds = TensorDataset(x_val, y_val)\r\n",
        "train_ds = CustomTensorDataset(x_train, y_train,data_transform)\r\n",
        "val_ds = CustomTensorDataset(x_val, y_val,data_transform)\r\n",
        "\r\n",
        "# Visualization Tensor Dataset\r\n",
        "i = 0\r\n",
        "for x,y in train_ds:\r\n",
        "    print(\"Y = \", y.item())\r\n",
        "    #print(\"X shape: \", x[0].shape)\r\n",
        "    cv2_imshow(x[0].numpy())\r\n",
        "    i=i+1\r\n",
        "    if i>10:\r\n",
        "        break"
      ],
      "execution_count": null,
      "outputs": []
    },
    {
      "cell_type": "code",
      "metadata": {
        "id": "4zJ2DXKwYO6B"
      },
      "source": [
        "# Creating data Loader\r\n",
        "from torch.utils.data import DataLoader\r\n",
        "train_dl = DataLoader(train_ds, batch_size=8)\r\n",
        "val_dl = DataLoader(val_ds, batch_size=8)\r\n",
        "\r\n",
        "i = 0\r\n",
        "for xb,yb in train_dl:\r\n",
        "    #print(xb[0].dtype)\r\n",
        "    #print(xb[0].min())\r\n",
        "    #print(xb[0].max())\r\n",
        "    #print(yb.shape)\r\n",
        "    print(yb[2].item())\r\n",
        "    cv2_imshow(xb[2][0].numpy())\r\n",
        "    i=i+1\r\n",
        "    if (i>10):\r\n",
        "        break"
      ],
      "execution_count": null,
      "outputs": []
    },
    {
      "cell_type": "markdown",
      "metadata": {
        "id": "KhP54Orvmuuy"
      },
      "source": [
        "# Pytorch: Neural Network"
      ]
    },
    {
      "cell_type": "code",
      "metadata": {
        "id": "BlX1U9rbTkPt"
      },
      "source": [
        ""
      ],
      "execution_count": null,
      "outputs": []
    }
  ]
}