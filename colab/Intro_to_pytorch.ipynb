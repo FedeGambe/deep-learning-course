{
  "nbformat": 4,
  "nbformat_minor": 0,
  "metadata": {
    "colab": {
      "name": "Intro-to-pytorch.ipynb",
      "provenance": [],
      "collapsed_sections": [],
      "toc_visible": true,
      "authorship_tag": "ABX9TyMrrxXQsIlECa3JKff8snPn",
      "include_colab_link": true
    },
    "kernelspec": {
      "name": "python3",
      "display_name": "Python 3"
    },
    "accelerator": "GPU"
  },
  "cells": [
    {
      "cell_type": "markdown",
      "metadata": {
        "id": "view-in-github",
        "colab_type": "text"
      },
      "source": [
        "<a href=\"https://colab.research.google.com/github/visiont3lab/deep-learning-course/blob/main/colab/Intro_to_pytorch.ipynb\" target=\"_parent\"><img src=\"https://colab.research.google.com/assets/colab-badge.svg\" alt=\"Open In Colab\"/></a>"
      ]
    },
    {
      "cell_type": "markdown",
      "metadata": {
        "id": "38zhmhg57csZ"
      },
      "source": [
        "# Getting Started With Python for Deep Learning\r\n",
        "\r\n"
      ]
    },
    {
      "cell_type": "markdown",
      "metadata": {
        "id": "MrxlHaHG53rG"
      },
      "source": [
        "* [PyTorch Computer Vision Cookbook](https://github.com/PacktPublishing/PyTorch-Computer-Vision-Cookbook)\r\n",
        "* [Nerual Network from sctract](https://www.kickstarter.com/projects/sentdex/neural-networks-from-scratch-in-python?lang=it)\r\n",
        "* [Programming Pytorch for Deep Learning](https://www.amazon.it/Programming-Pytorch-Deep-Learning-Applications/dp/1492045357)\r\n",
        "* [Deep Learning Sample Code](https://github.com/PacktPublishing)"
      ]
    },
    {
      "cell_type": "markdown",
      "metadata": {
        "id": "37QzybuNIvsn"
      },
      "source": [
        "## Google Colab"
      ]
    },
    {
      "cell_type": "markdown",
      "metadata": {
        "id": "drqLSjwyIbV7"
      },
      "source": [
        "## Python Basic Requirements\r\n",
        "\r\n",
        "* List\r\n",
        "* array\r\n",
        "* dictionary\r\n",
        "* function\r\n",
        "* class\r\n",
        "* python packages and pip"
      ]
    },
    {
      "cell_type": "markdown",
      "metadata": {
        "id": "BidnhEVh7tn6"
      },
      "source": [
        "## Pytorch: Installation"
      ]
    },
    {
      "cell_type": "markdown",
      "metadata": {
        "id": "YNjKSYqb7_PD"
      },
      "source": [
        "* Local (Own Pc)\r\n",
        "\r\n",
        "    Install [python 3.8](https://www.python.org/downloads/)\r\n",
        "\r\n",
        "    ```\r\n",
        "    pip3 install virtualenv\r\n",
        "    virtualenv env\r\n",
        "    source env/bin/activate # Linux - Mac\r\n",
        "    source env/Scripts/activate # Windows\r\n",
        "    pip install torch torchvision\r\n",
        "    ```\r\n",
        "\r\n",
        "\r\n",
        "* Google Colab\r\n",
        "\r\n",
        "    ```\r\n",
        "    pip3 install torch torchvision\r\n",
        "    ```\r\n",
        "These requirements should be arealdy satisied\r\n"
      ]
    },
    {
      "cell_type": "code",
      "metadata": {
        "colab": {
          "base_uri": "https://localhost:8080/"
        },
        "id": "1tH0Ck6L5kTQ",
        "outputId": "d3525904-7b6c-4dab-cbd7-96a281909355"
      },
      "source": [
        "# Verify installation\r\n",
        "!pip list | grep torch"
      ],
      "execution_count": 4,
      "outputs": [
        {
          "output_type": "stream",
          "text": [
            "torch                         1.7.1+cu101   \n",
            "torchsummary                  1.5.1         \n",
            "torchtext                     0.3.1         \n",
            "torchvision                   0.8.2+cu101   \n"
          ],
          "name": "stdout"
        }
      ]
    },
    {
      "cell_type": "code",
      "metadata": {
        "colab": {
          "base_uri": "https://localhost:8080/"
        },
        "id": "q2rHdZ4a9Gl9",
        "outputId": "2441b6bf-864a-454c-ea50-569ee72eba89"
      },
      "source": [
        "# Change runtime colab type to enable GPU\r\n",
        "# Click on Runtime --> Select Change Runtime Type --> Select Hardware Accelarion GPU\r\n",
        "\r\n",
        "import torch\r\n",
        "import torchvision\r\n",
        "print(\"Torch Version: \",torch.__version__)\r\n",
        "print(\"Torch Vision Version:\", torchvision.__version__)\r\n",
        "print(\"Is Cuda available: \", torch.cuda.is_available())\r\n",
        "print(\"Number of  Cuda device: \", torch.cuda.device_count())\r\n",
        "print(\"Get Cuda Current device: \", torch.cuda.current_device())\r\n",
        "print(\"Get Name of Cuda  device: \", torch.cuda.get_device_name(0))"
      ],
      "execution_count": 5,
      "outputs": [
        {
          "output_type": "stream",
          "text": [
            "Torch Version:  1.7.1+cu101\n",
            "Torch Vision Version: 0.8.2+cu101\n",
            "Is Cuda available:  True\n",
            "Number of  Cuda device:  1\n",
            "Get Cuda Current device:  0\n",
            "Get Name of Cuda  device:  Tesla K80\n"
          ],
          "name": "stdout"
        }
      ]
    },
    {
      "cell_type": "code",
      "metadata": {
        "id": "VvzvvjNRKF5b",
        "outputId": "4e2e32bb-9cb2-413b-c899-d89e71149cb1",
        "colab": {
          "base_uri": "https://localhost:8080/"
        }
      },
      "source": [
        "! pip3 install torch torchvision"
      ],
      "execution_count": 16,
      "outputs": [
        {
          "output_type": "stream",
          "text": [
            "Requirement already satisfied: torch in /usr/local/lib/python3.7/dist-packages (1.7.1+cu101)\n",
            "Requirement already satisfied: torchvision in /usr/local/lib/python3.7/dist-packages (0.8.2+cu101)\n",
            "Requirement already satisfied: typing-extensions in /usr/local/lib/python3.7/dist-packages (from torch) (3.7.4.3)\n",
            "Requirement already satisfied: numpy in /usr/local/lib/python3.7/dist-packages (from torch) (1.19.5)\n",
            "Requirement already satisfied: pillow>=4.1.1 in /usr/local/lib/python3.7/dist-packages (from torchvision) (7.0.0)\n"
          ],
          "name": "stdout"
        }
      ]
    },
    {
      "cell_type": "markdown",
      "metadata": {
        "id": "xV3_nBpi_YJ5"
      },
      "source": [
        "## Pytorch: Tensors"
      ]
    },
    {
      "cell_type": "markdown",
      "metadata": {
        "id": "ERI7NZCk_dIu"
      },
      "source": [
        "> Tensor: n-dimensional array\r\n",
        "\r\n",
        "* [Pytoch documentation](https://pytorch.org/docs/stable/index.html)\r\n",
        "* [List of Pytorch Type](https://pytorch.org/docs/stable/tensors.html)"
      ]
    },
    {
      "cell_type": "code",
      "metadata": {
        "colab": {
          "base_uri": "https://localhost:8080/"
        },
        "id": "Daxr3q3798gv",
        "outputId": "f0c1823f-2f00-44ad-e655-495742adb12c"
      },
      "source": [
        "import torch\r\n",
        "x = torch.ones(4,4)\r\n",
        "print(x)\r\n",
        "print(\"Shape: \", x.shape)\r\n",
        "print(\"Type : \", x.dtype) # Torch default data type is torch.float32"
      ],
      "execution_count": 6,
      "outputs": [
        {
          "output_type": "stream",
          "text": [
            "tensor([[1., 1., 1., 1.],\n",
            "        [1., 1., 1., 1.],\n",
            "        [1., 1., 1., 1.],\n",
            "        [1., 1., 1., 1.]])\n",
            "Shape:  torch.Size([4, 4])\n",
            "Type :  torch.float32\n"
          ],
          "name": "stdout"
        }
      ]
    },
    {
      "cell_type": "code",
      "metadata": {
        "colab": {
          "base_uri": "https://localhost:8080/"
        },
        "id": "NSM5NQafADMj",
        "outputId": "56adcee4-bc87-4145-9f40-06adf4010b51"
      },
      "source": [
        "# Specify tensor type\r\n",
        "x = 2*torch.ones(1,3,3, dtype=torch.int8)\r\n",
        "print(x)\r\n",
        "print(\"Shape: \", x.shape)\r\n",
        "print(\"Type : \", x.dtype)"
      ],
      "execution_count": 7,
      "outputs": [
        {
          "output_type": "stream",
          "text": [
            "tensor([[[2, 2, 2],\n",
            "         [2, 2, 2],\n",
            "         [2, 2, 2]]], dtype=torch.int8)\n",
            "Shape:  torch.Size([1, 3, 3])\n",
            "Type :  torch.int8\n"
          ],
          "name": "stdout"
        }
      ]
    },
    {
      "cell_type": "code",
      "metadata": {
        "colab": {
          "base_uri": "https://localhost:8080/"
        },
        "id": "UyLARNB4AjiJ",
        "outputId": "14b7211e-9c9a-4dbb-b895-d6f9cf2be221"
      },
      "source": [
        "# Change tensor type\r\n",
        "x = torch.rand(3, dtype=torch.float32) # random uniform 0-1\r\n",
        "x = 5*x # Multiply by 5\r\n",
        "print(\"Tensor: %s , Type: %s \" % (x, x.dtype))\r\n",
        "x = x.type(torch.uint8) # change data type to unit8\r\n",
        "print(\"Tensor: %s , Type: %s \" % (x, x.dtype))"
      ],
      "execution_count": 8,
      "outputs": [
        {
          "output_type": "stream",
          "text": [
            "Tensor: tensor([0.6724, 2.9342, 2.4417]) , Type: torch.float32 \n",
            "Tensor: tensor([0, 2, 2], dtype=torch.uint8) , Type: torch.uint8 \n"
          ],
          "name": "stdout"
        }
      ]
    },
    {
      "cell_type": "code",
      "metadata": {
        "colab": {
          "base_uri": "https://localhost:8080/"
        },
        "id": "eb-gH_3EBFAC",
        "outputId": "cc1a754d-5803-48af-ffa0-27b0283468d1"
      },
      "source": [
        "# Tensor to numpy array\r\n",
        "x = torch.sin( torch.rand(4) + 2*torch.rand(4) )\r\n",
        "xnp = x.numpy()\r\n",
        "print(\"Numpy Array: %s , Type: %s \" % (xnp, xnp.dtype))"
      ],
      "execution_count": 9,
      "outputs": [
        {
          "output_type": "stream",
          "text": [
            "Numpy Array: [0.28262943 0.4665296  0.68194443 0.9914474 ] , Type: float32 \n"
          ],
          "name": "stdout"
        }
      ]
    },
    {
      "cell_type": "code",
      "metadata": {
        "colab": {
          "base_uri": "https://localhost:8080/"
        },
        "id": "_QNpDjIwCPlK",
        "outputId": "836f0c64-6ff7-452e-b0bc-73be86974edd"
      },
      "source": [
        "# Numpy array to tensor\r\n",
        "import numpy as np\r\n",
        "xnp = np.sin( np.random.rand(4) + 2*np.random.rand(4) ) # Float64 by default numpy\r\n",
        "x = torch.from_numpy(xnp)\r\n",
        "x = x.type(torch.float32)\r\n",
        "print(\"Tensor: %s , Type: %s \" % (x, x.dtype))"
      ],
      "execution_count": 10,
      "outputs": [
        {
          "output_type": "stream",
          "text": [
            "Tensor: tensor([0.9923, 0.7732, 0.8701, 0.9995]) , Type: torch.float32 \n"
          ],
          "name": "stdout"
        }
      ]
    },
    {
      "cell_type": "code",
      "metadata": {
        "colab": {
          "base_uri": "https://localhost:8080/"
        },
        "id": "DEN8ncC-CsCK",
        "outputId": "7a8326f4-1fdb-4f95-f275-fe430b554df8"
      },
      "source": [
        "# Moving tensor bettwen cpu and cuda device\r\n",
        "# If u do not specify the device the tensorf will be hosted by default on cpu\r\n",
        "x = torch.tensor([[1,3,4.4,5.6]])\r\n",
        "print(\"Tensor: %s , Type: %s ,Shape: %s, Device: %s\" % (x.tolist(), x.dtype,x.shape,x.device))\r\n",
        "if torch.cuda.is_available():\r\n",
        "    device = torch.device(\"cuda:0\")\r\n",
        "    x = x.to(device)\r\n",
        "    print(\"Tensor: %s , Type: %s ,Shape: %s, Device: %s\" % (x.tolist(), x.dtype,x.shape,x.device))\r\n"
      ],
      "execution_count": 11,
      "outputs": [
        {
          "output_type": "stream",
          "text": [
            "Tensor: [[1.0, 3.0, 4.400000095367432, 5.599999904632568]] , Type: torch.float32 ,Shape: torch.Size([1, 4]), Device: cpu\n",
            "Tensor: [[1.0, 3.0, 4.400000095367432, 5.599999904632568]] , Type: torch.float32 ,Shape: torch.Size([1, 4]), Device: cuda:0\n"
          ],
          "name": "stdout"
        }
      ]
    },
    {
      "cell_type": "markdown",
      "metadata": {
        "id": "TZ3DJaT3Fxhb"
      },
      "source": [
        "## Pytorch: Dataset tools"
      ]
    },
    {
      "cell_type": "markdown",
      "metadata": {
        "id": "zX5F3V--GHJB"
      },
      "source": [
        "* [Torchvision Datasets](https://pytorch.org/vision/stable/datasets.html)\r\n",
        "* [Pytorch transforms augmentation](https://pytorch.org/docs/stable/torchvision/transforms.html)"
      ]
    },
    {
      "cell_type": "code",
      "metadata": {
        "id": "ydZl9oaOOEbG"
      },
      "source": [
        "from keras.datasets import mnist\r\n",
        "(x_train,y_train),(x_val, y_val) = mnist.load_data()\r\n",
        "x_train = torch.from_numpy(x_train)\r\n",
        "y_train = torch.from_numpy(y_train)\r\n",
        "x_val = torch.from_numpy(x_val)\r\n",
        "y_val = torch.from_numpy(y_val)"
      ],
      "execution_count": 47,
      "outputs": []
    },
    {
      "cell_type": "code",
      "metadata": {
        "id": "HM4RWPCoDaWz"
      },
      "source": [
        "from torchvision import datasets\r\n",
        "\r\n",
        "# Get Mnist Train Datasets inside folder dataset\r\n",
        "train_data = datasets.MNIST(\"./dataset\", train=True, download=False)"
      ],
      "execution_count": null,
      "outputs": []
    },
    {
      "cell_type": "code",
      "metadata": {
        "id": "giqyTFjWF74e"
      },
      "source": [
        "# Extract Train data\r\n",
        "x_train, y_train = train_data.data, train_data.targets\r\n",
        "print(\"Training Dataset\")\r\n",
        "print(\"Shape: %s , Type: %s \" % (x_train.shape, x_train.dtype))\r\n",
        "print(\"Shape: %s , Type: %s \" % (y_train.shape, y_train.dtype))"
      ],
      "execution_count": null,
      "outputs": []
    },
    {
      "cell_type": "code",
      "metadata": {
        "id": "NtrfZKF7G00y"
      },
      "source": [
        "# Get Mnist Validation Datasets inside folder dataset\r\n",
        "val_data = datasets.MNIST(\"./dataset\", train=False, download=True)\r\n",
        "print(val_data)"
      ],
      "execution_count": null,
      "outputs": []
    },
    {
      "cell_type": "code",
      "metadata": {
        "id": "0_bdy5qfHI2p"
      },
      "source": [
        "# Extract Validation data\r\n",
        "x_val, y_val = val_data.data, val_data.targets\r\n",
        "print(\"Validation Dataset\")\r\n",
        "print(\"Shape: %s , Type: %s \" % (x_val.shape, x_val.dtype))\r\n",
        "print(\"Shape: %s , Type: %s \" % (y_val.shape, y_val.dtype))"
      ],
      "execution_count": null,
      "outputs": []
    },
    {
      "cell_type": "code",
      "metadata": {
        "colab": {
          "base_uri": "https://localhost:8080/"
        },
        "id": "gbiTZiumHija",
        "outputId": "2344b2a6-799d-4228-a67c-5eecd9c57012"
      },
      "source": [
        "# Modify tensor dimension\r\n",
        "print(\"Shape x_train: \", x_train.shape)\r\n",
        "print(\"Shape x_val: \", x_val.shape)\r\n",
        "if (len(x_train.shape)==3):\r\n",
        "    x_train=x_train.unsqueeze(1) # this nember specify where to  add new tensor\r\n",
        "    x_val = x_val.unsqueeze(1)\r\n",
        "print(\"Shape x_train: \", x_train.shape)\r\n",
        "print(\"Shape x_val: \", x_val.shape)"
      ],
      "execution_count": 48,
      "outputs": [
        {
          "output_type": "stream",
          "text": [
            "Shape x_train:  torch.Size([60000, 28, 28])\n",
            "Shape x_val:  torch.Size([10000, 28, 28])\n",
            "Shape x_train:  torch.Size([60000, 1, 28, 28])\n",
            "Shape x_val:  torch.Size([10000, 1, 28, 28])\n"
          ],
          "name": "stdout"
        }
      ]
    },
    {
      "cell_type": "code",
      "metadata": {
        "colab": {
          "base_uri": "https://localhost:8080/",
          "height": 364
        },
        "id": "BI9nAczpJMHC",
        "outputId": "bcd48567-0126-4922-9140-325ddd138217"
      },
      "source": [
        "# Display Images\r\n",
        "from torchvision import utils \r\n",
        "import matplotlib.pyplot as plt \r\n",
        "import numpy as np\r\n",
        "import cv2\r\n",
        "from google.colab.patches import cv2_imshow\r\n",
        "\r\n",
        "# sets the backend of matplotlib to the 'inline' backend\r\n",
        "%matplotlib inline \r\n",
        "\r\n",
        "def show_matplotlib(img):\r\n",
        "    # img is a tensor!\r\n",
        "    # Convert tensor to numpy array\r\n",
        "    img_np = img.numpy()\r\n",
        "    # Reshape image\r\n",
        "    img_np = np.transpose(img_np, (1,2,0))\r\n",
        "    # Display using matplotlib\r\n",
        "    plt.imshow(img_np, interpolation=\"nearest\") #,aspect='auto')\r\n",
        "    plt.axis('off')\r\n",
        "\r\n",
        "def show_cv2(img):\r\n",
        "    # img is a tensor!\r\n",
        "    # Convert tensor to numpy array\r\n",
        "    img_np = img.numpy()\r\n",
        "    # Reshape image\r\n",
        "    img_np = np.transpose(img_np, (1,2,0))\r\n",
        "    # Display using opencv\r\n",
        "    scale_percent = 300 # percent of original size\r\n",
        "    width = int(img_np.shape[1] * scale_percent / 100)\r\n",
        "    height = int(img_np.shape[0] * scale_percent / 100)\r\n",
        "    dim = (width, height)  \r\n",
        "    img_np = cv2.resize(img_np, dim, interpolation = cv2.INTER_AREA)\r\n",
        "    print(\"Shape x_grid Resize: \", img_np.shape)\r\n",
        "    cv2_imshow(img_np)\r\n",
        "\r\n",
        "# Let's create a grid image that contains 40 images of the train dataset\r\n",
        "x_grid = utils.make_grid(x_train[:20], nrow=8, padding=5)\r\n",
        "print(\"Shape x_grid: \", x_grid.shape)\r\n",
        "#show_matplotlib(x_grid)\r\n",
        "show_cv2(x_grid)"
      ],
      "execution_count": 49,
      "outputs": [
        {
          "output_type": "stream",
          "text": [
            "Shape x_grid:  torch.Size([3, 104, 269])\n",
            "Shape x_grid Resize:  (312, 807, 3)\n"
          ],
          "name": "stdout"
        },
        {
          "output_type": "display_data",
          "data": {
            "image/png": "[encoded data removed]",
            "text/plain": [
              "<PIL.Image.Image image mode=RGB size=807x312 at 0x7F333AC56750>"
            ]
          },
          "metadata": {
            "tags": []
          }
        }
      ]
    },
    {
      "cell_type": "code",
      "metadata": {
        "colab": {
          "base_uri": "https://localhost:8080/",
          "height": 251
        },
        "id": "ikQhesIAIbZa",
        "outputId": "836de896-4cc3-4be3-cf98-01766fe99693"
      },
      "source": [
        "# Data transformation \r\n",
        "# Pytorch transform: https://pytorch.org/docs/stable/torchvision/transforms.html\r\n",
        "# Let's modify images to create some augmented ones\r\n",
        "from torchvision import datasets\r\n",
        "from torchvision import transforms\r\n",
        "import numpy as np\r\n",
        "import cv2\r\n",
        "import torch\r\n",
        "from torchvision import utils \r\n",
        "import matplotlib.pyplot as plt \r\n",
        "from google.colab.patches import cv2_imshow\r\n",
        "\r\n",
        "# Get Mnist Train Datasets inside folder dataset\r\n",
        "train_data = datasets.MNIST(\"./dataset\", train=True, download=True)\r\n",
        "x_train, y_train = train_data.data, train_data.targets\r\n",
        "if (len(x_train.shape)==3):\r\n",
        "    x_train=x_train.unsqueeze(1) # this nember specify where to  add new tensor\r\n",
        "\r\n",
        "# Transformation applied to an Image\r\n",
        "data_transform = transforms.Compose([\r\n",
        "                                    transforms.ToPILImage(),  # Tensor of Numpy array to Pillow\r\n",
        "                                    #transforms.RandomHorizontalFlip(p=1), # Pillow transformation\r\n",
        "                                    transforms.RandomVerticalFlip(p=1), # Pillow transformation\r\n",
        "                                    transforms.ToTensor(),          # Pillow to tensor\r\n",
        "                            ])\r\n",
        "\r\n",
        "img = x_train[0][0] # Pillow images (size)\r\n",
        "print(\"Shape: \", img.shape) # Black and white image\r\n",
        "img_tr = data_transform(img).numpy()  # range 0-1\r\n",
        "print(\"Transformed Shape: \", img_tr.shape)\r\n",
        "\r\n",
        "# Display images\r\n",
        "#cv2_imshow(img)\r\n",
        "#cv2_imshow(img_tr[0]*255)\r\n",
        "plt.subplot(1,2,1)\r\n",
        "plt.imshow(img, cmap=\"gray\")\r\n",
        "plt.title(\"Original\")\r\n",
        "plt.subplot(1,2,2)\r\n",
        "plt.imshow(img_tr[0], cmap=\"gray\")\r\n",
        "plt.title(\"Transformed\")\r\n",
        "plt.axis(\"off\")\r\n",
        "plt.show()"
      ],
      "execution_count": null,
      "outputs": [
        {
          "output_type": "stream",
          "text": [
            "Shape:  torch.Size([28, 28])\n",
            "Transformed Shape:  (1, 28, 28)\n"
          ],
          "name": "stdout"
        },
        {
          "output_type": "display_data",
          "data": {
            "image/png": "[encoded data removed]",
            "text/plain": [
              "<Figure size 432x288 with 2 Axes>"
            ]
          },
          "metadata": {
            "tags": [],
            "needs_background": "light"
          }
        }
      ]
    },
    {
      "cell_type": "code",
      "metadata": {
        "id": "9IWlkAIHV7gf"
      },
      "source": [
        "# Wrapping Tensors into dataset\r\n",
        "from torchvision import datasets\r\n",
        "from torchvision import transforms\r\n",
        "import numpy as np\r\n",
        "import cv2\r\n",
        "import torch\r\n",
        "from torchvision import utils \r\n",
        "import matplotlib.pyplot as plt \r\n",
        "from google.colab.patches import cv2_imshow\r\n",
        "from torch.utils.data import TensorDataset,Dataset\r\n",
        "\r\n",
        "class CustomTensorDataset(Dataset):\r\n",
        "\r\n",
        "    def __init__(self, x,y, transform=None):\r\n",
        "        self.x = x\r\n",
        "        self.y = y\r\n",
        "        self.transform = transform\r\n",
        "\r\n",
        "    def __getitem__(self, index):\r\n",
        "        x = self.x[index]\r\n",
        "        if self.transform:\r\n",
        "            x = 255*self.transform(x)\r\n",
        "        y = self.y[index]\r\n",
        "        return x, y\r\n",
        "\r\n",
        "    def __len__(self):\r\n",
        "        return self.x.shape[0]\r\n",
        "\r\n",
        "\r\n",
        "# Transformation\r\n",
        "# Transformation applied to an Image\r\n",
        "data_transform = transforms.Compose([\r\n",
        "                                    transforms.ToPILImage(),  # Tensor of Numpy array to Pillow\r\n",
        "                                    transforms.RandomApply( \r\n",
        "                                        torch.nn.ModuleList([\r\n",
        "                                            transforms.RandomAffine((-10,10), translate=(0.1,0.2), scale=(0.5,1.3)),\r\n",
        "                                            transforms.ColorJitter(brightness=(0.3,2), contrast=(0.9,1.1)),\r\n",
        "                                        ]),\r\n",
        "                                        p=0.5),\r\n",
        "                                    #transforms.RandomHorizontalFlip(p=1), # Pillow transformation\r\n",
        "                                    #transforms.RandomVerticalFlip(p=1), # Pillow transformation\r\n",
        "                                    transforms.ToTensor(),          # Pillow to tensor (scale 0-1)\r\n",
        "                            ])\r\n",
        "# Loading data\r\n",
        "train_data = datasets.MNIST(\"./dataset\", train=True, download=True) #,transform=data_transform) # This transform will only be appluied on data loader\r\n",
        "val_data = datasets.MNIST(\"./dataset\", train=False, download=True) #,transform=data_transform)\r\n",
        "x_train, y_train = train_data.data, train_data.targets\r\n",
        "x_val, y_val = val_data.data, val_data.targets\r\n",
        "\r\n",
        "# Add extra dimension (Preprocessing)\r\n",
        "if (len(x_train.shape)==3):\r\n",
        "    x_train=x_train.unsqueeze(1) \r\n",
        "if (len(x_val.shape)==3):\r\n",
        "    x_val=x_val.unsqueeze(1) \r\n",
        "\r\n",
        "# Create a Tensor dataset\r\n",
        "#train_ds = TensorDataset(x_train, y_train)\r\n",
        "#val_ds = TensorDataset(x_val, y_val)\r\n",
        "train_ds = CustomTensorDataset(x_train, y_train,data_transform)\r\n",
        "val_ds = CustomTensorDataset(x_val, y_val,data_transform)\r\n",
        "\r\n",
        "# Visualization Tensor Dataset\r\n",
        "i = 0\r\n",
        "for x,y in train_ds:\r\n",
        "    print(\"Y = \", y.item())\r\n",
        "    #print(\"X shape: \", x[0].shape)\r\n",
        "    cv2_imshow(x[0].numpy())\r\n",
        "    i=i+1\r\n",
        "    if i>10:\r\n",
        "        break"
      ],
      "execution_count": null,
      "outputs": []
    },
    {
      "cell_type": "code",
      "metadata": {
        "id": "4zJ2DXKwYO6B"
      },
      "source": [
        "# Creating data Loader\r\n",
        "from torch.utils.data import DataLoader\r\n",
        "train_dl = DataLoader(train_ds, batch_size=8)\r\n",
        "val_dl = DataLoader(val_ds, batch_size=8)\r\n",
        "\r\n",
        "i = 0\r\n",
        "for xb,yb in train_dl:\r\n",
        "    #print(xb[0].dtype)\r\n",
        "    #print(xb[0].min())\r\n",
        "    #print(xb[0].max())\r\n",
        "    #print(yb.shape)\r\n",
        "    print(yb[2].item())\r\n",
        "    cv2_imshow(xb[2][0].numpy())\r\n",
        "    i=i+1\r\n",
        "    if (i>10):\r\n",
        "        break"
      ],
      "execution_count": null,
      "outputs": []
    },
    {
      "cell_type": "markdown",
      "metadata": {
        "id": "KhP54Orvmuuy"
      },
      "source": [
        "# Pytorch: Neural Network"
      ]
    },
    {
      "cell_type": "code",
      "metadata": {
        "colab": {
          "base_uri": "https://localhost:8080/"
        },
        "id": "BlX1U9rbTkPt",
        "outputId": "34f5b527-3d69-4c17-e1e0-3a57dfcd28fe"
      },
      "source": [
        "import torch\r\n",
        "from torch import nn\r\n",
        "\r\n",
        "# Tensor 64x1000\r\n",
        "input_tensor = torch.randn(64,1000)\r\n",
        "\r\n",
        "# Fully connected layer (weight dimension 1000x100)\r\n",
        "linear_layer = nn.Linear(1000,100)\r\n",
        "\r\n",
        "# Output 64x100\r\n",
        "output_tensor = linear_layer(input_tensor)\r\n",
        "\r\n",
        "print(\"input_tensor: \", input_tensor.shape) \r\n",
        "print(\"output_tensor: \", output_tensor.shape) "
      ],
      "execution_count": null,
      "outputs": [
        {
          "output_type": "stream",
          "text": [
            "input_tensor:  torch.Size([64, 1000])\n",
            "output_tensor:  torch.Size([64, 100])\n"
          ],
          "name": "stdout"
        }
      ]
    },
    {
      "cell_type": "code",
      "metadata": {
        "colab": {
          "base_uri": "https://localhost:8080/"
        },
        "id": "AHK3H2Z9J-yT",
        "outputId": "dfc3e1c2-9471-4833-ca9b-04afd675ad82"
      },
      "source": [
        "# Let's create our first neural network using nn Sequential Module\r\n",
        "import torch\r\n",
        "from torch import nn\r\n",
        "\r\n",
        "model = nn.Sequential(\r\n",
        "    nn.Linear(4,5),\r\n",
        "    nn.ReLU(),\r\n",
        "    nn.Linear(5,1)\r\n",
        ")\r\n",
        "print(model)\r\n"
      ],
      "execution_count": null,
      "outputs": [
        {
          "output_type": "stream",
          "text": [
            "Sequential(\n",
            "  (0): Linear(in_features=4, out_features=5, bias=True)\n",
            "  (1): ReLU()\n",
            "  (2): Linear(in_features=5, out_features=1, bias=True)\n",
            ")\n"
          ],
          "name": "stdout"
        }
      ]
    },
    {
      "cell_type": "markdown",
      "metadata": {
        "id": "a0KwV0bykvXL"
      },
      "source": [
        "# Training Pipeline"
      ]
    },
    {
      "cell_type": "code",
      "metadata": {
        "colab": {
          "base_uri": "https://localhost:8080/"
        },
        "id": "yWAMZva0NMPL",
        "outputId": "7f23f282-0c68-4c4a-f847-993f7b179dd1"
      },
      "source": [
        "from torch import nn\r\n",
        "from torch.utils.data import DataLoader\r\n",
        "from torch import optim\r\n",
        "import torch\r\n",
        "from torch import nn\r\n",
        "from torchsummary import summary\r\n",
        "#!pip install torchsummary\r\n",
        "import torch.nn.functional as F\r\n",
        "from torch.utils.data import TensorDataset,Dataset\r\n",
        "from torchvision import datasets\r\n",
        "from torchvision import transforms\r\n",
        "\r\n",
        "class Net(nn.Module):\r\n",
        "    def __init__(self):\r\n",
        "        super(Net,self).__init__()\r\n",
        "        self.conv1 = nn.Conv2d(1,20,5,1)\r\n",
        "        self.conv2 = nn.Conv2d(20,50,5,1)\r\n",
        "        self.fc1 = nn.Linear(4*4*50,500)\r\n",
        "        self.fc2 = nn.Linear(500,10)\r\n",
        "    def forward(self,x):\r\n",
        "        x = F.relu(self.conv1(x))\r\n",
        "        x = F.max_pool2d(x,2,2) \r\n",
        "        x = F.relu(self.conv2(x))\r\n",
        "        x = F.max_pool2d(x,2,2) \r\n",
        "        x = x.reshape(-1,4*4*50)\r\n",
        "        x = F.relu(self.fc1(x))\r\n",
        "        x = self.fc2(x)\r\n",
        "        x = F.log_softmax(x,dim=1)\r\n",
        "        return x\r\n",
        "\r\n",
        "class SimpleNet(nn.Module):\r\n",
        "    def __init__(self):\r\n",
        "        super(SimpleNet,self).__init__()\r\n",
        "        self.fc1 = nn.Linear(28*28,500)\r\n",
        "        self.fc2 = nn.Linear(500,100)\r\n",
        "        self.fc3 = nn.Linear(100,10)\r\n",
        "    def forward(self,x):\r\n",
        "        x = x.reshape(-1, 28*28)\r\n",
        "        x = F.relu(self.fc1(x))\r\n",
        "        x = F.relu(self.fc2(x))\r\n",
        "        x = self.fc3(x)\r\n",
        "        x = F.log_softmax(x,dim=1)\r\n",
        "        return x\r\n",
        "\r\n",
        "class CustomTensorDataset(Dataset):\r\n",
        "\r\n",
        "    def __init__(self, x,y, transform=None):\r\n",
        "        self.x = x\r\n",
        "        self.y = y\r\n",
        "        self.transform = transform\r\n",
        "\r\n",
        "    def __getitem__(self, index):\r\n",
        "        x = self.x[index]\r\n",
        "        if self.transform:\r\n",
        "            #x = 255*self.transform(x)\r\n",
        "            x = self.transform(x)\r\n",
        "        y = self.y[index]\r\n",
        "        return x, y\r\n",
        "\r\n",
        "    def __len__(self):\r\n",
        "        return self.x.shape[0]\r\n",
        "\r\n",
        "def augmentation_func():\r\n",
        "    data_transform = transforms.Compose([\r\n",
        "                                    transforms.ToPILImage(),  # Tensor of Numpy array to Pillow\r\n",
        "                                    transforms.RandomApply( \r\n",
        "                                        torch.nn.ModuleList([\r\n",
        "                                            transforms.RandomAffine((-10,10), translate=(0.1,0.2), scale=(0.5,1.3)),\r\n",
        "                                            transforms.ColorJitter(brightness=(0.3,2), contrast=(0.9,1.1)),\r\n",
        "                                        ]),\r\n",
        "                                        p=0.5),\r\n",
        "                                    #transforms.RandomHorizontalFlip(p=1), # Pillow transformation\r\n",
        "                                    #transforms.RandomVerticalFlip(p=1), # Pillow transformation\r\n",
        "                                    transforms.ToTensor(),          # Pillow to tensor (scale 0-1)\r\n",
        "                            ])\r\n",
        "    return data_transform\r\n",
        "\r\n",
        "def metrics_batch(target, output):\r\n",
        "    # obtain output class\r\n",
        "    pred = output.argmax(dim=1, keepdim=False)\r\n",
        "    # compare output class with target class\r\n",
        "    #corrects = pred.eq(target.view_as(pred)).sum().item()\r\n",
        "    corrects = torch.sum(pred == target)\r\n",
        "    #print(\"%s/%s\" %(corrects.item(),len(pred)))\r\n",
        "    return corrects\r\n",
        "\r\n",
        "def loss_batch(loss_func, xb,yb,yb_h, opt=None):\r\n",
        "    # obtain loss\r\n",
        "    loss = loss_func(yb_h, yb)\r\n",
        "    # obtain permormance metric \r\n",
        "    metric_b = metrics_batch(yb,yb_h)\r\n",
        "    if opt is not None:\r\n",
        "        loss.backward()\r\n",
        "        opt.step()\r\n",
        "        opt.zero_grad()\r\n",
        "    return loss.item(), metric_b\r\n",
        "\r\n",
        "def loss_epoch(model, loss_func, dataset_dl, opt,device):\r\n",
        "    loss = 0.0\r\n",
        "    metric = 0.0\r\n",
        "    len_data = len(dataset_dl.dataset)\r\n",
        "\r\n",
        "    # Get batch data\r\n",
        "    for xb,yb in dataset_dl:    \r\n",
        "        # Send to cuda the data (batch size)\r\n",
        "        xb = xb.type(torch.float32).to(device)\r\n",
        "        yb = yb.to(device)\r\n",
        "\r\n",
        "        # obtain model output \r\n",
        "        yb_h = model(xb)\r\n",
        "\r\n",
        "        # Loss and Metric Calculation\r\n",
        "        loss_b, metric_b = loss_batch(loss_func, xb,yb,yb_h,opt)\r\n",
        "        loss += loss_b\r\n",
        "        if metric_b is not None:\r\n",
        "            metric+=metric_b \r\n",
        "    \r\n",
        "    loss /=len_data\r\n",
        "    metric /=len_data\r\n",
        "    return loss, metric\r\n",
        "\r\n",
        "def train_val(epochs, model, loss_func, opt, train_dl,val_dl,device):\r\n",
        "    for epoch in range(epochs):\r\n",
        "        model.train()\r\n",
        "        train_loss,train_metric = loss_epoch(model, loss_func, train_dl, opt,device)\r\n",
        "        model.eval()\r\n",
        "        with torch.no_grad():\r\n",
        "            val_loss, val_metric = loss_epoch(model, loss_func, val_dl,opt=None,device=device)\r\n",
        "        accuracy = 100*val_metric\r\n",
        "        print(\"epoch: %d, train_loss: %.6f, val loss: %.6f, accuracy: %.2f\" % (epoch,train_loss, val_loss,accuracy))\r\n",
        "\r\n",
        "# Setup GPU Device\r\n",
        "device = torch.device(\"cpu\")\r\n",
        "if torch.cuda.is_available():\r\n",
        "    device = torch.device(\"cuda:0\")\r\n",
        "\r\n",
        "# Load and Preprocess data \r\n",
        "train_data = datasets.MNIST(\"./dataset\", train=True, download=True) \r\n",
        "val_data = datasets.MNIST(\"./dataset\", train=False, download=True)\r\n",
        "x_train, y_train = train_data.data, train_data.targets\r\n",
        "x_val, y_val = val_data.data, val_data.targets\r\n",
        "if (len(x_train.shape)==3):\r\n",
        "    x_train=x_train.unsqueeze(1) \r\n",
        "if (len(x_val.shape)==3):\r\n",
        "    x_val=x_val.unsqueeze(1) \r\n",
        "\r\n",
        "# Transformation\r\n",
        "transform_aug = augmentation_func()\r\n",
        "train_ds = CustomTensorDataset(x_train, y_train,None)\r\n",
        "val_ds = CustomTensorDataset(x_val, y_val,None)\r\n",
        "#train_ds = TensorDataset(x_train, y_train)\r\n",
        "#val_ds = TensorDataset(x_val, y_val)\r\n",
        "\r\n",
        "# Create Data loader\r\n",
        "train_dl = DataLoader(train_ds, batch_size=128)\r\n",
        "val_dl = DataLoader(val_ds, batch_size=128)\r\n",
        "\r\n",
        "# Define Model, Loss , Optimizer\r\n",
        "#model = SimpleNet()\r\n",
        "model = Net()\r\n",
        "model.to(device)\r\n",
        "#print(model)\r\n",
        "# By default model is hosted on CPU\r\n",
        "print(\"Model Parameter Device: \", next(model.parameters()).device)\r\n",
        "summary(model, input_size=tuple(x_train.shape[1:])) # (1,28,28)\r\n",
        "loss_func = nn.NLLLoss(reduction=\"sum\") # negative log-likelihood function.\r\n",
        "opt = optim.Adam(model.parameters(), lr=1e-4)\r\n",
        "\r\n",
        "# Train\r\n",
        "num_epochs = 5\r\n",
        "train_val(num_epochs,model, loss_func,opt, train_dl, val_dl,device)\r\n",
        "\r\n",
        "# Save Models (It save last weights)\r\n",
        "path2weigths=\"./weights.pt\"\r\n",
        "torch.save(model.state_dict(),path2weigths)"
      ],
      "execution_count": null,
      "outputs": [
        {
          "output_type": "stream",
          "text": [
            "Model Parameter Device:  cuda:0\n",
            "----------------------------------------------------------------\n",
            "        Layer (type)               Output Shape         Param #\n",
            "================================================================\n",
            "            Conv2d-1           [-1, 20, 24, 24]             520\n",
            "            Conv2d-2             [-1, 50, 8, 8]          25,050\n",
            "            Linear-3                  [-1, 500]         400,500\n",
            "            Linear-4                   [-1, 10]           5,010\n",
            "================================================================\n",
            "Total params: 431,080\n",
            "Trainable params: 431,080\n",
            "Non-trainable params: 0\n",
            "----------------------------------------------------------------\n",
            "Input size (MB): 0.00\n",
            "Forward/backward pass size (MB): 0.12\n",
            "Params size (MB): 1.64\n",
            "Estimated Total Size (MB): 1.76\n",
            "----------------------------------------------------------------\n",
            "epoch: 0, train_loss: 0.412631, val loss: 0.152888, accuracy: 95.06\n",
            "epoch: 1, train_loss: 0.083941, val loss: 0.081272, accuracy: 97.36\n",
            "epoch: 2, train_loss: 0.052074, val loss: 0.055181, accuracy: 98.16\n",
            "epoch: 3, train_loss: 0.034942, val loss: 0.050851, accuracy: 98.31\n",
            "epoch: 4, train_loss: 0.024788, val loss: 0.049877, accuracy: 98.32\n"
          ],
          "name": "stdout"
        }
      ]
    },
    {
      "cell_type": "markdown",
      "metadata": {
        "id": "vgUJW8V-kzV2"
      },
      "source": [
        "## Deploy Pipeline"
      ]
    },
    {
      "cell_type": "code",
      "metadata": {
        "colab": {
          "base_uri": "https://localhost:8080/",
          "height": 1000
        },
        "id": "a931ZM0vihMw",
        "outputId": "00597bfa-9fc2-4a82-c403-16aab31f3ec2"
      },
      "source": [
        "import matplotlib.pyplot as plt \r\n",
        "from google.colab.patches import cv2_imshow\r\n",
        "import torch\r\n",
        "\r\n",
        "# Setup GPU Device\r\n",
        "device = torch.device(\"cpu\")\r\n",
        "if torch.cuda.is_available():\r\n",
        "    device = torch.device(\"cuda:0\")\r\n",
        "\r\n",
        "# Define model structure\r\n",
        "md = Net()\r\n",
        "# Load weights\r\n",
        "weights = torch.load(path2weigths)\r\n",
        "# Set weigths\r\n",
        "md.load_state_dict(weights)\r\n",
        "md = md.to(device)\r\n",
        "# Check weights\r\n",
        "#print(next(md.parameters()))\r\n",
        "\r\n",
        "# Get data\r\n",
        "val_data = datasets.MNIST(\"./dataset\", train=False, download=True)\r\n",
        "x_val, y_val = val_data.data, val_data.targets\r\n",
        "\r\n",
        "# Prediction\r\n",
        "for i in range(0,5):\r\n",
        "    #i = 20\r\n",
        "    x = x_val[i]\r\n",
        "    x = x.unsqueeze(0)\r\n",
        "    x = x.unsqueeze(0)\r\n",
        "    x = x.type(torch.float32)\r\n",
        "    x = x.to(device)\r\n",
        "    output = md(x)\r\n",
        "    pred = output.argmax(dim=1, keepdim=False).item()\r\n",
        "    print(\"Prediction: \", pred)\r\n",
        "    xplot = x.to(\"cpu\").numpy()[0][0]\r\n",
        "    plt.imshow(xplot, cmap=\"gray\")\r\n",
        "    plt.axis(\"off\")\r\n",
        "    plt.show()"
      ],
      "execution_count": null,
      "outputs": [
        {
          "output_type": "stream",
          "text": [
            "Prediction:  7\n"
          ],
          "name": "stdout"
        },
        {
          "output_type": "display_data",
          "data": {
            "image/png": "[encoded data removed]",
            "text/plain": [
              "<Figure size 432x288 with 1 Axes>"
            ]
          },
          "metadata": {
            "tags": [],
            "needs_background": "light"
          }
        },
        {
          "output_type": "stream",
          "text": [
            "Prediction:  2\n"
          ],
          "name": "stdout"
        },
        {
          "output_type": "display_data",
          "data": {
            "image/png": "[encoded data removed]",
            "text/plain": [
              "<Figure size 432x288 with 1 Axes>"
            ]
          },
          "metadata": {
            "tags": [],
            "needs_background": "light"
          }
        },
        {
          "output_type": "stream",
          "text": [
            "Prediction:  1\n"
          ],
          "name": "stdout"
        },
        {
          "output_type": "display_data",
          "data": {
            "image/png": "[encoded data removed]",
            "text/plain": [
              "<Figure size 432x288 with 1 Axes>"
            ]
          },
          "metadata": {
            "tags": [],
            "needs_background": "light"
          }
        },
        {
          "output_type": "stream",
          "text": [
            "Prediction:  0\n"
          ],
          "name": "stdout"
        },
        {
          "output_type": "display_data",
          "data": {
            "image/png": "[encoded data removed]",
            "text/plain": [
              "<Figure size 432x288 with 1 Axes>"
            ]
          },
          "metadata": {
            "tags": [],
            "needs_background": "light"
          }
        },
        {
          "output_type": "stream",
          "text": [
            "Prediction:  4\n"
          ],
          "name": "stdout"
        },
        {
          "output_type": "display_data",
          "data": {
            "image/png": "[encoded data removed]",
            "text/plain": [
              "<Figure size 432x288 with 1 Axes>"
            ]
          },
          "metadata": {
            "tags": [],
            "needs_background": "light"
          }
        }
      ]
    },
    {
      "cell_type": "code",
      "metadata": {
        "id": "SnTF1qF4s6Qy"
      },
      "source": [
        ""
      ],
      "execution_count": null,
      "outputs": []
    }
  ]
}