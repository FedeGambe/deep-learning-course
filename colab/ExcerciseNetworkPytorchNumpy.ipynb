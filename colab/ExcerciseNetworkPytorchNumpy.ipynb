{
  "nbformat": 4,
  "nbformat_minor": 0,
  "metadata": {
    "colab": {
      "name": "ExcerciseNetworkPytorchNumpy.ipynb",
      "provenance": [],
      "collapsed_sections": [],
      "authorship_tag": "ABX9TyP7vQ1GiFqBakUcnXOH96/B",
      "include_colab_link": true
    },
    "kernelspec": {
      "name": "python3",
      "display_name": "Python 3"
    },
    "language_info": {
      "name": "python"
    }
  },
  "cells": [
    {
      "cell_type": "markdown",
      "metadata": {
        "id": "view-in-github",
        "colab_type": "text"
      },
      "source": [
        "<a href=\"https://colab.research.google.com/github/visiont3lab/deep-learning-course/blob/main/colab/ExcerciseNetworkPytorchNumpy.ipynb\" target=\"_parent\"><img src=\"https://colab.research.google.com/assets/colab-badge.svg\" alt=\"Open In Colab\"/></a>"
      ]
    },
    {
      "cell_type": "code",
      "execution_count": 1,
      "metadata": {
        "colab": {
          "base_uri": "https://localhost:8080/"
        },
        "id": "zDXNQqqn6bSV",
        "outputId": "ab64ae3f-c63e-417d-8d94-2570607269f2"
      },
      "outputs": [
        {
          "output_type": "stream",
          "name": "stdout",
          "text": [
            "[[3.02307096e+09 3.02307096e+09]]\n",
            "tensor([[-0.3087],\n",
            "        [-0.3087]], grad_fn=<AddmmBackward0>)\n",
            "fc1.weight Parameter containing:\n",
            "tensor([[ 0.0988, -0.3386,  0.1106,  0.2515, -0.1808, -0.1665,  0.0288],\n",
            "        [-0.2769,  0.3245, -0.2338,  0.1254, -0.1122, -0.2932,  0.1477],\n",
            "        [ 0.2950, -0.3360,  0.1893,  0.1164,  0.3361,  0.0937,  0.1796],\n",
            "        [ 0.1710,  0.3009,  0.2604,  0.0302, -0.1713,  0.3183, -0.0076]],\n",
            "       requires_grad=True)\n",
            "fc1.bias Parameter containing:\n",
            "tensor([ 0.1896, -0.2248,  0.1434, -0.2363], requires_grad=True)\n",
            "fc2.weight Parameter containing:\n",
            "tensor([[ 0.1830, -0.0124, -0.4345, -0.1176]], requires_grad=True)\n",
            "fc2.bias Parameter containing:\n",
            "tensor([0.1515], requires_grad=True)\n"
          ]
        },
        {
          "output_type": "stream",
          "name": "stderr",
          "text": [
            "/usr/local/lib/python3.7/dist-packages/ipykernel_launcher.py:43: UserWarning: To copy construct from a tensor, it is recommended to use sourceTensor.clone().detach() or sourceTensor.clone().detach().requires_grad_(True), rather than torch.tensor(sourceTensor).\n"
          ]
        }
      ],
      "source": [
        "import torch\n",
        "from torch import nn\n",
        "import numpy as np\n",
        "\n",
        "# Network 7 input 4 neuron and 1 output neuron\n",
        "\n",
        "class MyNet:\n",
        "  def __init__(self):\n",
        "    self.WI = np.random.randn(4,7)\n",
        "    self.BI = np.random.randn(4,1)\n",
        "    self.WO = np.random.randn(1,4)\n",
        "    self.BO = np.random.randn(1,1)\n",
        "  def forward(self,X):\n",
        "    V = self.sigmoid( np.matmul( self.WI,X) + self.BI )\n",
        "    Y = np.matmul( self.WO,V) + self.BO\n",
        "    return Y\n",
        "  def sigmoid(self,X):\n",
        "    return 1/1+np.exp(-X)\n",
        "\n",
        "X = np.array(\n",
        "    [\n",
        "      [4,6,7,8,4,5,6],\n",
        "      [4,6,7,8,4,5,6]\n",
        "    ]\n",
        "  , dtype=np.int32).T\n",
        "\n",
        "test1 = MyNet()\n",
        "Y_est1 = test1.forward(X)\n",
        "print(Y_est1)\n",
        "\n",
        "class Net(nn.Module):\n",
        "    def __init__(self):\n",
        "      super(Net,self).__init__()\n",
        "      self.fc1 = nn.Linear(7,4)\n",
        "      #self.fc1.weight = torch.nn.parameter.Parameter(torch.from_numpy(np.random.randn(7,4)))\n",
        "      #self.fc1.bias = torch.nn.parameter.Parameter(torch.from_numpy(np.random.randn(4,1)))\n",
        "      \n",
        "      self.fc2 = nn.Linear(4,1)\n",
        "      #self.fc2.weight = torch.nn.parameter.Parameter(torch.from_numpy(np.random.randn(1,4)))\n",
        "      #self.fc2.bias = torch.nn.parameter.Parameter(torch.from_numpy(np.random.randn(1,1)))\n",
        "      \n",
        "    def forward(self,x):\n",
        "      x = torch.tensor(x, dtype=torch.float32)\n",
        "      x = torch.sigmoid(self.fc1(x))\n",
        "      y = self.fc2(x)\n",
        "      return y\n",
        "\n",
        "test2 = Net()\n",
        "Xt = torch.from_numpy(X.T)\n",
        "Y_est2 = test2.forward(Xt)\n",
        "print(Y_est2)\n",
        "\n",
        "# visualize weights and bias of pytorch net module\n",
        "for name, param in test2.named_parameters():\n",
        "    print(name, param)"
      ]
    },
    {
      "cell_type": "code",
      "source": [
        "import numpy as np\n",
        "\n",
        "# feedforward step\n",
        "\n",
        "def f(x):\n",
        "  return 1.0 / 1.0 + np.exp(-x)\n",
        "# rows number: number of neurons, \n",
        "# number of columns: is the number of input\n",
        "\n",
        "WI = np.array(\n",
        "            [\n",
        "              [4,23,3],\n",
        "              [3,4,3],\n",
        "              [2,4,3],\n",
        "              [22,24,23],\n",
        "            ])\n",
        "\n",
        "BI = np.array([4,5,6,7]).reshape(-1,1)\n",
        "\n",
        "WII = np.array(\n",
        "            [\n",
        "              [4,23,4,5],\n",
        "              [3,4,5,6],\n",
        "            ])\n",
        "\n",
        "BII = np.array([4,5]).reshape(-1,1)\n",
        "\n",
        "\n",
        "WO = np.array(\n",
        "            [\n",
        "              [4,23],\n",
        "            ])\n",
        "BO = np.array([4]).reshape(1,-1)\n",
        "\n",
        "X = np.array([\n",
        "              [1,2,3],\n",
        "              [3,2,4],\n",
        "              [3,2,4],\n",
        "              [3,2,4],\n",
        "              [3,2,4],\n",
        "              [3,2,4],\n",
        "              [3,2,4],\n",
        "              [3,2,4],\n",
        "              [3,2,4],\n",
        "              [3,2,4],\n",
        "            ]\n",
        "            ).T\n",
        "print(X.shape)\n",
        "\n",
        "print(WI.shape)\n",
        "#print(W.shape,  X.shape, B.shape)\n",
        "\n",
        "# X --> Y --> Feedforward step\n",
        "V = f( np.matmul( WI, X  ) + BI)\n",
        "V = f( np.matmul( WII, V  ) + BII)\n",
        "Y = np.matmul(WO, V) + BO\n",
        "\n",
        "print(Y)"
      ],
      "metadata": {
        "colab": {
          "base_uri": "https://localhost:8080/"
        },
        "id": "EzHJAJ496oOs",
        "outputId": "0e68c69e-45dc-4235-b877-615e0bb5e1e6"
      },
      "execution_count": 2,
      "outputs": [
        {
          "output_type": "stream",
          "name": "stdout",
          "text": [
            "(3, 10)\n",
            "(4, 3)\n",
            "[[31. 31. 31. 31. 31. 31. 31. 31. 31. 31.]]\n"
          ]
        }
      ]
    }
  ]
}