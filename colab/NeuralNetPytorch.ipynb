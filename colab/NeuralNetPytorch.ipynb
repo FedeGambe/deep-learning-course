{
  "nbformat": 4,
  "nbformat_minor": 0,
  "metadata": {
    "colab": {
      "name": "NeuralNetPytorch.ipynb",
      "provenance": [],
      "include_colab_link": true
    },
    "kernelspec": {
      "name": "python3",
      "display_name": "Python 3"
    },
    "language_info": {
      "name": "python"
    },
    "accelerator": "GPU"
  },
  "cells": [
    {
      "cell_type": "markdown",
      "metadata": {
        "id": "view-in-github",
        "colab_type": "text"
      },
      "source": [
        "<a href=\"https://colab.research.google.com/github/visiont3lab/deep-learning-course/blob/main/colab/NeuralNetPytorch.ipynb\" target=\"_parent\"><img src=\"https://colab.research.google.com/assets/colab-badge.svg\" alt=\"Open In Colab\"/></a>"
      ]
    },
    {
      "cell_type": "markdown",
      "source": [
        "# Neural net pytorch"
      ],
      "metadata": {
        "id": "fR0NDIjItZaM"
      }
    },
    {
      "cell_type": "markdown",
      "source": [
        "## Feedforward steps"
      ],
      "metadata": {
        "id": "p_K9S3GXtTtx"
      }
    },
    {
      "cell_type": "code",
      "execution_count": null,
      "metadata": {
        "colab": {
          "base_uri": "https://localhost:8080/"
        },
        "id": "R1EF54PAsoDl",
        "outputId": "0afd7b9e-0c83-411d-d1ff-760a0461e310"
      },
      "outputs": [
        {
          "output_type": "stream",
          "name": "stdout",
          "text": [
            "torch.Size([3, 2]) torch.Size([2, 8]) torch.Size([3, 1])\n",
            "tensor([[8.9919],\n",
            "        [9.0000],\n",
            "        [9.0000],\n",
            "        [8.9972],\n",
            "        [8.9919],\n",
            "        [9.0000],\n",
            "        [9.0000],\n",
            "        [8.9972]])\n",
            "tensor([[2.],\n",
            "        [4.],\n",
            "        [6.],\n",
            "        [3.],\n",
            "        [2.],\n",
            "        [4.],\n",
            "        [6.],\n",
            "        [3.]])\n",
            "tensor(29.7131)\n"
          ]
        }
      ],
      "source": [
        "import torch\n",
        "\n",
        "device = torch.device('cpu')\n",
        "if (torch.cuda.is_available()):\n",
        "  print(\"Is gpu available: \", torch.cuda.is_available())\n",
        "  device = torch.device('cuda:0')\n",
        "\n",
        "X = torch.tensor([\n",
        "                  [1,2],\n",
        "                  [3,4],\n",
        "                  [4,6],\n",
        "                  [1,3],\n",
        "                  [1,2],\n",
        "                  [3,4],\n",
        "                  [4,6],\n",
        "                  [1,3],\n",
        "                ], dtype=torch.float32,device=device).T\n",
        "\n",
        "Y = torch.tensor([\n",
        "                  [2],\n",
        "                  [4],\n",
        "                  [6],\n",
        "                  [3],\n",
        "                  [2],\n",
        "                  [4],\n",
        "                  [6],\n",
        "                  [3],\n",
        "                ], dtype=torch.float32,device=device)\n",
        "\n",
        "WI = torch.tensor([ \n",
        "                  [3,2], # 1\n",
        "                  [2,1], # 2\n",
        "                  [2,3], # 3\n",
        "                ],dtype=torch.float32, device=device)\n",
        "\n",
        "BI = torch.tensor([[1,2,3]],dtype=torch.float32, device=device).T\n",
        "\n",
        "WO = torch.tensor([ \n",
        "                  [2, 3, 2], # 1\n",
        "                ],dtype=torch.float32,device=device)\n",
        "\n",
        "BO = torch.tensor([[2]],dtype=torch.float32,device=device).T\n",
        "\n",
        "# Load to gpu\n",
        "#X = X.to(device)\n",
        "#WI = WI.to(device)\n",
        "#BI = BI.to(device)\n",
        "#WO = WO.to(device)\n",
        "#BO = BO.to(device)\n",
        "\n",
        "print(WI.shape,X.shape, BI.shape)\n",
        "V = torch.sigmoid( torch.matmul(WI, X) + BI )\n",
        "Y_hat = (torch.matmul(WO, V) + BO ).T\n",
        "print(Y_hat)\n",
        "print(Y)\n",
        "\n",
        "# Training metric (Cost function)\n",
        "mse = torch.sum( torch.pow(Y_hat - Y,2) ) / Y.shape[0]\n",
        "#mae = torch.sum( torch.abs(Y_hat - Y ) ) / Y.shape[0] \n",
        "\n",
        "# Metric validation (metrica per capire quando un modello è meglio di un altro)\n",
        "print(mse)\n",
        "#print(mae)\n",
        "# Backprogation ()\n"
      ]
    },
    {
      "cell_type": "markdown",
      "source": [
        "## Using Pytorch Net class"
      ],
      "metadata": {
        "id": "Vuu8mfXEtMsc"
      }
    },
    {
      "cell_type": "code",
      "source": [
        "import torch\n",
        "#!pip install torch\n",
        "\n",
        "device = torch.device('cpu')\n",
        "if (torch.cuda.is_available()):\n",
        "  device = torch.device('cuda:0')\n",
        "  print(device, torch.cuda.get_device_name(0))\n",
        "\n",
        "class Manuel(torch.nn.Module):\n",
        "  def __init__(self):\n",
        "    super(Manuel, self).__init__()\n",
        "    # Init the element\n",
        "    self.h1 = torch.nn.Linear(1,5)\n",
        "    self.h2 = torch.nn.Linear(5,3)\n",
        "    self.o = torch.nn.Linear(3,1)\n",
        "  def forward(self, x):\n",
        "    # Feedforward\n",
        "    x = torch.sigmoid( self.h1(x) )# x*W +b\n",
        "    x = torch.sigmoid( self.h2(x) )# x*W +b\n",
        "    y = self.o(x) # x*W +b\n",
        "    return y\n",
        "\n",
        "# Setup\n",
        "net = Manuel().to(device)\n",
        "x = torch.tensor([[2],[3],[4]], dtype=torch.float32, device=device)\n",
        "\n",
        "# Prediction\n",
        "y_hat = net(x)\n",
        "print(y_hat)\n",
        "#print(y_hat.detach())\n",
        "\n",
        "# Produzione\n",
        "with torch.no_grad():\n",
        "  y_hat = net(x)\n",
        "  print(y_hat.cpu().numpy())"
      ],
      "metadata": {
        "id": "aih3B3LCPnLT"
      },
      "execution_count": null,
      "outputs": []
    },
    {
      "cell_type": "code",
      "source": [
        "import torch\n",
        "\n",
        "device = torch.device('cpu')\n",
        "if (torch.cuda.is_available()):\n",
        "  print(\"Is gpu available: \", torch.cuda.is_available())\n",
        "  device = torch.device('cuda:0')\n",
        "  print(torch.cuda.get_device_name(0))\n",
        "\n",
        "class MyNet(torch.nn.Module):\n",
        "  def __init__(self):\n",
        "    super(MyNet, self).__init__()\n",
        "    # Hidden layer\n",
        "    self.H = torch.nn.Linear(2,3)\n",
        "    self.H.weight = torch.nn.Parameter( torch.tensor([[3,2], [2,1],[2,3]], dtype=torch.float32))\n",
        "    self.H.bias = torch.nn.Parameter(torch.tensor([[1,2,3]],dtype=torch.float32))\n",
        "    \n",
        "    # Output layer\n",
        "    self.O = torch.nn.Linear(3,1)\n",
        "    self.O.weight = torch.nn.Parameter(torch.tensor([[2, 3, 2]], dtype=torch.float32))\n",
        "    self.O.bias = torch.nn.Parameter(torch.tensor([[2]],dtype=torch.float32))\n",
        "    \n",
        "  def forward(self,x):\n",
        "    v = torch.sigmoid( self.H(x) )\n",
        "    y = self.O(v)\n",
        "    return y\n",
        "\n",
        "\n",
        "# Input Shape: number of samples x number of input  Nx2\n",
        "# Output Shape: number of samples x number of output Nx1\n",
        "\n",
        "X = torch.tensor([\n",
        "                  [1,2],\n",
        "                  [3,4],\n",
        "                  [4,6],\n",
        "                  [1,3],\n",
        "                  [1,2],\n",
        "                  [3,4],\n",
        "                  [4,6],\n",
        "                  [1,3],\n",
        "                ], dtype=torch.float32,device=device)\n",
        "\n",
        "Y = torch.tensor([\n",
        "                  [2],\n",
        "                  [4],\n",
        "                  [6],\n",
        "                  [3],\n",
        "                  [2],\n",
        "                  [4],\n",
        "                  [6],\n",
        "                  [3],\n",
        "                ], dtype=torch.float32,device=device)\n",
        "\n",
        "# Create Net\n",
        "model = MyNet()\n",
        "model = model.to(device)\n",
        "Y = model(X)\n",
        "print(Y)\n",
        "\n",
        "# Print weights\n",
        "#for name, param in model.named_parameters():\n",
        "#  print(name,param)\n",
        "\n",
        "#print( model.H.weight, model.H.bias )\n",
        "#print( model.O.weight, model.O.bias )"
      ],
      "metadata": {
        "colab": {
          "base_uri": "https://localhost:8080/"
        },
        "id": "kzhUd_UctKez",
        "outputId": "be0af9b0-5dc7-4168-97f4-6b69ee5bcd44"
      },
      "execution_count": null,
      "outputs": [
        {
          "output_type": "stream",
          "name": "stdout",
          "text": [
            "tensor([[8.9919],\n",
            "        [9.0000],\n",
            "        [9.0000],\n",
            "        [8.9972],\n",
            "        [8.9919],\n",
            "        [9.0000],\n",
            "        [9.0000],\n",
            "        [8.9972]], grad_fn=<AddmmBackward0>)\n"
          ]
        }
      ]
    }
  ]
}