{
  "nbformat": 4,
  "nbformat_minor": 0,
  "metadata": {
    "colab": {
      "name": "NeuralNetPytorch.ipynb",
      "provenance": [],
      "authorship_tag": "ABX9TyNcKwzGO0S4vLzS6Eb+6Hm9",
      "include_colab_link": true
    },
    "kernelspec": {
      "name": "python3",
      "display_name": "Python 3"
    },
    "language_info": {
      "name": "python"
    }
  },
  "cells": [
    {
      "cell_type": "markdown",
      "metadata": {
        "id": "view-in-github",
        "colab_type": "text"
      },
      "source": [
        "<a href=\"https://colab.research.google.com/github/visiont3lab/deep-learning-course/blob/main/colab/NeuralNetPytorch.ipynb\" target=\"_parent\"><img src=\"https://colab.research.google.com/assets/colab-badge.svg\" alt=\"Open In Colab\"/></a>"
      ]
    },
    {
      "cell_type": "markdown",
      "source": [
        "# Neural net pytorch"
      ],
      "metadata": {
        "id": "fR0NDIjItZaM"
      }
    },
    {
      "cell_type": "markdown",
      "source": [
        "## Feedforward steps"
      ],
      "metadata": {
        "id": "p_K9S3GXtTtx"
      }
    },
    {
      "cell_type": "code",
      "execution_count": null,
      "metadata": {
        "colab": {
          "base_uri": "https://localhost:8080/"
        },
        "id": "R1EF54PAsoDl",
        "outputId": "7485bc1c-10eb-4fcc-a212-0d351c512c6d"
      },
      "outputs": [
        {
          "output_type": "stream",
          "name": "stdout",
          "text": [
            "torch.Size([3, 2]) torch.Size([2, 8]) torch.Size([3, 1])\n",
            "tensor([[8.9919],\n",
            "        [9.0000],\n",
            "        [9.0000],\n",
            "        [8.9972],\n",
            "        [8.9919],\n",
            "        [9.0000],\n",
            "        [9.0000],\n",
            "        [8.9972]])\n",
            "tensor([[2.],\n",
            "        [4.],\n",
            "        [6.],\n",
            "        [3.],\n",
            "        [2.],\n",
            "        [4.],\n",
            "        [6.],\n",
            "        [3.]])\n",
            "tensor(29.7131)\n"
          ]
        }
      ],
      "source": [
        "import torch\n",
        "\n",
        "device = torch.device('cpu')\n",
        "if (torch.cuda.is_available()):\n",
        "  print(\"Is gpu available: \", torch.cuda.is_available())\n",
        "  device = torch.device('cuda:0')\n",
        "\n",
        "X = torch.tensor([\n",
        "                  [1,2],\n",
        "                  [3,4],\n",
        "                  [4,6],\n",
        "                  [1,3],\n",
        "                  [1,2],\n",
        "                  [3,4],\n",
        "                  [4,6],\n",
        "                  [1,3],\n",
        "                ], dtype=torch.float32,device=device).T\n",
        "\n",
        "Y = torch.tensor([\n",
        "                  [2],\n",
        "                  [4],\n",
        "                  [6],\n",
        "                  [3],\n",
        "                  [2],\n",
        "                  [4],\n",
        "                  [6],\n",
        "                  [3],\n",
        "                ], dtype=torch.float32,device=device)\n",
        "\n",
        "WI = torch.tensor([ \n",
        "                  [3,2], # 1\n",
        "                  [2,1], # 2\n",
        "                  [2,3], # 3\n",
        "                ],dtype=torch.float32, device=device)\n",
        "\n",
        "BI = torch.tensor([[1,2,3]],dtype=torch.float32, device=device).T\n",
        "\n",
        "WO = torch.tensor([ \n",
        "                  [2, 3, 2], # 1\n",
        "                ],dtype=torch.float32,device=device)\n",
        "\n",
        "BO = torch.tensor([[2]],dtype=torch.float32,device=device).T\n",
        "\n",
        "# Load to gpu\n",
        "#X = X.to(device)\n",
        "#WI = WI.to(device)\n",
        "#BI = BI.to(device)\n",
        "#WO = WO.to(device)\n",
        "#BO = BO.to(device)\n",
        "\n",
        "print(WI.shape,X.shape, BI.shape)\n",
        "V = torch.sigmoid( torch.matmul(WI, X) + BI )\n",
        "Y_hat = (torch.matmul(WO, V) + BO ).T\n",
        "print(Y_hat)\n",
        "print(Y)\n",
        "\n",
        "# Training metric (Cost function)\n",
        "mse = torch.sum( torch.pow(Y_hat - Y,2) ) / Y.shape[0]\n",
        "#mae = torch.sum( torch.abs(Y_hat - Y ) ) / Y.shape[0] \n",
        "\n",
        "# Metric validation (metrica per capire quando un modello è meglio di un altro)\n",
        "print(mse)\n",
        "#print(mae)\n",
        "# Backprogation ()\n"
      ]
    },
    {
      "cell_type": "markdown",
      "source": [
        "## Using Pytorch Net class"
      ],
      "metadata": {
        "id": "Vuu8mfXEtMsc"
      }
    },
    {
      "cell_type": "code",
      "source": [
        "import torch\n",
        "\n",
        "device = torch.device('cpu')\n",
        "if (torch.cuda.is_available()):\n",
        "  print(\"Is gpu available: \", torch.cuda.is_available())\n",
        "  device = torch.device('cuda:0')\n",
        "  print(torch.cuda.get_device_name(0))\n",
        "\n",
        "class MyNet(torch.nn.Module):\n",
        "  def __init__(self):\n",
        "    super(MyNet, self).__init__()\n",
        "    # Hidden layer\n",
        "    self.H = torch.nn.Linear(2,3)\n",
        "    self.H.weight = torch.nn.Parameter( torch.tensor([[3,2], [2,1],[2,3]], dtype=torch.float32))\n",
        "    self.H.bias = torch.nn.Parameter(torch.tensor([[1,2,3]],dtype=torch.float32))\n",
        "    \n",
        "    # Output layer\n",
        "    self.O = torch.nn.Linear(3,1)\n",
        "    self.O.weight = torch.nn.Parameter(torch.tensor([[2, 3, 2]], dtype=torch.float32))\n",
        "    self.O.bias = torch.nn.Parameter(torch.tensor([[2]],dtype=torch.float32))\n",
        "    \n",
        "  def forward(self,x):\n",
        "    v = torch.sigmoid( self.H(x) )\n",
        "    y = self.O(v)\n",
        "    return y\n",
        "\n",
        "\n",
        "# Input Shape: number of samples x number of input  Nx2\n",
        "# Output Shape: number of samples x number of output Nx1\n",
        "\n",
        "X = torch.tensor([\n",
        "                  [1,2],\n",
        "                  [3,4],\n",
        "                  [4,6],\n",
        "                  [1,3],\n",
        "                  [1,2],\n",
        "                  [3,4],\n",
        "                  [4,6],\n",
        "                  [1,3],\n",
        "                ], dtype=torch.float32,device=device)\n",
        "\n",
        "Y = torch.tensor([\n",
        "                  [2],\n",
        "                  [4],\n",
        "                  [6],\n",
        "                  [3],\n",
        "                  [2],\n",
        "                  [4],\n",
        "                  [6],\n",
        "                  [3],\n",
        "                ], dtype=torch.float32,device=device)\n",
        "\n",
        "# Create Net\n",
        "model = MyNet()\n",
        "model = model.to(device)\n",
        "Y = model(X)\n",
        "print(Y)\n",
        "\n",
        "# Print weights\n",
        "#for name, param in model.named_parameters():\n",
        "#  print(name,param)\n",
        "\n",
        "#print( model.H.weight, model.H.bias )\n",
        "#print( model.O.weight, model.O.bias )"
      ],
      "metadata": {
        "colab": {
          "base_uri": "https://localhost:8080/"
        },
        "id": "kzhUd_UctKez",
        "outputId": "06428b72-a63d-4565-bd9a-242e0f5f983b"
      },
      "execution_count": null,
      "outputs": [
        {
          "output_type": "stream",
          "name": "stdout",
          "text": [
            "tensor([[8.9919],\n",
            "        [9.0000],\n",
            "        [9.0000],\n",
            "        [8.9972],\n",
            "        [8.9919],\n",
            "        [9.0000],\n",
            "        [9.0000],\n",
            "        [8.9972]], grad_fn=<AddmmBackward0>)\n"
          ]
        }
      ]
    }
  ]
}