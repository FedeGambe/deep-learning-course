{
  "nbformat": 4,
  "nbformat_minor": 0,
  "metadata": {
    "colab": {
      "name": "ConvolutionClassifier.ipynb",
      "provenance": [],
      "collapsed_sections": [],
      "authorship_tag": "ABX9TyMhTr9SmoUJJ29YdSZy0hqc",
      "include_colab_link": true
    },
    "kernelspec": {
      "name": "python3",
      "display_name": "Python 3"
    },
    "language_info": {
      "name": "python"
    },
    "accelerator": "GPU"
  },
  "cells": [
    {
      "cell_type": "markdown",
      "metadata": {
        "id": "view-in-github",
        "colab_type": "text"
      },
      "source": [
        "<a href=\"https://colab.research.google.com/github/visiont3lab/deep-learning-course/blob/main/colab/ConvolutionClassifier.ipynb\" target=\"_parent\"><img src=\"https://colab.research.google.com/assets/colab-badge.svg\" alt=\"Open In Colab\"/></a>"
      ]
    },
    {
      "cell_type": "markdown",
      "metadata": {
        "id": "96cwUX0x_UIL"
      },
      "source": [
        "# Convolution neural network cifar-10 example"
      ]
    },
    {
      "cell_type": "markdown",
      "metadata": {
        "id": "jDxhnedvsh9w"
      },
      "source": [
        "## Imports"
      ]
    },
    {
      "cell_type": "code",
      "metadata": {
        "id": "Hs1NYbvCr_61"
      },
      "source": [
        "import torch\n",
        "import torchvision\n",
        "import torchvision.transforms as transforms\n",
        "from torchvision import datasets\n",
        "from torch.utils.data import DataLoader,Dataset\n",
        "from torch import optim\n",
        "from sklearn.metrics import confusion_matrix\n",
        "import matplotlib.pyplot as plt \n",
        "import cv2\n",
        "import torch.nn as nn\n",
        "import os\n",
        "from PIL import Image\n",
        "import pandas as pd"
      ],
      "execution_count": 41,
      "outputs": []
    },
    {
      "cell_type": "markdown",
      "metadata": {
        "id": "sCvkO2z7sTv-"
      },
      "source": [
        "## Dataset\n"
      ]
    },
    {
      "cell_type": "markdown",
      "metadata": {
        "id": "TupoKGmvxg5r"
      },
      "source": [
        "[Cifar 10 dataset](https://pytorch.org/tutorials/beginner/blitz/cifar10_tutorial.html)\n",
        "[Image classification Cifar dataset](https://paperswithcode.com/sota/image-classification-on-cifar-10)"
      ]
    },
    {
      "cell_type": "code",
      "metadata": {
        "id": "JoMi7XJv-_Vy"
      },
      "source": [
        "# Darknet cifar png dataset\n",
        "#!wget http://pjreddie.com/media/files/cifar.tgz\n",
        "#!tar xzf cifar.tgz"
      ],
      "execution_count": null,
      "outputs": []
    },
    {
      "cell_type": "code",
      "metadata": {
        "id": "XHURc-VetDsx"
      },
      "source": [
        "# Download dataset bash script\n",
        "#!wget -c https://www.cs.toronto.edu/~kriz/cifar-10-python.tar.gz\n",
        "#!tar -xvzf cifar-10-python.tar.gz"
      ],
      "execution_count": null,
      "outputs": []
    },
    {
      "cell_type": "code",
      "metadata": {
        "id": "jEaB_2s_w9PY"
      },
      "source": [
        "#trainset = torchvision.datasets.CIFAR10(root='./data', train=True,download=True)\n",
        "#testset = torchvision.datasets.CIFAR10(root='./data', train=False, download=True)"
      ],
      "execution_count": null,
      "outputs": []
    },
    {
      "cell_type": "code",
      "metadata": {
        "colab": {
          "base_uri": "https://localhost:8080/"
        },
        "id": "etk2OaEpw2Rl",
        "outputId": "84ae539c-ec68-4bdb-e9eb-0add8a782c72"
      },
      "source": [
        "!git clone https://github.com/YoongiKim/CIFAR-10-images.git"
      ],
      "execution_count": 2,
      "outputs": [
        {
          "output_type": "stream",
          "text": [
            "Cloning into 'CIFAR-10-images'...\n",
            "remote: Enumerating objects: 60027, done.\u001b[K\n",
            "remote: Total 60027 (delta 0), reused 0 (delta 0), pack-reused 60027\u001b[K\n",
            "Receiving objects: 100% (60027/60027), 19.94 MiB | 70.41 MiB/s, done.\n",
            "Resolving deltas: 100% (59990/59990), done.\n",
            "Checking out files: 100% (60001/60001), done.\n"
          ],
          "name": "stdout"
        }
      ]
    },
    {
      "cell_type": "code",
      "metadata": {
        "colab": {
          "base_uri": "https://localhost:8080/",
          "height": 112
        },
        "id": "tX2w4J6asn7W",
        "outputId": "eb8eb557-f670-4d63-dc48-a6f2f1a9b24a"
      },
      "source": [
        "folder_train_path = os.path.join(\"CIFAR-10-images\",\"train\")\n",
        "folder_test_path = os.path.join(\"CIFAR-10-images\",\"test\")\n",
        "classes = {'airplane': 0, 'automobile': 1, 'bird': 2, 'cat': 3, 'deer': 4,  'dog': 5,  'frog':6, 'horse':7, 'ship':8, 'truck':9}\n",
        "\n",
        "train_transform = transforms.Compose([                                    \n",
        "                                    #transforms.ToPILImage(),  # Tensor of Numpy array to Pillow\n",
        "                                    #transforms.Resize((480,640)),\n",
        "                                    #transforms.RandomApply([\n",
        "                                    #    transforms.ColorJitter(brightness=0.5,contrast=0.3),\n",
        "                                    #], p=0.5),\n",
        "                                    transforms.RandomApply([\n",
        "                                        transforms.RandomAffine(degrees=3)\n",
        "                                    ], p=0.5),\n",
        "                                    transforms.RandomHorizontalFlip(p=0.5), # Pillow transformation\n",
        "                                    transforms.ToTensor(),          # Pillow to tensor [0-1]\n",
        "                                    transforms.Normalize((0.5, 0.5, 0.5), (0.5, 0.5, 0.5))\n",
        "                            ])   \n",
        "test_transform = transforms.Compose([                                    \n",
        "                                    transforms.ToTensor(),          # Pillow to tensor [0-1]\n",
        "                                    transforms.Normalize((0.5, 0.5, 0.5), (0.5, 0.5, 0.5))\n",
        "                            ])  \n",
        "class ImageDataset(Dataset):\n",
        "    def __init__(self, folder_path,classes,transform=None):\n",
        "        names = os.listdir(folder_path) \n",
        "        self.filepaths = []\n",
        "        self.y = []\n",
        "        for c in classes.keys():\n",
        "            folder_class = os.path.join(folder_path,c)\n",
        "            names = os.listdir(folder_class)\n",
        "            f = [os.path.join(folder_path,c,name) for name in names]\n",
        "            self.filepaths.extend(f)\n",
        "            self.y.extend([classes[c] for i in range(0,len(f))])\n",
        "        self.transform = transform\n",
        "    def __getitem__(self, index):\n",
        "        filepath = self.filepaths[index]\n",
        "        y = self.y[index]\n",
        "        x = Image.open(filepath)\n",
        "        if self.transform:\n",
        "            x =self.transform(x)\n",
        "        return x,y\n",
        "    def __len__(self):\n",
        "        return len(self.filepaths)\n",
        "\n",
        "C_train_ds = ImageDataset(folder_train_path,classes,train_transform)\n",
        "C_test_ds = ImageDataset(folder_test_path,classes,test_transform)\n",
        "\n",
        "C_train_dl = torch.utils.data.DataLoader(C_train_ds,batch_size=10,shuffle=True)\n",
        "for x,y in C_train_dl: \n",
        "    print(y)\n",
        "    batch_grid =torchvision.utils.make_grid(x, nrow=5, padding=5)\n",
        "    im = transforms.ToPILImage()(batch_grid)\n",
        "    display(im)\n",
        "    break"
      ],
      "execution_count": 15,
      "outputs": [
        {
          "output_type": "stream",
          "text": [
            "tensor([4, 7, 8, 8, 7, 3, 1, 6, 3, 1])\n"
          ],
          "name": "stdout"
        },
        {
          "output_type": "display_data",
          "data": {
            "image/png": "[encoded data removed]",
            "text/plain": [
              "<PIL.Image.Image image mode=RGB size=190x79 at 0x7FE81CFBF610>"
            ]
          },
          "metadata": {
            "tags": []
          }
        }
      ]
    },
    {
      "cell_type": "markdown",
      "metadata": {
        "id": "0YnnbCCVxrxa"
      },
      "source": [
        "## Network"
      ]
    },
    {
      "cell_type": "code",
      "metadata": {
        "colab": {
          "base_uri": "https://localhost:8080/"
        },
        "id": "sISFC-hkxtVa",
        "outputId": "e88440c6-b88c-407b-af49-de7e2e4d24b0"
      },
      "source": [
        "def plot(outs):\n",
        "    # nrows number of images in a row\n",
        "    y = outs[1].unsqueeze(1)\n",
        "    #print(y.shape)\n",
        "    batch_grid =torchvision.utils.make_grid(y, nrow=8, padding=5,keep_channels=True).permute(1, 2, 0)\n",
        "    #print(batch_grid.shape)\n",
        "    fig = plt.figure(figsize=(20,10))\n",
        "    plt.imshow(batch_grid, interpolation=\"nearest\") #,aspect='auto')\n",
        "    plt.axis('off')\n",
        "\n",
        "class ClassificationNet(nn.Module):\n",
        "    def __init__(self):\n",
        "        super(ClassificationNet, self).__init__()\n",
        "        self.conv1 = nn.Conv2d(3, 6, 5)\n",
        "        self.pool = nn.MaxPool2d(2, 2)\n",
        "        self.conv2 = nn.Conv2d(6, 16, 5)\n",
        "        self.fc1 = nn.Linear(16 * 5 * 5, 120)\n",
        "        self.fc2 = nn.Linear(120, 84)\n",
        "        self.fc3 = nn.Linear(84, 10)\n",
        "    def forward(self, x):\n",
        "        x = self.pool(torch.relu(self.conv1(x)))\n",
        "        x = self.pool(torch.relu(self.conv2(x)))\n",
        "        x = x.reshape(-1, 16 * 5 * 5)\n",
        "        x = torch.relu(self.fc1(x))\n",
        "        x = torch.relu(self.fc2(x))\n",
        "        x = self.fc3(x)\n",
        "        x = torch.log_softmax(x, dim=-1)\n",
        "        return x\n",
        "\n",
        "x,y = next(iter(C_train_dl))\n",
        "print(x.shape)\n",
        "net = ClassificationNet()\n",
        "out = net.forward(x)\n",
        "out"
      ],
      "execution_count": 4,
      "outputs": [
        {
          "output_type": "stream",
          "text": [
            "torch.Size([10, 3, 32, 32])\n"
          ],
          "name": "stdout"
        },
        {
          "output_type": "execute_result",
          "data": {
            "text/plain": [
              "tensor([[-2.2498, -2.3373, -2.2885, -2.3339, -2.2593, -2.2293, -2.3594, -2.2242,\n",
              "         -2.3865, -2.3745],\n",
              "        [-2.2463, -2.3339, -2.2882, -2.3366, -2.2614, -2.2107, -2.3731, -2.2407,\n",
              "         -2.3803, -2.3722],\n",
              "        [-2.2480, -2.3401, -2.2959, -2.3342, -2.2588, -2.2145, -2.3632, -2.2323,\n",
              "         -2.3844, -2.3721],\n",
              "        [-2.2421, -2.3336, -2.2890, -2.3418, -2.2710, -2.2073, -2.3659, -2.2366,\n",
              "         -2.3799, -2.3767],\n",
              "        [-2.2519, -2.3292, -2.2851, -2.3432, -2.2665, -2.1926, -2.3707, -2.2432,\n",
              "         -2.3844, -2.3787],\n",
              "        [-2.2424, -2.3259, -2.2881, -2.3488, -2.2693, -2.1987, -2.3745, -2.2349,\n",
              "         -2.3825, -2.3812],\n",
              "        [-2.2421, -2.3411, -2.2940, -2.3343, -2.2676, -2.1945, -2.3625, -2.2400,\n",
              "         -2.3826, -2.3873],\n",
              "        [-2.2354, -2.3233, -2.3018, -2.3393, -2.2691, -2.1945, -2.3578, -2.2561,\n",
              "         -2.3837, -2.3837],\n",
              "        [-2.2445, -2.3423, -2.2892, -2.3413, -2.2603, -2.2256, -2.3587, -2.2259,\n",
              "         -2.3813, -2.3741],\n",
              "        [-2.2419, -2.3294, -2.2912, -2.3411, -2.2667, -2.2033, -2.3657, -2.2439,\n",
              "         -2.3849, -2.3762]], grad_fn=<LogSoftmaxBackward>)"
            ]
          },
          "metadata": {
            "tags": []
          },
          "execution_count": 4
        }
      ]
    },
    {
      "cell_type": "markdown",
      "metadata": {
        "id": "kMiLWEcm3DqB"
      },
      "source": [
        "## Training"
      ]
    },
    {
      "cell_type": "code",
      "metadata": {
        "id": "Fq2p-ypf3EjS"
      },
      "source": [
        "# Validation: Metric Regression\n",
        "def metrics_func_regression(target, output):\n",
        "  # Comptue mean squaer error (Migliora quanto piu' ci avviciniamo a zero)\n",
        "  mse = torch.sum((output - target) ** 2)\n",
        "  return mse\n",
        "\n",
        "# Validation: Metric cassification\n",
        "def metrics_func_classification(target, output):\n",
        "  # Compute number of correct prediction\n",
        "  pred = output.argmax(dim=-1,keepdim=True)\n",
        "  corrects =pred.eq(target.reshape(pred.shape)).sum().item()\n",
        "  return -corrects # minus for coeherence with best result is the most negative one\n",
        "\n",
        "# Training: Loss calculation and backward step\n",
        "def loss_batch(loss_func,metric_func, xb,yb,yb_h, opt=None):\n",
        "  # obtain loss\n",
        "  loss = loss_func(yb_h, yb)\n",
        "  # obtain permormance metric \n",
        "  metric_b = metric_func(yb,yb_h)\n",
        "  if opt is not None:\n",
        "    loss.backward()\n",
        "    opt.step()\n",
        "    opt.zero_grad()\n",
        "  return loss.item(), metric_b\n",
        "\n",
        "# Trainig: Function 1 epoch\n",
        "def loss_epoch(model, loss_func,metric_func, dataset_dl, opt, device):\n",
        "  loss = 0.0\n",
        "  metric = 0.0\n",
        "  len_data = len(dataset_dl.dataset)\n",
        "  # Get batch data\n",
        "  for xb,yb in dataset_dl:    \n",
        "    # Send to cuda the data (batch size)\n",
        "    xb = xb.to(device)\n",
        "    yb = yb.to(device)\n",
        "    # obtain model output \n",
        "    yb_h = model.forward(xb)\n",
        "    # Loss and Metric Calculation\n",
        "    loss_b, metric_b = loss_batch(loss_func,metric_func, xb,yb,yb_h,opt)\n",
        "    loss += loss_b\n",
        "    if metric_b is not None:\n",
        "      metric+=metric_b \n",
        "  loss /=len_data\n",
        "  metric /=len_data\n",
        "  return loss, metric\n",
        "\n",
        "# Training: Iterate on epochs\n",
        "def train_val(epochs, model, loss_func, metric_func, opt, train_dl,test_dl,device, path2weigths=\"./weights.pt\"):\n",
        "  lr_scheduler = torch.optim.lr_scheduler.ExponentialLR(opt, gamma=0.999) #  lr = lr * gamma ** last_epoch\n",
        "  best_val_metric = 1000000\n",
        "  for epoch in range(epochs):\n",
        "    model.train()\n",
        "    train_loss,train_metric = loss_epoch(model, loss_func, metric_func,train_dl, opt,device)\n",
        "    lr_scheduler.step()\n",
        "    model.eval()\n",
        "    with torch.no_grad():\n",
        "      val_loss, val_metric = loss_epoch(model, loss_func, metric_func, test_dl,opt=None,device=device)\n",
        "      print(\"epoch: %d, train_loss: %.6f, val loss: %.6f,  train_metric: %.3f test_metric: %.3f lr: %.5f)\" % (epoch,train_loss, val_loss,train_metric,val_metric,opt.param_groups[0]['lr']))\n",
        "      if (val_metric <= best_val_metric):        \n",
        "        # Save Models (It save last weights)\n",
        "        torch.save(model.state_dict(),path2weigths)\n",
        "        best_val_metric = val_metric\n"
      ],
      "execution_count": 16,
      "outputs": []
    },
    {
      "cell_type": "code",
      "metadata": {
        "colab": {
          "base_uri": "https://localhost:8080/"
        },
        "id": "urWAyhmW3ROO",
        "outputId": "1a874ad6-072d-4b3a-ac08-662f5b77a443"
      },
      "source": [
        "# Setup GPU Device\n",
        "device = torch.device(\"cpu\")\n",
        "if torch.cuda.is_available():\n",
        "    device = torch.device(\"cuda:0\")\n",
        "print(device)\n",
        "\n",
        "# Setup\n",
        "C_model = ClassificationNet().to(device)\n",
        "C_loss_func = nn.NLLLoss(reduction=\"sum\")  #nn.BCELoss  \n",
        "C_opt = optim.Adam(C_model.parameters(),lr=0.01)\n",
        "C_train_dl = DataLoader(C_train_ds,batch_size=256,shuffle=True,num_workers=1)\n",
        "C_test_dl = DataLoader(C_test_ds,batch_size=256,shuffle=True,num_workers=1)\n",
        "\n",
        "# Train\n",
        "train_val(5,C_model,C_loss_func,metrics_func_classification,C_opt, C_train_dl,C_test_dl,device,path2weigths=\"./weights_classification.pt\")\n"
      ],
      "execution_count": 39,
      "outputs": [
        {
          "output_type": "stream",
          "text": [
            "cuda:0\n",
            "epoch: 0, train_loss: 1.690928, val loss: 1.566622,  train_metric: -0.374 test_metric: -0.439 lr: 0.00999)\n",
            "epoch: 1, train_loss: 1.397230, val loss: 1.402100,  train_metric: -0.499 test_metric: -0.496 lr: 0.00998)\n",
            "epoch: 2, train_loss: 1.295521, val loss: 1.367732,  train_metric: -0.537 test_metric: -0.510 lr: 0.00997)\n",
            "epoch: 3, train_loss: 1.255811, val loss: 1.265396,  train_metric: -0.553 test_metric: -0.558 lr: 0.00996)\n",
            "epoch: 4, train_loss: 1.212261, val loss: 1.285270,  train_metric: -0.571 test_metric: -0.554 lr: 0.00995)\n"
          ],
          "name": "stdout"
        }
      ]
    },
    {
      "cell_type": "markdown",
      "metadata": {
        "id": "JkfcxH754-qL"
      },
      "source": [
        "## Test"
      ]
    },
    {
      "cell_type": "code",
      "metadata": {
        "id": "61nhLo3i4U0U"
      },
      "source": [
        "# Load Classification\n",
        "device = torch.device(\"cpu\")\n",
        "classes = {'airplane': 0, 'automobile': 1, 'bird': 2, 'cat': 3, 'deer': 4,  'dog': 5,  'frog':6, 'horse':7, 'ship':8, 'truck':9}\n",
        "C_model = ClassificationNet().to(device)\n",
        "C_weights = torch.load(\"weights_classification.pt\")\n",
        "C_model.load_state_dict(C_weights)\n",
        "C_model = C_model.to(device)\n",
        "\n",
        "# Predict Classication\n",
        "for x,y in C_test_dl:\n",
        "    y_hat = C_model.forward(x).argmax(dim=-1,keepdim=True).detach().numpy().reshape(-1)\n",
        "\n",
        "    # Visualize results\n",
        "    cm = confusion_matrix(y,y_hat)\n",
        "    names_pred = [ \"Pred: \" + n for n in classes]\n",
        "    df = pd.DataFrame(cm, columns=names_pred, index=classes)\n",
        "    display(df)"
      ],
      "execution_count": null,
      "outputs": []
    }
  ]
}