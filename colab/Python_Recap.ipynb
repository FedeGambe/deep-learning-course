{
  "nbformat": 4,
  "nbformat_minor": 0,
  "metadata": {
    "colab": {
      "name": "Python-Recap.ipynb",
      "provenance": [],
      "collapsed_sections": [],
      "toc_visible": true,
      "authorship_tag": "ABX9TyP4/NoAkOXw5lWbTk73IUMt",
      "include_colab_link": true
    },
    "kernelspec": {
      "name": "python3",
      "display_name": "Python 3"
    },
    "accelerator": "GPU"
  },
  "cells": [
    {
      "cell_type": "markdown",
      "metadata": {
        "id": "view-in-github",
        "colab_type": "text"
      },
      "source": [
        "<a href=\"https://colab.research.google.com/github/visiont3lab/deep-learning-course/blob/main/colab/Python_Recap.ipynb\" target=\"_parent\"><img src=\"https://colab.research.google.com/assets/colab-badge.svg\" alt=\"Open In Colab\"/></a>"
      ]
    },
    {
      "cell_type": "markdown",
      "metadata": {
        "id": "38zhmhg57csZ"
      },
      "source": [
        "# Getting Started With Python for Deep Learning\r\n",
        "\r\n"
      ]
    },
    {
      "cell_type": "markdown",
      "metadata": {
        "id": "MrxlHaHG53rG"
      },
      "source": [
        "* [PyTorch Computer Vision Cookbook](https://github.com/PacktPublishing/PyTorch-Computer-Vision-Cookbook)\r\n",
        "* [Nerual Network from sctract](https://www.kickstarter.com/projects/sentdex/neural-networks-from-scratch-in-python?lang=it)\r\n",
        "* [Programming Pytorch for Deep Learning](https://www.amazon.it/Programming-Pytorch-Deep-Learning-Applications/dp/1492045357)\r\n",
        "* [Deep Learning Sample Code](https://github.com/PacktPublishing)"
      ]
    },
    {
      "cell_type": "markdown",
      "metadata": {
        "id": "37QzybuNIvsn"
      },
      "source": [
        "## Google Colab\r\n",
        "\r\n",
        "* Server  (Sistema Operativo) Linux (Ubuntu 18.04)\r\n",
        "* Google colaboraty --> PC fornito da google 12.72 GB RAM, Disco Rigido > 15 GB --> GPU Settare il Runtime Type a GPU (Training)\r\n",
        "\r\n",
        "* [Markdown Commands](https://visiont3lab.github.io/tecnologie_data_science/docs/programming/google_colab.html)\r\n",
        "\r\n",
        "---\r\n",
        "\r\n"
      ]
    },
    {
      "cell_type": "markdown",
      "metadata": {
        "id": "3oym1H46VPrB"
      },
      "source": [
        "### Bash basic requirements"
      ]
    },
    {
      "cell_type": "code",
      "metadata": {
        "colab": {
          "base_uri": "https://localhost:8080/"
        },
        "id": "rJ8HEsbSTGRH",
        "outputId": "aed62f41-b32b-4d40-a66f-500d1fb17271"
      },
      "source": [
        "# Elencare i file in una cartella\r\n",
        "#!ls \r\n",
        "# Percorso file\r\n",
        "#!pwd\r\n",
        "# Rimuovere una cartella\r\n",
        "#!rm -rf dataset \r\n",
        "# Creare una cartella\r\n",
        "#!mkdir -p dataset\r\n",
        "# Creare un file\r\n",
        "#!touch dataset/manuel.txt\r\n",
        "# Muoverci all'interno di una cartella\r\n",
        "#%cd .. \r\n",
        "\r\n",
        "# --- Esercizio\r\n",
        "# Create una cartella data\r\n",
        "# Inserite nella cartella data un file a.txt, b.txt\r\n",
        "# Eleminate il file b.txt\r\n",
        "# Eliminate la cartella data"
      ],
      "execution_count": null,
      "outputs": [
        {
          "output_type": "stream",
          "text": [
            "/content\n"
          ],
          "name": "stdout"
        }
      ]
    },
    {
      "cell_type": "markdown",
      "metadata": {
        "id": "drqLSjwyIbV7"
      },
      "source": [
        "## Python Basic Requirements\r\n",
        "\r\n",
        "* Tuple\r\n",
        "* List\r\n",
        "* array\r\n",
        "* dictionary\r\n",
        "* function\r\n",
        "* class\r\n",
        "* python packages and pip"
      ]
    },
    {
      "cell_type": "code",
      "metadata": {
        "colab": {
          "base_uri": "https://localhost:8080/"
        },
        "id": "uO83IloLWpnj",
        "outputId": "4575245e-9372-4b29-b8d5-5aaca73b43de"
      },
      "source": [
        "# python è un linguaggio interpretato\r\n",
        "# Script language --> alto livello\r\n",
        "\r\n",
        "# Lista --> non hanno una dimensione fissa\r\n",
        "lista_python = [2,3,4,5,6,\"ciao\"]\r\n",
        "print(\"lunghezza lista: \", len(lista_python))\r\n",
        "nuova_lista = []\r\n",
        "for m in lista_python:\r\n",
        "    #print(m)\r\n",
        "    nuova_lista.append(m)\r\n",
        "\r\n",
        "print(nuova_lista)"
      ],
      "execution_count": null,
      "outputs": [
        {
          "output_type": "stream",
          "text": [
            "lunghezza lista:  6\n",
            "[2, 3, 4, 5, 6, 'ciao']\n"
          ],
          "name": "stdout"
        }
      ]
    },
    {
      "cell_type": "code",
      "metadata": {
        "colab": {
          "base_uri": "https://localhost:8080/"
        },
        "id": "WKfXY9U1X4jJ",
        "outputId": "5e095b20-7da6-4d15-ea63-358e6e1dfcac"
      },
      "source": [
        "# Importare una libreria\r\n",
        "import numpy  as np\r\n",
        "# array hanno una dimensione fissa\r\n",
        "a = np.random.randint(10,30,1)*np.ones((1,5),dtype=np.float32)\r\n",
        "print(a.shape,a.dtype)\r\n",
        "print(a)"
      ],
      "execution_count": null,
      "outputs": [
        {
          "output_type": "stream",
          "text": [
            "(1, 5) float64\n",
            "[[27. 27. 27. 27. 27.]]\n"
          ],
          "name": "stdout"
        }
      ]
    },
    {
      "cell_type": "code",
      "metadata": {
        "colab": {
          "base_uri": "https://localhost:8080/"
        },
        "id": "25IeQSESbdt_",
        "outputId": "ac658bb3-307a-4b5b-b1a0-023a2cf62fd9"
      },
      "source": [
        "# Creare un array\r\n",
        "l = [7,6,10,8]\r\n",
        "#l.sort(reverse=True)\r\n",
        "arr = np.array(l,dtype=np.float32)\r\n",
        "#arr\r\n",
        "arr_sort = np.sort(arr)\r\n",
        "arr_sort"
      ],
      "execution_count": null,
      "outputs": [
        {
          "output_type": "execute_result",
          "data": {
            "text/plain": [
              "array([ 6.,  7.,  8., 10.], dtype=float32)"
            ]
          },
          "metadata": {
            "tags": []
          },
          "execution_count": 108
        }
      ]
    },
    {
      "cell_type": "code",
      "metadata": {
        "colab": {
          "base_uri": "https://localhost:8080/"
        },
        "id": "WNMLZm0eZB0Z",
        "outputId": "e6798bf3-d4ee-487c-b0fb-2ddf6cea0d2f"
      },
      "source": [
        "def my_function(a):\r\n",
        "    return a*2\r\n",
        "m = my_function(10)\r\n",
        "print(m)    "
      ],
      "execution_count": null,
      "outputs": [
        {
          "output_type": "stream",
          "text": [
            "20\n"
          ],
          "name": "stdout"
        }
      ]
    },
    {
      "cell_type": "code",
      "metadata": {
        "id": "M_-jo8meam_D"
      },
      "source": [
        "# Esercizio\r\n",
        "lista_python = [12,13,\"kl\", 2,56,8,\"ciao\"]\r\n",
        "Data una lista crea una funzione che mi ritorna un array che contiene i numeri ordinati\r\n",
        "--> array[2,8,12,13,56] --> shape (1,5) --> (5,)"
      ],
      "execution_count": null,
      "outputs": []
    },
    {
      "cell_type": "code",
      "metadata": {
        "id": "FHp-ihx4dbKw"
      },
      "source": [
        "Python + Libreria sul tuo pc --> jupyter notebook -> interfaccia web --> ambient virtuale \r\n",
        "Python + libreria sul pc google --> jupyter notebook -> interfaccia google web --> ambient virtuale \r\n",
        "# ip:port"
      ],
      "execution_count": null,
      "outputs": []
    },
    {
      "cell_type": "code",
      "metadata": {
        "id": "JYqVk_1yfIdm",
        "colab": {
          "base_uri": "https://localhost:8080/"
        },
        "outputId": "cf39d095-872d-4b33-dc08-45abaa071316"
      },
      "source": [
        "# Rimuovere string da una lista\r\n",
        "# float , int, string, object\r\n",
        "lista_python = [12,13,\"kl\", 2.3, \"Klk\", 56.898,8.0,\"o\"]\r\n",
        "def my_function(lista):\r\n",
        "    nlist = []\r\n",
        "    for el in lista:\r\n",
        "        if type(el) is not str:\r\n",
        "            nlist.append(el)\r\n",
        "    nlist.sort()\r\n",
        "    arr =  np.array(nlist, dtype=np.float) \r\n",
        "    arr_round = np.round( np.array(nlist, dtype=np.float), 0 )\r\n",
        "    #print(arr.shape)\r\n",
        "    return arr, arr_round\r\n",
        "notround, round = my_function(lista_python) \r\n",
        "print(notround, round)"
      ],
      "execution_count": null,
      "outputs": [
        {
          "output_type": "stream",
          "text": [
            "[ 2.3    8.    12.    13.    56.898] [ 2.  8. 12. 13. 57.]\n"
          ],
          "name": "stdout"
        }
      ]
    },
    {
      "cell_type": "code",
      "metadata": {
        "id": "DwzwS969iE-D",
        "colab": {
          "base_uri": "https://localhost:8080/"
        },
        "outputId": "2e813793-d0a4-47fc-e058-3f7b421fdf31"
      },
      "source": [
        "lista_python = [12,13,\"kl\", 2,56,8.0,\"o\"]\r\n",
        "lista_python.remove(\"kl\")\r\n",
        "lista_python.remove(\"o\")\r\n",
        "arr = np.array(lista_python)\r\n",
        "arr = np.sort(arr)\r\n",
        "print(arr)\r\n",
        "arr = arr.reshape(1,5)\r\n",
        "print(arr)"
      ],
      "execution_count": null,
      "outputs": [
        {
          "output_type": "stream",
          "text": [
            "[ 2.  8. 12. 13. 56.]\n",
            "[[ 2.  8. 12. 13. 56.]]\n"
          ],
          "name": "stdout"
        }
      ]
    },
    {
      "cell_type": "code",
      "metadata": {
        "id": "Ld83J9FskTJL",
        "colab": {
          "base_uri": "https://localhost:8080/"
        },
        "outputId": "bf03759f-1ed3-4c8b-842a-e2552f5cc489"
      },
      "source": [
        "# pandas \r\n",
        "# key - valore\r\n",
        "d = { \r\n",
        "        \"size\" : [64,64,3],\r\n",
        "        \"training\" : np.array([45,6,7]), \r\n",
        "        \"training_lr\" : 0.5,\r\n",
        "        \"testing\" : [4,65,7],    \r\n",
        "    }\r\n",
        "d[\"app\"] = [\"lò\" ,4]\r\n",
        "d"
      ],
      "execution_count": null,
      "outputs": [
        {
          "output_type": "execute_result",
          "data": {
            "text/plain": [
              "{'app': ['lò', 4],\n",
              " 'size': [64, 64, 3],\n",
              " 'testing': [4, 65, 7],\n",
              " 'training': array([45,  6,  7]),\n",
              " 'training_lr': 0.5}"
            ]
          },
          "metadata": {
            "tags": []
          },
          "execution_count": 190
        }
      ]
    },
    {
      "cell_type": "code",
      "metadata": {
        "id": "Os-IyK_1lexj",
        "colab": {
          "base_uri": "https://localhost:8080/"
        },
        "outputId": "149f8461-e4c4-487c-fc63-f0ae776f9e15"
      },
      "source": [
        "h,w,c = (64,64,3)\r\n",
        "b = {\"klk\" : 5}\r\n",
        "c = [5,6,7,8]\r\n",
        "print(a,b,c)"
      ],
      "execution_count": null,
      "outputs": [
        {
          "output_type": "stream",
          "text": [
            "(64, 64, 3) {'klk': 5} [5, 6, 7, 8]\n"
          ],
          "name": "stdout"
        }
      ]
    },
    {
      "cell_type": "code",
      "metadata": {
        "id": "My4iwb9clrY8",
        "colab": {
          "base_uri": "https://localhost:8080/"
        },
        "outputId": "c3cbc922-fc35-4aa2-e33d-c0cf4a64432b"
      },
      "source": [
        "d,e,f,g = a\r\n",
        "print(d,e,f,g)"
      ],
      "execution_count": null,
      "outputs": [
        {
          "output_type": "stream",
          "text": [
            "5 6 7 8\n"
          ],
          "name": "stdout"
        }
      ]
    },
    {
      "cell_type": "code",
      "metadata": {
        "id": "VqyWR1-5m3Z9",
        "colab": {
          "base_uri": "https://localhost:8080/"
        },
        "outputId": "575f11a7-5ffe-41f5-fd3a-eba4867b46f6"
      },
      "source": [
        "# !python --version  # check python version\r\n",
        "# data analisi pandas, matplotlib, plotly, seaborn,\r\n",
        "# machine learning: scikit-learn\r\n",
        "# deep learning : tensorflow (+ keras) (google) [deploy] , pytorch (facebook) [educazione]\r\n",
        "# image processing: Pillow, opencv-python (image processing)\r\n",
        "#!pip list | grep torch\r\n",
        "#!pip install torch \r\n",
        "#!pip uninstall torch \r\n",
        "#!pip install tensorflow==2.4.1\r\n",
        "#!pip list | grep tensorflow\r\n",
        "#!python --version #--> 3.8 --> tensortflow pytorch"
      ],
      "execution_count": null,
      "outputs": [
        {
          "output_type": "stream",
          "text": [
            "Python 3.7.10\n"
          ],
          "name": "stdout"
        }
      ]
    },
    {
      "cell_type": "markdown",
      "metadata": {
        "id": "BidnhEVh7tn6"
      },
      "source": [
        "## Pytorch: Installation"
      ]
    },
    {
      "cell_type": "markdown",
      "metadata": {
        "id": "YNjKSYqb7_PD"
      },
      "source": [
        "* Local (Own Pc)\r\n",
        "\r\n",
        "    Install [python 3.8](https://www.python.org/downloads/)\r\n",
        "\r\n",
        "    ```\r\n",
        "    pip3 install virtualenv\r\n",
        "    virtualenv env\r\n",
        "    source env/bin/activate # Linux - Mac\r\n",
        "    source env/Scripts/activate # Windows\r\n",
        "    pip install torch torchvision\r\n",
        "    ```\r\n",
        "\r\n",
        "\r\n",
        "* Google Colab\r\n",
        "\r\n",
        "    ```\r\n",
        "    pip3 install torch torchvision\r\n",
        "    ```\r\n",
        "These requirements should be arealdy satisied\r\n"
      ]
    },
    {
      "cell_type": "code",
      "metadata": {
        "colab": {
          "base_uri": "https://localhost:8080/"
        },
        "id": "NEIaS-Q8tSI-",
        "outputId": "61c954e8-4c0e-41c3-bc06-f79c12ab225e"
      },
      "source": [
        "!nvidia-smi"
      ],
      "execution_count": null,
      "outputs": [
        {
          "output_type": "stream",
          "text": [
            "Thu Mar  4 19:26:57 2021       \n",
            "+-----------------------------------------------------------------------------+\n",
            "| NVIDIA-SMI 460.39       Driver Version: 460.32.03    CUDA Version: 11.2     |\n",
            "|-------------------------------+----------------------+----------------------+\n",
            "| GPU  Name        Persistence-M| Bus-Id        Disp.A | Volatile Uncorr. ECC |\n",
            "| Fan  Temp  Perf  Pwr:Usage/Cap|         Memory-Usage | GPU-Util  Compute M. |\n",
            "|                               |                      |               MIG M. |\n",
            "|===============================+======================+======================|\n",
            "|   0  Tesla P100-PCIE...  Off  | 00000000:00:04.0 Off |                    0 |\n",
            "| N/A   35C    P0    27W / 250W |      0MiB / 16280MiB |      0%      Default |\n",
            "|                               |                      |                  N/A |\n",
            "+-------------------------------+----------------------+----------------------+\n",
            "                                                                               \n",
            "+-----------------------------------------------------------------------------+\n",
            "| Processes:                                                                  |\n",
            "|  GPU   GI   CI        PID   Type   Process name                  GPU Memory |\n",
            "|        ID   ID                                                   Usage      |\n",
            "|=============================================================================|\n",
            "|  No running processes found                                                 |\n",
            "+-----------------------------------------------------------------------------+\n"
          ],
          "name": "stdout"
        }
      ]
    },
    {
      "cell_type": "code",
      "metadata": {
        "colab": {
          "base_uri": "https://localhost:8080/"
        },
        "id": "1tH0Ck6L5kTQ",
        "outputId": "ce7f881c-0717-4cd0-f670-77392b6058e3"
      },
      "source": [
        "# Verify installation\r\n",
        "!pip list | grep torch"
      ],
      "execution_count": null,
      "outputs": [
        {
          "output_type": "stream",
          "text": [
            "torch                         1.7.1+cu101   \n",
            "torchsummary                  1.5.1         \n",
            "torchtext                     0.3.1         \n",
            "torchvision                   0.8.2+cu101   \n"
          ],
          "name": "stdout"
        }
      ]
    },
    {
      "cell_type": "code",
      "metadata": {
        "colab": {
          "base_uri": "https://localhost:8080/"
        },
        "id": "q2rHdZ4a9Gl9",
        "outputId": "26800e0e-4d54-4038-ebde-bb7b90c4ec5f"
      },
      "source": [
        "# Change runtime colab type to enable GPU\r\n",
        "# Click on Runtime --> Select Change Runtime Type --> Select Hardware Accelarion GPU\r\n",
        "\r\n",
        "import torch\r\n",
        "import torchvision\r\n",
        "print(\"Torch Version: \",torch.__version__)\r\n",
        "print(\"Torch Vision Version:\", torchvision.__version__)\r\n",
        "print(\"Is Cuda available: \", torch.cuda.is_available())\r\n",
        "print(\"Number of  Cuda device: \", torch.cuda.device_count())\r\n",
        "print(\"Get Cuda Current device: \", torch.cuda.current_device())\r\n",
        "print(\"Get Name of Cuda  device: \", torch.cuda.get_device_name(0))"
      ],
      "execution_count": null,
      "outputs": [
        {
          "output_type": "stream",
          "text": [
            "Torch Version:  1.7.1+cu101\n",
            "Torch Vision Version: 0.8.2+cu101\n",
            "Is Cuda available:  True\n",
            "Number of  Cuda device:  1\n",
            "Get Cuda Current device:  0\n",
            "Get Name of Cuda  device:  Tesla P100-PCIE-16GB\n"
          ],
          "name": "stdout"
        }
      ]
    },
    {
      "cell_type": "code",
      "metadata": {
        "colab": {
          "base_uri": "https://localhost:8080/"
        },
        "id": "NgrFTeOYvWdV",
        "outputId": "10656de9-5db4-4a20-e067-0ca849fb6395"
      },
      "source": [
        "torch.cuda.is_available()"
      ],
      "execution_count": null,
      "outputs": [
        {
          "output_type": "execute_result",
          "data": {
            "text/plain": [
              "True"
            ]
          },
          "metadata": {
            "tags": []
          },
          "execution_count": 13
        }
      ]
    },
    {
      "cell_type": "code",
      "metadata": {
        "colab": {
          "base_uri": "https://localhost:8080/"
        },
        "id": "VvzvvjNRKF5b",
        "outputId": "fd044815-c9ac-4f78-b06a-b5a908fd8622"
      },
      "source": [
        "! pip3 install torch torchvision"
      ],
      "execution_count": null,
      "outputs": [
        {
          "output_type": "stream",
          "text": [
            "Requirement already satisfied: torch in /usr/local/lib/python3.7/dist-packages (1.7.1+cu101)\n",
            "Requirement already satisfied: torchvision in /usr/local/lib/python3.7/dist-packages (0.8.2+cu101)\n",
            "Requirement already satisfied: typing-extensions in /usr/local/lib/python3.7/dist-packages (from torch) (3.7.4.3)\n",
            "Requirement already satisfied: numpy in /usr/local/lib/python3.7/dist-packages (from torch) (1.19.5)\n",
            "Requirement already satisfied: pillow>=4.1.1 in /usr/local/lib/python3.7/dist-packages (from torchvision) (7.0.0)\n"
          ],
          "name": "stdout"
        }
      ]
    },
    {
      "cell_type": "markdown",
      "metadata": {
        "id": "xV3_nBpi_YJ5"
      },
      "source": [
        "## Pytorch: Tensors"
      ]
    },
    {
      "cell_type": "markdown",
      "metadata": {
        "id": "ERI7NZCk_dIu"
      },
      "source": [
        "> Tensor: n-dimensional array\r\n",
        "\r\n",
        "* [Pytoch documentation](https://pytorch.org/docs/stable/index.html)\r\n",
        "* [List of Pytorch Type](https://pytorch.org/docs/stable/tensors.html)"
      ]
    },
    {
      "cell_type": "code",
      "metadata": {
        "colab": {
          "base_uri": "https://localhost:8080/"
        },
        "id": "Daxr3q3798gv",
        "outputId": "70e326b6-c063-4d4b-fc12-38afd4228138"
      },
      "source": [
        "import torch\r\n",
        "import numpy as np\r\n",
        "x = torch.ones((4,4), dtype=torch.float16)\r\n",
        "#x = np.ones((4,4), dtype=np.float16)\r\n",
        "print(x)\r\n",
        "print(\"Shape: \", x.shape)\r\n",
        "print(\"Type : \", x.dtype) # Torch default data type is torch.float32"
      ],
      "execution_count": null,
      "outputs": [
        {
          "output_type": "stream",
          "text": [
            "tensor([[1., 1., 1., 1.],\n",
            "        [1., 1., 1., 1.],\n",
            "        [1., 1., 1., 1.],\n",
            "        [1., 1., 1., 1.]], dtype=torch.float16)\n",
            "Shape:  torch.Size([4, 4])\n",
            "Type :  torch.float16\n"
          ],
          "name": "stdout"
        }
      ]
    },
    {
      "cell_type": "code",
      "metadata": {
        "colab": {
          "base_uri": "https://localhost:8080/"
        },
        "id": "NSM5NQafADMj",
        "outputId": "428690a0-b72a-4401-d1ca-5abcfcc9786e"
      },
      "source": [
        "# Specify tensor type\r\n",
        "x = 2*torch.ones((1,3,2), dtype=torch.int8)\r\n",
        "print(x)\r\n",
        "print(\"Shape: \", x.shape)\r\n",
        "print(\"Type : \", x.dtype)"
      ],
      "execution_count": null,
      "outputs": [
        {
          "output_type": "stream",
          "text": [
            "tensor([[[2, 2],\n",
            "         [2, 2],\n",
            "         [2, 2]]], dtype=torch.int8)\n",
            "Shape:  torch.Size([1, 3, 2])\n",
            "Type :  torch.int8\n"
          ],
          "name": "stdout"
        }
      ]
    },
    {
      "cell_type": "code",
      "metadata": {
        "colab": {
          "base_uri": "https://localhost:8080/"
        },
        "id": "UyLARNB4AjiJ",
        "outputId": "3427bf42-921e-41be-fa46-4335c5271971"
      },
      "source": [
        "# Change tensor type\r\n",
        "x = torch.rand(3, dtype=torch.float32) # random uniform 0-1\r\n",
        "x = 5*x # Multiply by 5\r\n",
        "print(\"Tensor: %s , Type: %s \" % (x, x.dtype))\r\n",
        "x = x.type(torch.uint8) # change data type to unit8\r\n",
        "print(\"Tensor: %s , Type: %s \" % (x, x.dtype))"
      ],
      "execution_count": null,
      "outputs": [
        {
          "output_type": "stream",
          "text": [
            "Tensor: tensor([3.8648, 3.3090, 3.7264]) , Type: torch.float32 \n",
            "Tensor: tensor([3, 3, 3], dtype=torch.uint8) , Type: torch.uint8 \n"
          ],
          "name": "stdout"
        }
      ]
    },
    {
      "cell_type": "code",
      "metadata": {
        "colab": {
          "base_uri": "https://localhost:8080/"
        },
        "id": "eb-gH_3EBFAC",
        "outputId": "76ecacc9-ad40-4cfe-cfda-33cf9bfa3532"
      },
      "source": [
        "# Tensor to numpy array\r\n",
        "x = torch.sin( torch.rand(4) + 2*torch.rand(4) )\r\n",
        "xnp = x.numpy()\r\n",
        "print(\"Numpy Array: %s , Type: %s \" % (xnp, xnp.dtype))"
      ],
      "execution_count": null,
      "outputs": [
        {
          "output_type": "stream",
          "text": [
            "Numpy Array: [0.9982301 0.6028976 0.7176252 0.8889904] , Type: float32 \n"
          ],
          "name": "stdout"
        }
      ]
    },
    {
      "cell_type": "code",
      "metadata": {
        "colab": {
          "base_uri": "https://localhost:8080/"
        },
        "id": "_QNpDjIwCPlK",
        "outputId": "6d36a8dc-5d49-455c-f69f-caf98527d547"
      },
      "source": [
        "# Numpy array to tensor\r\n",
        "import numpy as np\r\n",
        "xnp = np.sin( np.random.rand(4) + 2*np.random.rand(4) ) # Float64 by default numpy\r\n",
        "print(xnp)\r\n",
        "x = torch.from_numpy(xnp)\r\n",
        "x = x.type(torch.float32)\r\n",
        "print(\"Tensor: %s , Type: %s \" % (x, x.dtype))"
      ],
      "execution_count": null,
      "outputs": [
        {
          "output_type": "stream",
          "text": [
            "[0.87555113 0.62579561 0.79933828 0.97127132]\n",
            "Tensor: tensor([0.8756, 0.6258, 0.7993, 0.9713]) , Type: torch.float32 \n"
          ],
          "name": "stdout"
        }
      ]
    },
    {
      "cell_type": "code",
      "metadata": {
        "colab": {
          "base_uri": "https://localhost:8080/"
        },
        "id": "DEN8ncC-CsCK",
        "outputId": "bea1eec2-0539-4723-da88-2817a33f44e9"
      },
      "source": [
        "# Moving tensor bettwen cpu and cuda device\r\n",
        "# If u do not specify the device the tensorf will be hosted by default on cpu\r\n",
        "x = torch.tensor([[1,3,4.4,5.6]]) # RAM\r\n",
        "print(\"Tensor: %s , Type: %s ,Shape: %s, Device: %s\" % (x.tolist(), x.dtype,x.shape,x.device))\r\n",
        "if torch.cuda.is_available():\r\n",
        "    device = torch.device(\"cuda:0\")\r\n",
        "    x = x.to(device)\r\n",
        "    print(\"Tensor: %s , Type: %s ,Shape: %s, Device: %s\" % (x.tolist(), x.dtype,x.shape,x.device))\r\n"
      ],
      "execution_count": null,
      "outputs": [
        {
          "output_type": "stream",
          "text": [
            "Tensor: [[1.0, 3.0, 4.400000095367432, 5.599999904632568]] , Type: torch.float32 ,Shape: torch.Size([1, 4]), Device: cpu\n",
            "Tensor: [[1.0, 3.0, 4.400000095367432, 5.599999904632568]] , Type: torch.float32 ,Shape: torch.Size([1, 4]), Device: cuda:0\n"
          ],
          "name": "stdout"
        }
      ]
    },
    {
      "cell_type": "code",
      "metadata": {
        "id": "xVKcytBEzXNG"
      },
      "source": [
        "class myclass: # la classe è un contenitore (diverse funzioni)\r\n",
        "    def __init__(self, lista):\r\n",
        "        # Initial\r\n",
        "        self.arr = np.array(lista, dtype=np.float32)\r\n",
        "        #self.device = torch.device(\"cuda:0\")\r\n",
        "        self.device = torch.device(\"cpu\")\r\n",
        "        \r\n",
        "    def arrayToTensor(self):\r\n",
        "        x = torch.from_numpy(self.arr).to(self.device)\r\n",
        "        return x\r\n",
        "    def arrayDouble(self):\r\n",
        "        x = self.arr*2\r\n",
        "        return x\r\n",
        "        \r\n",
        "cl = myclass([5,7,8,9])\r\n",
        "p1 = cl.arrayToTensor()\r\n",
        "p2  = cl.arrayDouble()\r\n",
        "print(p1.device,p2)\r\n",
        "\r\n",
        "cr = myclass([5,16,2,9])\r\n",
        "pr1 = cr.arrayToTensor()\r\n",
        "pr2  = cr.arrayDouble()\r\n",
        "print(pr1,pr2)"
      ],
      "execution_count": null,
      "outputs": []
    }
  ]
}