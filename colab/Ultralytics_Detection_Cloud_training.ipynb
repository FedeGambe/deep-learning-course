{
  "nbformat": 4,
  "nbformat_minor": 0,
  "metadata": {
    "colab": {
      "provenance": [],
      "gpuType": "T4"
    },
    "kernelspec": {
      "name": "python3",
      "display_name": "Python 3"
    },
    "language_info": {
      "name": "python"
    },
    "accelerator": "GPU"
  },
  "cells": [
    {
      "cell_type": "markdown",
      "source": [
        "# Ultralytics Classifier"
      ],
      "metadata": {
        "id": "6NwwliogBETy"
      }
    },
    {
      "cell_type": "markdown",
      "source": [
        "Set up runtime to use GPU"
      ],
      "metadata": {
        "id": "xK_eUvfjBI8o"
      }
    },
    {
      "cell_type": "markdown",
      "source": [
        "## Create or get the dataset"
      ],
      "metadata": {
        "id": "MjQ_B2F_tUfd"
      }
    },
    {
      "cell_type": "code",
      "source": [
        "# Halcon Anomaly detection datasets\n",
        "# https://www.mvtec.com/company/research/datasets/mvtec-ad/downloads"
      ],
      "metadata": {
        "id": "N4-U1wgch0AI"
      },
      "execution_count": null,
      "outputs": []
    },
    {
      "cell_type": "code",
      "source": [
        "## Download pill dataset\n",
        "#%%capture\n",
        "#!wget https://www.mydrive.ch/shares/43421/11a215a5749fcfb75e331ddd5f8e43ee/download/420938129-1629953099/pill.tar.xz\n",
        "#!tar -xf pill.tar.xz"
      ],
      "metadata": {
        "id": "gL-a_7mktWqm"
      },
      "execution_count": null,
      "outputs": []
    },
    {
      "cell_type": "code",
      "source": [
        "## Download toothbrush dataset\n",
        "#%%capture\n",
        "#!wget https://www.mydrive.ch/shares/38536/3830184030e49fe74747669442f0f282/download/420938134-1629953256/toothbrush.tar.xz\n",
        "#!tar -xf toothbrush.tar.xz"
      ],
      "metadata": {
        "id": "70RFkr4out0A"
      },
      "execution_count": null,
      "outputs": []
    },
    {
      "cell_type": "code",
      "source": [
        "## Download zipper dataset\n",
        "#%%capture\n",
        "#!wget https://www.mydrive.ch/shares/38536/3830184030e49fe74747669442f0f282/download/420938385-1629953449/zipper.tar.xz\n",
        "#!tar -xf zipper.tar.xz"
      ],
      "metadata": {
        "id": "sVqPTbcCh52G"
      },
      "execution_count": null,
      "outputs": []
    },
    {
      "cell_type": "code",
      "source": [
        "# Download screw dataset\n",
        "%%capture\n",
        "!wget https://www.mydrive.ch/shares/38536/3830184030e49fe74747669442f0f282/download/420938130-1629953152/screw.tar.xz\n",
        "!tar -xf screw.tar.xz"
      ],
      "metadata": {
        "id": "nhJGI0XCjAV1"
      },
      "execution_count": null,
      "outputs": []
    },
    {
      "cell_type": "markdown",
      "source": [
        "## Use roboflow to label the dasaset and perform augmentation"
      ],
      "metadata": {
        "id": "tPObbbURjd7k"
      }
    },
    {
      "cell_type": "code",
      "source": [
        "# Roboflow\n",
        "# https://roboflow.com/"
      ],
      "metadata": {
        "id": "-8sILuL9jsib"
      },
      "execution_count": null,
      "outputs": []
    },
    {
      "cell_type": "markdown",
      "source": [
        "## Use ultralytics hub for training"
      ],
      "metadata": {
        "id": "sy0R5TaujzyT"
      }
    },
    {
      "cell_type": "code",
      "source": [
        "# Ultralytics hub\n",
        "# https://www.ultralytics.com/hub"
      ],
      "metadata": {
        "id": "X30K4i0JjzQi"
      },
      "execution_count": 7,
      "outputs": []
    },
    {
      "cell_type": "markdown",
      "source": [
        "## Test the model using Ultralytics library"
      ],
      "metadata": {
        "id": "Bh4lHHV7keiJ"
      }
    },
    {
      "cell_type": "code",
      "source": [
        "%%capture\n",
        "!pip install ultralytics"
      ],
      "metadata": {
        "id": "1QYtopHrvMp8"
      },
      "execution_count": 1,
      "outputs": []
    },
    {
      "cell_type": "code",
      "source": [
        "from ultralytics import YOLO\n",
        "import cv2\n",
        "from PIL import Image\n",
        "import torch\n",
        "import numpy as np\n",
        "import time"
      ],
      "metadata": {
        "id": "pW2xaL9LvVy5"
      },
      "execution_count": 2,
      "outputs": []
    },
    {
      "cell_type": "code",
      "source": [
        "class Inf:\n",
        "    def __init__(self, path_to_model, gpu=False):\n",
        "        self.device = torch.device(\"cpu\")\n",
        "        if gpu and torch.cuda.is_available():\n",
        "            self.device = torch.device(\"cuda\")\n",
        "        self.model = YOLO(path_to_model).to(self.device)\n",
        "    def run(self, im_list, conf_thres=0.25, iou_thres=0.45):\n",
        "        start = time.time()\n",
        "        res = self.model.predict(im_list, imgsz=640, device=self.device, conf=conf_thres, iou=iou_thres, verbose=False)\n",
        "        end = time.time()\n",
        "        print(f\"Elapsed: {np.round(end-start,3)}s\")\n",
        "        if not isinstance(im_list, list):\n",
        "            im_list = [im_list]\n",
        "        im_draw_list = []\n",
        "        for i in range(0, len(res)):\n",
        "            im_draw = im_list[i].copy()\n",
        "            names = res[i].names\n",
        "            scores = res[i].boxes.conf.cpu().numpy()\n",
        "            class_ids = res[i].boxes.cls.cpu().numpy()\n",
        "            boxes = res[i].boxes.xyxy.cpu().numpy()\n",
        "            for box, score, class_id in zip(boxes, scores, class_ids):\n",
        "                x1, y1, x2, y2 = box.astype(int)\n",
        "                cv2.rectangle(im_draw, (x1, y1), (x2, y2), (0, 255, 0), 2)\n",
        "                cv2.putText(im_draw, f\"{names[class_id]}: {score:.2f}\", (x1, y1-10), cv2.FONT_HERSHEY_SIMPLEX, 0.5, (0, 255, 0), 2)\n",
        "            im_draw_list.append(im_draw)\n",
        "        return im_draw_list"
      ],
      "metadata": {
        "id": "hiAtL-11khgT"
      },
      "execution_count": 3,
      "outputs": []
    },
    {
      "cell_type": "code",
      "source": [
        "%%capture\n",
        "!wget https://ultralytics.com/images/bus.jpg"
      ],
      "metadata": {
        "id": "NVIeCTVTveEz"
      },
      "execution_count": 4,
      "outputs": []
    },
    {
      "cell_type": "code",
      "source": [
        "net = Inf(\"yolov8n.pt\", gpu=True)\n",
        "im = cv2.imread(\"bus.jpg\", 1) # BGR # 1=cv2.IMREAD_COLOR, 0=cv2.IMREAD_GRAY\n",
        "im = cv2.cvtColor(im, cv2.COLOR_BGR2RGB)\n",
        "print(f\"Model is running on: {net.model.device}\")\n",
        "for i in range(0,20):\n",
        "    #im_draw_list = net.run([im,im,im,im])\n",
        "    im_draw_list = net.run(im)\n",
        "\n",
        "#for i in range(0, len(im_draw_list)):\n",
        "#    display(Image.fromarray(im_draw_list[i]))"
      ],
      "metadata": {
        "colab": {
          "base_uri": "https://localhost:8080/"
        },
        "id": "cpeXKPV_vU4K",
        "outputId": "b1790b9e-ed1d-45ed-b12e-9ee308557d50"
      },
      "execution_count": 5,
      "outputs": [
        {
          "output_type": "stream",
          "name": "stdout",
          "text": [
            "Downloading https://github.com/ultralytics/assets/releases/download/v8.1.0/yolov8n.pt to 'yolov8n.pt'...\n"
          ]
        },
        {
          "output_type": "stream",
          "name": "stderr",
          "text": [
            "100%|██████████| 6.23M/6.23M [00:00<00:00, 138MB/s]\n"
          ]
        },
        {
          "output_type": "stream",
          "name": "stdout",
          "text": [
            "Model is running on: cuda:0\n",
            "Elapsed: 2.199s\n",
            "Elapsed: 0.012s\n",
            "Elapsed: 0.012s\n",
            "Elapsed: 0.01s\n",
            "Elapsed: 0.01s\n",
            "Elapsed: 0.011s\n",
            "Elapsed: 0.01s\n",
            "Elapsed: 0.01s\n",
            "Elapsed: 0.01s\n",
            "Elapsed: 0.01s\n",
            "Elapsed: 0.013s\n",
            "Elapsed: 0.01s\n",
            "Elapsed: 0.01s\n",
            "Elapsed: 0.01s\n",
            "Elapsed: 0.01s\n",
            "Elapsed: 0.01s\n",
            "Elapsed: 0.01s\n",
            "Elapsed: 0.013s\n",
            "Elapsed: 0.016s\n",
            "Elapsed: 0.018s\n"
          ]
        }
      ]
    },
    {
      "cell_type": "markdown",
      "source": [
        "## Export"
      ],
      "metadata": {
        "id": "p68dyCTW39HB"
      }
    },
    {
      "cell_type": "code",
      "source": [
        "%%capture\n",
        "# Ultralytics requirements\n",
        "!pip install ultralytics"
      ],
      "metadata": {
        "id": "IehI_i9C4ydu"
      },
      "execution_count": 19,
      "outputs": []
    },
    {
      "cell_type": "code",
      "source": [
        "%%capture\n",
        "# Onnx export requirements\n",
        "!pip install onnx onnxruntime onnxruntime-gpu"
      ],
      "metadata": {
        "id": "8FuisZas41Nm"
      },
      "execution_count": 20,
      "outputs": []
    },
    {
      "cell_type": "code",
      "source": [
        "# Export the model in onnx format\n",
        "from ultralytics import YOLO\n",
        "model = YOLO(\"yolov8n.pt\")\n",
        "model.export(format='onnx')"
      ],
      "metadata": {
        "id": "xsOyzHtB7B-P"
      },
      "execution_count": null,
      "outputs": []
    },
    {
      "cell_type": "code",
      "source": [
        "%%capture\n",
        "# Openvino requirements\n",
        "!pip install openvino-dev"
      ],
      "metadata": {
        "id": "2BbQ9LwO47J-"
      },
      "execution_count": 22,
      "outputs": []
    },
    {
      "cell_type": "code",
      "source": [
        "# Export the model in openvino format\n",
        "from ultralytics import YOLO\n",
        "model = YOLO(\"yolov8n.pt\")\n",
        "model.export(format='openvino')  # creates 'yolov8n_openvino_model/'"
      ],
      "metadata": {
        "id": "qqZQVEc-7Fh2"
      },
      "execution_count": null,
      "outputs": []
    },
    {
      "cell_type": "markdown",
      "source": [
        "## Test"
      ],
      "metadata": {
        "id": "5aj_dYQ0_JaG"
      }
    },
    {
      "cell_type": "code",
      "source": [
        "%%capture\n",
        "!wget https://ultralytics.com/images/bus.jpg"
      ],
      "metadata": {
        "id": "60bMJNT-_bqD"
      },
      "execution_count": null,
      "outputs": []
    },
    {
      "cell_type": "code",
      "source": [
        "from ultralytics import YOLO\n",
        "import cv2\n",
        "from PIL import Image\n",
        "import torch\n",
        "import numpy as np\n",
        "import time"
      ],
      "metadata": {
        "id": "CdSUkciG_Oto"
      },
      "execution_count": 13,
      "outputs": []
    },
    {
      "cell_type": "code",
      "source": [
        "def get_time_measure(model, im_list, num_it=10):\n",
        "    if not isinstance(im_list, list):\n",
        "        im_list = [im_list]\n",
        "    time_el = []\n",
        "    for i in range(0,num_it):\n",
        "        start = time.time()\n",
        "        res = model.predict(im_list, imgsz=640, conf=0.25, iou=0.45, verbose=False)\n",
        "        end = time.time()\n",
        "\n",
        "        im_draw_list = []\n",
        "        for i in range(0, len(res)):\n",
        "            im_draw = im_list[i].copy()\n",
        "            names = res[i].names\n",
        "            scores = res[i].boxes.conf.cpu().numpy()\n",
        "            class_ids = res[i].boxes.cls.cpu().numpy()\n",
        "            boxes = res[i].boxes.xyxy.cpu().numpy()\n",
        "            for box, score, class_id in zip(boxes, scores, class_ids):\n",
        "                x1, y1, x2, y2 = box.astype(int)\n",
        "                cv2.rectangle(im_draw, (x1, y1), (x2, y2), (0, 255, 0), 2)\n",
        "                cv2.putText(im_draw, f\"{names[class_id]}: {score:.2f}\", (x1, y1-10), cv2.FONT_HERSHEY_SIMPLEX, 0.5, (0, 255, 0), 2)\n",
        "            im_draw_list.append(im_draw)\n",
        "        time_el.append(end-start)\n",
        "    time_res = np.round(np.median(time_el),5)\n",
        "    return time_res"
      ],
      "metadata": {
        "id": "cCu3AqBG4A_a"
      },
      "execution_count": 15,
      "outputs": []
    },
    {
      "cell_type": "code",
      "source": [
        "# read Image\n",
        "im = cv2.imread(\"bus.jpg\", 1) # BGR # 1=cv2.IMREAD_COLOR, 0=cv2.IMREAD_GRAY\n",
        "im = cv2.cvtColor(im, cv2.COLOR_BGR2RGB)"
      ],
      "metadata": {
        "id": "8cga4__a4dJG"
      },
      "execution_count": 16,
      "outputs": []
    },
    {
      "cell_type": "code",
      "source": [
        "# CPU\n",
        "model_cpu_pytorch = YOLO(\"yolov8n.pt\", task=\"detect\")\n",
        "device = torch.device(\"cpu\")\n",
        "model_cpu_pytorch = model_cpu_pytorch.to(device)\n",
        "time_cpu_pytorch = get_time_measure(model_cpu_pytorch, im)\n",
        "print(f\"Pytorch cpu: {time_cpu_pytorch}s\")"
      ],
      "metadata": {
        "colab": {
          "base_uri": "https://localhost:8080/"
        },
        "id": "LHLbQpgj5RaT",
        "outputId": "9203066d-2deb-42c9-ec4f-028997fd4aa4"
      },
      "execution_count": 17,
      "outputs": [
        {
          "output_type": "stream",
          "name": "stdout",
          "text": [
            "Pytorch cpu: 0.13198s\n"
          ]
        }
      ]
    },
    {
      "cell_type": "code",
      "source": [
        "# GPU\n",
        "if torch.cuda.is_available():\n",
        "    model_gpu_pytorch = YOLO(\"yolov8n.pt\", task=\"detect\")\n",
        "    device = torch.device(\"cuda\")\n",
        "    model_gpu_pytorch = model_gpu_pytorch.to(device)\n",
        "    print(\"Model running on gpu\")\n",
        "    time_gpu_pytorch = get_time_measure(model_gpu_pytorch, im)\n",
        "    print(f\"Pytorch gpu: {time_gpu_pytorch}s\")\n",
        "else:\n",
        "    print(\"No gpu available\")"
      ],
      "metadata": {
        "colab": {
          "base_uri": "https://localhost:8080/"
        },
        "id": "sx4pqV1o8_As",
        "outputId": "afb47469-900f-4065-a39c-f49285d0ee43"
      },
      "execution_count": 32,
      "outputs": [
        {
          "output_type": "stream",
          "name": "stdout",
          "text": [
            "Model running on gpu\n",
            "Pytorch gpu: 0.01042s\n"
          ]
        }
      ]
    },
    {
      "cell_type": "code",
      "source": [
        "# Onnx CPU\n",
        "model_cpu_onnx = YOLO(\"yolov8n.onnx\", task=\"detect\")\n",
        "time_cpu_onnx = get_time_measure(model_cpu_onnx, im)\n",
        "print(f\"Onnx cpu: {time_cpu_onnx}s\")"
      ],
      "metadata": {
        "colab": {
          "base_uri": "https://localhost:8080/"
        },
        "id": "9eTk_QOL5Uba",
        "outputId": "404bcc55-c690-4d81-d5c1-04f04e8fccc5"
      },
      "execution_count": 26,
      "outputs": [
        {
          "output_type": "stream",
          "name": "stdout",
          "text": [
            "Loading yolov8n.onnx for ONNX Runtime inference...\n",
            "Onnx cpu: 0.13426s\n"
          ]
        }
      ]
    },
    {
      "cell_type": "code",
      "source": [
        "# Openvino CPU\n",
        "model_cpu_openvino = YOLO(\"yolov8n_openvino_model/\", task=\"detect\")\n",
        "time_cpu_openvino = get_time_measure(model_cpu_openvino, im)\n",
        "print(f\"Openvino cpu: {time_cpu_openvino}s\")"
      ],
      "metadata": {
        "colab": {
          "base_uri": "https://localhost:8080/"
        },
        "id": "gBNkpByd5ZnU",
        "outputId": "deffb9c1-f7d2-4a02-fbc8-01b98f32ad5a"
      },
      "execution_count": 31,
      "outputs": [
        {
          "output_type": "stream",
          "name": "stdout",
          "text": [
            "Loading yolov8n_openvino_model for OpenVINO inference...\n",
            "Openvino cpu: 0.09912s\n"
          ]
        }
      ]
    },
    {
      "cell_type": "code",
      "source": [],
      "metadata": {
        "id": "vgEoprHv8HF_"
      },
      "execution_count": null,
      "outputs": []
    }
  ]
}