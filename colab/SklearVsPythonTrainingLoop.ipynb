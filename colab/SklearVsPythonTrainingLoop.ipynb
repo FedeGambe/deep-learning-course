{
  "nbformat": 4,
  "nbformat_minor": 0,
  "metadata": {
    "colab": {
      "provenance": [],
      "include_colab_link": true
    },
    "kernelspec": {
      "name": "python3",
      "display_name": "Python 3"
    },
    "accelerator": "GPU"
  },
  "cells": [
    {
      "cell_type": "markdown",
      "metadata": {
        "id": "view-in-github",
        "colab_type": "text"
      },
      "source": [
        "<a href=\"https://colab.research.google.com/github/manuelrucci7/deep-learning-course/blob/main/colab/SklearVsPythonTrainingLoop.ipynb\" target=\"_parent\"><img src=\"https://colab.research.google.com/assets/colab-badge.svg\" alt=\"Open In Colab\"/></a>"
      ]
    },
    {
      "cell_type": "markdown",
      "source": [
        "# Machine Learning vs Deep Learning"
      ],
      "metadata": {
        "id": "F5Dal7kGOJbv"
      }
    },
    {
      "cell_type": "markdown",
      "metadata": {
        "id": "nESzafMjgIou"
      },
      "source": [
        "## Machine Learning"
      ]
    },
    {
      "cell_type": "code",
      "source": [
        "# Dati Numpy\n",
        "import numpy as np\n",
        "import torch\n",
        "from sklearn.linear_model import LinearRegression\n",
        "from sklearn.preprocessing import PolynomialFeatures\n",
        "from sklearn.pipeline import make_pipeline\n",
        "from sklearn.ensemble import GradientBoostingRegressor, RandomForestRegressor\n",
        "import xgboost as xgb\n",
        "from sklearn.model_selection import train_test_split\n",
        "import pickle\n",
        "\n",
        "# Load Data\n",
        "X1 = torch.linspace(-2,8,100)\n",
        "X2 = torch.linspace(0,10,100)\n",
        "X = torch.stack((X1,X2),dim=1)\n",
        "Y = torch.exp(0.2*X2)*torch.sin(3*X1) - 10*torch.cos(X1)\n",
        "\n",
        "# Split data\n",
        "X_train, X_test, Y_train, Y_test = train_test_split(X,Y,test_size=0.2,shuffle=True,random_state=13)\n",
        "\n",
        "# Train the model, possible chocie: RandomForestRegressor, GradientBoost, ExtraTree\n",
        "model = make_pipeline(PolynomialFeatures(2), GradientBoostingRegressor())\n",
        "model = model.fit(X_train,Y_train)\n",
        "Y_train_hat = model.predict(X_train)\n",
        "\n",
        "# Test the model\n",
        "Y_test_hat = model.predict(X_test)\n",
        "\n",
        "# Test metric\n",
        "mse = np.sum( (Y_test_hat - Y_test.numpy() )**2 ) / len(Y_test)\n",
        "mae = np.sum( np.abs(Y_test_hat - Y_test.numpy() )) / len(Y_test)\n",
        "print(f\"MSE: {mse}\")\n",
        "print(f\"MAE: {mae}\")\n",
        "\n",
        "# Save Model\n",
        "filename = 'model.sav'\n",
        "pickle.dump(model, open(filename, 'wb'))\n",
        "\n",
        "# Load Model\n",
        "loaded_model = pickle.load(open(filename, 'rb'))\n",
        "Y_train_hat = loaded_model.predict(X_train)\n",
        "Y_test_hat = loaded_model.predict(X_test)\n",
        "\n",
        "# Plot results\n",
        "fig = go.Figure()\n",
        "fig.add_traces( go.Scatter3d(x=X_train[:,0], y=X_train[:,1], z=Y_train,name=\"train\",mode=\"markers\") )\n",
        "fig.add_traces( go.Scatter3d(x=X_train[:,0], y=X_train[:,1], z=Y_train_hat,name=\"train_hat\",mode=\"markers\") )\n",
        "fig.show()\n"
      ],
      "metadata": {
        "id": "KsHIKgBDmXen",
        "outputId": "9a3ff291-e752-4928-8ad5-11525c57ef58",
        "colab": {
          "base_uri": "https://localhost:8080/",
          "height": 577
        }
      },
      "execution_count": null,
      "outputs": [
        {
          "output_type": "stream",
          "name": "stdout",
          "text": [
            "MSE: 0.7735275697395319\n",
            "MAE: 0.7324304411581622\n"
          ]
        },
        {
          "output_type": "display_data",
          "data": {
            "text/html": [
              "<html>\n",
              "<head><meta charset=\"utf-8\" /></head>\n",
              "<body>\n",
              "    <div>            <script src=\"https://cdnjs.cloudflare.com/ajax/libs/mathjax/2.7.5/MathJax.js?config=TeX-AMS-MML_SVG\"></script><script type=\"text/javascript\">if (window.MathJax && window.MathJax.Hub && window.MathJax.Hub.Config) {window.MathJax.Hub.Config({SVG: {font: \"STIX-Web\"}});}</script>                <script type=\"text/javascript\">window.PlotlyConfig = {MathJaxConfig: 'local'};</script>\n",
              "        <script charset=\"utf-8\" src=\"https://cdn.plot.ly/plotly-2.35.2.min.js\"></script>                <div id=\"b043bc82-0b39-4386-81b1-3bb63ec925c8\" class=\"plotly-graph-div\" style=\"height:525px; width:100%;\"></div>            <script type=\"text/javascript\">                                    window.PLOTLYENV=window.PLOTLYENV || {};                                    if (document.getElementById(\"b043bc82-0b39-4386-81b1-3bb63ec925c8\")) {                    Plotly.newPlot(                        \"b043bc82-0b39-4386-81b1-3bb63ec925c8\",                        [{\"mode\":\"markers\",\"name\":\"train\",\"x\":[-1.6969697,-1.5959597,7.090909,5.2727275,0.020201981,3.9595962,7.3939395,7.6969695,6.989899,2.7474747,1.9393939,0.7272727,2.2424242,-0.6868687,-1.1919192,6.888889,-0.28282833,6.4848485,1.5353534,7.5959597,6.181818,-2.0,4.767677,3.5555556,1.030303,1.6363635,5.171717,4.1616163,4.4646463,-0.98989904,7.8989897,6.080808,1.8383838,5.0707073,-0.4848485,3.6565657,7.292929,-1.3939394,3.3535354,4.060606,-1.2929293,2.5454545,4.5656567,4.3636365,5.878788,2.9494948,3.1515152,-1.4949495,6.585859,1.4343433,0.22222218,7.4949493,2.0404038,5.979798,0.8282828,0.42424238,-0.18181822,-1.8989899,6.6868687,-0.8888889,8.0,0.12121208,-0.08080812,1.2323232,-1.7979798,3.2525253,5.5757575,5.3737373,7.79798,5.7777777,3.4545455,2.6464646,4.6666665,0.62626255,3.8585858,0.52525246,-0.38383842,5.4747477,2.8484848,6.2828283],\"y\":[0.3030303,0.4040404,9.090909,7.2727275,2.020202,5.959596,9.393939,9.69697,8.989899,4.7474747,3.9393938,2.7272727,4.242424,1.3131313,0.8080808,8.888889,1.7171717,8.484849,3.5353534,9.59596,8.181818,0.0,6.767677,5.555556,3.030303,3.6363635,7.171717,6.1616163,6.4646463,1.010101,9.89899,8.080808,3.8383837,7.0707073,1.5151515,5.6565657,9.29293,0.6060606,5.3535357,6.060606,0.7070707,4.5454545,6.5656567,6.3636365,7.878788,4.949495,5.151515,0.5050505,8.585858,3.4343433,2.222222,9.494949,4.040404,7.979798,2.8282828,2.4242425,1.8181818,0.1010101,8.686869,1.111111,10.0,2.121212,1.9191918,3.2323232,0.2020202,5.2525253,7.5757575,7.3737373,9.797979,7.7777777,5.4545455,4.6464643,6.6666665,2.6262627,5.858586,2.5252526,1.6161616,7.4747477,4.848485,8.282828],\"z\":[2.245659,1.3326819,-2.8565373,-5.7857904,-9.907236,4.7465734,-5.6803503,-7.760852,-2.4558702,11.625223,2.6171086,-6.0566998,7.226282,-8.879804,-3.2043355,-2.4829025,-10.66043,-6.6934385,-2.370943,-7.425242,-11.48671,4.440884,3.2653644,6.280442,-5.0527177,-1.374321,-3.6292572,4.954214,5.134786,-5.6970863,-6.7254424,-12.667731,1.1470994,-1.5501711,-10.192273,5.604374,-4.6015368,-0.7856981,8.0437355,4.8053355,-1.9687269,10.698624,4.8254347,5.2054534,-13.721967,11.282419,9.916113,0.32003075,-5.155652,-3.1835685,-8.789677,-6.6788425,4.1635456,-13.438459,-5.6864977,-7.561186,-10.581496,3.7878375,-3.8775563,-6.873815,-5.236369,-9.383003,-10.319749,-4.326903,3.0609598,9.0044985,-11.475899,-7.8967214,-7.556268,-13.480437,7.112209,11.322563,4.2151012,-6.4909177,4.838466,-6.9949245,-10.534257,-9.834073,11.604919,-10.005617],\"type\":\"scatter3d\"},{\"mode\":\"markers\",\"name\":\"train_hat\",\"x\":[-1.6969697,-1.5959597,7.090909,5.2727275,0.020201981,3.9595962,7.3939395,7.6969695,6.989899,2.7474747,1.9393939,0.7272727,2.2424242,-0.6868687,-1.1919192,6.888889,-0.28282833,6.4848485,1.5353534,7.5959597,6.181818,-2.0,4.767677,3.5555556,1.030303,1.6363635,5.171717,4.1616163,4.4646463,-0.98989904,7.8989897,6.080808,1.8383838,5.0707073,-0.4848485,3.6565657,7.292929,-1.3939394,3.3535354,4.060606,-1.2929293,2.5454545,4.5656567,4.3636365,5.878788,2.9494948,3.1515152,-1.4949495,6.585859,1.4343433,0.22222218,7.4949493,2.0404038,5.979798,0.8282828,0.42424238,-0.18181822,-1.8989899,6.6868687,-0.8888889,8.0,0.12121208,-0.08080812,1.2323232,-1.7979798,3.2525253,5.5757575,5.3737373,7.79798,5.7777777,3.4545455,2.6464646,4.6666665,0.62626255,3.8585858,0.52525246,-0.38383842,5.4747477,2.8484848,6.2828283],\"y\":[0.3030303,0.4040404,9.090909,7.2727275,2.020202,5.959596,9.393939,9.69697,8.989899,4.7474747,3.9393938,2.7272727,4.242424,1.3131313,0.8080808,8.888889,1.7171717,8.484849,3.5353534,9.59596,8.181818,0.0,6.767677,5.555556,3.030303,3.6363635,7.171717,6.1616163,6.4646463,1.010101,9.89899,8.080808,3.8383837,7.0707073,1.5151515,5.6565657,9.29293,0.6060606,5.3535357,6.060606,0.7070707,4.5454545,6.5656567,6.3636365,7.878788,4.949495,5.151515,0.5050505,8.585858,3.4343433,2.222222,9.494949,4.040404,7.979798,2.8282828,2.4242425,1.8181818,0.1010101,8.686869,1.111111,10.0,2.121212,1.9191918,3.2323232,0.2020202,5.2525253,7.5757575,7.3737373,9.797979,7.7777777,5.4545455,4.6464643,6.6666665,2.6262627,5.858586,2.5252526,1.6161616,7.4747477,4.848485,8.282828],\"z\":[2.3841706776136387,1.1795906108854044,-2.843516776311624,-5.781346329678198,-9.871043507475472,4.934930018960602,-5.624514872234508,-7.5643306761512665,-2.704147982124947,11.293949156755843,2.605783804275584,-5.922409394268686,7.293635744014971,-8.700296104598944,-3.3352899949408363,-2.704147982124947,-10.568144552255964,-6.748404704113341,-2.1821660111625536,-7.369802399392446,-11.469130759186104,4.550381197597809,3.3846401664361614,6.245599985241041,-5.019569626995243,-1.063801765527501,-3.8266275506503944,4.934930018960602,4.934930018960602,-5.715113218815957,-6.7643473502301035,-12.621590520815554,1.1981970037160714,-1.480148996251207,-10.01435331681261,5.487847800754262,-4.557300640590725,-0.8654726855549572,8.068831856192716,4.934930018960602,-1.8699715373476007,10.727206168364244,4.812438409813796,4.934930018960602,-13.474450717438376,11.192951773180774,9.872696022878596,0.20650949301253774,-5.0356362340405765,-3.097079867789205,-8.749576836846144,-6.645270984152043,4.061416221551611,-13.374605712440406,-5.922409394268686,-7.823586971430254,-10.54056358268091,3.8094525072998504,-3.861896796256972,-6.804434954569257,-5.329634675089906,-9.344862683439983,-10.276351395308064,-4.263824647692091,2.851842697083587,9.053042210710855,-11.481819289945799,-7.876105974631565,-7.508888508392324,-13.42802665147237,7.20744253737696,11.293949156755843,4.254595286944096,-6.885720373290155,4.934930018960602,-6.901678600221832,-10.524753650881149,-9.830618177763508,11.293949156755843,-9.97893403358857],\"type\":\"scatter3d\"}],                        {\"template\":{\"data\":{\"histogram2dcontour\":[{\"type\":\"histogram2dcontour\",\"colorbar\":{\"outlinewidth\":0,\"ticks\":\"\"},\"colorscale\":[[0.0,\"#0d0887\"],[0.1111111111111111,\"#46039f\"],[0.2222222222222222,\"#7201a8\"],[0.3333333333333333,\"#9c179e\"],[0.4444444444444444,\"#bd3786\"],[0.5555555555555556,\"#d8576b\"],[0.6666666666666666,\"#ed7953\"],[0.7777777777777778,\"#fb9f3a\"],[0.8888888888888888,\"#fdca26\"],[1.0,\"#f0f921\"]]}],\"choropleth\":[{\"type\":\"choropleth\",\"colorbar\":{\"outlinewidth\":0,\"ticks\":\"\"}}],\"histogram2d\":[{\"type\":\"histogram2d\",\"colorbar\":{\"outlinewidth\":0,\"ticks\":\"\"},\"colorscale\":[[0.0,\"#0d0887\"],[0.1111111111111111,\"#46039f\"],[0.2222222222222222,\"#7201a8\"],[0.3333333333333333,\"#9c179e\"],[0.4444444444444444,\"#bd3786\"],[0.5555555555555556,\"#d8576b\"],[0.6666666666666666,\"#ed7953\"],[0.7777777777777778,\"#fb9f3a\"],[0.8888888888888888,\"#fdca26\"],[1.0,\"#f0f921\"]]}],\"heatmap\":[{\"type\":\"heatmap\",\"colorbar\":{\"outlinewidth\":0,\"ticks\":\"\"},\"colorscale\":[[0.0,\"#0d0887\"],[0.1111111111111111,\"#46039f\"],[0.2222222222222222,\"#7201a8\"],[0.3333333333333333,\"#9c179e\"],[0.4444444444444444,\"#bd3786\"],[0.5555555555555556,\"#d8576b\"],[0.6666666666666666,\"#ed7953\"],[0.7777777777777778,\"#fb9f3a\"],[0.8888888888888888,\"#fdca26\"],[1.0,\"#f0f921\"]]}],\"heatmapgl\":[{\"type\":\"heatmapgl\",\"colorbar\":{\"outlinewidth\":0,\"ticks\":\"\"},\"colorscale\":[[0.0,\"#0d0887\"],[0.1111111111111111,\"#46039f\"],[0.2222222222222222,\"#7201a8\"],[0.3333333333333333,\"#9c179e\"],[0.4444444444444444,\"#bd3786\"],[0.5555555555555556,\"#d8576b\"],[0.6666666666666666,\"#ed7953\"],[0.7777777777777778,\"#fb9f3a\"],[0.8888888888888888,\"#fdca26\"],[1.0,\"#f0f921\"]]}],\"contourcarpet\":[{\"type\":\"contourcarpet\",\"colorbar\":{\"outlinewidth\":0,\"ticks\":\"\"}}],\"contour\":[{\"type\":\"contour\",\"colorbar\":{\"outlinewidth\":0,\"ticks\":\"\"},\"colorscale\":[[0.0,\"#0d0887\"],[0.1111111111111111,\"#46039f\"],[0.2222222222222222,\"#7201a8\"],[0.3333333333333333,\"#9c179e\"],[0.4444444444444444,\"#bd3786\"],[0.5555555555555556,\"#d8576b\"],[0.6666666666666666,\"#ed7953\"],[0.7777777777777778,\"#fb9f3a\"],[0.8888888888888888,\"#fdca26\"],[1.0,\"#f0f921\"]]}],\"surface\":[{\"type\":\"surface\",\"colorbar\":{\"outlinewidth\":0,\"ticks\":\"\"},\"colorscale\":[[0.0,\"#0d0887\"],[0.1111111111111111,\"#46039f\"],[0.2222222222222222,\"#7201a8\"],[0.3333333333333333,\"#9c179e\"],[0.4444444444444444,\"#bd3786\"],[0.5555555555555556,\"#d8576b\"],[0.6666666666666666,\"#ed7953\"],[0.7777777777777778,\"#fb9f3a\"],[0.8888888888888888,\"#fdca26\"],[1.0,\"#f0f921\"]]}],\"mesh3d\":[{\"type\":\"mesh3d\",\"colorbar\":{\"outlinewidth\":0,\"ticks\":\"\"}}],\"scatter\":[{\"fillpattern\":{\"fillmode\":\"overlay\",\"size\":10,\"solidity\":0.2},\"type\":\"scatter\"}],\"parcoords\":[{\"type\":\"parcoords\",\"line\":{\"colorbar\":{\"outlinewidth\":0,\"ticks\":\"\"}}}],\"scatterpolargl\":[{\"type\":\"scatterpolargl\",\"marker\":{\"colorbar\":{\"outlinewidth\":0,\"ticks\":\"\"}}}],\"bar\":[{\"error_x\":{\"color\":\"#2a3f5f\"},\"error_y\":{\"color\":\"#2a3f5f\"},\"marker\":{\"line\":{\"color\":\"#E5ECF6\",\"width\":0.5},\"pattern\":{\"fillmode\":\"overlay\",\"size\":10,\"solidity\":0.2}},\"type\":\"bar\"}],\"scattergeo\":[{\"type\":\"scattergeo\",\"marker\":{\"colorbar\":{\"outlinewidth\":0,\"ticks\":\"\"}}}],\"scatterpolar\":[{\"type\":\"scatterpolar\",\"marker\":{\"colorbar\":{\"outlinewidth\":0,\"ticks\":\"\"}}}],\"histogram\":[{\"marker\":{\"pattern\":{\"fillmode\":\"overlay\",\"size\":10,\"solidity\":0.2}},\"type\":\"histogram\"}],\"scattergl\":[{\"type\":\"scattergl\",\"marker\":{\"colorbar\":{\"outlinewidth\":0,\"ticks\":\"\"}}}],\"scatter3d\":[{\"type\":\"scatter3d\",\"line\":{\"colorbar\":{\"outlinewidth\":0,\"ticks\":\"\"}},\"marker\":{\"colorbar\":{\"outlinewidth\":0,\"ticks\":\"\"}}}],\"scattermapbox\":[{\"type\":\"scattermapbox\",\"marker\":{\"colorbar\":{\"outlinewidth\":0,\"ticks\":\"\"}}}],\"scatterternary\":[{\"type\":\"scatterternary\",\"marker\":{\"colorbar\":{\"outlinewidth\":0,\"ticks\":\"\"}}}],\"scattercarpet\":[{\"type\":\"scattercarpet\",\"marker\":{\"colorbar\":{\"outlinewidth\":0,\"ticks\":\"\"}}}],\"carpet\":[{\"aaxis\":{\"endlinecolor\":\"#2a3f5f\",\"gridcolor\":\"white\",\"linecolor\":\"white\",\"minorgridcolor\":\"white\",\"startlinecolor\":\"#2a3f5f\"},\"baxis\":{\"endlinecolor\":\"#2a3f5f\",\"gridcolor\":\"white\",\"linecolor\":\"white\",\"minorgridcolor\":\"white\",\"startlinecolor\":\"#2a3f5f\"},\"type\":\"carpet\"}],\"table\":[{\"cells\":{\"fill\":{\"color\":\"#EBF0F8\"},\"line\":{\"color\":\"white\"}},\"header\":{\"fill\":{\"color\":\"#C8D4E3\"},\"line\":{\"color\":\"white\"}},\"type\":\"table\"}],\"barpolar\":[{\"marker\":{\"line\":{\"color\":\"#E5ECF6\",\"width\":0.5},\"pattern\":{\"fillmode\":\"overlay\",\"size\":10,\"solidity\":0.2}},\"type\":\"barpolar\"}],\"pie\":[{\"automargin\":true,\"type\":\"pie\"}]},\"layout\":{\"autotypenumbers\":\"strict\",\"colorway\":[\"#636efa\",\"#EF553B\",\"#00cc96\",\"#ab63fa\",\"#FFA15A\",\"#19d3f3\",\"#FF6692\",\"#B6E880\",\"#FF97FF\",\"#FECB52\"],\"font\":{\"color\":\"#2a3f5f\"},\"hovermode\":\"closest\",\"hoverlabel\":{\"align\":\"left\"},\"paper_bgcolor\":\"white\",\"plot_bgcolor\":\"#E5ECF6\",\"polar\":{\"bgcolor\":\"#E5ECF6\",\"angularaxis\":{\"gridcolor\":\"white\",\"linecolor\":\"white\",\"ticks\":\"\"},\"radialaxis\":{\"gridcolor\":\"white\",\"linecolor\":\"white\",\"ticks\":\"\"}},\"ternary\":{\"bgcolor\":\"#E5ECF6\",\"aaxis\":{\"gridcolor\":\"white\",\"linecolor\":\"white\",\"ticks\":\"\"},\"baxis\":{\"gridcolor\":\"white\",\"linecolor\":\"white\",\"ticks\":\"\"},\"caxis\":{\"gridcolor\":\"white\",\"linecolor\":\"white\",\"ticks\":\"\"}},\"coloraxis\":{\"colorbar\":{\"outlinewidth\":0,\"ticks\":\"\"}},\"colorscale\":{\"sequential\":[[0.0,\"#0d0887\"],[0.1111111111111111,\"#46039f\"],[0.2222222222222222,\"#7201a8\"],[0.3333333333333333,\"#9c179e\"],[0.4444444444444444,\"#bd3786\"],[0.5555555555555556,\"#d8576b\"],[0.6666666666666666,\"#ed7953\"],[0.7777777777777778,\"#fb9f3a\"],[0.8888888888888888,\"#fdca26\"],[1.0,\"#f0f921\"]],\"sequentialminus\":[[0.0,\"#0d0887\"],[0.1111111111111111,\"#46039f\"],[0.2222222222222222,\"#7201a8\"],[0.3333333333333333,\"#9c179e\"],[0.4444444444444444,\"#bd3786\"],[0.5555555555555556,\"#d8576b\"],[0.6666666666666666,\"#ed7953\"],[0.7777777777777778,\"#fb9f3a\"],[0.8888888888888888,\"#fdca26\"],[1.0,\"#f0f921\"]],\"diverging\":[[0,\"#8e0152\"],[0.1,\"#c51b7d\"],[0.2,\"#de77ae\"],[0.3,\"#f1b6da\"],[0.4,\"#fde0ef\"],[0.5,\"#f7f7f7\"],[0.6,\"#e6f5d0\"],[0.7,\"#b8e186\"],[0.8,\"#7fbc41\"],[0.9,\"#4d9221\"],[1,\"#276419\"]]},\"xaxis\":{\"gridcolor\":\"white\",\"linecolor\":\"white\",\"ticks\":\"\",\"title\":{\"standoff\":15},\"zerolinecolor\":\"white\",\"automargin\":true,\"zerolinewidth\":2},\"yaxis\":{\"gridcolor\":\"white\",\"linecolor\":\"white\",\"ticks\":\"\",\"title\":{\"standoff\":15},\"zerolinecolor\":\"white\",\"automargin\":true,\"zerolinewidth\":2},\"scene\":{\"xaxis\":{\"backgroundcolor\":\"#E5ECF6\",\"gridcolor\":\"white\",\"linecolor\":\"white\",\"showbackground\":true,\"ticks\":\"\",\"zerolinecolor\":\"white\",\"gridwidth\":2},\"yaxis\":{\"backgroundcolor\":\"#E5ECF6\",\"gridcolor\":\"white\",\"linecolor\":\"white\",\"showbackground\":true,\"ticks\":\"\",\"zerolinecolor\":\"white\",\"gridwidth\":2},\"zaxis\":{\"backgroundcolor\":\"#E5ECF6\",\"gridcolor\":\"white\",\"linecolor\":\"white\",\"showbackground\":true,\"ticks\":\"\",\"zerolinecolor\":\"white\",\"gridwidth\":2}},\"shapedefaults\":{\"line\":{\"color\":\"#2a3f5f\"}},\"annotationdefaults\":{\"arrowcolor\":\"#2a3f5f\",\"arrowhead\":0,\"arrowwidth\":1},\"geo\":{\"bgcolor\":\"white\",\"landcolor\":\"#E5ECF6\",\"subunitcolor\":\"white\",\"showland\":true,\"showlakes\":true,\"lakecolor\":\"white\"},\"title\":{\"x\":0.05},\"mapbox\":{\"style\":\"light\"}}}},                        {\"responsive\": true}                    ).then(function(){\n",
              "                            \n",
              "var gd = document.getElementById('b043bc82-0b39-4386-81b1-3bb63ec925c8');\n",
              "var x = new MutationObserver(function (mutations, observer) {{\n",
              "        var display = window.getComputedStyle(gd).display;\n",
              "        if (!display || display === 'none') {{\n",
              "            console.log([gd, 'removed!']);\n",
              "            Plotly.purge(gd);\n",
              "            observer.disconnect();\n",
              "        }}\n",
              "}});\n",
              "\n",
              "// Listen for the removal of the full notebook cells\n",
              "var notebookContainer = gd.closest('#notebook-container');\n",
              "if (notebookContainer) {{\n",
              "    x.observe(notebookContainer, {childList: true});\n",
              "}}\n",
              "\n",
              "// Listen for the clearing of the current output cell\n",
              "var outputEl = gd.closest('.output');\n",
              "if (outputEl) {{\n",
              "    x.observe(outputEl, {childList: true});\n",
              "}}\n",
              "\n",
              "                        })                };                            </script>        </div>\n",
              "</body>\n",
              "</html>"
            ]
          },
          "metadata": {}
        }
      ]
    },
    {
      "cell_type": "markdown",
      "source": [
        "## Deep Learning"
      ],
      "metadata": {
        "id": "Bf512NCfO7nA"
      }
    },
    {
      "cell_type": "code",
      "source": [
        "import torch\n",
        "import numpy as np\n",
        "\n",
        "# Create a dataloader pytorch\n",
        "class MyDataset(torch.utils.data.Dataset):\n",
        "    def __init__(self, x,y):\n",
        "        self.x = torch.from_numpy(x)\n",
        "        self.y = torch.from_numpy(y)\n",
        "        self.x = self.x.type(torch.float32)\n",
        "        self.y = self.y.type(torch.float32)\n",
        "    def __getitem__(self, index):\n",
        "        x = self.x[index]\n",
        "        y = self.y[index]\n",
        "        return x, y\n",
        "    def __len__(self):\n",
        "        return self.x.shape[0]\n",
        "\n",
        "# Creation neural network\n",
        "class MyNet(torch.nn.Module):\n",
        "    def __init__(self):\n",
        "        super(MyNet,self).__init__()\n",
        "        self.fc1 = torch.nn.Linear(1,100)\n",
        "        self.fc2 = torch.nn.Linear(100,50)\n",
        "        self.fc3 = torch.nn.Linear(50,1)\n",
        "    def forward(self,x):\n",
        "        # torch.sigmoid, torch.tanh, torch.relu\n",
        "        x = torch.tanh(self.fc1(x))\n",
        "        x = torch.tanh(self.fc2(x))\n",
        "        y = self.fc3(x)\n",
        "        return y\n",
        "\n",
        "def training_loop(epocs, opt, net, loss_fn, train_dl, test_dl):\n",
        "    metric_initial = 10000\n",
        "    for epoch in range(epochs):\n",
        "        loss = 0.0\n",
        "        for xb,yb in train_dl:\n",
        "            # Forward network\n",
        "            xb = xb.to(device)\n",
        "            yb = yb.to(device)\n",
        "            yb_h = net.forward(xb)\n",
        "\n",
        "            # Error cost function\n",
        "            loss_b = loss_fn(yb_h, yb)\n",
        "\n",
        "            # Optimization\n",
        "            loss_b.backward()\n",
        "            opt.step()\n",
        "            opt.zero_grad()\n",
        "\n",
        "            loss += loss_b.item()\n",
        "\n",
        "        # Average loss\n",
        "        loss_avg = loss/len(train_dl)\n",
        "        print(f\"{epoch} Loss: {loss_avg}\")\n",
        "\n",
        "        metric = 0\n",
        "        for xb,yb in test_dl:\n",
        "            # Forward network\n",
        "            xb = xb.to(device)\n",
        "            yb = yb.to(device)\n",
        "            yb_h = net.forward(xb)\n",
        "            #metric = metric + torch.sum(torch.abs(yb_h - yb))\n",
        "            metric = metric + torch.sum(torch.pow(yb_h - yb,2))\n",
        "\n",
        "        metric = metric/len(test_dl)\n",
        "\n",
        "        if (metric<metric_initial):\n",
        "            metric_initial = metric\n",
        "            #print(f\"{epoch} Metric: {metric}\")\n",
        "            # Save model\n",
        "            torch.save(net.state_dict(), \"best_model.pt\")\n",
        "\n",
        "\n",
        "# Load data\n",
        "#X1 = np.linspace(-2,8,1000)\n",
        "#X2 = np.linspace(0,10,1000)\n",
        "#X = np.stack((X1,X2),axis=1)\n",
        "#Y = np.exp(0.2*X1)*np.sin(3*X2) - 10*np.cos(X1)\n",
        "X = np.linspace(-2,8,1000)\n",
        "Y = np.exp(0.2*X)*np.sin(3*X) - 10*np.cos(X)\n",
        "\n",
        "# Train e Test\n",
        "X_train, X_test, Y_train, Y_test = train_test_split(X,Y,test_size=0.2,shuffle=True,random_state=13)\n",
        "\n",
        "# Dataset\n",
        "train_ds = MyDataset(X_train,Y_train)\n",
        "test_ds = MyDataset(X_test,Y_test)\n",
        "\n",
        "\n",
        "# Deep learning Params\n",
        "epochs = 500\n",
        "batch_size = 4\n",
        "loss_func = torch.nn.MSELoss(reduction=\"sum\")\n",
        "device = torch.device(\"cpu\")\n",
        "net = MyNet()\n",
        "net = net.to(device)\n",
        "opt = torch.optim.Adam(net.parameters(),lr=0.01)\n",
        "\n",
        "# DataLoader\n",
        "train_dl = torch.utils.data.DataLoader(train_ds,batch_size=4,shuffle=True)\n",
        "test_dl = torch.utils.data.DataLoader(test_ds,batch_size=4,shuffle=True)\n",
        "\n",
        "# Training loop\n",
        "training_loop(epochs,opt,net,loss_func,train_dl,test_dl)\n"
      ],
      "metadata": {
        "id": "1iha6scWBYDE",
        "outputId": "3267454f-4209-4945-8a73-81d53a76cb74",
        "colab": {
          "base_uri": "https://localhost:8080/",
          "height": 321
        }
      },
      "execution_count": null,
      "outputs": [
        {
          "output_type": "error",
          "ename": "RuntimeError",
          "evalue": "mat1 and mat2 shapes cannot be multiplied (1x4 and 1x100)",
          "traceback": [
            "\u001b[0;31m---------------------------------------------------------------------------\u001b[0m",
            "\u001b[0;31mRuntimeError\u001b[0m                              Traceback (most recent call last)",
            "\u001b[0;32m<ipython-input-232-ab1b4c8c265f>\u001b[0m in \u001b[0;36m<cell line: 104>\u001b[0;34m()\u001b[0m\n\u001b[1;32m    102\u001b[0m \u001b[0;34m\u001b[0m\u001b[0m\n\u001b[1;32m    103\u001b[0m \u001b[0;31m# Training loop\u001b[0m\u001b[0;34m\u001b[0m\u001b[0;34m\u001b[0m\u001b[0m\n\u001b[0;32m--> 104\u001b[0;31m \u001b[0mtraining_loop\u001b[0m\u001b[0;34m(\u001b[0m\u001b[0mepochs\u001b[0m\u001b[0;34m,\u001b[0m\u001b[0mopt\u001b[0m\u001b[0;34m,\u001b[0m\u001b[0mnet\u001b[0m\u001b[0;34m,\u001b[0m\u001b[0mloss_func\u001b[0m\u001b[0;34m,\u001b[0m\u001b[0mtrain_dl\u001b[0m\u001b[0;34m,\u001b[0m\u001b[0mtest_dl\u001b[0m\u001b[0;34m)\u001b[0m\u001b[0;34m\u001b[0m\u001b[0;34m\u001b[0m\u001b[0m\n\u001b[0m",
            "\u001b[0;32m<ipython-input-232-ab1b4c8c265f>\u001b[0m in \u001b[0;36mtraining_loop\u001b[0;34m(epocs, opt, net, loss_fn, train_dl, test_dl)\u001b[0m\n\u001b[1;32m     38\u001b[0m             \u001b[0mxb\u001b[0m \u001b[0;34m=\u001b[0m \u001b[0mxb\u001b[0m\u001b[0;34m.\u001b[0m\u001b[0mto\u001b[0m\u001b[0;34m(\u001b[0m\u001b[0mdevice\u001b[0m\u001b[0;34m)\u001b[0m\u001b[0;34m\u001b[0m\u001b[0;34m\u001b[0m\u001b[0m\n\u001b[1;32m     39\u001b[0m             \u001b[0myb\u001b[0m \u001b[0;34m=\u001b[0m \u001b[0myb\u001b[0m\u001b[0;34m.\u001b[0m\u001b[0mto\u001b[0m\u001b[0;34m(\u001b[0m\u001b[0mdevice\u001b[0m\u001b[0;34m)\u001b[0m\u001b[0;34m\u001b[0m\u001b[0;34m\u001b[0m\u001b[0m\n\u001b[0;32m---> 40\u001b[0;31m             \u001b[0myb_h\u001b[0m \u001b[0;34m=\u001b[0m \u001b[0mnet\u001b[0m\u001b[0;34m.\u001b[0m\u001b[0mforward\u001b[0m\u001b[0;34m(\u001b[0m\u001b[0mxb\u001b[0m\u001b[0;34m)\u001b[0m\u001b[0;34m\u001b[0m\u001b[0;34m\u001b[0m\u001b[0m\n\u001b[0m\u001b[1;32m     41\u001b[0m \u001b[0;34m\u001b[0m\u001b[0m\n\u001b[1;32m     42\u001b[0m             \u001b[0;31m# Error cost function\u001b[0m\u001b[0;34m\u001b[0m\u001b[0;34m\u001b[0m\u001b[0m\n",
            "\u001b[0;32m<ipython-input-232-ab1b4c8c265f>\u001b[0m in \u001b[0;36mforward\u001b[0;34m(self, x)\u001b[0m\n\u001b[1;32m     25\u001b[0m     \u001b[0;32mdef\u001b[0m \u001b[0mforward\u001b[0m\u001b[0;34m(\u001b[0m\u001b[0mself\u001b[0m\u001b[0;34m,\u001b[0m\u001b[0mx\u001b[0m\u001b[0;34m)\u001b[0m\u001b[0;34m:\u001b[0m\u001b[0;34m\u001b[0m\u001b[0;34m\u001b[0m\u001b[0m\n\u001b[1;32m     26\u001b[0m         \u001b[0;31m# torch.sigmoid, torch.tanh, torch.relu\u001b[0m\u001b[0;34m\u001b[0m\u001b[0;34m\u001b[0m\u001b[0m\n\u001b[0;32m---> 27\u001b[0;31m         \u001b[0mx\u001b[0m \u001b[0;34m=\u001b[0m \u001b[0mtorch\u001b[0m\u001b[0;34m.\u001b[0m\u001b[0mtanh\u001b[0m\u001b[0;34m(\u001b[0m\u001b[0mself\u001b[0m\u001b[0;34m.\u001b[0m\u001b[0mfc1\u001b[0m\u001b[0;34m(\u001b[0m\u001b[0mx\u001b[0m\u001b[0;34m)\u001b[0m\u001b[0;34m)\u001b[0m\u001b[0;34m\u001b[0m\u001b[0;34m\u001b[0m\u001b[0m\n\u001b[0m\u001b[1;32m     28\u001b[0m         \u001b[0mx\u001b[0m \u001b[0;34m=\u001b[0m \u001b[0mtorch\u001b[0m\u001b[0;34m.\u001b[0m\u001b[0mtanh\u001b[0m\u001b[0;34m(\u001b[0m\u001b[0mself\u001b[0m\u001b[0;34m.\u001b[0m\u001b[0mfc2\u001b[0m\u001b[0;34m(\u001b[0m\u001b[0mx\u001b[0m\u001b[0;34m)\u001b[0m\u001b[0;34m)\u001b[0m\u001b[0;34m\u001b[0m\u001b[0;34m\u001b[0m\u001b[0m\n\u001b[1;32m     29\u001b[0m         \u001b[0my\u001b[0m \u001b[0;34m=\u001b[0m \u001b[0mself\u001b[0m\u001b[0;34m.\u001b[0m\u001b[0mfc3\u001b[0m\u001b[0;34m(\u001b[0m\u001b[0mx\u001b[0m\u001b[0;34m)\u001b[0m\u001b[0;34m\u001b[0m\u001b[0;34m\u001b[0m\u001b[0m\n",
            "\u001b[0;32m/usr/local/lib/python3.10/dist-packages/torch/nn/modules/module.py\u001b[0m in \u001b[0;36m_wrapped_call_impl\u001b[0;34m(self, *args, **kwargs)\u001b[0m\n\u001b[1;32m   1734\u001b[0m             \u001b[0;32mreturn\u001b[0m \u001b[0mself\u001b[0m\u001b[0;34m.\u001b[0m\u001b[0m_compiled_call_impl\u001b[0m\u001b[0;34m(\u001b[0m\u001b[0;34m*\u001b[0m\u001b[0margs\u001b[0m\u001b[0;34m,\u001b[0m \u001b[0;34m**\u001b[0m\u001b[0mkwargs\u001b[0m\u001b[0;34m)\u001b[0m  \u001b[0;31m# type: ignore[misc]\u001b[0m\u001b[0;34m\u001b[0m\u001b[0;34m\u001b[0m\u001b[0m\n\u001b[1;32m   1735\u001b[0m         \u001b[0;32melse\u001b[0m\u001b[0;34m:\u001b[0m\u001b[0;34m\u001b[0m\u001b[0;34m\u001b[0m\u001b[0m\n\u001b[0;32m-> 1736\u001b[0;31m             \u001b[0;32mreturn\u001b[0m \u001b[0mself\u001b[0m\u001b[0;34m.\u001b[0m\u001b[0m_call_impl\u001b[0m\u001b[0;34m(\u001b[0m\u001b[0;34m*\u001b[0m\u001b[0margs\u001b[0m\u001b[0;34m,\u001b[0m \u001b[0;34m**\u001b[0m\u001b[0mkwargs\u001b[0m\u001b[0;34m)\u001b[0m\u001b[0;34m\u001b[0m\u001b[0;34m\u001b[0m\u001b[0m\n\u001b[0m\u001b[1;32m   1737\u001b[0m \u001b[0;34m\u001b[0m\u001b[0m\n\u001b[1;32m   1738\u001b[0m     \u001b[0;31m# torchrec tests the code consistency with the following code\u001b[0m\u001b[0;34m\u001b[0m\u001b[0;34m\u001b[0m\u001b[0m\n",
            "\u001b[0;32m/usr/local/lib/python3.10/dist-packages/torch/nn/modules/module.py\u001b[0m in \u001b[0;36m_call_impl\u001b[0;34m(self, *args, **kwargs)\u001b[0m\n\u001b[1;32m   1745\u001b[0m                 \u001b[0;32mor\u001b[0m \u001b[0m_global_backward_pre_hooks\u001b[0m \u001b[0;32mor\u001b[0m \u001b[0m_global_backward_hooks\u001b[0m\u001b[0;34m\u001b[0m\u001b[0;34m\u001b[0m\u001b[0m\n\u001b[1;32m   1746\u001b[0m                 or _global_forward_hooks or _global_forward_pre_hooks):\n\u001b[0;32m-> 1747\u001b[0;31m             \u001b[0;32mreturn\u001b[0m \u001b[0mforward_call\u001b[0m\u001b[0;34m(\u001b[0m\u001b[0;34m*\u001b[0m\u001b[0margs\u001b[0m\u001b[0;34m,\u001b[0m \u001b[0;34m**\u001b[0m\u001b[0mkwargs\u001b[0m\u001b[0;34m)\u001b[0m\u001b[0;34m\u001b[0m\u001b[0;34m\u001b[0m\u001b[0m\n\u001b[0m\u001b[1;32m   1748\u001b[0m \u001b[0;34m\u001b[0m\u001b[0m\n\u001b[1;32m   1749\u001b[0m         \u001b[0mresult\u001b[0m \u001b[0;34m=\u001b[0m \u001b[0;32mNone\u001b[0m\u001b[0;34m\u001b[0m\u001b[0;34m\u001b[0m\u001b[0m\n",
            "\u001b[0;32m/usr/local/lib/python3.10/dist-packages/torch/nn/modules/linear.py\u001b[0m in \u001b[0;36mforward\u001b[0;34m(self, input)\u001b[0m\n\u001b[1;32m    123\u001b[0m \u001b[0;34m\u001b[0m\u001b[0m\n\u001b[1;32m    124\u001b[0m     \u001b[0;32mdef\u001b[0m \u001b[0mforward\u001b[0m\u001b[0;34m(\u001b[0m\u001b[0mself\u001b[0m\u001b[0;34m,\u001b[0m \u001b[0minput\u001b[0m\u001b[0;34m:\u001b[0m \u001b[0mTensor\u001b[0m\u001b[0;34m)\u001b[0m \u001b[0;34m->\u001b[0m \u001b[0mTensor\u001b[0m\u001b[0;34m:\u001b[0m\u001b[0;34m\u001b[0m\u001b[0;34m\u001b[0m\u001b[0m\n\u001b[0;32m--> 125\u001b[0;31m         \u001b[0;32mreturn\u001b[0m \u001b[0mF\u001b[0m\u001b[0;34m.\u001b[0m\u001b[0mlinear\u001b[0m\u001b[0;34m(\u001b[0m\u001b[0minput\u001b[0m\u001b[0;34m,\u001b[0m \u001b[0mself\u001b[0m\u001b[0;34m.\u001b[0m\u001b[0mweight\u001b[0m\u001b[0;34m,\u001b[0m \u001b[0mself\u001b[0m\u001b[0;34m.\u001b[0m\u001b[0mbias\u001b[0m\u001b[0;34m)\u001b[0m\u001b[0;34m\u001b[0m\u001b[0;34m\u001b[0m\u001b[0m\n\u001b[0m\u001b[1;32m    126\u001b[0m \u001b[0;34m\u001b[0m\u001b[0m\n\u001b[1;32m    127\u001b[0m     \u001b[0;32mdef\u001b[0m \u001b[0mextra_repr\u001b[0m\u001b[0;34m(\u001b[0m\u001b[0mself\u001b[0m\u001b[0;34m)\u001b[0m \u001b[0;34m->\u001b[0m \u001b[0mstr\u001b[0m\u001b[0;34m:\u001b[0m\u001b[0;34m\u001b[0m\u001b[0;34m\u001b[0m\u001b[0m\n",
            "\u001b[0;31mRuntimeError\u001b[0m: mat1 and mat2 shapes cannot be multiplied (1x4 and 1x100)"
          ]
        }
      ]
    },
    {
      "cell_type": "code",
      "source": [
        "print(X.shape, Y.shape)"
      ],
      "metadata": {
        "id": "rKdhn0P6QCkK",
        "outputId": "37f39f78-aadb-478c-b75d-15dd0a515eab",
        "colab": {
          "base_uri": "https://localhost:8080/"
        }
      },
      "execution_count": null,
      "outputs": [
        {
          "output_type": "stream",
          "name": "stdout",
          "text": [
            "(1000,) (1000,)\n"
          ]
        }
      ]
    },
    {
      "cell_type": "code",
      "source": [
        "\n"
      ],
      "metadata": {
        "id": "1MKcD8f8E-1N",
        "outputId": "df277f0b-0e85-445a-86ee-68da0ca9e4d4",
        "colab": {
          "base_uri": "https://localhost:8080/",
          "height": 1000
        }
      },
      "execution_count": null,
      "outputs": [
        {
          "output_type": "stream",
          "name": "stderr",
          "text": [
            "/usr/local/lib/python3.10/dist-packages/torch/nn/modules/loss.py:608: UserWarning:\n",
            "\n",
            "Using a target size (torch.Size([4])) that is different to the input size (torch.Size([4, 1])). This will likely lead to incorrect results due to broadcasting. Please ensure they have the same size.\n",
            "\n"
          ]
        },
        {
          "output_type": "stream",
          "name": "stdout",
          "text": [
            "0 Loss: 752.1323566055298\n",
            "1 Loss: 746.9343520927429\n",
            "2 Loss: 749.5879149055481\n",
            "3 Loss: 737.5101820373535\n",
            "4 Loss: 737.5560471725464\n",
            "5 Loss: 716.5128674316406\n",
            "6 Loss: 730.1622488212586\n",
            "7 Loss: 727.7857795333862\n",
            "8 Loss: 728.1825234985351\n",
            "9 Loss: 708.2287178802491\n",
            "10 Loss: 711.1776638269424\n",
            "11 Loss: 715.4003203582764\n",
            "12 Loss: 723.482977347374\n",
            "13 Loss: 717.80420337677\n",
            "14 Loss: 709.6411466598511\n",
            "15 Loss: 703.6559846496582\n",
            "16 Loss: 716.8623174095154\n",
            "17 Loss: 717.0407675552368\n",
            "18 Loss: 712.922045249939\n",
            "19 Loss: 714.7420168113708\n",
            "20 Loss: 707.6600749969482\n",
            "21 Loss: 713.543226776123\n",
            "22 Loss: 712.3163794612884\n",
            "23 Loss: 707.8834223937988\n",
            "24 Loss: 702.6296193504334\n",
            "25 Loss: 712.3807767105103\n",
            "26 Loss: 712.5984010791778\n",
            "27 Loss: 711.4209154129028\n",
            "28 Loss: 701.2154746723176\n",
            "29 Loss: 710.3869367599488\n",
            "30 Loss: 711.6154314804077\n",
            "31 Loss: 704.8115641212463\n",
            "32 Loss: 708.520270614624\n",
            "33 Loss: 714.8960436630249\n",
            "34 Loss: 711.8672352313995\n",
            "35 Loss: 701.2509715771675\n",
            "36 Loss: 709.2913711929322\n",
            "37 Loss: 710.2471255302429\n",
            "38 Loss: 707.57187915802\n",
            "39 Loss: 713.8204088974\n",
            "40 Loss: 705.6786359786987\n",
            "41 Loss: 699.471897277832\n",
            "42 Loss: 717.3799339294434\n",
            "43 Loss: 719.0686177539825\n",
            "44 Loss: 714.2682312393189\n",
            "45 Loss: 717.6081646347046\n",
            "46 Loss: 715.8657285118103\n",
            "47 Loss: 710.3745089054107\n",
            "48 Loss: 699.1869300842285\n",
            "49 Loss: 712.3408482551574\n",
            "50 Loss: 706.4380472946167\n",
            "51 Loss: 706.2661964988708\n",
            "52 Loss: 706.7072129249573\n",
            "53 Loss: 693.2097752761841\n",
            "54 Loss: 708.997617778778\n",
            "55 Loss: 708.113226852417\n",
            "56 Loss: 723.4340204238891\n",
            "57 Loss: 703.8803259277344\n",
            "58 Loss: 705.7793361473083\n",
            "59 Loss: 710.0418420982361\n",
            "60 Loss: 707.7396355438233\n",
            "61 Loss: 700.5909412193298\n",
            "62 Loss: 703.5572332763672\n",
            "63 Loss: 711.2435773086548\n",
            "64 Loss: 710.871229057312\n",
            "65 Loss: 703.0044613265991\n",
            "66 Loss: 713.1658743667602\n",
            "67 Loss: 698.9301432991028\n",
            "68 Loss: 705.5935815620422\n",
            "69 Loss: 701.9317288970947\n",
            "70 Loss: 693.7312457847595\n",
            "71 Loss: 711.7089367294311\n",
            "72 Loss: 708.7962457656861\n",
            "73 Loss: 703.1789966964722\n",
            "74 Loss: 712.3882457733155\n",
            "75 Loss: 701.8379232025146\n",
            "76 Loss: 714.1177406692505\n",
            "77 Loss: 715.9023365783692\n",
            "78 Loss: 704.3732794189453\n",
            "79 Loss: 710.627449426651\n",
            "80 Loss: 713.6533559799194\n",
            "81 Loss: 711.6251571273804\n",
            "82 Loss: 702.3868701553345\n",
            "83 Loss: 709.3878833389282\n",
            "84 Loss: 694.5518381500244\n",
            "85 Loss: 714.6028952026368\n",
            "86 Loss: 718.3323690223693\n",
            "87 Loss: 714.7611408233643\n",
            "88 Loss: 704.7774489593506\n",
            "89 Loss: 704.0064358901977\n",
            "90 Loss: 711.9756880950928\n",
            "91 Loss: 697.4138669586182\n",
            "92 Loss: 703.7834062385559\n",
            "93 Loss: 700.1518105316162\n",
            "94 Loss: 709.3895363235474\n",
            "95 Loss: 712.9584732437133\n",
            "96 Loss: 707.1828695774078\n",
            "97 Loss: 720.9693012809753\n",
            "98 Loss: 717.1990427970886\n",
            "99 Loss: 716.4461011886597\n",
            "100 Loss: 702.9179623031616\n",
            "101 Loss: 705.8938944816589\n",
            "102 Loss: 717.4757830238342\n",
            "103 Loss: 712.3004785919189\n",
            "104 Loss: 706.3998653411866\n",
            "105 Loss: 707.1318396377563\n",
            "106 Loss: 703.5049111557007\n",
            "107 Loss: 711.7174646759033\n"
          ]
        },
        {
          "output_type": "error",
          "ename": "KeyboardInterrupt",
          "evalue": "",
          "traceback": [
            "\u001b[0;31m---------------------------------------------------------------------------\u001b[0m",
            "\u001b[0;31mKeyboardInterrupt\u001b[0m                         Traceback (most recent call last)",
            "\u001b[0;32m<ipython-input-220-2bc217553e20>\u001b[0m in \u001b[0;36m<cell line: 17>\u001b[0;34m()\u001b[0m\n\u001b[1;32m     30\u001b[0m         \u001b[0;31m# Ottimization\u001b[0m\u001b[0;34m\u001b[0m\u001b[0;34m\u001b[0m\u001b[0m\n\u001b[1;32m     31\u001b[0m         \u001b[0mloss_b\u001b[0m\u001b[0;34m.\u001b[0m\u001b[0mbackward\u001b[0m\u001b[0;34m(\u001b[0m\u001b[0;34m)\u001b[0m\u001b[0;34m\u001b[0m\u001b[0;34m\u001b[0m\u001b[0m\n\u001b[0;32m---> 32\u001b[0;31m         \u001b[0mopt\u001b[0m\u001b[0;34m.\u001b[0m\u001b[0mstep\u001b[0m\u001b[0;34m(\u001b[0m\u001b[0;34m)\u001b[0m\u001b[0;34m\u001b[0m\u001b[0;34m\u001b[0m\u001b[0m\n\u001b[0m\u001b[1;32m     33\u001b[0m         \u001b[0mopt\u001b[0m\u001b[0;34m.\u001b[0m\u001b[0mzero_grad\u001b[0m\u001b[0;34m(\u001b[0m\u001b[0;34m)\u001b[0m\u001b[0;34m\u001b[0m\u001b[0;34m\u001b[0m\u001b[0m\n\u001b[1;32m     34\u001b[0m \u001b[0;34m\u001b[0m\u001b[0m\n",
            "\u001b[0;32m/usr/local/lib/python3.10/dist-packages/torch/optim/optimizer.py\u001b[0m in \u001b[0;36mwrapper\u001b[0;34m(*args, **kwargs)\u001b[0m\n\u001b[1;32m    485\u001b[0m                             )\n\u001b[1;32m    486\u001b[0m \u001b[0;34m\u001b[0m\u001b[0m\n\u001b[0;32m--> 487\u001b[0;31m                 \u001b[0mout\u001b[0m \u001b[0;34m=\u001b[0m \u001b[0mfunc\u001b[0m\u001b[0;34m(\u001b[0m\u001b[0;34m*\u001b[0m\u001b[0margs\u001b[0m\u001b[0;34m,\u001b[0m \u001b[0;34m**\u001b[0m\u001b[0mkwargs\u001b[0m\u001b[0;34m)\u001b[0m\u001b[0;34m\u001b[0m\u001b[0;34m\u001b[0m\u001b[0m\n\u001b[0m\u001b[1;32m    488\u001b[0m                 \u001b[0mself\u001b[0m\u001b[0;34m.\u001b[0m\u001b[0m_optimizer_step_code\u001b[0m\u001b[0;34m(\u001b[0m\u001b[0;34m)\u001b[0m\u001b[0;34m\u001b[0m\u001b[0;34m\u001b[0m\u001b[0m\n\u001b[1;32m    489\u001b[0m \u001b[0;34m\u001b[0m\u001b[0m\n",
            "\u001b[0;32m/usr/local/lib/python3.10/dist-packages/torch/optim/optimizer.py\u001b[0m in \u001b[0;36m_use_grad\u001b[0;34m(self, *args, **kwargs)\u001b[0m\n\u001b[1;32m     89\u001b[0m             \u001b[0mtorch\u001b[0m\u001b[0;34m.\u001b[0m\u001b[0mset_grad_enabled\u001b[0m\u001b[0;34m(\u001b[0m\u001b[0mself\u001b[0m\u001b[0;34m.\u001b[0m\u001b[0mdefaults\u001b[0m\u001b[0;34m[\u001b[0m\u001b[0;34m\"differentiable\"\u001b[0m\u001b[0;34m]\u001b[0m\u001b[0;34m)\u001b[0m\u001b[0;34m\u001b[0m\u001b[0;34m\u001b[0m\u001b[0m\n\u001b[1;32m     90\u001b[0m             \u001b[0mtorch\u001b[0m\u001b[0;34m.\u001b[0m\u001b[0m_dynamo\u001b[0m\u001b[0;34m.\u001b[0m\u001b[0mgraph_break\u001b[0m\u001b[0;34m(\u001b[0m\u001b[0;34m)\u001b[0m\u001b[0;34m\u001b[0m\u001b[0;34m\u001b[0m\u001b[0m\n\u001b[0;32m---> 91\u001b[0;31m             \u001b[0mret\u001b[0m \u001b[0;34m=\u001b[0m \u001b[0mfunc\u001b[0m\u001b[0;34m(\u001b[0m\u001b[0mself\u001b[0m\u001b[0;34m,\u001b[0m \u001b[0;34m*\u001b[0m\u001b[0margs\u001b[0m\u001b[0;34m,\u001b[0m \u001b[0;34m**\u001b[0m\u001b[0mkwargs\u001b[0m\u001b[0;34m)\u001b[0m\u001b[0;34m\u001b[0m\u001b[0;34m\u001b[0m\u001b[0m\n\u001b[0m\u001b[1;32m     92\u001b[0m         \u001b[0;32mfinally\u001b[0m\u001b[0;34m:\u001b[0m\u001b[0;34m\u001b[0m\u001b[0;34m\u001b[0m\u001b[0m\n\u001b[1;32m     93\u001b[0m             \u001b[0mtorch\u001b[0m\u001b[0;34m.\u001b[0m\u001b[0m_dynamo\u001b[0m\u001b[0;34m.\u001b[0m\u001b[0mgraph_break\u001b[0m\u001b[0;34m(\u001b[0m\u001b[0;34m)\u001b[0m\u001b[0;34m\u001b[0m\u001b[0;34m\u001b[0m\u001b[0m\n",
            "\u001b[0;32m/usr/local/lib/python3.10/dist-packages/torch/optim/adam.py\u001b[0m in \u001b[0;36mstep\u001b[0;34m(self, closure)\u001b[0m\n\u001b[1;32m    221\u001b[0m             )\n\u001b[1;32m    222\u001b[0m \u001b[0;34m\u001b[0m\u001b[0m\n\u001b[0;32m--> 223\u001b[0;31m             adam(\n\u001b[0m\u001b[1;32m    224\u001b[0m                 \u001b[0mparams_with_grad\u001b[0m\u001b[0;34m,\u001b[0m\u001b[0;34m\u001b[0m\u001b[0;34m\u001b[0m\u001b[0m\n\u001b[1;32m    225\u001b[0m                 \u001b[0mgrads\u001b[0m\u001b[0;34m,\u001b[0m\u001b[0;34m\u001b[0m\u001b[0;34m\u001b[0m\u001b[0m\n",
            "\u001b[0;32m/usr/local/lib/python3.10/dist-packages/torch/optim/optimizer.py\u001b[0m in \u001b[0;36mmaybe_fallback\u001b[0;34m(*args, **kwargs)\u001b[0m\n\u001b[1;32m    152\u001b[0m                 \u001b[0;32mreturn\u001b[0m \u001b[0mdisabled_func\u001b[0m\u001b[0;34m(\u001b[0m\u001b[0;34m*\u001b[0m\u001b[0margs\u001b[0m\u001b[0;34m,\u001b[0m \u001b[0;34m**\u001b[0m\u001b[0mkwargs\u001b[0m\u001b[0;34m)\u001b[0m\u001b[0;34m\u001b[0m\u001b[0;34m\u001b[0m\u001b[0m\n\u001b[1;32m    153\u001b[0m             \u001b[0;32melse\u001b[0m\u001b[0;34m:\u001b[0m\u001b[0;34m\u001b[0m\u001b[0;34m\u001b[0m\u001b[0m\n\u001b[0;32m--> 154\u001b[0;31m                 \u001b[0;32mreturn\u001b[0m \u001b[0mfunc\u001b[0m\u001b[0;34m(\u001b[0m\u001b[0;34m*\u001b[0m\u001b[0margs\u001b[0m\u001b[0;34m,\u001b[0m \u001b[0;34m**\u001b[0m\u001b[0mkwargs\u001b[0m\u001b[0;34m)\u001b[0m\u001b[0;34m\u001b[0m\u001b[0;34m\u001b[0m\u001b[0m\n\u001b[0m\u001b[1;32m    155\u001b[0m \u001b[0;34m\u001b[0m\u001b[0m\n\u001b[1;32m    156\u001b[0m         \u001b[0;32mreturn\u001b[0m \u001b[0mmaybe_fallback\u001b[0m\u001b[0;34m\u001b[0m\u001b[0;34m\u001b[0m\u001b[0m\n",
            "\u001b[0;32m/usr/local/lib/python3.10/dist-packages/torch/optim/adam.py\u001b[0m in \u001b[0;36madam\u001b[0;34m(params, grads, exp_avgs, exp_avg_sqs, max_exp_avg_sqs, state_steps, foreach, capturable, differentiable, fused, grad_scale, found_inf, has_complex, amsgrad, beta1, beta2, lr, weight_decay, eps, maximize)\u001b[0m\n\u001b[1;32m    782\u001b[0m         \u001b[0mfunc\u001b[0m \u001b[0;34m=\u001b[0m \u001b[0m_single_tensor_adam\u001b[0m\u001b[0;34m\u001b[0m\u001b[0;34m\u001b[0m\u001b[0m\n\u001b[1;32m    783\u001b[0m \u001b[0;34m\u001b[0m\u001b[0m\n\u001b[0;32m--> 784\u001b[0;31m     func(\n\u001b[0m\u001b[1;32m    785\u001b[0m         \u001b[0mparams\u001b[0m\u001b[0;34m,\u001b[0m\u001b[0;34m\u001b[0m\u001b[0;34m\u001b[0m\u001b[0m\n\u001b[1;32m    786\u001b[0m         \u001b[0mgrads\u001b[0m\u001b[0;34m,\u001b[0m\u001b[0;34m\u001b[0m\u001b[0;34m\u001b[0m\u001b[0m\n",
            "\u001b[0;32m/usr/local/lib/python3.10/dist-packages/torch/optim/adam.py\u001b[0m in \u001b[0;36m_single_tensor_adam\u001b[0;34m(params, grads, exp_avgs, exp_avg_sqs, max_exp_avg_sqs, state_steps, grad_scale, found_inf, amsgrad, has_complex, beta1, beta2, lr, weight_decay, eps, maximize, capturable, differentiable)\u001b[0m\n\u001b[1;32m    364\u001b[0m         \u001b[0mstep_t\u001b[0m \u001b[0;34m+=\u001b[0m \u001b[0;36m1\u001b[0m\u001b[0;34m\u001b[0m\u001b[0;34m\u001b[0m\u001b[0m\n\u001b[1;32m    365\u001b[0m \u001b[0;34m\u001b[0m\u001b[0m\n\u001b[0;32m--> 366\u001b[0;31m         \u001b[0;32mif\u001b[0m \u001b[0mweight_decay\u001b[0m \u001b[0;34m!=\u001b[0m \u001b[0;36m0\u001b[0m\u001b[0;34m:\u001b[0m\u001b[0;34m\u001b[0m\u001b[0;34m\u001b[0m\u001b[0m\n\u001b[0m\u001b[1;32m    367\u001b[0m             \u001b[0mgrad\u001b[0m \u001b[0;34m=\u001b[0m \u001b[0mgrad\u001b[0m\u001b[0;34m.\u001b[0m\u001b[0madd\u001b[0m\u001b[0;34m(\u001b[0m\u001b[0mparam\u001b[0m\u001b[0;34m,\u001b[0m \u001b[0malpha\u001b[0m\u001b[0;34m=\u001b[0m\u001b[0mweight_decay\u001b[0m\u001b[0;34m)\u001b[0m\u001b[0;34m\u001b[0m\u001b[0;34m\u001b[0m\u001b[0m\n\u001b[1;32m    368\u001b[0m \u001b[0;34m\u001b[0m\u001b[0m\n",
            "\u001b[0;31mKeyboardInterrupt\u001b[0m: "
          ]
        }
      ]
    },
    {
      "cell_type": "code",
      "metadata": {
        "id": "ioPZVusBP8rE",
        "outputId": "d389ec41-577d-4fe1-d232-e6cf343e4843",
        "colab": {
          "base_uri": "https://localhost:8080/",
          "height": 631
        }
      },
      "source": [
        "# Read model\n",
        "net = MyNet()\n",
        "net.load_state_dict(torch.load(\"best_model.pt\"))\n",
        "\n",
        "Y_test_hat = net.forward(torch.from_numpy(X_test).type(torch.float32)).detach().numpy()\n",
        "\n",
        "# Plot test result using plolty\n",
        "import plotly.graph_objects as go\n",
        "fig = go.Figure()\n",
        "\n",
        "fig = go.Figure()\n",
        "fig.add_traces( go.Scatter(x=X_test, y=Y_test,name=\"train\",mode=\"markers\") )\n",
        "fig.add_traces( go.Scatter(x=X_test, y=Y_test_hat,name=\"train_hat\",mode=\"markers\") )\n",
        "fig.show()\n"
      ],
      "execution_count": null,
      "outputs": [
        {
          "output_type": "stream",
          "name": "stderr",
          "text": [
            "<ipython-input-223-e052d771bc6c>:3: FutureWarning:\n",
            "\n",
            "You are using `torch.load` with `weights_only=False` (the current default value), which uses the default pickle module implicitly. It is possible to construct malicious pickle data which will execute arbitrary code during unpickling (See https://github.com/pytorch/pytorch/blob/main/SECURITY.md#untrusted-models for more details). In a future release, the default value for `weights_only` will be flipped to `True`. This limits the functions that could be executed during unpickling. Arbitrary objects will no longer be allowed to be loaded via this mode unless they are explicitly allowlisted by the user via `torch.serialization.add_safe_globals`. We recommend you start setting `weights_only=True` for any use case where you don't have full control of the loaded file. Please open an issue on GitHub for any issues related to this experimental feature.\n",
            "\n"
          ]
        },
        {
          "output_type": "display_data",
          "data": {
            "text/html": [
              "<html>\n",
              "<head><meta charset=\"utf-8\" /></head>\n",
              "<body>\n",
              "    <div>            <script src=\"https://cdnjs.cloudflare.com/ajax/libs/mathjax/2.7.5/MathJax.js?config=TeX-AMS-MML_SVG\"></script><script type=\"text/javascript\">if (window.MathJax && window.MathJax.Hub && window.MathJax.Hub.Config) {window.MathJax.Hub.Config({SVG: {font: \"STIX-Web\"}});}</script>                <script type=\"text/javascript\">window.PlotlyConfig = {MathJaxConfig: 'local'};</script>\n",
              "        <script charset=\"utf-8\" src=\"https://cdn.plot.ly/plotly-2.35.2.min.js\"></script>                <div id=\"f2dfc579-0029-4c7b-a1d6-48a3669e6f6b\" class=\"plotly-graph-div\" style=\"height:525px; width:100%;\"></div>            <script type=\"text/javascript\">                                    window.PLOTLYENV=window.PLOTLYENV || {};                                    if (document.getElementById(\"f2dfc579-0029-4c7b-a1d6-48a3669e6f6b\")) {                    Plotly.newPlot(                        \"f2dfc579-0029-4c7b-a1d6-48a3669e6f6b\",                        [{\"mode\":\"markers\",\"name\":\"train\",\"x\":[[0.945945945945946],[0.45245245245245247],[0.30430430430430433],[0.4334334334334335],[0.8648648648648649],[0.2912912912912913],[0.986986986986987],[0.9239239239239241],[0.2602602602602603],[0.5465465465465466],[0.5915915915915916],[0.3903903903903904],[0.40740740740740744],[0.26126126126126126],[0.5945945945945945],[0.6186186186186187],[0.19619619619619622],[0.07807807807807808],[0.7657657657657657],[0.6446446446446448],[0.991991991991992],[0.41741741741741745],[0.41641641641641647],[0.1651651651651652],[0.2792792792792793],[0.3883883883883884],[0.5765765765765766],[0.810810810810811],[0.7297297297297298],[0.6696696696696698],[0.7857857857857857],[0.6746746746746748],[0.987987987987988],[0.48048048048048053],[0.6126126126126126],[0.3623623623623624],[0.855855855855856],[0.07007007007007007],[0.7797797797797799],[0.6756756756756757],[0.5455455455455456],[0.3373373373373374],[0.7367367367367368],[0.7407407407407407],[0.6876876876876877],[0.3803803803803804],[0.41441441441441446],[0.34634634634634637],[0.5705705705705706],[0.1891891891891892],[0.7517517517517518],[0.5935935935935936],[0.7437437437437437],[0.6636636636636637],[0.10810810810810811],[0.878878878878879],[0.5425425425425425],[0.1921921921921922],[0.3713713713713714],[0.5615615615615616],[0.972972972972973],[0.33633633633633636],[0.6706706706706707],[0.872872872872873],[0.5535535535535536],[0.6246246246246245],[0.6476476476476477],[0.5775775775775776],[0.4724724724724725],[0.11411411411411412],[0.06306306306306306],[0.01501501501501501],[0.2752752752752753],[0.4234234234234235],[0.4584584584584585],[0.8228228228228229],[0.9289289289289291],[0.830830830830831],[0.828828828828829],[0.5125125125125125],[0.22222222222222224],[0.1951951951951952],[0.4594594594594595],[0.7997997997997999],[0.3633633633633634],[0.9809809809809811],[0.7057057057057057],[0.09809809809809811],[0.7337337337337337],[0.04604604604604606],[0.7317317317317318],[0.41141141141141147],[0.7217217217217218],[0.058058058058058054],[0.877877877877878],[0.4304304304304305],[0.6776776776776777],[0.09909909909909911],[0.9189189189189191],[0.9219219219219219],[0.3203203203203203],[0.9469469469469469],[0.7257257257257257],[0.24824824824824826],[0.974974974974975],[0.2772772772772773],[0.08508508508508511],[0.2982982982982983],[0.02102102102102102],[0.9319319319319319],[0.808808808808809],[0.20020020020020024],[0.8498498498498499],[0.6766766766766767],[0.2932932932932933],[0.07707707707707707],[0.3723723723723724],[0.051051051051051066],[0.7227227227227229],[0.6676676676676677],[0.21621621621621623],[0.3663663663663664],[0.2992992992992993],[0.05205205205205207],[0.8078078078078079],[0.26626626626626626],[0.1851851851851852],[0.7947947947947949],[0.3673673673673674],[0.4454454454454455],[0.7467467467467468],[0.6936936936936937],[0.9939939939939941],[0.5645645645645645],[0.08708708708708711],[0.4644644644644645],[0.06506506506506507],[0.4004004004004005],[0.5665665665665666],[0.010010010010010006],[0.20620620620620622],[0.2732732732732733],[0.4844844844844845],[0.5395395395395395],[0.7267267267267268],[0.885885885885886],[0.944944944944945],[0.8798798798798799],[0.32932932932932935],[0.21521521521521525],[0.5875875875875876],[0.6306306306306306],[0.2542542542542543],[0.2642642642642643],[0.5135135135135136],[0.018018018018018],[0.875875875875876],[0.3183183183183183],[0.004004004004003997],[0.5305305305305306],[0.7757757757757757],[0.13513513513513514],[0.6626626626626627],[0.9639639639639641],[0.6176176176176176],[0.8198198198198199],[0.873873873873874],[0.7277277277277279],[0.7827827827827829],[0.25125125125125125],[0.5245245245245245],[0.3813813813813814],[0.003003003003002991],[0.09409409409409411],[0.5635635635635636],[0.4564564564564565],[0.11211211211211213],[0.11111111111111112],[0.6466466466466467],[0.4864864864864865],[0.9489489489489491],[0.5195195195195195],[0.6116116116116116],[0.5225225225225225],[0.4444444444444445],[0.3573573573573574],[0.8948948948948949],[0.21921921921921925],[0.3503503503503504],[0.6366366366366366],[0.4824824824824825],[0.10610610610610612],[0.6996996996996998],[0.06606606606606608],[0.2872872872872873],[0.7307307307307307],[0.8988988988988991],[0.7747747747747749],[0.5055055055055055],[0.5405405405405406]],\"y\":[-5.522401326975663,9.747901308751963,-5.020581642703672,7.966308737265197,-5.977011237045797,-5.643856656899113,-4.661431144405003,-4.618759679676819,-7.142085620495041,7.828590715262258,5.550941977323491,2.478286904797185,4.730748065721046,-7.091204996355661,5.469993984283101,5.0044890051290425,-10.105770053856764,-3.0571074121136768,-11.06311778364712,4.327341829669365,-4.1203737490308585,6.040457627427765,5.911884322320461,-10.206115609133608,-6.208568778234713,2.219445373615101,6.086716364240486,-11.548268626635766,-6.048842166738094,2.7123727378617035,-12.196869301496102,2.2268033985863003,-4.561917882323138,10.922499397069318,5.10596834359817,-0.838282530174549,-6.893393055654519,-2.15253972640026,-12.012543687274487,2.1227720195220074,7.897814315875275,-3.053368888494635,-7.214860689706944,-7.854601174984654,0.6982812556569626,1.2110397258446128,5.65278841284036,-2.342428780446422,6.367782779339304,-10.253472311623915,-9.463290945926932,5.496121384368668,-8.317537624403581,3.2195502626835846,-6.379181216434895,-4.867020169903874,8.107435843928323,-10.198036544674254,0.14302508722019924,6.859282822184577,-5.6094923363407165,-3.1267336051408874,2.6198675142244663,-5.287545445115753,7.357410843616417,4.895424476907289,4.197422974865617,6.043648791687346,10.78048069782859,-6.983941785477266,-1.3749119426316847,3.2169710606608466,-6.39966849404622,6.795084878119327,10.156840237723788,-10.555267051408146,-4.823194407632048,-9.730946857818525,-9.946027693009059,10.090905083758708,-9.107628063490283,-10.130730882450868,10.216969651732825,-12.101573883250854,-0.7339013220950003,-5.16793753525583,-1.972809168822312,-5.310883042660767,-6.721169154005559,0.41923707982988656,-6.386725810864032,5.260025108509433,-4.676788250586616,-0.8314475595382479,-4.930859109295625,7.628499449653879,1.9078134964848836,-5.420421491129657,-4.4378823088154915,-4.542923526006987,-4.16755399618074,-5.5562487941999015,-5.36553786551087,-7.7655201344220455,-5.5232086845112285,-6.303826232841837,-3.8533577258496927,-5.312378750878208,2.7260496558344807,-4.952060706691028,-11.677062117302384,-9.993971584774501,-7.561029050081119,2.016439926869658,-5.549735573646058,-2.9434835293972257,0.25766370146755135,-0.09177110121609311,-4.849186987629303,2.890505119918813,-9.385870671297702,-0.4136540629105063,-5.264386187927086,-0.19577400740211237,-11.736994808764988,-6.8397773990338875,-10.307864994351664,-12.218266398631224,-0.3045747108950356,9.171699219391266,-8.763519676801652,-0.12880075933083823,-3.8735466521160222,6.68661153561834,-4.080332360216582,10.48210895404111,-1.595310279499198,3.7979198767648183,6.576291681212377,3.6087199419916254,-9.793323323769677,-6.496165820013618,10.935850229441064,8.31903948592642,-5.5370892460822985,-4.493939254539883,-5.4871565587005415,-4.805764190813654,-3.611243243540793,-9.430082632249466,5.671536785883562,4.767142921033679,-7.4511720903920695,-6.939744488654514,10.036055370848718,2.974424869050148,-5.066151300134576,-4.28245231385714,4.059336629423321,8.95281573168783,-11.81414490018536,-8.78625611785608,3.29622424966683,-5.815252676626628,5.021621345840529,-10.835126991060706,-5.21134285920728,-5.708214749922152,-12.1217886091864,-7.6078246693287745,9.360786656162208,1.3343823487853692,4.132487146126188,-4.868141037916503,6.743229800913996,10.029616408201301,-6.7859366684377775,-6.685546425869305,4.24238377375282,10.928510122050232,-5.619314244966119,9.682273022814663,5.122931562008336,9.491820639832925,9.081219206867713,-1.3420484733910423,-4.210016063435735,-9.24935850437294,-1.9957928467954744,4.607840870283129,10.933894399996719,-6.170909657861748,-1.022687401280589,-1.706083073921177,-5.831555280252663,-6.218170468048917,-4.154212615337467,-11.755234448699612,10.435507888169434,8.248361671077463],\"type\":\"scatter\"},{\"mode\":\"markers\",\"name\":\"train_hat\",\"x\":[[0.945945945945946],[0.45245245245245247],[0.30430430430430433],[0.4334334334334335],[0.8648648648648649],[0.2912912912912913],[0.986986986986987],[0.9239239239239241],[0.2602602602602603],[0.5465465465465466],[0.5915915915915916],[0.3903903903903904],[0.40740740740740744],[0.26126126126126126],[0.5945945945945945],[0.6186186186186187],[0.19619619619619622],[0.07807807807807808],[0.7657657657657657],[0.6446446446446448],[0.991991991991992],[0.41741741741741745],[0.41641641641641647],[0.1651651651651652],[0.2792792792792793],[0.3883883883883884],[0.5765765765765766],[0.810810810810811],[0.7297297297297298],[0.6696696696696698],[0.7857857857857857],[0.6746746746746748],[0.987987987987988],[0.48048048048048053],[0.6126126126126126],[0.3623623623623624],[0.855855855855856],[0.07007007007007007],[0.7797797797797799],[0.6756756756756757],[0.5455455455455456],[0.3373373373373374],[0.7367367367367368],[0.7407407407407407],[0.6876876876876877],[0.3803803803803804],[0.41441441441441446],[0.34634634634634637],[0.5705705705705706],[0.1891891891891892],[0.7517517517517518],[0.5935935935935936],[0.7437437437437437],[0.6636636636636637],[0.10810810810810811],[0.878878878878879],[0.5425425425425425],[0.1921921921921922],[0.3713713713713714],[0.5615615615615616],[0.972972972972973],[0.33633633633633636],[0.6706706706706707],[0.872872872872873],[0.5535535535535536],[0.6246246246246245],[0.6476476476476477],[0.5775775775775776],[0.4724724724724725],[0.11411411411411412],[0.06306306306306306],[0.01501501501501501],[0.2752752752752753],[0.4234234234234235],[0.4584584584584585],[0.8228228228228229],[0.9289289289289291],[0.830830830830831],[0.828828828828829],[0.5125125125125125],[0.22222222222222224],[0.1951951951951952],[0.4594594594594595],[0.7997997997997999],[0.3633633633633634],[0.9809809809809811],[0.7057057057057057],[0.09809809809809811],[0.7337337337337337],[0.04604604604604606],[0.7317317317317318],[0.41141141141141147],[0.7217217217217218],[0.058058058058058054],[0.877877877877878],[0.4304304304304305],[0.6776776776776777],[0.09909909909909911],[0.9189189189189191],[0.9219219219219219],[0.3203203203203203],[0.9469469469469469],[0.7257257257257257],[0.24824824824824826],[0.974974974974975],[0.2772772772772773],[0.08508508508508511],[0.2982982982982983],[0.02102102102102102],[0.9319319319319319],[0.808808808808809],[0.20020020020020024],[0.8498498498498499],[0.6766766766766767],[0.2932932932932933],[0.07707707707707707],[0.3723723723723724],[0.051051051051051066],[0.7227227227227229],[0.6676676676676677],[0.21621621621621623],[0.3663663663663664],[0.2992992992992993],[0.05205205205205207],[0.8078078078078079],[0.26626626626626626],[0.1851851851851852],[0.7947947947947949],[0.3673673673673674],[0.4454454454454455],[0.7467467467467468],[0.6936936936936937],[0.9939939939939941],[0.5645645645645645],[0.08708708708708711],[0.4644644644644645],[0.06506506506506507],[0.4004004004004005],[0.5665665665665666],[0.010010010010010006],[0.20620620620620622],[0.2732732732732733],[0.4844844844844845],[0.5395395395395395],[0.7267267267267268],[0.885885885885886],[0.944944944944945],[0.8798798798798799],[0.32932932932932935],[0.21521521521521525],[0.5875875875875876],[0.6306306306306306],[0.2542542542542543],[0.2642642642642643],[0.5135135135135136],[0.018018018018018],[0.875875875875876],[0.3183183183183183],[0.004004004004003997],[0.5305305305305306],[0.7757757757757757],[0.13513513513513514],[0.6626626626626627],[0.9639639639639641],[0.6176176176176176],[0.8198198198198199],[0.873873873873874],[0.7277277277277279],[0.7827827827827829],[0.25125125125125125],[0.5245245245245245],[0.3813813813813814],[0.003003003003002991],[0.09409409409409411],[0.5635635635635636],[0.4564564564564565],[0.11211211211211213],[0.11111111111111112],[0.6466466466466467],[0.4864864864864865],[0.9489489489489491],[0.5195195195195195],[0.6116116116116116],[0.5225225225225225],[0.4444444444444445],[0.3573573573573574],[0.8948948948948949],[0.21921921921921925],[0.3503503503503504],[0.6366366366366366],[0.4824824824824825],[0.10610610610610612],[0.6996996996996998],[0.06606606606606608],[0.2872872872872873],[0.7307307307307307],[0.8988988988988991],[0.7747747747747749],[0.5055055055055055],[0.5405405405405406]],\"y\":[[-3.011087],[0.7650017],[-2.220079],[0.7638604],[-3.0110676],[-2.2920976],[-3.011127],[-3.0110772],[-3.8414903],[0.43009633],[-0.0029087365],[0.5464571],[0.7533613],[-3.7884119],[-0.011721224],[-0.021244794],[-4.198574],[-2.2494075],[-3.011063],[-0.29439858],[-3.011135],[0.762263],[0.7619311],[-4.1813717],[-2.56228],[0.47107595],[0.16502109],[-3.0110655],[-3.0098243],[-0.72608864],[-3.0110652],[-0.8084299],[-3.0111284],[0.80264324],[-0.021285504],[-1.146228],[-3.011067],[-2.1947446],[-3.0110652],[-0.8333486],[0.43103093],[-1.8202586],[-3.010717],[-3.0108957],[-1.619472],[-0.0012513101],[0.7610478],[-1.6968381],[0.28123683],[-4.198388],[-3.0110416],[-0.009264082],[-3.0109663],[-0.6667234],[-2.2720642],[-3.0110686],[0.43393058],[-4.198497],[-0.6613972],[0.38973564],[-3.0111086],[-1.8316281],[-0.73853815],[-3.011068],[0.42091948],[-0.026840478],[-0.3782749],[0.14595208],[0.78222483],[-2.284232],[-2.0665762],[-1.7554963],[-2.7657044],[0.7633591],[0.7666374],[-3.0110655],[-3.0110788],[-3.011066],[-3.011066],[0.7223703],[-4.197863],[-4.1985598],[0.7670761],[-3.0110655],[-1.1003046],[-3.011118],[-2.907629],[-2.2666776],[-3.0104656],[-1.7849767],[-3.0102034],[0.7589137],[-3.0056818],[-1.9444311],[-3.0110683],[0.76377386],[-0.89626855],[-2.2669334],[-3.0110755],[-3.0110765],[-2.0877147],[-3.0110872],[-3.0084858],[-4.144156],[-3.011111],[-2.6543567],[-2.2618048],[-2.243854],[-1.7569652],[-3.01108],[-3.0110655],[-4.1986046],[-3.0110667],[-0.86240536],[-2.2742252],[-2.2459328],[-0.5946266],[-1.8233368],[-3.006588],[-0.7045187],[-4.198355],[-0.95318896],[-2.2393682],[-1.8352458],[-3.0110655],[-3.44642],[-4.1981206],[-3.0110655],[-0.9001133],[0.7642624],[-3.0110073],[-2.271047],[-3.011139],[0.36485308],[-2.2632396],[0.7704422],[-2.1117136],[0.72507215],[0.34223062],[-1.7537351],[-4.198592],[-2.8965156],[0.81368154],[0.43759054],[-3.0089178],[-3.0110693],[-3.0110865],[-3.0110688],[-1.9276736],[-4.1984005],[0.01776591],[-0.050459474],[-4.054477],[-3.5968828],[0.7042882],[-1.7562892],[-3.011068],[-2.117601],[-1.7504411],[0.46448272],[-3.011065],[-2.8724003],[-0.65700567],[-3.0110998],[-0.021061748],[-3.0110655],[-3.011068],[-3.0092769],[-3.0110655],[-4.109652],[0.5147361],[0.0707773],[-1.7497132],[-2.2657652],[0.37427193],[0.7659276],[-2.2786465],[-2.2765293],[-0.35031816],[0.818881],[-3.0110884],[0.5897693],[-0.021415323],[0.5410184],[0.764206],[-1.3603601],[-3.0110705],[-4.1981673],[-1.6035228],[-0.114950925],[0.80823165],[-2.2701802],[-2.7138095],[-2.1319892],[-2.3439283],[-3.0100312],[-3.0110712],[-3.0110648],[0.81205004],[0.43623298]],\"type\":\"scatter\"}],                        {\"template\":{\"data\":{\"histogram2dcontour\":[{\"type\":\"histogram2dcontour\",\"colorbar\":{\"outlinewidth\":0,\"ticks\":\"\"},\"colorscale\":[[0.0,\"#0d0887\"],[0.1111111111111111,\"#46039f\"],[0.2222222222222222,\"#7201a8\"],[0.3333333333333333,\"#9c179e\"],[0.4444444444444444,\"#bd3786\"],[0.5555555555555556,\"#d8576b\"],[0.6666666666666666,\"#ed7953\"],[0.7777777777777778,\"#fb9f3a\"],[0.8888888888888888,\"#fdca26\"],[1.0,\"#f0f921\"]]}],\"choropleth\":[{\"type\":\"choropleth\",\"colorbar\":{\"outlinewidth\":0,\"ticks\":\"\"}}],\"histogram2d\":[{\"type\":\"histogram2d\",\"colorbar\":{\"outlinewidth\":0,\"ticks\":\"\"},\"colorscale\":[[0.0,\"#0d0887\"],[0.1111111111111111,\"#46039f\"],[0.2222222222222222,\"#7201a8\"],[0.3333333333333333,\"#9c179e\"],[0.4444444444444444,\"#bd3786\"],[0.5555555555555556,\"#d8576b\"],[0.6666666666666666,\"#ed7953\"],[0.7777777777777778,\"#fb9f3a\"],[0.8888888888888888,\"#fdca26\"],[1.0,\"#f0f921\"]]}],\"heatmap\":[{\"type\":\"heatmap\",\"colorbar\":{\"outlinewidth\":0,\"ticks\":\"\"},\"colorscale\":[[0.0,\"#0d0887\"],[0.1111111111111111,\"#46039f\"],[0.2222222222222222,\"#7201a8\"],[0.3333333333333333,\"#9c179e\"],[0.4444444444444444,\"#bd3786\"],[0.5555555555555556,\"#d8576b\"],[0.6666666666666666,\"#ed7953\"],[0.7777777777777778,\"#fb9f3a\"],[0.8888888888888888,\"#fdca26\"],[1.0,\"#f0f921\"]]}],\"heatmapgl\":[{\"type\":\"heatmapgl\",\"colorbar\":{\"outlinewidth\":0,\"ticks\":\"\"},\"colorscale\":[[0.0,\"#0d0887\"],[0.1111111111111111,\"#46039f\"],[0.2222222222222222,\"#7201a8\"],[0.3333333333333333,\"#9c179e\"],[0.4444444444444444,\"#bd3786\"],[0.5555555555555556,\"#d8576b\"],[0.6666666666666666,\"#ed7953\"],[0.7777777777777778,\"#fb9f3a\"],[0.8888888888888888,\"#fdca26\"],[1.0,\"#f0f921\"]]}],\"contourcarpet\":[{\"type\":\"contourcarpet\",\"colorbar\":{\"outlinewidth\":0,\"ticks\":\"\"}}],\"contour\":[{\"type\":\"contour\",\"colorbar\":{\"outlinewidth\":0,\"ticks\":\"\"},\"colorscale\":[[0.0,\"#0d0887\"],[0.1111111111111111,\"#46039f\"],[0.2222222222222222,\"#7201a8\"],[0.3333333333333333,\"#9c179e\"],[0.4444444444444444,\"#bd3786\"],[0.5555555555555556,\"#d8576b\"],[0.6666666666666666,\"#ed7953\"],[0.7777777777777778,\"#fb9f3a\"],[0.8888888888888888,\"#fdca26\"],[1.0,\"#f0f921\"]]}],\"surface\":[{\"type\":\"surface\",\"colorbar\":{\"outlinewidth\":0,\"ticks\":\"\"},\"colorscale\":[[0.0,\"#0d0887\"],[0.1111111111111111,\"#46039f\"],[0.2222222222222222,\"#7201a8\"],[0.3333333333333333,\"#9c179e\"],[0.4444444444444444,\"#bd3786\"],[0.5555555555555556,\"#d8576b\"],[0.6666666666666666,\"#ed7953\"],[0.7777777777777778,\"#fb9f3a\"],[0.8888888888888888,\"#fdca26\"],[1.0,\"#f0f921\"]]}],\"mesh3d\":[{\"type\":\"mesh3d\",\"colorbar\":{\"outlinewidth\":0,\"ticks\":\"\"}}],\"scatter\":[{\"fillpattern\":{\"fillmode\":\"overlay\",\"size\":10,\"solidity\":0.2},\"type\":\"scatter\"}],\"parcoords\":[{\"type\":\"parcoords\",\"line\":{\"colorbar\":{\"outlinewidth\":0,\"ticks\":\"\"}}}],\"scatterpolargl\":[{\"type\":\"scatterpolargl\",\"marker\":{\"colorbar\":{\"outlinewidth\":0,\"ticks\":\"\"}}}],\"bar\":[{\"error_x\":{\"color\":\"#2a3f5f\"},\"error_y\":{\"color\":\"#2a3f5f\"},\"marker\":{\"line\":{\"color\":\"#E5ECF6\",\"width\":0.5},\"pattern\":{\"fillmode\":\"overlay\",\"size\":10,\"solidity\":0.2}},\"type\":\"bar\"}],\"scattergeo\":[{\"type\":\"scattergeo\",\"marker\":{\"colorbar\":{\"outlinewidth\":0,\"ticks\":\"\"}}}],\"scatterpolar\":[{\"type\":\"scatterpolar\",\"marker\":{\"colorbar\":{\"outlinewidth\":0,\"ticks\":\"\"}}}],\"histogram\":[{\"marker\":{\"pattern\":{\"fillmode\":\"overlay\",\"size\":10,\"solidity\":0.2}},\"type\":\"histogram\"}],\"scattergl\":[{\"type\":\"scattergl\",\"marker\":{\"colorbar\":{\"outlinewidth\":0,\"ticks\":\"\"}}}],\"scatter3d\":[{\"type\":\"scatter3d\",\"line\":{\"colorbar\":{\"outlinewidth\":0,\"ticks\":\"\"}},\"marker\":{\"colorbar\":{\"outlinewidth\":0,\"ticks\":\"\"}}}],\"scattermapbox\":[{\"type\":\"scattermapbox\",\"marker\":{\"colorbar\":{\"outlinewidth\":0,\"ticks\":\"\"}}}],\"scatterternary\":[{\"type\":\"scatterternary\",\"marker\":{\"colorbar\":{\"outlinewidth\":0,\"ticks\":\"\"}}}],\"scattercarpet\":[{\"type\":\"scattercarpet\",\"marker\":{\"colorbar\":{\"outlinewidth\":0,\"ticks\":\"\"}}}],\"carpet\":[{\"aaxis\":{\"endlinecolor\":\"#2a3f5f\",\"gridcolor\":\"white\",\"linecolor\":\"white\",\"minorgridcolor\":\"white\",\"startlinecolor\":\"#2a3f5f\"},\"baxis\":{\"endlinecolor\":\"#2a3f5f\",\"gridcolor\":\"white\",\"linecolor\":\"white\",\"minorgridcolor\":\"white\",\"startlinecolor\":\"#2a3f5f\"},\"type\":\"carpet\"}],\"table\":[{\"cells\":{\"fill\":{\"color\":\"#EBF0F8\"},\"line\":{\"color\":\"white\"}},\"header\":{\"fill\":{\"color\":\"#C8D4E3\"},\"line\":{\"color\":\"white\"}},\"type\":\"table\"}],\"barpolar\":[{\"marker\":{\"line\":{\"color\":\"#E5ECF6\",\"width\":0.5},\"pattern\":{\"fillmode\":\"overlay\",\"size\":10,\"solidity\":0.2}},\"type\":\"barpolar\"}],\"pie\":[{\"automargin\":true,\"type\":\"pie\"}]},\"layout\":{\"autotypenumbers\":\"strict\",\"colorway\":[\"#636efa\",\"#EF553B\",\"#00cc96\",\"#ab63fa\",\"#FFA15A\",\"#19d3f3\",\"#FF6692\",\"#B6E880\",\"#FF97FF\",\"#FECB52\"],\"font\":{\"color\":\"#2a3f5f\"},\"hovermode\":\"closest\",\"hoverlabel\":{\"align\":\"left\"},\"paper_bgcolor\":\"white\",\"plot_bgcolor\":\"#E5ECF6\",\"polar\":{\"bgcolor\":\"#E5ECF6\",\"angularaxis\":{\"gridcolor\":\"white\",\"linecolor\":\"white\",\"ticks\":\"\"},\"radialaxis\":{\"gridcolor\":\"white\",\"linecolor\":\"white\",\"ticks\":\"\"}},\"ternary\":{\"bgcolor\":\"#E5ECF6\",\"aaxis\":{\"gridcolor\":\"white\",\"linecolor\":\"white\",\"ticks\":\"\"},\"baxis\":{\"gridcolor\":\"white\",\"linecolor\":\"white\",\"ticks\":\"\"},\"caxis\":{\"gridcolor\":\"white\",\"linecolor\":\"white\",\"ticks\":\"\"}},\"coloraxis\":{\"colorbar\":{\"outlinewidth\":0,\"ticks\":\"\"}},\"colorscale\":{\"sequential\":[[0.0,\"#0d0887\"],[0.1111111111111111,\"#46039f\"],[0.2222222222222222,\"#7201a8\"],[0.3333333333333333,\"#9c179e\"],[0.4444444444444444,\"#bd3786\"],[0.5555555555555556,\"#d8576b\"],[0.6666666666666666,\"#ed7953\"],[0.7777777777777778,\"#fb9f3a\"],[0.8888888888888888,\"#fdca26\"],[1.0,\"#f0f921\"]],\"sequentialminus\":[[0.0,\"#0d0887\"],[0.1111111111111111,\"#46039f\"],[0.2222222222222222,\"#7201a8\"],[0.3333333333333333,\"#9c179e\"],[0.4444444444444444,\"#bd3786\"],[0.5555555555555556,\"#d8576b\"],[0.6666666666666666,\"#ed7953\"],[0.7777777777777778,\"#fb9f3a\"],[0.8888888888888888,\"#fdca26\"],[1.0,\"#f0f921\"]],\"diverging\":[[0,\"#8e0152\"],[0.1,\"#c51b7d\"],[0.2,\"#de77ae\"],[0.3,\"#f1b6da\"],[0.4,\"#fde0ef\"],[0.5,\"#f7f7f7\"],[0.6,\"#e6f5d0\"],[0.7,\"#b8e186\"],[0.8,\"#7fbc41\"],[0.9,\"#4d9221\"],[1,\"#276419\"]]},\"xaxis\":{\"gridcolor\":\"white\",\"linecolor\":\"white\",\"ticks\":\"\",\"title\":{\"standoff\":15},\"zerolinecolor\":\"white\",\"automargin\":true,\"zerolinewidth\":2},\"yaxis\":{\"gridcolor\":\"white\",\"linecolor\":\"white\",\"ticks\":\"\",\"title\":{\"standoff\":15},\"zerolinecolor\":\"white\",\"automargin\":true,\"zerolinewidth\":2},\"scene\":{\"xaxis\":{\"backgroundcolor\":\"#E5ECF6\",\"gridcolor\":\"white\",\"linecolor\":\"white\",\"showbackground\":true,\"ticks\":\"\",\"zerolinecolor\":\"white\",\"gridwidth\":2},\"yaxis\":{\"backgroundcolor\":\"#E5ECF6\",\"gridcolor\":\"white\",\"linecolor\":\"white\",\"showbackground\":true,\"ticks\":\"\",\"zerolinecolor\":\"white\",\"gridwidth\":2},\"zaxis\":{\"backgroundcolor\":\"#E5ECF6\",\"gridcolor\":\"white\",\"linecolor\":\"white\",\"showbackground\":true,\"ticks\":\"\",\"zerolinecolor\":\"white\",\"gridwidth\":2}},\"shapedefaults\":{\"line\":{\"color\":\"#2a3f5f\"}},\"annotationdefaults\":{\"arrowcolor\":\"#2a3f5f\",\"arrowhead\":0,\"arrowwidth\":1},\"geo\":{\"bgcolor\":\"white\",\"landcolor\":\"#E5ECF6\",\"subunitcolor\":\"white\",\"showland\":true,\"showlakes\":true,\"lakecolor\":\"white\"},\"title\":{\"x\":0.05},\"mapbox\":{\"style\":\"light\"}}}},                        {\"responsive\": true}                    ).then(function(){\n",
              "                            \n",
              "var gd = document.getElementById('f2dfc579-0029-4c7b-a1d6-48a3669e6f6b');\n",
              "var x = new MutationObserver(function (mutations, observer) {{\n",
              "        var display = window.getComputedStyle(gd).display;\n",
              "        if (!display || display === 'none') {{\n",
              "            console.log([gd, 'removed!']);\n",
              "            Plotly.purge(gd);\n",
              "            observer.disconnect();\n",
              "        }}\n",
              "}});\n",
              "\n",
              "// Listen for the removal of the full notebook cells\n",
              "var notebookContainer = gd.closest('#notebook-container');\n",
              "if (notebookContainer) {{\n",
              "    x.observe(notebookContainer, {childList: true});\n",
              "}}\n",
              "\n",
              "// Listen for the clearing of the current output cell\n",
              "var outputEl = gd.closest('.output');\n",
              "if (outputEl) {{\n",
              "    x.observe(outputEl, {childList: true});\n",
              "}}\n",
              "\n",
              "                        })                };                            </script>        </div>\n",
              "</body>\n",
              "</html>"
            ]
          },
          "metadata": {}
        }
      ]
    },
    {
      "cell_type": "code",
      "source": [],
      "metadata": {
        "id": "OcwrOG0iNPxR"
      },
      "execution_count": null,
      "outputs": []
    }
  ]
}