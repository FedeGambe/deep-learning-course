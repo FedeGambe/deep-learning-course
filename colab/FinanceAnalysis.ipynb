{
  "nbformat": 4,
  "nbformat_minor": 0,
  "metadata": {
    "colab": {
      "provenance": [],
      "gpuType": "T4",
      "authorship_tag": "ABX9TyOBK7SbmIDmE6dKOaldoqqW",
      "include_colab_link": true
    },
    "kernelspec": {
      "name": "python3",
      "display_name": "Python 3"
    },
    "language_info": {
      "name": "python"
    },
    "accelerator": "GPU"
  },
  "cells": [
    {
      "cell_type": "markdown",
      "metadata": {
        "id": "view-in-github",
        "colab_type": "text"
      },
      "source": [
        "<a href=\"https://colab.research.google.com/github/manuelrucci7/deep-learning-course/blob/main/colab/FinanceAnalysis.ipynb\" target=\"_parent\"><img src=\"https://colab.research.google.com/assets/colab-badge.svg\" alt=\"Open In Colab\"/></a>"
      ]
    },
    {
      "cell_type": "markdown",
      "source": [
        "## Data Retrieval"
      ],
      "metadata": {
        "id": "0HcixZTORRe7"
      }
    },
    {
      "cell_type": "code",
      "source": [
        "%%capture\n",
        "# !pip install pandas_ta"
      ],
      "metadata": {
        "id": "qBpSdlaNdjH3"
      },
      "execution_count": null,
      "outputs": []
    },
    {
      "cell_type": "code",
      "execution_count": null,
      "metadata": {
        "id": "RGGwkARBLfUl"
      },
      "outputs": [],
      "source": [
        "import yfinance as yf\n",
        "import pandas as pd\n",
        "import matplotlib.pyplot as plt\n",
        "from datetime import datetime, timedelta\n",
        "import numpy as np\n",
        "# import pandas_ta as ta\n",
        "import plotly.graph_objects as go\n",
        "from plotly.subplots import make_subplots\n",
        "from sklearn.model_selection import train_test_split"
      ]
    },
    {
      "cell_type": "code",
      "source": [
        "# Define the symbol for ENI\n",
        "ticker_symbol = \"ENI.MI\"  # Use the Yahoo Finance symbol for ENI listed in Milan\n",
        "\n",
        "# Function to retrieve time series data from Yahoo Finance\n",
        "def get_yahoo_finance_data(symbol=ticker_symbol, interval=\"5m\", period=\"5d\"):\n",
        "    ticker = yf.Ticker(symbol)\n",
        "    data = ticker.history(interval=interval, period=period)\n",
        "    return data"
      ],
      "metadata": {
        "id": "jTQCdfvSYvvK"
      },
      "execution_count": null,
      "outputs": []
    },
    {
      "cell_type": "code",
      "source": [
        "# Retrieve 5-minute interval data for the last 5 days\n",
        "#  [1m, 2m, 5m, 15m, 30m, 60m, 90m, 1h, 1d, 5d, 1wk, 1mo, 3mo]\n",
        "time_series_data = get_yahoo_finance_data(interval=\"5m\", period=\"max\")\n",
        "#time_series_data = get_yahoo_finance_data(interval=\"1d\", period=\"5y\")\n"
      ],
      "metadata": {
        "id": "9ist4wDcRynm"
      },
      "execution_count": null,
      "outputs": []
    },
    {
      "cell_type": "code",
      "source": [
        "# Indicator available\n",
        "# List of indicators available from Yahoo Finance using yfinance library\n",
        "# Note: Yahoo Finance provides basic stock data, and yfinance helps retrieve the following:\n",
        "# 1. Open Price - The opening price of the stock for a given interval.\n",
        "# 2. Close Price - The closing price of the stock for a given interval.\n",
        "# 3. High Price - The highest price reached during a given interval.\n",
        "# 4. Low Price - The lowest price reached during a given interval.\n",
        "# 5. Volume - The number of shares traded during a given interval.\n",
        "# 6. Dividends - Dividend payments made by the stock during a specified period.\n",
        "# 7. Stock Splits - Information about stock splits during the specified period.\n",
        "list(time_series_data.keys())"
      ],
      "metadata": {
        "colab": {
          "base_uri": "https://localhost:8080/"
        },
        "id": "3-c6irw7XrT1",
        "outputId": "25f3c17a-2b3d-4ecb-c03e-1d7ad5667cfc"
      },
      "execution_count": null,
      "outputs": [
        {
          "output_type": "execute_result",
          "data": {
            "text/plain": [
              "['Open', 'High', 'Low', 'Close', 'Volume', 'Dividends', 'Stock Splits']"
            ]
          },
          "metadata": {},
          "execution_count": 5
        }
      ]
    },
    {
      "cell_type": "code",
      "source": [
        "# Get this indicator available by default in alpha_vantage\n",
        "# List of all available indicators with comments\n",
        "# Note: These indicators are not directly available from Yahoo Finance through yfinance. You would need to calculate them manually.\n",
        "# 1. SMA - Simple Moving Average: This is the average of the closing prices over a specific period. It helps to smooth out price data and identify general trends.\n",
        "# 2. EMA - Exponential Moving Average: Similar to the SMA, but gives more weight to recent prices, making it more responsive to new information.\n",
        "# 3. MACD - Moving Average Convergence Divergence: A trend-following momentum indicator that shows the relationship between two moving averages, typically used to identify changes in momentum.\n",
        "# 4. STOCH - Stochastic Oscillator: A momentum indicator that compares the closing price to a range of prices over a certain period. It is used to identify potential reversal points.\n",
        "# 5. RSI - Relative Strength Index: A momentum oscillator that measures the speed and change of price movements. It helps identify overbought or oversold conditions.\n",
        "# 6. BBANDS - Bollinger Bands: These bands consist of a middle band (SMA) and two outer bands. They help measure market volatility and identify overbought or oversold conditions.\n",
        "# 7. ADX - Average Directional Movement Index: Used to quantify the strength of a trend, whether up or down, but not the direction.\n",
        "# 8. CCI - Commodity Channel Index: Used to identify cyclical trends, and it compares the current price to its average price over a specific period to spot overbought or oversold conditions.\n",
        "# 9. ATR - Average True Range: A volatility indicator that measures the degree of price variation, helping to determine the level of price uncertainty.\n",
        "# 10. OBV - On Balance Volume: A volume-based indicator that measures buying and selling pressure. It is used to predict price movements based on volume changes.\n",
        "# 11. WILLR - Williams %R: A momentum indicator that shows the level of the closing price relative to the highest high for a look-back period, identifying overbought and oversold levels.\n",
        "# 12. AROON - Aroon Indicator: Helps identify the beginning of a new trend and the strength of that trend by measuring how long it has been since the highest high or lowest low.\n",
        "# 13. MFI - Money Flow Index: A momentum indicator that uses price and volume data to identify overbought or oversold conditions, similar to RSI but includes volume.\n",
        "# 14. MAV - Moving Average Envelopes: These are lines placed above and below a moving average. The envelopes help identify overbought and oversold conditions by using percentage-based thresholds.\n",
        "# 15. TRIX - Triple Exponential Average: This indicator shows the rate of change in a triple-smoothed exponential moving average, used to filter out insignificant price movements."
      ],
      "metadata": {
        "id": "hm2bWf4qm8CW"
      },
      "execution_count": null,
      "outputs": []
    },
    {
      "cell_type": "code",
      "source": [
        "# Function to calculate various indicators\n",
        "def calculate_indicators(df_inp):\n",
        "    df = df_inp.copy()\n",
        "    # Simple Moving Average (SMA)\n",
        "    df['SMA_20'] = df['Close'].rolling(window=20).mean()\n",
        "\n",
        "    # Exponential Moving Average (EMA)\n",
        "    df['EMA_20'] = df['Close'].ewm(span=20, adjust=False).mean()\n",
        "\n",
        "    # Moving Average Convergence Divergence (MACD)\n",
        "    df['EMA_12'] = df['Close'].ewm(span=12, adjust=False).mean()\n",
        "    df['EMA_26'] = df['Close'].ewm(span=26, adjust=False).mean()\n",
        "    df['MACD'] = df['EMA_12'] - df['EMA_26']\n",
        "    df['MACD_Signal'] = df['MACD'].ewm(span=9, adjust=False).mean()\n",
        "    df['MACD_Hist'] = df['MACD'] - df['MACD_Signal']\n",
        "\n",
        "    # Stochastic Oscillator (STOCH)\n",
        "    df['Low_14'] = df['Low'].rolling(window=14).min()\n",
        "    df['High_14'] = df['High'].rolling(window=14).max()\n",
        "    df['STOCH_k'] = 100 * ((df['Close'] - df['Low_14']) / (df['High_14'] - df['Low_14']))\n",
        "    df['STOCH_d'] = df['STOCH_k'].rolling(window=3).mean()\n",
        "\n",
        "    # Relative Strength Index (RSI)\n",
        "    delta = df['Close'].diff()\n",
        "    gain = (delta.where(delta > 0, 0)).rolling(window=14).mean()\n",
        "    loss = (-delta.where(delta < 0, 0)).rolling(window=14).mean()\n",
        "    rs = gain / loss\n",
        "    df['RSI_14'] = 100 - (100 / (1 + rs))\n",
        "\n",
        "    # Bollinger Bands (BBANDS)\n",
        "    df['BB_middle'] = df['SMA_20']\n",
        "    df['BB_upper'] = df['BB_middle'] + 2 * df['Close'].rolling(window=20).std()\n",
        "    df['BB_lower'] = df['BB_middle'] - 2 * df['Close'].rolling(window=20).std()\n",
        "\n",
        "    # Average Directional Movement Index (ADX)\n",
        "    df['+DM'] = np.where((df['High'] - df['High'].shift(1)) > (df['Low'].shift(1) - df['Low']),\n",
        "                         (df['High'] - df['High'].shift(1)), 0)\n",
        "    df['-DM'] = np.where((df['Low'].shift(1) - df['Low']) > (df['High'] - df['High'].shift(1)),\n",
        "                         (df['Low'].shift(1) - df['Low']), 0)\n",
        "    df['TR'] = np.maximum((df['High'] - df['Low']),\n",
        "                          np.maximum(abs(df['High'] - df['Close'].shift(1)), abs(df['Low'] - df['Close'].shift(1))))\n",
        "    df['+DI'] = 100 * (df['+DM'] / df['TR']).rolling(window=14).mean()\n",
        "    df['-DI'] = 100 * (df['-DM'] / df['TR']).rolling(window=14).mean()\n",
        "    df['DX'] = (abs(df['+DI'] - df['-DI']) / (df['+DI'] + df['-DI'])) * 100\n",
        "    df['ADX'] = df['DX'].rolling(window=14).mean()\n",
        "\n",
        "    # Commodity Channel Index (CCI)\n",
        "    df['TP'] = (df['High'] + df['Low'] + df['Close']) / 3\n",
        "    df['CCI'] = (df['TP'] - df['TP'].rolling(window=20).mean()) / (0.015 * df['TP'].rolling(window=20).std())\n",
        "\n",
        "    # Average True Range (ATR)\n",
        "    df['ATR'] = df['TR'].rolling(window=14).mean()\n",
        "\n",
        "    # On Balance Volume (OBV)\n",
        "    df['OBV'] = (np.where(df['Close'] > df['Close'].shift(1), df['Volume'],\n",
        "                          np.where(df['Close'] < df['Close'].shift(1), -df['Volume'], 0))).cumsum()\n",
        "\n",
        "    # Williams %R\n",
        "    df['WILLR'] = (df['High_14'] - df['Close']) / (df['High_14'] - df['Low_14']) * -100\n",
        "\n",
        "    # Aroon Indicator\n",
        "    df['AROON_Up'] = df['High'].rolling(window=25).apply(lambda x: x.argmax() / 25 * 100, raw=True)\n",
        "    df['AROON_Down'] = df['Low'].rolling(window=25).apply(lambda x: x.argmin() / 25 * 100, raw=True)\n",
        "\n",
        "    # Money Flow Index (MFI)\n",
        "    df['MF'] = (df['High'] + df['Low'] + df['Close']) / 3 * df['Volume']\n",
        "    df['Positive_MF'] = np.where(df['Close'] > df['Close'].shift(1), df['MF'], 0)\n",
        "    df['Negative_MF'] = np.where(df['Close'] < df['Close'].shift(1), df['MF'], 0)\n",
        "    df['MFI'] = 100 - (100 / (1 + (df['Positive_MF'].rolling(window=14).sum() / df['Negative_MF'].rolling(window=14).sum())))\n",
        "\n",
        "    # Moving Average Envelopes (MAV)\n",
        "    df['Upper_Envelope'] = df['SMA_20'] * 1.05\n",
        "    df['Lower_Envelope'] = df['SMA_20'] * 0.95\n",
        "\n",
        "    # Triple Exponential Average (TRIX)\n",
        "    df['TRIX'] = df['Close'].ewm(span=15, adjust=False).mean().ewm(span=15, adjust=False).mean().ewm(span=15, adjust=False).mean().pct_change() * 100\n",
        "\n",
        "    return df"
      ],
      "metadata": {
        "id": "Dexxa1I6W4mh"
      },
      "execution_count": null,
      "outputs": []
    },
    {
      "cell_type": "code",
      "source": [
        "def generate_plotly_figure(df, plot_optional_indicators=False):\n",
        "    # Initialize figure with subplots for better separation of indicators\n",
        "\n",
        "    # Create subplots with different rows for better visualization\n",
        "    fig = make_subplots(rows=8, cols=1, shared_xaxes=True,\n",
        "                        vertical_spacing=0.02, subplot_titles=(\n",
        "                            'Candlestick & Moving Averages',\n",
        "                            'Bollinger Bands',\n",
        "                            'RSI',\n",
        "                            'MACD',\n",
        "                            'Stochastic Oscillator',\n",
        "                            'Optional Indicators',\n",
        "                            'OBV' if plot_optional_indicators else ''),\n",
        "                        row_heights=[0.4, 0.15, 0.1, 0.1, 0.1, 0.1, 0.1, 0.1])\n",
        "\n",
        "    # Plot main price line using Candlestick chart (row 1)\n",
        "    fig.add_trace(go.Candlestick(\n",
        "        x=df.index,\n",
        "        open=df['Open'],\n",
        "        high=df['High'],\n",
        "        low=df['Low'],\n",
        "        close=df['Close'],\n",
        "        name='Candlestick'\n",
        "    ), row=1, col=1)\n",
        "\n",
        "    # Add Moving Averages to row 1\n",
        "    fig.add_trace(go.Scatter(\n",
        "        x=df.index, y=df['SMA_20'],\n",
        "        mode='lines', name='SMA 20',\n",
        "        line=dict(color='orange')\n",
        "    ), row=1, col=1)\n",
        "\n",
        "    fig.add_trace(go.Scatter(\n",
        "        x=df.index, y=df['EMA_20'],\n",
        "        mode='lines', name='EMA 20',\n",
        "        line=dict(color='magenta')\n",
        "    ), row=1, col=1)\n",
        "\n",
        "    # Add Bollinger Bands to row 2 for visualizing market volatility\n",
        "    fig.add_trace(go.Scatter(\n",
        "        x=df.index, y=df['BB_upper'],\n",
        "        mode='lines', name='Upper Bollinger Band',\n",
        "        line=dict(color='grey', dash='dash')\n",
        "    ), row=2, col=1)\n",
        "\n",
        "    fig.add_trace(go.Scatter(\n",
        "        x=df.index, y=df['BB_lower'],\n",
        "        mode='lines', name='Lower Bollinger Band',\n",
        "        line=dict(color='grey', dash='dash')\n",
        "    ), row=2, col=1)\n",
        "\n",
        "    # Add RSI indicator to row 3\n",
        "    fig.add_trace(go.Scatter(\n",
        "        x=df.index, y=df['RSI_14'],\n",
        "        mode='lines', name='RSI 14',\n",
        "        line=dict(color='blue')\n",
        "    ), row=3, col=1)\n",
        "\n",
        "    # Add MACD and Signal Line to row 4\n",
        "    fig.add_trace(go.Scatter(\n",
        "        x=df.index, y=df['MACD'],\n",
        "        mode='lines', name='MACD',\n",
        "        line=dict(color='green')\n",
        "    ), row=4, col=1)\n",
        "\n",
        "    fig.add_trace(go.Scatter(\n",
        "        x=df.index, y=df['MACD_Signal'],\n",
        "        mode='lines', name='MACD Signal',\n",
        "        line=dict(color='red')\n",
        "    ), row=4, col=1)\n",
        "\n",
        "    # Add Stochastic Oscillator to row 5\n",
        "    fig.add_trace(go.Scatter(\n",
        "        x=df.index, y=df['STOCH_k'],\n",
        "        mode='lines', name='Stochastic %K',\n",
        "        line=dict(color='purple')\n",
        "    ), row=5, col=1)\n",
        "\n",
        "    fig.add_trace(go.Scatter(\n",
        "        x=df.index, y=df['STOCH_d'],\n",
        "        mode='lines', name='Stochastic %D',\n",
        "        line=dict(color='darkblue')\n",
        "    ), row=5, col=1)\n",
        "\n",
        "    # Add optional indicators if requested (row 6)\n",
        "    if plot_optional_indicators:\n",
        "        # Add ADX\n",
        "        fig.add_trace(go.Scatter(\n",
        "            x=df.index, y=df['ADX'],\n",
        "            mode='lines', name='ADX',\n",
        "            line=dict(color='brown')\n",
        "        ), row=6, col=1)\n",
        "\n",
        "        # Add CCI\n",
        "        fig.add_trace(go.Scatter(\n",
        "            x=df.index, y=df['CCI'],\n",
        "            mode='lines', name='CCI',\n",
        "            line=dict(color='cyan')\n",
        "        ), row=6, col=1)\n",
        "\n",
        "        # Add ATR\n",
        "        fig.add_trace(go.Scatter(\n",
        "            x=df.index, y=df['ATR'],\n",
        "            mode='lines', name='ATR',\n",
        "            line=dict(color='black')\n",
        "        ), row=6, col=1)\n",
        "\n",
        "        # Add Williams %R\n",
        "        fig.add_trace(go.Scatter(\n",
        "            x=df.index, y=df['WILLR'],\n",
        "            mode='lines', name='Williams %R',\n",
        "            line=dict(color='darkred')\n",
        "        ), row=6, col=1)\n",
        "\n",
        "        # Add Aroon Up and Down\n",
        "        fig.add_trace(go.Scatter(\n",
        "            x=df.index, y=df['Aroon_Up'],\n",
        "            mode='lines', name='Aroon Up',\n",
        "            line=dict(color='teal')\n",
        "        ), row=6, col=1)\n",
        "\n",
        "        fig.add_trace(go.Scatter(\n",
        "            x=df.index, y=df['Aroon_Down'],\n",
        "            mode='lines', name='Aroon Down',\n",
        "            line=dict(color='navy')\n",
        "        ), row=6, col=1)\n",
        "\n",
        "        # Add OBV to its own row (row 7)\n",
        "        fig.add_trace(go.Scatter(\n",
        "            x=df.index, y=df['OBV'],\n",
        "            mode='lines', name='OBV',\n",
        "            line=dict(color='darkgreen')\n",
        "        ), row=7, col=1)\n",
        "\n",
        "    # Update layout for better visualization\n",
        "    fig.update_layout(\n",
        "        title=f'Price and Indicators for {df.index.name}',\n",
        "        xaxis_title='Date',\n",
        "        yaxis_title='Price',\n",
        "        template='plotly_white',\n",
        "        hovermode='x',\n",
        "        height=1600\n",
        "    )\n",
        "\n",
        "    # Show the figure\n",
        "    fig.show()\n"
      ],
      "metadata": {
        "id": "E-zd62sTiAJV"
      },
      "execution_count": null,
      "outputs": []
    },
    {
      "cell_type": "code",
      "source": [
        "df = time_series_data.copy()\n",
        "#df = calculate_indicators(time_series_data)\n",
        "df.dropna(inplace=True)\n",
        "#df['time_idx'] = df.index\n",
        "features_inp = ['Open', 'High', 'Low', 'Volume', 'Dividends', 'Stock Splits']\n",
        "features_out = ['Close']\n",
        "X = df[features_inp]\n",
        "y = df[features_out]\n",
        "X_train, X_test, y_train, y_test = train_test_split(X, y, test_size=0.2, shuffle=False)"
      ],
      "metadata": {
        "id": "Ke4oP_x8xwWd"
      },
      "execution_count": null,
      "outputs": []
    },
    {
      "cell_type": "code",
      "source": [
        "# Merge X_train, Y_train into data_train.csv\n",
        "df_train = pd.concat([X_train, y_train], axis=1)\n",
        "df_train.to_csv(\"data_train.csv\")\n",
        "\n",
        "# Merge  X_test, Y_test into data_test.csv\n",
        "df_test = pd.concat([X_test, y_test], axis=1)\n",
        "df_test.to_csv(\"data_test.csv\")"
      ],
      "metadata": {
        "id": "7-Ouj_43zrne"
      },
      "execution_count": null,
      "outputs": []
    },
    {
      "cell_type": "markdown",
      "source": [
        "## Train a Model"
      ],
      "metadata": {
        "id": "B6sCkT_0pZJ-"
      }
    },
    {
      "cell_type": "code",
      "source": [
        "import pandas as pd\n",
        "import torch\n",
        "import torch.nn as nn\n",
        "from torch.utils.data import DataLoader, Dataset"
      ],
      "metadata": {
        "id": "eSx5oxlv5YUE"
      },
      "execution_count": null,
      "outputs": []
    },
    {
      "cell_type": "code",
      "source": [
        "# Dataset definition\n",
        "class TimeSeriesDataset(Dataset):\n",
        "    def __init__(self, df_x, df_y, encoder_length, prediction_length):\n",
        "        self.x = df_x.copy()\n",
        "        self.y = df_y.copy()\n",
        "        # check if self.x and self.y has the same length\n",
        "        assert len(self.x) == len(self.y), \"Input and output data must have the same length\"\n",
        "        self.encoder_length = encoder_length\n",
        "        self.prediction_length = prediction_length\n",
        "\n",
        "    def __len__(self):\n",
        "        return len(self.x) - self.encoder_length - self.prediction_length\n",
        "\n",
        "    def __getitem__(self, idx):\n",
        "        x = self.x[idx:idx + self.encoder_length] #.values\n",
        "        y = self.y[idx + self.encoder_length: idx + self.encoder_length + self.prediction_length] #.values\n",
        "        x = torch.tensor(x, dtype=torch.float32)\n",
        "        y = torch.tensor(y, dtype=torch.float32).flatten() # do not output [10,1] --> output [10], assume to have only one output\n",
        "        return x,y"
      ],
      "metadata": {
        "id": "_Dow8TuKutNa"
      },
      "execution_count": null,
      "outputs": []
    },
    {
      "cell_type": "code",
      "source": [
        "# Define LSTM Model\n",
        "class LSTMModel(nn.Module):\n",
        "    def __init__(self, input_size, hidden_size, output_size, num_layers=2, dropout=0.1):\n",
        "        super(LSTMModel, self).__init__()\n",
        "        self.lstm = nn.LSTM(input_size, hidden_size, num_layers, dropout=dropout, batch_first=True)\n",
        "        self.fc = nn.Linear(hidden_size, output_size)\n",
        "\n",
        "    def forward(self, x):\n",
        "        _, (hn, _) = self.lstm(x)\n",
        "        return self.fc(hn[-1])"
      ],
      "metadata": {
        "id": "N5Ou_l2R53yV"
      },
      "execution_count": null,
      "outputs": []
    },
    {
      "cell_type": "code",
      "source": [
        "# Get data\n",
        "df_train = pd.read_csv(\"data_train.csv\", parse_dates=[\"Datetime\"])\n",
        "#df_train = pd.read_csv(\"data_train.csv\", parse_dates=[\"Date\"])\n",
        "\n",
        "# Params\n",
        "features_inp = [col for col in df_train.keys() if col not in ['Close', 'Datetime','Date']]\n",
        "features_out = [\"Close\"]\n",
        "max_encoder_length = 60\n",
        "max_prediction_length = 10\n",
        "\n",
        "# Define Model\n",
        "input_size = len(features_inp)\n",
        "hidden_size = 16\n",
        "output_size = max_prediction_length\n",
        "model = LSTMModel(input_size, hidden_size, output_size)\n",
        "criterion = nn.MSELoss()\n",
        "optimizer = torch.optim.Adam(model.parameters(), lr=0.0001)\n",
        "\n",
        "# Create data Loader\n",
        "df_train_x = df_train[features_inp].values\n",
        "df_train_y = df_train[features_out].values\n",
        "\n",
        "# Normalize data using standar scaler\n",
        "from sklearn.preprocessing import MinMaxScaler\n",
        "input_scaler = MinMaxScaler(feature_range=(0, 1))\n",
        "df_train_x_std = input_scaler.fit_transform(df_train_x)\n",
        "output_scaler = MinMaxScaler(feature_range=(0, 1))\n",
        "df_train_y_std = output_scaler.fit_transform(df_train_y)\n",
        "\n",
        "dataset = TimeSeriesDataset(df_train_x_std, df_train_y_std, max_encoder_length, max_prediction_length)\n",
        "train_dataloader = DataLoader(dataset, batch_size=64, shuffle=True)\n",
        "#for x_batch, y_batch in train_dataloader:\n",
        "#    print(x_batch.shape, y_batch.shape)  # torch.Size([64, 60, 6]) torch.Size([64, 10, 1])\n",
        "#    break"
      ],
      "metadata": {
        "id": "BB3cyDar3s17"
      },
      "execution_count": null,
      "outputs": []
    },
    {
      "cell_type": "code",
      "source": [
        "# Training loop\n",
        "epochs = 150\n",
        "device = \"cuda\" if torch.cuda.is_available() else \"cpu\"\n",
        "model.to(device)\n",
        "\n",
        "for epoch in range(epochs):\n",
        "    model.train()\n",
        "    epoch_loss = 0\n",
        "    for x_batch, y_batch in train_dataloader:\n",
        "        x_batch, y_batch = x_batch.to(device), y_batch.to(device)\n",
        "        optimizer.zero_grad()\n",
        "        y_pred = model(x_batch)\n",
        "        loss = criterion(y_pred, y_batch)\n",
        "        loss.backward()\n",
        "        optimizer.step()\n",
        "        epoch_loss += loss.item()\n",
        "    print(f\"Epoch {epoch + 1}/{epochs}, Loss: {epoch_loss / len(train_dataloader)}\")\n",
        "\n",
        "# Save the model\n",
        "torch.save(model.state_dict(), \"lstm_model.pth\")"
      ],
      "metadata": {
        "colab": {
          "base_uri": "https://localhost:8080/"
        },
        "id": "I-mnqXPP3q1R",
        "outputId": "159329e9-1d89-4e07-f231-57522b0101f1"
      },
      "execution_count": null,
      "outputs": [
        {
          "output_type": "stream",
          "name": "stdout",
          "text": [
            "Epoch 1/150, Loss: 0.2628481458380537\n",
            "Epoch 2/150, Loss: 0.24355970576124372\n",
            "Epoch 3/150, Loss: 0.2229422648560326\n",
            "Epoch 4/150, Loss: 0.19392499665044388\n",
            "Epoch 5/150, Loss: 0.15235482746700071\n",
            "Epoch 6/150, Loss: 0.09316301943277414\n",
            "Epoch 7/150, Loss: 0.053112414999390546\n",
            "Epoch 8/150, Loss: 0.03878532743678903\n",
            "Epoch 9/150, Loss: 0.030220871228935582\n",
            "Epoch 10/150, Loss: 0.023373999791044108\n",
            "Epoch 11/150, Loss: 0.017286616430248855\n",
            "Epoch 12/150, Loss: 0.013509242031020377\n",
            "Epoch 13/150, Loss: 0.011359612975831865\n",
            "Epoch 14/150, Loss: 0.00985013069760687\n",
            "Epoch 15/150, Loss: 0.008801835993269705\n",
            "Epoch 16/150, Loss: 0.007849878859969805\n",
            "Epoch 17/150, Loss: 0.007182331474603347\n",
            "Epoch 18/150, Loss: 0.006603640512967447\n",
            "Epoch 19/150, Loss: 0.006169699255447343\n",
            "Epoch 20/150, Loss: 0.005729682563435075\n",
            "Epoch 21/150, Loss: 0.00541244136204697\n",
            "Epoch 22/150, Loss: 0.005150890048101263\n",
            "Epoch 23/150, Loss: 0.0048663516326825015\n",
            "Epoch 24/150, Loss: 0.004642139557959899\n",
            "Epoch 25/150, Loss: 0.004450387725571416\n",
            "Epoch 26/150, Loss: 0.0042383480456851\n",
            "Epoch 27/150, Loss: 0.004103045567940429\n",
            "Epoch 28/150, Loss: 0.003936688292701289\n",
            "Epoch 29/150, Loss: 0.0037820860787452955\n",
            "Epoch 30/150, Loss: 0.003688220114816191\n",
            "Epoch 31/150, Loss: 0.0035769501481345803\n",
            "Epoch 32/150, Loss: 0.003449765354711211\n",
            "Epoch 33/150, Loss: 0.0033519570759655733\n",
            "Epoch 34/150, Loss: 0.0032510490789306613\n",
            "Epoch 35/150, Loss: 0.003169011003952825\n",
            "Epoch 36/150, Loss: 0.0031125569114250676\n",
            "Epoch 37/150, Loss: 0.0030750368177047314\n",
            "Epoch 38/150, Loss: 0.0029798002588509952\n",
            "Epoch 39/150, Loss: 0.0029336902761023563\n",
            "Epoch 40/150, Loss: 0.0028470975351256303\n",
            "Epoch 41/150, Loss: 0.0028131612804981896\n",
            "Epoch 42/150, Loss: 0.0027452317562903154\n",
            "Epoch 43/150, Loss: 0.002666984737481711\n",
            "Epoch 44/150, Loss: 0.0026708133277079126\n",
            "Epoch 45/150, Loss: 0.0025460624931169288\n",
            "Epoch 46/150, Loss: 0.0025413737122742634\n",
            "Epoch 47/150, Loss: 0.0024991611036349016\n",
            "Epoch 48/150, Loss: 0.002461913210902152\n",
            "Epoch 49/150, Loss: 0.002439182750300838\n",
            "Epoch 50/150, Loss: 0.0023967222165632643\n",
            "Epoch 51/150, Loss: 0.0023409792437341136\n",
            "Epoch 52/150, Loss: 0.0023160243850587955\n",
            "Epoch 53/150, Loss: 0.002278531692869399\n",
            "Epoch 54/150, Loss: 0.002262555921608406\n",
            "Epoch 55/150, Loss: 0.002261396572169549\n",
            "Epoch 56/150, Loss: 0.0022368962604130778\n",
            "Epoch 57/150, Loss: 0.0021905746653605746\n",
            "Epoch 58/150, Loss: 0.0021830983020646394\n",
            "Epoch 59/150, Loss: 0.0021263384765435782\n",
            "Epoch 60/150, Loss: 0.0021211546604117414\n",
            "Epoch 61/150, Loss: 0.002071683510329645\n",
            "Epoch 62/150, Loss: 0.0021056187260052503\n",
            "Epoch 63/150, Loss: 0.002065824344754219\n",
            "Epoch 64/150, Loss: 0.002060804812606635\n",
            "Epoch 65/150, Loss: 0.002028237527482352\n",
            "Epoch 66/150, Loss: 0.0020326926957218434\n",
            "Epoch 67/150, Loss: 0.0020096719633998735\n",
            "Epoch 68/150, Loss: 0.001982091188009055\n",
            "Epoch 69/150, Loss: 0.0019643839815508502\n",
            "Epoch 70/150, Loss: 0.0019434087619818045\n",
            "Epoch 71/150, Loss: 0.0019357390526049542\n",
            "Epoch 72/150, Loss: 0.0019084607198272111\n",
            "Epoch 73/150, Loss: 0.0019544281860602634\n",
            "Epoch 74/150, Loss: 0.0019308755125955872\n",
            "Epoch 75/150, Loss: 0.001902204648292852\n",
            "Epoch 76/150, Loss: 0.0019485029471018967\n",
            "Epoch 77/150, Loss: 0.0018777483173663605\n",
            "Epoch 78/150, Loss: 0.0018815462727907975\n",
            "Epoch 79/150, Loss: 0.0019021574254059848\n",
            "Epoch 80/150, Loss: 0.0018543030666890292\n",
            "Epoch 81/150, Loss: 0.0018744244139184648\n",
            "Epoch 82/150, Loss: 0.0018499565139448023\n",
            "Epoch 83/150, Loss: 0.0018250155229701326\n",
            "Epoch 84/150, Loss: 0.0018420832556725112\n",
            "Epoch 85/150, Loss: 0.0018326656932432979\n",
            "Epoch 86/150, Loss: 0.0018453946477680835\n",
            "Epoch 87/150, Loss: 0.0017810082886772194\n",
            "Epoch 88/150, Loss: 0.0017837850434073018\n",
            "Epoch 89/150, Loss: 0.0018097500993325463\n",
            "Epoch 90/150, Loss: 0.0017690895199951417\n",
            "Epoch 91/150, Loss: 0.0017445905700782841\n",
            "Epoch 92/150, Loss: 0.0017498836793304192\n",
            "Epoch 93/150, Loss: 0.0017935012111370012\n",
            "Epoch 94/150, Loss: 0.001773205258496949\n",
            "Epoch 95/150, Loss: 0.0017521358611290606\n",
            "Epoch 96/150, Loss: 0.0017459397555662777\n",
            "Epoch 97/150, Loss: 0.0017507013849439627\n",
            "Epoch 98/150, Loss: 0.001721109934634406\n",
            "Epoch 99/150, Loss: 0.001708481277400663\n",
            "Epoch 100/150, Loss: 0.0017257739014413982\n",
            "Epoch 101/150, Loss: 0.0016881403631864573\n",
            "Epoch 102/150, Loss: 0.0017162949892358397\n",
            "Epoch 103/150, Loss: 0.0017000899390967668\n",
            "Epoch 104/150, Loss: 0.001683931408959599\n",
            "Epoch 105/150, Loss: 0.0017087765978122094\n",
            "Epoch 106/150, Loss: 0.0016761498013950604\n",
            "Epoch 107/150, Loss: 0.0016789047414313932\n",
            "Epoch 108/150, Loss: 0.0016742563841618456\n",
            "Epoch 109/150, Loss: 0.001650755593491683\n",
            "Epoch 110/150, Loss: 0.0016691494197145385\n",
            "Epoch 111/150, Loss: 0.0016755311066759223\n",
            "Epoch 112/150, Loss: 0.0016557575469256713\n",
            "Epoch 113/150, Loss: 0.00165471751660214\n",
            "Epoch 114/150, Loss: 0.0016566153817792546\n",
            "Epoch 115/150, Loss: 0.0016217669439150617\n",
            "Epoch 116/150, Loss: 0.0016696654888361973\n",
            "Epoch 117/150, Loss: 0.0016228647590702716\n",
            "Epoch 118/150, Loss: 0.0016272822274158727\n",
            "Epoch 119/150, Loss: 0.00161932441977046\n",
            "Epoch 120/150, Loss: 0.0016421159709592895\n",
            "Epoch 121/150, Loss: 0.0016324552619513477\n",
            "Epoch 122/150, Loss: 0.00159694914231604\n",
            "Epoch 123/150, Loss: 0.0016298255946856203\n",
            "Epoch 124/150, Loss: 0.0016029385381975685\n",
            "Epoch 125/150, Loss: 0.0015996059442360728\n",
            "Epoch 126/150, Loss: 0.0016098941933310959\n",
            "Epoch 127/150, Loss: 0.001645227950198119\n",
            "Epoch 128/150, Loss: 0.0015752459107458872\n",
            "Epoch 129/150, Loss: 0.0016036699613872563\n",
            "Epoch 130/150, Loss: 0.0015831813908111796\n",
            "Epoch 131/150, Loss: 0.0015805764859630111\n",
            "Epoch 132/150, Loss: 0.0015899117636265902\n",
            "Epoch 133/150, Loss: 0.0015915840829037271\n",
            "Epoch 134/150, Loss: 0.0015838905995412959\n",
            "Epoch 135/150, Loss: 0.0015844160730440944\n",
            "Epoch 136/150, Loss: 0.0015590788899780303\n",
            "Epoch 137/150, Loss: 0.001561053486031322\n",
            "Epoch 138/150, Loss: 0.0015519089724446804\n",
            "Epoch 139/150, Loss: 0.0015386485622071152\n",
            "Epoch 140/150, Loss: 0.0015443258002874845\n",
            "Epoch 141/150, Loss: 0.0015722664637614111\n",
            "Epoch 142/150, Loss: 0.0015364909931173865\n",
            "Epoch 143/150, Loss: 0.0015459678845286791\n",
            "Epoch 144/150, Loss: 0.001522097768446536\n",
            "Epoch 145/150, Loss: 0.0015173203834631251\n",
            "Epoch 146/150, Loss: 0.0015208585207561417\n",
            "Epoch 147/150, Loss: 0.0015503875812392612\n",
            "Epoch 148/150, Loss: 0.0015479166045310503\n",
            "Epoch 149/150, Loss: 0.001517009822528739\n",
            "Epoch 150/150, Loss: 0.0015268888992239845\n"
          ]
        }
      ]
    },
    {
      "cell_type": "markdown",
      "source": [
        "## Test the model"
      ],
      "metadata": {
        "id": "bfgcpXwLVeSx"
      }
    },
    {
      "cell_type": "code",
      "source": [
        "# Execute the model on test data and plot the results\n",
        "df_test = pd.read_csv(\"data_test.csv\", parse_dates=[\"Datetime\"])\n",
        "#df_test = pd.read_csv(\"data_train.csv\", parse_dates=[\"Datetime\"])\n",
        "\n",
        "# Create a prediciton loop\n",
        "model.eval()\n",
        "df_test_x = df_test[features_inp]\n",
        "df_test_y = df_test[features_out]\n",
        "\n",
        "y_pred_list = []\n",
        "y_true_list = []\n",
        "\n",
        "# Iterate over the dataframe\n",
        "for idx in range(len(df_test)):\n",
        "    # Take last max_encoder_values\n",
        "    if idx >= max_encoder_length:\n",
        "        x = df_test_x.iloc[idx - max_encoder_length:idx].values\n",
        "        x = input_scaler.transform(x)\n",
        "        x = torch.tensor(x, dtype=torch.float32).unsqueeze(0)\n",
        "        x = x.to(device)\n",
        "        y_pred = model(x)\n",
        "        y_pred_last = y_pred[0,-1].detach().cpu().numpy() # take the last value that is the current prediction\n",
        "        y_pred_last = output_scaler.inverse_transform(y_pred_last.reshape(-1, 1))[0][0]\n",
        "        #print(y_pred_last)\n",
        "        y = df_test_y.iloc[idx].values[0]    # take the idx value\n",
        "        y_pred_list.append(y_pred_last)\n",
        "        y_true_list.append(y)\n",
        "    #else:\n",
        "    #    y_pred_list.append(0)\n",
        "    #    y_true_list.append(df_test_y.iloc[idx].values[0])\n",
        "\n",
        "fig = go.Figure()\n",
        "fig.add_trace(go.Scatter(x=df_test.index, y=y_pred_list, mode='lines', name='Predicted'))\n",
        "fig.add_trace(go.Scatter(x=df_test.index, y=y_true_list, mode='lines', name='Actual'))\n",
        "fig.update_layout(title='Prediction vs Actual', xaxis_title='Date', yaxis_title='Price')\n",
        "fig.show()\n",
        "\n"
      ],
      "metadata": {
        "colab": {
          "base_uri": "https://localhost:8080/",
          "height": 542
        },
        "id": "6zR8sI-0Szpy",
        "outputId": "519be8c3-0be9-4dff-98c2-9796e09a4bdc"
      },
      "execution_count": null,
      "outputs": [
        {
          "output_type": "display_data",
          "data": {
            "text/html": [
              "<html>\n",
              "<head><meta charset=\"utf-8\" /></head>\n",
              "<body>\n",
              "    <div>            <script src=\"https://cdnjs.cloudflare.com/ajax/libs/mathjax/2.7.5/MathJax.js?config=TeX-AMS-MML_SVG\"></script><script type=\"text/javascript\">if (window.MathJax && window.MathJax.Hub && window.MathJax.Hub.Config) {window.MathJax.Hub.Config({SVG: {font: \"STIX-Web\"}});}</script>                <script type=\"text/javascript\">window.PlotlyConfig = {MathJaxConfig: 'local'};</script>\n",
              "        <script charset=\"utf-8\" src=\"https://cdn.plot.ly/plotly-2.35.2.min.js\"></script>                <div id=\"07f99d70-3531-4a21-9e18-f9ba8930ea03\" class=\"plotly-graph-div\" style=\"height:525px; width:100%;\"></div>            <script type=\"text/javascript\">                                    window.PLOTLYENV=window.PLOTLYENV || {};                                    if (document.getElementById(\"07f99d70-3531-4a21-9e18-f9ba8930ea03\")) {                    Plotly.newPlot(                        \"07f99d70-3531-4a21-9e18-f9ba8930ea03\",                        [{\"mode\":\"lines\",\"name\":\"Predicted\",\"x\":[0,1,2,3,4,5,6,7,8,9,10,11,12,13,14,15,16,17,18,19,20,21,22,23,24,25,26,27,28,29,30,31,32,33,34,35,36,37,38,39,40,41,42,43,44,45,46,47,48,49,50,51,52,53,54,55,56,57,58,59,60,61,62,63,64,65,66,67,68,69,70,71,72,73,74,75,76,77,78,79,80,81,82,83,84,85,86,87,88,89,90,91,92,93,94,95,96,97,98,99,100,101,102,103,104,105,106,107,108,109,110,111,112,113,114,115,116,117,118,119,120,121,122,123,124,125,126,127,128,129,130,131,132,133,134,135,136,137,138,139,140,141,142,143,144,145,146,147,148,149,150,151,152,153,154,155,156,157,158,159,160,161,162,163,164,165,166,167,168,169,170,171,172,173,174,175,176,177,178,179,180,181,182,183,184,185,186,187,188,189,190,191,192,193,194,195,196,197,198,199,200,201,202,203,204,205,206,207,208,209,210,211,212,213,214,215,216,217,218,219,220,221,222,223,224,225,226,227,228,229,230,231,232,233,234,235,236,237,238,239,240,241,242,243,244,245,246,247,248,249,250,251,252,253,254,255,256,257,258,259,260,261,262,263,264,265,266,267,268,269,270,271,272,273,274,275,276,277,278,279,280,281,282,283,284,285,286,287,288,289,290,291,292,293,294,295,296,297,298,299,300,301,302,303,304,305,306,307,308,309,310,311,312,313,314,315,316,317,318,319,320,321,322,323,324,325,326,327,328,329,330,331,332,333,334,335,336,337,338,339,340,341,342,343,344,345,346,347,348,349,350,351,352,353,354,355,356,357,358,359,360,361,362,363,364,365,366,367,368,369,370,371,372,373,374,375,376,377,378,379,380,381,382,383,384,385,386,387,388,389,390,391,392,393,394,395,396,397,398,399,400,401,402,403,404,405,406,407,408,409,410,411,412,413,414,415,416,417,418,419,420,421,422,423,424,425,426,427,428,429,430,431,432,433,434,435,436,437,438,439,440,441,442,443,444,445,446,447,448,449,450,451,452,453,454,455,456,457,458,459,460,461,462,463,464,465,466,467,468,469,470,471,472,473,474,475,476,477,478,479,480,481,482,483,484,485,486,487,488,489,490,491,492,493,494,495,496,497,498,499,500,501,502,503,504,505,506,507,508,509,510,511,512,513,514,515,516,517,518,519,520,521,522,523,524,525,526,527,528,529,530,531,532,533,534,535,536,537,538,539,540,541,542,543,544,545,546,547,548,549,550,551,552,553,554,555,556,557,558,559,560,561,562,563,564,565,566,567,568,569,570,571,572,573,574,575,576,577,578,579,580,581,582,583,584,585,586,587,588,589,590,591,592,593,594,595,596,597,598,599,600,601,602,603,604,605,606,607,608,609,610,611,612,613,614,615,616,617,618,619,620,621,622,623,624,625,626,627,628,629,630,631,632,633,634,635,636,637,638,639,640,641,642,643,644,645,646,647,648,649,650,651,652,653,654,655,656,657,658,659,660,661,662,663,664,665,666,667,668,669,670,671,672,673,674,675,676,677,678,679,680,681,682,683,684,685,686,687,688,689,690,691,692,693,694,695,696,697,698,699,700,701,702,703,704,705,706,707,708,709,710,711,712,713,714,715,716,717,718,719,720,721,722,723,724,725,726,727,728,729,730,731,732,733,734,735,736,737,738,739,740,741,742,743,744,745,746,747,748,749,750,751,752,753,754,755,756,757,758,759,760,761,762,763,764,765,766,767,768,769,770,771,772,773,774,775,776,777,778,779,780,781,782,783,784,785,786,787,788,789,790,791,792,793,794,795,796,797,798,799,800,801,802,803,804,805,806,807,808,809,810,811,812,813,814,815,816,817,818,819,820,821,822,823,824,825,826,827,828,829,830,831,832,833,834,835,836,837,838,839,840,841,842,843,844,845,846,847,848,849,850,851,852,853,854,855,856],\"y\":[14.0800142288208,14.076760292053223,14.07351303100586,14.070935249328613,14.069536209106445,14.069438934326172,14.070409774780273,14.07167911529541,14.072202682495117,14.07167911529541,14.070343971252441,14.06985092163086,14.070822715759277,14.0729341506958,14.075376510620117,14.077296257019043,14.078720092773438,14.080428123474121,14.082231521606445,14.083658218383789,14.08417797088623,14.083850860595703,14.083316802978516,14.08292007446289,14.082280158996582,14.081250190734863,14.07917594909668,14.076799392700195,14.07412338256836,14.071619033813477,14.069474220275879,14.067785263061523,14.067825317382812,14.068587303161621,14.069787979125977,14.071518898010254,14.07325267791748,14.07470417022705,14.076252937316895,14.078166961669922,14.079663276672363,14.080761909484863,14.082380294799805,14.08425521850586,14.085952758789062,14.087923049926758,14.091354370117188,14.096430778503418,14.102109909057617,14.107353210449219,14.11245346069336,14.116972923278809,14.120954513549805,14.12413215637207,14.125988960266113,14.126554489135742,14.124748229980469,14.121530532836914,14.11699104309082,14.112051963806152,14.107488632202148,14.10484504699707,14.10421371459961,14.10474967956543,14.10485553741455,14.105118751525879,14.10539436340332,14.106218338012695,14.107338905334473,14.108444213867188,14.109874725341797,14.111725807189941,14.113547325134277,14.115399360656738,14.116720199584961,14.118173599243164,14.11964225769043,14.120743751525879,14.121309280395508,14.119157791137695,14.114235877990723,14.107583999633789,14.099808692932129,14.092204093933105,14.084568977355957,14.08042049407959,14.080365180969238,14.083671569824219,14.089004516601562,14.09496021270752,14.10092830657959,14.104669570922852,14.1068696975708,14.107583999633789,14.107821464538574,14.108059883117676,14.109384536743164,14.11153793334961,14.114355087280273,14.11715316772461,14.119647026062012,14.122496604919434,14.125933647155762,14.129776954650879,14.133871078491211,14.137298583984375,14.140393257141113,14.142965316772461,14.144936561584473,14.146624565124512,14.147709846496582,14.147968292236328,14.147409439086914,14.145923614501953,14.14360237121582,14.141683578491211,14.140864372253418,14.14111614227295,14.143067359924316,14.146685600280762,14.150945663452148,14.155332565307617,14.15920639038086,14.161810874938965,14.163344383239746,14.164006233215332,14.163795471191406,14.162897109985352,14.161483764648438,14.15960693359375,14.15746784210205,14.155900001525879,14.154825210571289,14.154031753540039,14.153854370117188,14.154240608215332,14.154984474182129,14.156167984008789,14.157639503479004,14.158784866333008,14.159435272216797,14.159038543701172,14.157752990722656,14.15625286102295,14.155049324035645,14.153768539428711,14.15272045135498,14.152274131774902,14.152677536010742,14.153658866882324,14.155458450317383,14.159222602844238,14.164965629577637,14.171056747436523,14.176502227783203,14.181473731994629,14.184370040893555,14.184632301330566,14.184427261352539,14.184200286865234,14.18461799621582,14.18506908416748,14.183850288391113,14.181661605834961,14.179548263549805,14.179011344909668,14.180517196655273,14.183116912841797,14.184901237487793,14.186056137084961,14.186921119689941,14.186887741088867,14.18664836883545,14.185850143432617,14.18333625793457,14.18050765991211,14.177895545959473,14.175362586975098,14.172927856445312,14.170302391052246,14.168052673339844,14.166731834411621,14.165288925170898,14.164161682128906,14.1636962890625,14.164340019226074,14.16969108581543,14.178994178771973,14.190567970275879,14.203065872192383,14.214929580688477,14.225192070007324,14.23292350769043,14.236933708190918,14.237319946289062,14.234811782836914,14.230212211608887,14.224024772644043,14.216841697692871,14.208788871765137,14.201555252075195,14.196093559265137,14.194247245788574,14.196880340576172,14.202794075012207,14.211722373962402,14.222166061401367,14.233474731445312,14.24454402923584,14.25305461883545,14.256134033203125,14.254822731018066,14.250970840454102,14.246061325073242,14.240523338317871,14.23502254486084,14.228858947753906,14.22107219696045,14.212822914123535,14.205877304077148,14.200878143310547,14.197617530822754,14.19571304321289,14.194259643554688,14.192583084106445,14.19056510925293,14.188558578491211,14.18681526184082,14.18607234954834,14.185945510864258,14.186458587646484,14.18783950805664,14.189505577087402,14.190951347351074,14.192465782165527,14.193355560302734,14.1935396194458,14.193340301513672,14.192917823791504,14.192638397216797,14.192536354064941,14.19314193725586,14.194685935974121,14.19727897644043,14.200343132019043,14.204050064086914,14.208032608032227,14.212177276611328,14.216089248657227,14.219253540039062,14.221088409423828,14.220995903015137,14.218727111816406,14.213906288146973,14.207536697387695,14.201499938964844,14.196527481079102,14.191466331481934,14.186800956726074,14.182762145996094,14.178272247314453,14.17286491394043,14.166522026062012,14.160844802856445,14.155097961425781,14.1473970413208,14.140012741088867,14.134140968322754,14.13082218170166,14.12967300415039,14.12906265258789,14.128692626953125,14.127519607543945,14.125250816345215,14.122654914855957,14.120817184448242,14.120344161987305,14.121103286743164,14.122051239013672,14.12258243560791,14.123180389404297,14.123278617858887,14.122888565063477,14.121368408203125,14.119553565979004,14.117921829223633,14.116081237792969,14.114235877990723,14.11672306060791,14.125869750976562,14.14104175567627,14.161169052124023,14.183151245117188,14.2034273147583,14.220650672912598,14.234822273254395,14.245658874511719,14.253676414489746,14.259328842163086,14.263031005859375,14.264633178710938,14.264110565185547,14.263395309448242,14.262298583984375,14.26138687133789,14.260722160339355,14.260231018066406,14.26014518737793,14.260583877563477,14.261171340942383,14.2623291015625,14.264331817626953,14.266180038452148,14.268385887145996,14.271242141723633,14.274332046508789,14.277206420898438,14.279480934143066,14.280660629272461,14.280950546264648,14.281850814819336,14.283689498901367,14.28625774383545,14.289731979370117,14.293229103088379,14.295571327209473,14.296990394592285,14.298080444335938,14.298640251159668,14.298677444458008,14.29829216003418,14.298322677612305,14.299560546875,14.302373886108398,14.30581283569336,14.308952331542969,14.312002182006836,14.315211296081543,14.31844425201416,14.320371627807617,14.320889472961426,14.319389343261719,14.316218376159668,14.312191009521484,14.308690071105957,14.30617904663086,14.304931640625,14.304743766784668,14.305168151855469,14.30566120147705,14.306488037109375,14.307373046875,14.307804107666016,14.308074951171875,14.307709693908691,14.308117866516113,14.309094429016113,14.309318542480469,14.308380126953125,14.307560920715332,14.306522369384766,14.305770874023438,14.305550575256348,14.306299209594727,14.307527542114258,14.308646202087402,14.309967041015625,14.311264038085938,14.312060356140137,14.313465118408203,14.315852165222168,14.318635940551758,14.320683479309082,14.319955825805664,14.31748104095459,14.314261436462402,14.310946464538574,14.307193756103516,14.303024291992188,14.299245834350586,14.296283721923828,14.294258117675781,14.291552543640137,14.289579391479492,14.28829288482666,14.28752613067627,14.287002563476562,14.286595344543457,14.285860061645508,14.284687042236328,14.281009674072266,14.273314476013184,14.263248443603516,14.252790451049805,14.243429183959961,14.235535621643066,14.228718757629395,14.223736763000488,14.222233772277832,14.222089767456055,14.220534324645996,14.218121528625488,14.21667194366455,14.216485977172852,14.217300415039062,14.217409133911133,14.21737003326416,14.217976570129395,14.218559265136719,14.220053672790527,14.222686767578125,14.226654052734375,14.231169700622559,14.235027313232422,14.237457275390625,14.238847732543945,14.24045467376709,14.241983413696289,14.24282455444336,14.245391845703125,14.250290870666504,14.255539894104004,14.259872436523438,14.26201343536377,14.262223243713379,14.26129150390625,14.25914192199707,14.256332397460938,14.254249572753906,14.253396034240723,14.253580093383789,14.254549026489258,14.256237030029297,14.258041381835938,14.259211540222168,14.260259628295898,14.261614799499512,14.262650489807129,14.263051986694336,14.262986183166504,14.262214660644531,14.260930061340332,14.259517669677734,14.258061408996582,14.256708145141602,14.25521469116211,14.254010200500488,14.253137588500977,14.252409934997559,14.251020431518555,14.248004913330078,14.244913101196289,14.242208480834961,14.239691734313965,14.237625122070312,14.236928939819336,14.237690925598145,14.239603996276855,14.24134635925293,14.242807388305664,14.244941711425781,14.24712085723877,14.249217987060547,14.251484870910645,14.252585411071777,14.253009796142578,14.25417423248291,14.2549467086792,14.255446434020996,14.255577087402344,14.253461837768555,14.251397132873535,14.251056671142578,14.254410743713379,14.259252548217773,14.265071868896484,14.270374298095703,14.274087905883789,14.276986122131348,14.276830673217773,14.274112701416016,14.270955085754395,14.267483711242676,14.264333724975586,14.262894630432129,14.262347221374512,14.262472152709961,14.263199806213379,14.264861106872559,14.267504692077637,14.270427703857422,14.273311614990234,14.27088737487793,14.268181800842285,14.266355514526367,14.26523494720459,14.265055656433105,14.264971733093262,14.265420913696289,14.265522003173828,14.265632629394531,14.2654390335083,14.264750480651855,14.261860847473145,14.257906913757324,14.254671096801758,14.251812934875488,14.250005722045898,14.248315811157227,14.247159004211426,14.246709823608398,14.247321128845215,14.247720718383789,14.246807098388672,14.244865417480469,14.242152214050293,14.240742683410645,14.241619110107422,14.244861602783203,14.250147819519043,14.256278038024902,14.261631965637207,14.265307426452637,14.267280578613281,14.266965866088867,14.264510154724121,14.261609077453613,14.259307861328125,14.25843334197998,14.258530616760254,14.259214401245117,14.259693145751953,14.259852409362793,14.258190155029297,14.254067420959473,14.24882984161377,14.244029998779297,14.240324974060059,14.238099098205566,14.236104011535645,14.233856201171875,14.23189926147461,14.231356620788574,14.231795310974121,14.232623100280762,14.233120918273926,14.233623504638672,14.234610557556152,14.23591423034668,14.237677574157715,14.240496635437012,14.243653297424316,14.24657917022705,14.247672080993652,14.247032165527344,14.245538711547852,14.244091033935547,14.244354248046875,14.24555492401123,14.245696067810059,14.244915962219238,14.243658065795898,14.2412109375,14.23710823059082,14.231574058532715,14.22708511352539,14.224604606628418,14.223255157470703,14.22303581237793,14.223220825195312,14.223722457885742,14.223971366882324,14.223428726196289,14.223904609680176,14.226627349853516,14.231796264648438,14.238399505615234,14.24476432800293,14.250094413757324,14.252922058105469,14.254091262817383,14.253758430480957,14.251326560974121,14.246502876281738,14.240690231323242,14.23452377319336,14.228483200073242,14.223127365112305,14.218559265136719,14.214329719543457,14.20948314666748,14.204782485961914,14.200373649597168,14.196081161499023,14.204925537109375,14.227193832397461,14.255922317504883,14.288581848144531,14.319250106811523,14.345990180969238,14.36601448059082,14.376477241516113,14.379532814025879,14.376849174499512,14.37152099609375,14.365943908691406,14.35948371887207,14.353322982788086,14.348132133483887,14.344393730163574,14.342185020446777,14.341653823852539,14.342157363891602,14.343661308288574,14.3454008102417,14.34676742553711,14.346296310424805,14.344889640808105,14.342318534851074,14.338725090026855,14.33523941040039,14.33283805847168,14.331753730773926,14.332123756408691,14.334521293640137,14.337324142456055,14.340163230895996,14.342495918273926,14.34383773803711,14.346179008483887,14.348085403442383,14.348573684692383,14.347984313964844,14.346694946289062,14.345762252807617,14.345335006713867,14.34531021118164,14.345549583435059,14.345925331115723,14.3462553024292,14.345073699951172,14.342427253723145,14.33857536315918,14.333970069885254,14.329118728637695,14.324399948120117,14.320013046264648,14.315825462341309,14.311685562133789,14.3081693649292,14.305583953857422,14.30360221862793,14.303384780883789,14.304162979125977,14.304611206054688,14.305508613586426,14.307108879089355,14.309408187866211,14.312438011169434,14.315506935119629,14.318334579467773,14.321367263793945,14.323542594909668,14.324654579162598,14.325336456298828,14.325475692749023,14.323749542236328,14.319398880004883,14.315313339233398,14.311186790466309,14.306413650512695,14.30134105682373,14.29641056060791,14.292363166809082,14.288762092590332,14.285470008850098,14.280899047851562,14.276223182678223,14.271955490112305,14.267716407775879,14.263498306274414,14.25955581665039,14.25639820098877,14.254158973693848,14.251286506652832,14.246637344360352,14.241122245788574,14.23414134979248,14.224255561828613,14.212286949157715,14.20142650604248,14.191822052001953,14.184920310974121,14.182097434997559,14.183181762695312,14.187753677368164,14.205500602722168,14.234416961669922,14.270480155944824,14.304573059082031,14.333852767944336,14.354418754577637,14.366264343261719,14.371190071105957,14.370034217834473,14.364336013793945,14.354812622070312,14.344200134277344,14.335577964782715,14.32866096496582,14.321669578552246,14.314257621765137,14.308485984802246,14.304525375366211,14.302169799804688,14.300591468811035,14.298537254333496,14.29698657989502,14.296632766723633,14.298454284667969,14.301115989685059,14.304121017456055,14.30736255645752,14.310857772827148,14.314355850219727,14.319198608398438,14.325006484985352,14.330796241760254,14.336009979248047,14.340941429138184,14.345579147338867,14.350462913513184,14.353998184204102,14.355422019958496,14.355315208435059,14.354016304016113,14.351397514343262,14.348966598510742,14.346976280212402,14.345040321350098,14.343758583068848,14.342485427856445,14.341798782348633,14.341798782348633,14.342156410217285,14.342232704162598,14.342508316040039,14.343029022216797,14.344244956970215,14.347900390625,14.353344917297363,14.36025333404541,14.369054794311523,14.378215789794922,14.38644027709961,14.393184661865234,14.398158073425293,14.401856422424316,14.405129432678223,14.407605171203613,14.409132957458496,14.410353660583496,14.411372184753418,14.412883758544922,14.414546012878418,14.41663932800293,14.420248031616211,14.425252914428711,14.430597305297852,14.435081481933594,14.438117980957031,14.440557479858398,14.444258689880371,14.4495210647583,14.457040786743164,14.465129852294922,14.472063064575195,14.475987434387207,14.477822303771973,14.47673225402832,14.473040580749512,14.468144416809082,14.463107109069824,14.458353996276855,14.45464038848877,14.452193260192871,14.450907707214355,14.450780868530273,14.4508638381958,14.451207160949707,14.451763153076172,14.452749252319336,14.454254150390625,14.455999374389648,14.457505226135254,14.458358764648438,14.459240913391113],\"type\":\"scatter\"},{\"mode\":\"lines\",\"name\":\"Actual\",\"x\":[0,1,2,3,4,5,6,7,8,9,10,11,12,13,14,15,16,17,18,19,20,21,22,23,24,25,26,27,28,29,30,31,32,33,34,35,36,37,38,39,40,41,42,43,44,45,46,47,48,49,50,51,52,53,54,55,56,57,58,59,60,61,62,63,64,65,66,67,68,69,70,71,72,73,74,75,76,77,78,79,80,81,82,83,84,85,86,87,88,89,90,91,92,93,94,95,96,97,98,99,100,101,102,103,104,105,106,107,108,109,110,111,112,113,114,115,116,117,118,119,120,121,122,123,124,125,126,127,128,129,130,131,132,133,134,135,136,137,138,139,140,141,142,143,144,145,146,147,148,149,150,151,152,153,154,155,156,157,158,159,160,161,162,163,164,165,166,167,168,169,170,171,172,173,174,175,176,177,178,179,180,181,182,183,184,185,186,187,188,189,190,191,192,193,194,195,196,197,198,199,200,201,202,203,204,205,206,207,208,209,210,211,212,213,214,215,216,217,218,219,220,221,222,223,224,225,226,227,228,229,230,231,232,233,234,235,236,237,238,239,240,241,242,243,244,245,246,247,248,249,250,251,252,253,254,255,256,257,258,259,260,261,262,263,264,265,266,267,268,269,270,271,272,273,274,275,276,277,278,279,280,281,282,283,284,285,286,287,288,289,290,291,292,293,294,295,296,297,298,299,300,301,302,303,304,305,306,307,308,309,310,311,312,313,314,315,316,317,318,319,320,321,322,323,324,325,326,327,328,329,330,331,332,333,334,335,336,337,338,339,340,341,342,343,344,345,346,347,348,349,350,351,352,353,354,355,356,357,358,359,360,361,362,363,364,365,366,367,368,369,370,371,372,373,374,375,376,377,378,379,380,381,382,383,384,385,386,387,388,389,390,391,392,393,394,395,396,397,398,399,400,401,402,403,404,405,406,407,408,409,410,411,412,413,414,415,416,417,418,419,420,421,422,423,424,425,426,427,428,429,430,431,432,433,434,435,436,437,438,439,440,441,442,443,444,445,446,447,448,449,450,451,452,453,454,455,456,457,458,459,460,461,462,463,464,465,466,467,468,469,470,471,472,473,474,475,476,477,478,479,480,481,482,483,484,485,486,487,488,489,490,491,492,493,494,495,496,497,498,499,500,501,502,503,504,505,506,507,508,509,510,511,512,513,514,515,516,517,518,519,520,521,522,523,524,525,526,527,528,529,530,531,532,533,534,535,536,537,538,539,540,541,542,543,544,545,546,547,548,549,550,551,552,553,554,555,556,557,558,559,560,561,562,563,564,565,566,567,568,569,570,571,572,573,574,575,576,577,578,579,580,581,582,583,584,585,586,587,588,589,590,591,592,593,594,595,596,597,598,599,600,601,602,603,604,605,606,607,608,609,610,611,612,613,614,615,616,617,618,619,620,621,622,623,624,625,626,627,628,629,630,631,632,633,634,635,636,637,638,639,640,641,642,643,644,645,646,647,648,649,650,651,652,653,654,655,656,657,658,659,660,661,662,663,664,665,666,667,668,669,670,671,672,673,674,675,676,677,678,679,680,681,682,683,684,685,686,687,688,689,690,691,692,693,694,695,696,697,698,699,700,701,702,703,704,705,706,707,708,709,710,711,712,713,714,715,716,717,718,719,720,721,722,723,724,725,726,727,728,729,730,731,732,733,734,735,736,737,738,739,740,741,742,743,744,745,746,747,748,749,750,751,752,753,754,755,756,757,758,759,760,761,762,763,764,765,766,767,768,769,770,771,772,773,774,775,776,777,778,779,780,781,782,783,784,785,786,787,788,789,790,791,792,793,794,795,796,797,798,799,800,801,802,803,804,805,806,807,808,809,810,811,812,813,814,815,816,817,818,819,820,821,822,823,824,825,826,827,828,829,830,831,832,833,834,835,836,837,838,839,840,841,842,843,844,845,846,847,848,849,850,851,852,853,854,855,856],\"y\":[14.052000045776367,14.055999755859377,14.05799961090088,14.062000274658203,14.055999755859377,14.0600004196167,14.050000190734863,14.050000190734863,14.043999671936035,14.05799961090088,14.064000129699709,14.071999549865724,14.065999984741213,14.062000274658203,14.05799961090088,14.06999969482422,14.071999549865724,14.06999969482422,14.0600004196167,14.062000274658203,14.067999839782717,14.065999984741213,14.067999839782717,14.062000274658203,14.053999900817873,14.053999900817873,14.04800033569336,14.050000190734863,14.053999900817873,14.043999671936035,14.062000274658203,14.062000274658203,14.055999755859377,14.062000274658203,14.0600004196167,14.0600004196167,14.062000274658203,14.06999969482422,14.067999839782717,14.062000274658203,14.074000358581545,14.07800006866455,14.076000213623049,14.074000358581545,14.092000007629396,14.100000381469728,14.104000091552734,14.093999862670898,14.104000091552734,14.107999801635742,14.109999656677246,14.11400032043457,14.104000091552734,14.104000091552734,14.093999862670898,14.092000007629396,14.086000442504885,14.088000297546388,14.08199977874756,14.10200023651123,14.107999801635742,14.100000381469728,14.092000007629396,14.088000297546388,14.09000015258789,14.095999717712402,14.100000381469728,14.092000007629396,14.10200023651123,14.104000091552734,14.100000381469728,14.104000091552734,14.100000381469728,14.104000091552734,14.112000465393066,14.105999946594238,14.109999656677246,14.088000297546388,14.065999984741213,14.067999839782717,14.064000129699709,14.06999969482422,14.055999755859377,14.083999633789062,14.088000297546388,14.100000381469728,14.100000381469728,14.093999862670898,14.10200023651123,14.083999633789062,14.086000442504885,14.083999633789062,14.09000015258789,14.092000007629396,14.104000091552734,14.105999946594238,14.112000465393066,14.11400032043457,14.104000091552734,14.116000175476074,14.119999885559082,14.12399959564209,14.133999824523926,14.119999885559082,14.130000114440918,14.130000114440918,14.130000114440918,14.13599967956543,14.133999824523926,14.12600040435791,14.130000114440918,14.12600040435791,14.118000030517578,14.128000259399414,14.133999824523926,14.133999824523926,14.142000198364258,14.156000137329102,14.14799976348877,14.156000137329102,14.149999618530272,14.149999618530272,14.14799976348877,14.14799976348877,14.144000053405762,14.14799976348877,14.144000053405762,14.14799976348877,14.140000343322754,14.142000198364258,14.145999908447266,14.142000198364258,14.14799976348877,14.14799976348877,14.14799976348877,14.152000427246094,14.149999618530272,14.149999618530272,14.14799976348877,14.142000198364258,14.140000343322754,14.137999534606934,14.144000053405762,14.142000198364258,14.131999969482422,14.145999908447266,14.144000053405762,14.14799976348877,14.145999908447266,14.163999557495115,14.178000450134276,14.175999641418455,14.17199993133545,14.17199993133545,14.173999786376951,14.14799976348877,14.170000076293944,14.170000076293944,14.18000030517578,14.184000015258787,14.163999557495115,14.157999992370604,14.166000366210938,14.173999786376951,14.185999870300291,14.1899995803833,14.18000030517578,14.16800022125244,14.184000015258787,14.16800022125244,14.17199993133545,14.178000450134276,14.156000137329102,14.166000366210938,14.161999702453612,14.156000137329102,14.15999984741211,14.154000282287598,14.152000427246094,14.157999992370604,14.156000137329102,14.149999618530272,14.157999992370604,14.157999992370604,14.170000076293944,14.215999603271484,14.222000122070312,14.223999977111816,14.229999542236328,14.223999977111816,14.22599983215332,14.21399974822998,14.20400047302246,14.20400047302246,14.20400047302246,14.194000244140623,14.194000244140623,14.175999641418455,14.187999725341797,14.184000015258787,14.206000328063965,14.227999687194824,14.223999977111816,14.241999626159668,14.239999771118164,14.253999710083008,14.26200008392334,14.255999565124512,14.22599983215332,14.211999893188477,14.222000122070312,14.229999542236328,14.220000267028809,14.222000122070312,14.215999603271484,14.19200038909912,14.182000160217283,14.19200038909912,14.199999809265137,14.197999954223633,14.194000244140623,14.185999870300291,14.182000160217283,14.175999641418455,14.17199993133545,14.18000030517578,14.182000160217283,14.182000160217283,14.18000030517578,14.19200038909912,14.184000015258787,14.185999870300291,14.1899995803833,14.185999870300291,14.18000030517578,14.184000015258787,14.185999870300291,14.184000015258787,14.182000160217283,14.185999870300291,14.196000099182127,14.199999809265137,14.196000099182127,14.208000183105469,14.208000183105469,14.215999603271484,14.215999603271484,14.215999603271484,14.211999893188477,14.20400047302246,14.19200038909912,14.182000160217283,14.17199993133545,14.182000160217283,14.19200038909912,14.178000450134276,14.16800022125244,14.178000450134276,14.156000137329102,14.161999702453612,14.131999969482422,14.145999908447266,14.140000343322754,14.104000091552734,14.118000030517578,14.119999885559082,14.130000114440918,14.131999969482422,14.12399959564209,14.11400032043457,14.118000030517578,14.097999572753906,14.104000091552734,14.10200023651123,14.116000175476074,14.116000175476074,14.112000465393066,14.10200023651123,14.107999801635742,14.112000465393066,14.109999656677246,14.095999717712402,14.100000381469728,14.100000381469728,14.100000381469728,14.09000015258789,14.109999656677246,14.18000030517578,14.194000244140623,14.21399974822998,14.223999977111816,14.220000267028809,14.218000411987305,14.232000350952148,14.239999771118164,14.232000350952148,14.25,14.244000434875488,14.253999710083008,14.236000061035156,14.260000228881836,14.251999855041504,14.260000228881836,14.260000228881836,14.26200008392334,14.260000228881836,14.26200008392334,14.26200008392334,14.26200008392334,14.276000022888184,14.263999938964844,14.272000312805176,14.277999877929688,14.277999877929688,14.279999732971191,14.279999732971191,14.277999877929688,14.272000312805176,14.284000396728516,14.291999816894531,14.291999816894531,14.305999755859377,14.302000045776367,14.29599952697754,14.293999671936035,14.300000190734863,14.29800033569336,14.300000190734863,14.293999671936035,14.29599952697754,14.3100004196167,14.31999969482422,14.324000358581545,14.315999984741213,14.31999969482422,14.32800006866455,14.333999633789062,14.31999969482422,14.315999984741213,14.312000274658203,14.302000045776367,14.29800033569336,14.30799961090088,14.3100004196167,14.317999839782717,14.312000274658203,14.317999839782717,14.3100004196167,14.315999984741213,14.312000274658203,14.312000274658203,14.3100004196167,14.305999755859377,14.3100004196167,14.324000358581545,14.30799961090088,14.29800033569336,14.305999755859377,14.3100004196167,14.30799961090088,14.312000274658203,14.31999969482422,14.31999969482422,14.3100004196167,14.315999984741213,14.324000358581545,14.305999755859377,14.32800006866455,14.32800006866455,14.329999923706056,14.329999923706056,14.30799961090088,14.29800033569336,14.30799961090088,14.302000045776367,14.303999900817873,14.291999816894531,14.300000190734863,14.29599952697754,14.30799961090088,14.281999588012695,14.289999961853027,14.293999671936035,14.29599952697754,14.289999961853027,14.289999961853027,14.28600025177002,14.281999588012695,14.277999877929688,14.232000350952148,14.222000122070312,14.220000267028809,14.232000350952148,14.22599983215332,14.229999542236328,14.21399974822998,14.239999771118164,14.239999771118164,14.210000038146973,14.20199966430664,14.21399974822998,14.218000411987305,14.229999542236328,14.208000183105469,14.210000038146973,14.218000411987305,14.208000183105469,14.222000122070312,14.232000350952148,14.234000205993652,14.244000434875488,14.232000350952148,14.227999687194824,14.22599983215332,14.23799991607666,14.246000289916992,14.232000350952148,14.25,14.27400016784668,14.260000228881836,14.260000228881836,14.248000144958496,14.248000144958496,14.25,14.241999626159668,14.246000289916992,14.248000144958496,14.26200008392334,14.258000373840332,14.26200008392334,14.258000373840332,14.26200008392334,14.258000373840332,14.258000373840332,14.26200008392334,14.260000228881836,14.258000373840332,14.258000373840332,14.253999710083008,14.251999855041504,14.253999710083008,14.25,14.25,14.248000144958496,14.251999855041504,14.25,14.251999855041504,14.248000144958496,14.223999977111816,14.232000350952148,14.236000061035156,14.232000350952148,14.229999542236328,14.241999626159668,14.246000289916992,14.251999855041504,14.239999771118164,14.23799991607666,14.246000289916992,14.25,14.241999626159668,14.25,14.246000289916992,14.241999626159668,14.260000228881836,14.255999565124512,14.248000144958496,14.263999938964844,14.227999687194824,14.244000434875488,14.253999710083008,14.272000312805176,14.277999877929688,14.284000396728516,14.27400016784668,14.265999794006348,14.284000396728516,14.26200008392334,14.239999771118164,14.258000373840332,14.260000228881836,14.251999855041504,14.267999649047852,14.270000457763672,14.265999794006348,14.267999649047852,14.272000312805176,14.279999732971191,14.277999877929688,14.276000022888184,14.279999732971191,14.258000373840332,14.270000457763672,14.26200008392334,14.27400016784668,14.263999938964844,14.267999649047852,14.255999565124512,14.263999938964844,14.26200008392334,14.265999794006348,14.241999626159668,14.246000289916992,14.246000289916992,14.248000144958496,14.25,14.25,14.239999771118164,14.25,14.253999710083008,14.251999855041504,14.229999542236328,14.234000205993652,14.227999687194824,14.236000061035156,14.253999710083008,14.265999794006348,14.270000457763672,14.272000312805176,14.26200008392334,14.260000228881836,14.258000373840332,14.253999710083008,14.239999771118164,14.25,14.251999855041504,14.270000457763672,14.260000228881836,14.265999794006348,14.258000373840332,14.25,14.253999710083008,14.229999542236328,14.222000122070312,14.236000061035156,14.236000061035156,14.23799991607666,14.236000061035156,14.220000267028809,14.222000122070312,14.239999771118164,14.23799991607666,14.236000061035156,14.227999687194824,14.232000350952148,14.236000061035156,14.236000061035156,14.234000205993652,14.251999855041504,14.246000289916992,14.248000144958496,14.23799991607666,14.227999687194824,14.22599983215332,14.23799991607666,14.25,14.255999565124512,14.236000061035156,14.236000061035156,14.232000350952148,14.227999687194824,14.211999893188477,14.211999893188477,14.223999977111816,14.229999542236328,14.22599983215332,14.22599983215332,14.218000411987305,14.222000122070312,14.222000122070312,14.206000328063965,14.220000267028809,14.239999771118164,14.248000144958496,14.260000228881836,14.25,14.255999565124512,14.232000350952148,14.239999771118164,14.23799991607666,14.236000061035156,14.215999603271484,14.21399974822998,14.215999603271484,14.21399974822998,14.211999893188477,14.211999893188477,14.206000328063965,14.194000244140623,14.1899995803833,14.184000015258787,14.182000160217283,14.178000450134276,14.37399959564209,14.347999572753906,14.37399959564209,14.37399959564209,14.37600040435791,14.37399959564209,14.338000297546388,14.333999633789062,14.33199977874756,14.336000442504885,14.350000381469728,14.345999717712402,14.34000015258789,14.35200023651123,14.35200023651123,14.354000091552734,14.362000465393066,14.357999801635742,14.354000091552734,14.36400032043457,14.359999656677246,14.342000007629396,14.338000297546388,14.34000015258789,14.33199977874756,14.338000297546388,14.34000015258789,14.347999572753906,14.345999717712402,14.362000465393066,14.35200023651123,14.357999801635742,14.354000091552734,14.343999862670898,14.362000465393066,14.362000465393066,14.343999862670898,14.350000381469728,14.343999862670898,14.35200023651123,14.359999656677246,14.357999801635742,14.354000091552734,14.355999946594238,14.357999801635742,14.345999717712402,14.329999923706056,14.333999633789062,14.324000358581545,14.32800006866455,14.317999839782717,14.324000358581545,14.317999839782717,14.312000274658203,14.312000274658203,14.315999984741213,14.302000045776367,14.321999549865724,14.31999969482422,14.3100004196167,14.312000274658203,14.324000358581545,14.31999969482422,14.326000213623049,14.32800006866455,14.321999549865724,14.33199977874756,14.329999923706056,14.324000358581545,14.324000358581545,14.32800006866455,14.324000358581545,14.293999671936035,14.30799961090088,14.312000274658203,14.303999900817873,14.289999961853027,14.289999961853027,14.29599952697754,14.284000396728516,14.289999961853027,14.276000022888184,14.265999794006348,14.28600025177002,14.26200008392334,14.260000228881836,14.255999565124512,14.258000373840332,14.251999855041504,14.251999855041504,14.220000267028809,14.227999687194824,14.215999603271484,14.187999725341797,14.157999992370604,14.185999870300291,14.173999786376951,14.175999641418455,14.196000099182127,14.20199966430664,14.206000328063965,14.229999542236328,14.284000396728516,14.371999740600586,14.369999885559082,14.343999862670898,14.383999824523926,14.329999923706056,14.315999984741213,14.32800006866455,14.321999549865724,14.324000358581545,14.3100004196167,14.326000213623049,14.338000297546388,14.31999969482422,14.29800033569336,14.29599952697754,14.315999984741213,14.312000274658203,14.315999984741213,14.29599952697754,14.29800033569336,14.300000190734863,14.324000358581545,14.315999984741213,14.317999839782717,14.31999969482422,14.32800006866455,14.317999839782717,14.343999862670898,14.345999717712402,14.35200023651123,14.343999862670898,14.350000381469728,14.36400032043457,14.366000175476074,14.36400032043457,14.350000381469728,14.345999717712402,14.350000381469728,14.34000015258789,14.345999717712402,14.355999946594238,14.345999717712402,14.355999946594238,14.350000381469728,14.350000381469728,14.355999946594238,14.354000091552734,14.347999572753906,14.35200023651123,14.355999946594238,14.35200023651123,14.37600040435791,14.390000343322754,14.381999969482422,14.416000366210938,14.411999702453612,14.406000137329102,14.406000137329102,14.402000427246094,14.411999702453612,14.413999557495115,14.416000366210938,14.41800022125244,14.41800022125244,14.42199993133545,14.43000030517578,14.435999870300291,14.43000030517578,14.449999809265137,14.460000038146973,14.460000038146973,14.458000183105469,14.444000244140623,14.449999809265137,14.465999603271484,14.489999771118164,14.494000434875488,14.517999649047852,14.496000289916992,14.486000061035156,14.473999977111816,14.470000267028809,14.460000038146973,14.449999809265137,14.465999603271484,14.461999893188477,14.479999542236328,14.47599983215332,14.470000267028809,14.479999542236328,14.468000411987305,14.47599983215332,14.468000411987305,14.477999687194824,14.473999977111816,14.48799991607666,14.477999687194824,14.47599983215332,14.472000122070312,14.477999687194824,14.465999603271484],\"type\":\"scatter\"}],                        {\"template\":{\"data\":{\"histogram2dcontour\":[{\"type\":\"histogram2dcontour\",\"colorbar\":{\"outlinewidth\":0,\"ticks\":\"\"},\"colorscale\":[[0.0,\"#0d0887\"],[0.1111111111111111,\"#46039f\"],[0.2222222222222222,\"#7201a8\"],[0.3333333333333333,\"#9c179e\"],[0.4444444444444444,\"#bd3786\"],[0.5555555555555556,\"#d8576b\"],[0.6666666666666666,\"#ed7953\"],[0.7777777777777778,\"#fb9f3a\"],[0.8888888888888888,\"#fdca26\"],[1.0,\"#f0f921\"]]}],\"choropleth\":[{\"type\":\"choropleth\",\"colorbar\":{\"outlinewidth\":0,\"ticks\":\"\"}}],\"histogram2d\":[{\"type\":\"histogram2d\",\"colorbar\":{\"outlinewidth\":0,\"ticks\":\"\"},\"colorscale\":[[0.0,\"#0d0887\"],[0.1111111111111111,\"#46039f\"],[0.2222222222222222,\"#7201a8\"],[0.3333333333333333,\"#9c179e\"],[0.4444444444444444,\"#bd3786\"],[0.5555555555555556,\"#d8576b\"],[0.6666666666666666,\"#ed7953\"],[0.7777777777777778,\"#fb9f3a\"],[0.8888888888888888,\"#fdca26\"],[1.0,\"#f0f921\"]]}],\"heatmap\":[{\"type\":\"heatmap\",\"colorbar\":{\"outlinewidth\":0,\"ticks\":\"\"},\"colorscale\":[[0.0,\"#0d0887\"],[0.1111111111111111,\"#46039f\"],[0.2222222222222222,\"#7201a8\"],[0.3333333333333333,\"#9c179e\"],[0.4444444444444444,\"#bd3786\"],[0.5555555555555556,\"#d8576b\"],[0.6666666666666666,\"#ed7953\"],[0.7777777777777778,\"#fb9f3a\"],[0.8888888888888888,\"#fdca26\"],[1.0,\"#f0f921\"]]}],\"heatmapgl\":[{\"type\":\"heatmapgl\",\"colorbar\":{\"outlinewidth\":0,\"ticks\":\"\"},\"colorscale\":[[0.0,\"#0d0887\"],[0.1111111111111111,\"#46039f\"],[0.2222222222222222,\"#7201a8\"],[0.3333333333333333,\"#9c179e\"],[0.4444444444444444,\"#bd3786\"],[0.5555555555555556,\"#d8576b\"],[0.6666666666666666,\"#ed7953\"],[0.7777777777777778,\"#fb9f3a\"],[0.8888888888888888,\"#fdca26\"],[1.0,\"#f0f921\"]]}],\"contourcarpet\":[{\"type\":\"contourcarpet\",\"colorbar\":{\"outlinewidth\":0,\"ticks\":\"\"}}],\"contour\":[{\"type\":\"contour\",\"colorbar\":{\"outlinewidth\":0,\"ticks\":\"\"},\"colorscale\":[[0.0,\"#0d0887\"],[0.1111111111111111,\"#46039f\"],[0.2222222222222222,\"#7201a8\"],[0.3333333333333333,\"#9c179e\"],[0.4444444444444444,\"#bd3786\"],[0.5555555555555556,\"#d8576b\"],[0.6666666666666666,\"#ed7953\"],[0.7777777777777778,\"#fb9f3a\"],[0.8888888888888888,\"#fdca26\"],[1.0,\"#f0f921\"]]}],\"surface\":[{\"type\":\"surface\",\"colorbar\":{\"outlinewidth\":0,\"ticks\":\"\"},\"colorscale\":[[0.0,\"#0d0887\"],[0.1111111111111111,\"#46039f\"],[0.2222222222222222,\"#7201a8\"],[0.3333333333333333,\"#9c179e\"],[0.4444444444444444,\"#bd3786\"],[0.5555555555555556,\"#d8576b\"],[0.6666666666666666,\"#ed7953\"],[0.7777777777777778,\"#fb9f3a\"],[0.8888888888888888,\"#fdca26\"],[1.0,\"#f0f921\"]]}],\"mesh3d\":[{\"type\":\"mesh3d\",\"colorbar\":{\"outlinewidth\":0,\"ticks\":\"\"}}],\"scatter\":[{\"fillpattern\":{\"fillmode\":\"overlay\",\"size\":10,\"solidity\":0.2},\"type\":\"scatter\"}],\"parcoords\":[{\"type\":\"parcoords\",\"line\":{\"colorbar\":{\"outlinewidth\":0,\"ticks\":\"\"}}}],\"scatterpolargl\":[{\"type\":\"scatterpolargl\",\"marker\":{\"colorbar\":{\"outlinewidth\":0,\"ticks\":\"\"}}}],\"bar\":[{\"error_x\":{\"color\":\"#2a3f5f\"},\"error_y\":{\"color\":\"#2a3f5f\"},\"marker\":{\"line\":{\"color\":\"#E5ECF6\",\"width\":0.5},\"pattern\":{\"fillmode\":\"overlay\",\"size\":10,\"solidity\":0.2}},\"type\":\"bar\"}],\"scattergeo\":[{\"type\":\"scattergeo\",\"marker\":{\"colorbar\":{\"outlinewidth\":0,\"ticks\":\"\"}}}],\"scatterpolar\":[{\"type\":\"scatterpolar\",\"marker\":{\"colorbar\":{\"outlinewidth\":0,\"ticks\":\"\"}}}],\"histogram\":[{\"marker\":{\"pattern\":{\"fillmode\":\"overlay\",\"size\":10,\"solidity\":0.2}},\"type\":\"histogram\"}],\"scattergl\":[{\"type\":\"scattergl\",\"marker\":{\"colorbar\":{\"outlinewidth\":0,\"ticks\":\"\"}}}],\"scatter3d\":[{\"type\":\"scatter3d\",\"line\":{\"colorbar\":{\"outlinewidth\":0,\"ticks\":\"\"}},\"marker\":{\"colorbar\":{\"outlinewidth\":0,\"ticks\":\"\"}}}],\"scattermapbox\":[{\"type\":\"scattermapbox\",\"marker\":{\"colorbar\":{\"outlinewidth\":0,\"ticks\":\"\"}}}],\"scatterternary\":[{\"type\":\"scatterternary\",\"marker\":{\"colorbar\":{\"outlinewidth\":0,\"ticks\":\"\"}}}],\"scattercarpet\":[{\"type\":\"scattercarpet\",\"marker\":{\"colorbar\":{\"outlinewidth\":0,\"ticks\":\"\"}}}],\"carpet\":[{\"aaxis\":{\"endlinecolor\":\"#2a3f5f\",\"gridcolor\":\"white\",\"linecolor\":\"white\",\"minorgridcolor\":\"white\",\"startlinecolor\":\"#2a3f5f\"},\"baxis\":{\"endlinecolor\":\"#2a3f5f\",\"gridcolor\":\"white\",\"linecolor\":\"white\",\"minorgridcolor\":\"white\",\"startlinecolor\":\"#2a3f5f\"},\"type\":\"carpet\"}],\"table\":[{\"cells\":{\"fill\":{\"color\":\"#EBF0F8\"},\"line\":{\"color\":\"white\"}},\"header\":{\"fill\":{\"color\":\"#C8D4E3\"},\"line\":{\"color\":\"white\"}},\"type\":\"table\"}],\"barpolar\":[{\"marker\":{\"line\":{\"color\":\"#E5ECF6\",\"width\":0.5},\"pattern\":{\"fillmode\":\"overlay\",\"size\":10,\"solidity\":0.2}},\"type\":\"barpolar\"}],\"pie\":[{\"automargin\":true,\"type\":\"pie\"}]},\"layout\":{\"autotypenumbers\":\"strict\",\"colorway\":[\"#636efa\",\"#EF553B\",\"#00cc96\",\"#ab63fa\",\"#FFA15A\",\"#19d3f3\",\"#FF6692\",\"#B6E880\",\"#FF97FF\",\"#FECB52\"],\"font\":{\"color\":\"#2a3f5f\"},\"hovermode\":\"closest\",\"hoverlabel\":{\"align\":\"left\"},\"paper_bgcolor\":\"white\",\"plot_bgcolor\":\"#E5ECF6\",\"polar\":{\"bgcolor\":\"#E5ECF6\",\"angularaxis\":{\"gridcolor\":\"white\",\"linecolor\":\"white\",\"ticks\":\"\"},\"radialaxis\":{\"gridcolor\":\"white\",\"linecolor\":\"white\",\"ticks\":\"\"}},\"ternary\":{\"bgcolor\":\"#E5ECF6\",\"aaxis\":{\"gridcolor\":\"white\",\"linecolor\":\"white\",\"ticks\":\"\"},\"baxis\":{\"gridcolor\":\"white\",\"linecolor\":\"white\",\"ticks\":\"\"},\"caxis\":{\"gridcolor\":\"white\",\"linecolor\":\"white\",\"ticks\":\"\"}},\"coloraxis\":{\"colorbar\":{\"outlinewidth\":0,\"ticks\":\"\"}},\"colorscale\":{\"sequential\":[[0.0,\"#0d0887\"],[0.1111111111111111,\"#46039f\"],[0.2222222222222222,\"#7201a8\"],[0.3333333333333333,\"#9c179e\"],[0.4444444444444444,\"#bd3786\"],[0.5555555555555556,\"#d8576b\"],[0.6666666666666666,\"#ed7953\"],[0.7777777777777778,\"#fb9f3a\"],[0.8888888888888888,\"#fdca26\"],[1.0,\"#f0f921\"]],\"sequentialminus\":[[0.0,\"#0d0887\"],[0.1111111111111111,\"#46039f\"],[0.2222222222222222,\"#7201a8\"],[0.3333333333333333,\"#9c179e\"],[0.4444444444444444,\"#bd3786\"],[0.5555555555555556,\"#d8576b\"],[0.6666666666666666,\"#ed7953\"],[0.7777777777777778,\"#fb9f3a\"],[0.8888888888888888,\"#fdca26\"],[1.0,\"#f0f921\"]],\"diverging\":[[0,\"#8e0152\"],[0.1,\"#c51b7d\"],[0.2,\"#de77ae\"],[0.3,\"#f1b6da\"],[0.4,\"#fde0ef\"],[0.5,\"#f7f7f7\"],[0.6,\"#e6f5d0\"],[0.7,\"#b8e186\"],[0.8,\"#7fbc41\"],[0.9,\"#4d9221\"],[1,\"#276419\"]]},\"xaxis\":{\"gridcolor\":\"white\",\"linecolor\":\"white\",\"ticks\":\"\",\"title\":{\"standoff\":15},\"zerolinecolor\":\"white\",\"automargin\":true,\"zerolinewidth\":2},\"yaxis\":{\"gridcolor\":\"white\",\"linecolor\":\"white\",\"ticks\":\"\",\"title\":{\"standoff\":15},\"zerolinecolor\":\"white\",\"automargin\":true,\"zerolinewidth\":2},\"scene\":{\"xaxis\":{\"backgroundcolor\":\"#E5ECF6\",\"gridcolor\":\"white\",\"linecolor\":\"white\",\"showbackground\":true,\"ticks\":\"\",\"zerolinecolor\":\"white\",\"gridwidth\":2},\"yaxis\":{\"backgroundcolor\":\"#E5ECF6\",\"gridcolor\":\"white\",\"linecolor\":\"white\",\"showbackground\":true,\"ticks\":\"\",\"zerolinecolor\":\"white\",\"gridwidth\":2},\"zaxis\":{\"backgroundcolor\":\"#E5ECF6\",\"gridcolor\":\"white\",\"linecolor\":\"white\",\"showbackground\":true,\"ticks\":\"\",\"zerolinecolor\":\"white\",\"gridwidth\":2}},\"shapedefaults\":{\"line\":{\"color\":\"#2a3f5f\"}},\"annotationdefaults\":{\"arrowcolor\":\"#2a3f5f\",\"arrowhead\":0,\"arrowwidth\":1},\"geo\":{\"bgcolor\":\"white\",\"landcolor\":\"#E5ECF6\",\"subunitcolor\":\"white\",\"showland\":true,\"showlakes\":true,\"lakecolor\":\"white\"},\"title\":{\"x\":0.05},\"mapbox\":{\"style\":\"light\"}}},\"title\":{\"text\":\"Prediction vs Actual\"},\"xaxis\":{\"title\":{\"text\":\"Date\"}},\"yaxis\":{\"title\":{\"text\":\"Price\"}}},                        {\"responsive\": true}                    ).then(function(){\n",
              "                            \n",
              "var gd = document.getElementById('07f99d70-3531-4a21-9e18-f9ba8930ea03');\n",
              "var x = new MutationObserver(function (mutations, observer) {{\n",
              "        var display = window.getComputedStyle(gd).display;\n",
              "        if (!display || display === 'none') {{\n",
              "            console.log([gd, 'removed!']);\n",
              "            Plotly.purge(gd);\n",
              "            observer.disconnect();\n",
              "        }}\n",
              "}});\n",
              "\n",
              "// Listen for the removal of the full notebook cells\n",
              "var notebookContainer = gd.closest('#notebook-container');\n",
              "if (notebookContainer) {{\n",
              "    x.observe(notebookContainer, {childList: true});\n",
              "}}\n",
              "\n",
              "// Listen for the clearing of the current output cell\n",
              "var outputEl = gd.closest('.output');\n",
              "if (outputEl) {{\n",
              "    x.observe(outputEl, {childList: true});\n",
              "}}\n",
              "\n",
              "                        })                };                            </script>        </div>\n",
              "</body>\n",
              "</html>"
            ]
          },
          "metadata": {}
        }
      ]
    },
    {
      "cell_type": "markdown",
      "source": [
        "## Test using Backtrader"
      ],
      "metadata": {
        "id": "4DWVviK6pomI"
      }
    },
    {
      "cell_type": "code",
      "source": [
        "%%capture\n",
        "!pip install backtrader"
      ],
      "metadata": {
        "id": "noV6iyrOu8-i"
      },
      "execution_count": null,
      "outputs": []
    },
    {
      "cell_type": "code",
      "source": [
        "import backtrader as bt\n",
        "import torch\n",
        "import pandas as pd"
      ],
      "metadata": {
        "id": "P6yQOjsY9GST"
      },
      "execution_count": null,
      "outputs": []
    },
    {
      "cell_type": "code",
      "source": [
        "# Read test dataset\n",
        "df_test = pd.read_csv(\"data_test.csv\", parse_dates=[\"Datetime\"])\n",
        "#df_test = pd.read_csv(\"data_test.csv\", parse_dates=[\"Date\"])\n",
        "#df_test.set_index(\"Datetime\", inplace=True)\n",
        "\n",
        "# --> Assuming that Close is at the end!!\n",
        "feature_inp = list(df_test.keys()[1:-1])\n",
        "feature_out = [df_test.keys()[-1]]\n",
        "print(f\"input_feature: {feature_inp}\")\n",
        "print(f\"output_feature: {feature_out}\")\n",
        "print(f\"input_size: {len(feature_inp)}, output_size: {len(feature_out)}\")"
      ],
      "metadata": {
        "colab": {
          "base_uri": "https://localhost:8080/"
        },
        "id": "DWixTvdO9Efb",
        "outputId": "591a9ea1-26a6-401a-f555-95e6426b0edc"
      },
      "execution_count": null,
      "outputs": [
        {
          "output_type": "stream",
          "name": "stdout",
          "text": [
            "input_feature: ['Open', 'High', 'Low', 'Volume', 'Dividends', 'Stock Splits']\n",
            "output_feature: ['Close']\n",
            "input_size: 6, output_size: 1\n"
          ]
        }
      ]
    },
    {
      "cell_type": "code",
      "source": [
        "# Assuming you already have a trained LSTM model class named `LSTMModel`\n",
        "# Load the trained model\n",
        "input_size = len(feature_inp)  # Based on relevant columns (update to your input size if needed)\n",
        "hidden_size = 16\n",
        "output_size = 10  # max_prediction_length\n",
        "tft = LSTMModel(input_size, hidden_size, output_size)\n",
        "tft.load_state_dict(torch.load(\"lstm_model.pth\", weights_only=True))\n",
        "tft.eval()"
      ],
      "metadata": {
        "colab": {
          "base_uri": "https://localhost:8080/"
        },
        "id": "5kt4NcHi9cMz",
        "outputId": "88057e26-758e-4d98-8615-152eb1e9980b"
      },
      "execution_count": null,
      "outputs": [
        {
          "output_type": "execute_result",
          "data": {
            "text/plain": [
              "LSTMModel(\n",
              "  (lstm): LSTM(6, 16, num_layers=2, batch_first=True, dropout=0.1)\n",
              "  (fc): Linear(in_features=16, out_features=10, bias=True)\n",
              ")"
            ]
          },
          "metadata": {},
          "execution_count": 48
        }
      ]
    },
    {
      "cell_type": "code",
      "source": [
        "# Load the scaler TODO, you need to save and then load"
      ],
      "metadata": {
        "id": "FE8OZzWMl-Ny"
      },
      "execution_count": null,
      "outputs": []
    },
    {
      "cell_type": "code",
      "source": [
        "class TFTStrategy(bt.Strategy):\n",
        "    params = (\n",
        "        ('stake_size', 100),  # Number of shares to buy/sell\n",
        "    )\n",
        "    def __init__(self):\n",
        "        # Initialize relevant data variables\n",
        "        self.data_close = self.datas[0].close\n",
        "        self.last_prediction = None\n",
        "        self.num_fails = 0  # Tracking failed trades\n",
        "\n",
        "        # Lists to collect metrics for plotting\n",
        "        self.portfolio_value_list = []\n",
        "        self.datetime_list = []\n",
        "\n",
        "        # Lists to collect buy and sell actions\n",
        "        self.buy_dates = []\n",
        "        self.buy_prices = []\n",
        "        self.sell_dates = []\n",
        "        self.sell_prices = []\n",
        "\n",
        "    def notify_trade(self, trade):\n",
        "        if trade.status == trade.Closed:\n",
        "            print(f\"Trade Closed: P/L = {trade.pnlcomm}\")\n",
        "            if trade.pnlcomm < 0:\n",
        "                self.num_fails += 1\n",
        "\n",
        "    def next(self):\n",
        "        if len(self) >= max_encoder_length:  # Ensure enough historical data for prediction\n",
        "            # Prepare data for prediction\n",
        "            input_data = df.iloc[len(self) - max_encoder_length:len(self)].copy()\n",
        "\n",
        "            # Extract relevant features\n",
        "            features_inp = [col for col in input_data.columns if col not in [\"Datetime\", \"Close\"]]\n",
        "            input_data = input_data[features_inp].values\n",
        "            # scaler\n",
        "            input_data = input_scaler.transform(input_data)\n",
        "            # Convert to tensor\n",
        "            input_tensor = torch.tensor(input_data, dtype=torch.float32).unsqueeze(0)\n",
        "\n",
        "            # Predict next value using the trained model\n",
        "            with torch.no_grad():\n",
        "                prediction = tft(input_tensor)\n",
        "\n",
        "            # Get the predicted closing price (it predicts the next 10 values)\n",
        "            self.last_prediction = prediction[0, 0].item()\n",
        "            # Output scaler\n",
        "            self.last_prediction = output_scaler.inverse_transform(torch.tensor(self.last_prediction).reshape(-1, 1))[0][0]\n",
        "\n",
        "            # Example trading logic based on predicted price movement\n",
        "            current_price = self.data_close[0]\n",
        "            #print(f\"Prediction: {self.last_prediction}, Current Price: {current_price}, Cash: {self.broker.get_cash()}, Position Size: {self.position.size if self.position else 0}\")\n",
        "\n",
        "            # Adjusted threshold to trigger trades\n",
        "            threshold=0.01\n",
        "            if self.last_prediction > current_price * (1 + threshold):\n",
        "                if not self.position:  # Buy if no open position\n",
        "                    self.buy(size=self.params.stake_size)\n",
        "                    print(f\"Buying at {current_price}\")\n",
        "                    self.buy_dates.append(self.data.datetime.datetime(0))\n",
        "                    self.buy_prices.append(current_price)\n",
        "            elif self.last_prediction < current_price * (1 - threshold):\n",
        "                if self.position:  # Sell if there is an open position\n",
        "                    self.sell(size=self.params.stake_size)\n",
        "                    print(f\"Selling at {current_price}\")\n",
        "                    self.sell_dates.append(self.data.datetime.datetime(0))\n",
        "                    self.sell_prices.append(current_price)\n",
        "\n",
        "        self.portfolio_value_list.append(self.broker.getvalue())\n",
        "        self.datetime_list.append(self.data.datetime.datetime(0))\n",
        "\n",
        "# Load historical data\n",
        "#df_test = pd.read_csv(\"data_train.csv\", parse_dates=[\"Datetime\"])\n",
        "df_test = pd.read_csv(\"data_test.csv\", parse_dates=[\"Datetime\"])\n",
        "\n",
        "df = df_test.copy()\n",
        "df.set_index('Datetime', inplace=True)\n",
        "#df.set_index('Date', inplace=True)\n",
        "df.dropna(inplace=True)\n",
        "\n",
        "# Backtrader data feed\n",
        "data = bt.feeds.PandasData(dataname=df)\n",
        "\n",
        "# Initialize cerebro\n",
        "cerebro = bt.Cerebro()\n",
        "\n",
        "# Set the initial capital for testing\n",
        "initial_capital = 10000  # Set initial capital to $10,000\n",
        "cerebro.broker.set_cash(initial_capital)\n",
        "cerebro.broker.setcommission(commission=0.001)  # Set commission to 0.1%\n",
        "cerebro.adddata(data)\n",
        "cerebro.addstrategy(TFTStrategy)\n",
        "\n",
        "# Print starting cash\n",
        "print('Starting Portfolio Value: %.2f' % cerebro.broker.getvalue())\n",
        "\n",
        "# Run backtesting\n",
        "strategy = cerebro.run()  # Save strategy instance to access collected data\n",
        "\n",
        "# Print ending cash\n",
        "print('Ending Portfolio Value: %.2f' % cerebro.broker.getvalue())\n"
      ],
      "metadata": {
        "colab": {
          "base_uri": "https://localhost:8080/"
        },
        "id": "5hEh37V6pp1m",
        "outputId": "be4ccfc6-e793-48cc-bcb5-5ab6ff3767be"
      },
      "execution_count": null,
      "outputs": [
        {
          "output_type": "stream",
          "name": "stdout",
          "text": [
            "Starting Portfolio Value: 10000.00\n",
            "Ending Portfolio Value: 10000.00\n"
          ]
        }
      ]
    },
    {
      "cell_type": "code",
      "source": [
        "st = strategy[0]\n",
        "\n",
        "# Create a DataFrame from the collected data\n",
        "results_df = pd.DataFrame({\n",
        "    'datetime': st.datetime_list,\n",
        "    'portfolio_value': st.portfolio_value_list,\n",
        "    'Open': df['Open'].values,\n",
        "    'High': df['High'].values,\n",
        "    'Low': df['Low'].values,\n",
        "    'Close': df['Close'].values\n",
        "})\n",
        "\n",
        "# Create a Figure\n",
        "fig = go.Figure()\n",
        "\n",
        "# Add candlestick trace for OHLC data\n",
        "fig.add_trace(go.Candlestick(\n",
        "    x=results_df['datetime'],\n",
        "    open=results_df['Open'],\n",
        "    high=results_df['High'],\n",
        "    low=results_df['Low'],\n",
        "    close=results_df['Close'],\n",
        "    name='Candlestick',\n",
        "    increasing_line_color='cyan',  # Optional: customize colors for visibility\n",
        "    decreasing_line_color='gray',\n",
        "))\n",
        "\n",
        "# Add portfolio value line trace\n",
        "fig.add_trace(go.Scatter(\n",
        "    x=results_df['datetime'],\n",
        "    y=results_df['portfolio_value'],\n",
        "    mode='lines',\n",
        "    name='Portfolio Value',\n",
        "    line=dict(color='orange', width=2),\n",
        "))\n",
        "\n",
        "# Add buy actions as scatter markers\n",
        "fig.add_trace(go.Scatter(\n",
        "    x=st.buy_dates, y=st.buy_prices,\n",
        "    mode='markers', name='Buy',\n",
        "    marker=dict(symbol='triangle-up', color='green', size=10),\n",
        "    text=['Buy at {:.2f}'.format(price) for price in st.buy_prices],\n",
        "))\n",
        "\n",
        "# Add sell actions as scatter markers\n",
        "fig.add_trace(go.Scatter(\n",
        "    x=st.sell_dates, y=st.sell_prices,\n",
        "    mode='markers', name='Sell',\n",
        "    marker=dict(symbol='triangle-down', color='red', size=10),\n",
        "    text=['Sell at {:.2f}'.format(price) for price in st.sell_prices],\n",
        "))\n",
        "\n",
        "# Customize layout for better presentation\n",
        "fig.update_layout(\n",
        "    title='Backtrader Portfolio Value with Buy and Sell Actions and Candlestick Chart',\n",
        "    xaxis_title='Date',\n",
        "    yaxis_title='Price / Portfolio Value',\n",
        "    legend_title='Legend',\n",
        "    template='plotly_dark',\n",
        "    xaxis_rangeslider_visible=False  # Hide the default range slider for a cleaner view\n",
        ")\n",
        "\n",
        "# Optional: add a vertical line to show when transactions occurred\n",
        "for buy_date in st.buy_dates:\n",
        "    fig.add_shape(\n",
        "        type='line',\n",
        "        x0=buy_date,\n",
        "        y0=results_df['Low'].min(),\n",
        "        x1=buy_date,\n",
        "        y1=results_df['High'].max(),\n",
        "        line=dict(color='green', width=1, dash='dot'),\n",
        "        opacity=0.3,\n",
        "    )\n",
        "\n",
        "for sell_date in st.sell_dates:\n",
        "    fig.add_shape(\n",
        "        type='line',\n",
        "        x0=sell_date,\n",
        "        y0=results_df['Low'].min(),\n",
        "        x1=sell_date,\n",
        "        y1=results_df['High'].max(),\n",
        "        line=dict(color='red', width=1, dash='dot'),\n",
        "        opacity=0.3,\n",
        "    )\n",
        "\n",
        "# Show the figure\n",
        "fig.show()\n"
      ],
      "metadata": {
        "id": "KpKv8hbqvjFz",
        "colab": {
          "base_uri": "https://localhost:8080/",
          "height": 542
        },
        "outputId": "64c11c0c-e9bd-4598-8e10-3d6b400454f0"
      },
      "execution_count": null,
      "outputs": [
        {
          "output_type": "display_data",
          "data": {
            "text/html": [
              "<html>\n",
              "<head><meta charset=\"utf-8\" /></head>\n",
              "<body>\n",
              "    <div>            <script src=\"https://cdnjs.cloudflare.com/ajax/libs/mathjax/2.7.5/MathJax.js?config=TeX-AMS-MML_SVG\"></script><script type=\"text/javascript\">if (window.MathJax && window.MathJax.Hub && window.MathJax.Hub.Config) {window.MathJax.Hub.Config({SVG: {font: \"STIX-Web\"}});}</script>                <script type=\"text/javascript\">window.PlotlyConfig = {MathJaxConfig: 'local'};</script>\n",
              "        <script charset=\"utf-8\" src=\"https://cdn.plot.ly/plotly-2.35.2.min.js\"></script>                <div id=\"8ec8c810-5ced-4cfd-bd36-1f13d15480ee\" class=\"plotly-graph-div\" style=\"height:525px; width:100%;\"></div>            <script type=\"text/javascript\">                                    window.PLOTLYENV=window.PLOTLYENV || {};                                    if (document.getElementById(\"8ec8c810-5ced-4cfd-bd36-1f13d15480ee\")) {                    Plotly.newPlot(                        \"8ec8c810-5ced-4cfd-bd36-1f13d15480ee\",                        [{\"close\":[13.994000434875488,13.982000350952148,13.979999542236328,13.989999771118164,13.98799991607666,13.979999542236328,13.965999603271484,13.968000411987305,13.970000267028809,13.960000038146973,13.95199966430664,13.949999809265137,13.949999809265137,13.944000244140623,13.95400047302246,13.947999954223633,13.946000099182127,13.93000030517578,13.911999702453612,13.904000282287598,13.906000137329102,13.911999702453612,13.904000282287598,13.91800022125244,13.916000366210938,13.92199993133545,13.934000015258787,13.907999992370604,13.89799976348877,13.934000015258787,13.961999893188477,13.961999893188477,13.944000244140623,13.95400047302246,13.95199966430664,13.965999603271484,13.960000038146973,13.960000038146973,13.965999603271484,13.960000038146973,13.973999977111816,14.088000297546388,14.064000129699709,14.083999633789062,14.100000381469728,14.097999572753906,14.118000030517578,14.109999656677246,14.104000091552734,14.074000358581545,14.067999839782717,14.067999839782717,14.086000442504885,14.076000213623049,14.07800006866455,14.07800006866455,14.07800006866455,14.064000129699709,14.053999900817873,14.062000274658203,14.052000045776367,14.055999755859377,14.05799961090088,14.062000274658203,14.055999755859377,14.0600004196167,14.050000190734863,14.050000190734863,14.043999671936035,14.05799961090088,14.064000129699709,14.071999549865724,14.065999984741213,14.062000274658203,14.05799961090088,14.06999969482422,14.071999549865724,14.06999969482422,14.0600004196167,14.062000274658203,14.067999839782717,14.065999984741213,14.067999839782717,14.062000274658203,14.053999900817873,14.053999900817873,14.04800033569336,14.050000190734863,14.053999900817873,14.043999671936035,14.062000274658203,14.062000274658203,14.055999755859377,14.062000274658203,14.0600004196167,14.0600004196167,14.062000274658203,14.06999969482422,14.067999839782717,14.062000274658203,14.074000358581545,14.07800006866455,14.076000213623049,14.074000358581545,14.092000007629396,14.100000381469728,14.104000091552734,14.093999862670898,14.104000091552734,14.107999801635742,14.109999656677246,14.11400032043457,14.104000091552734,14.104000091552734,14.093999862670898,14.092000007629396,14.086000442504885,14.088000297546388,14.08199977874756,14.10200023651123,14.107999801635742,14.100000381469728,14.092000007629396,14.088000297546388,14.09000015258789,14.095999717712402,14.100000381469728,14.092000007629396,14.10200023651123,14.104000091552734,14.100000381469728,14.104000091552734,14.100000381469728,14.104000091552734,14.112000465393066,14.105999946594238,14.109999656677246,14.088000297546388,14.065999984741213,14.067999839782717,14.064000129699709,14.06999969482422,14.055999755859377,14.083999633789062,14.088000297546388,14.100000381469728,14.100000381469728,14.093999862670898,14.10200023651123,14.083999633789062,14.086000442504885,14.083999633789062,14.09000015258789,14.092000007629396,14.104000091552734,14.105999946594238,14.112000465393066,14.11400032043457,14.104000091552734,14.116000175476074,14.119999885559082,14.12399959564209,14.133999824523926,14.119999885559082,14.130000114440918,14.130000114440918,14.130000114440918,14.13599967956543,14.133999824523926,14.12600040435791,14.130000114440918,14.12600040435791,14.118000030517578,14.128000259399414,14.133999824523926,14.133999824523926,14.142000198364258,14.156000137329102,14.14799976348877,14.156000137329102,14.149999618530272,14.149999618530272,14.14799976348877,14.14799976348877,14.144000053405762,14.14799976348877,14.144000053405762,14.14799976348877,14.140000343322754,14.142000198364258,14.145999908447266,14.142000198364258,14.14799976348877,14.14799976348877,14.14799976348877,14.152000427246094,14.149999618530272,14.149999618530272,14.14799976348877,14.142000198364258,14.140000343322754,14.137999534606934,14.144000053405762,14.142000198364258,14.131999969482422,14.145999908447266,14.144000053405762,14.14799976348877,14.145999908447266,14.163999557495115,14.178000450134276,14.175999641418455,14.17199993133545,14.17199993133545,14.173999786376951,14.14799976348877,14.170000076293944,14.170000076293944,14.18000030517578,14.184000015258787,14.163999557495115,14.157999992370604,14.166000366210938,14.173999786376951,14.185999870300291,14.1899995803833,14.18000030517578,14.16800022125244,14.184000015258787,14.16800022125244,14.17199993133545,14.178000450134276,14.156000137329102,14.166000366210938,14.161999702453612,14.156000137329102,14.15999984741211,14.154000282287598,14.152000427246094,14.157999992370604,14.156000137329102,14.149999618530272,14.157999992370604,14.157999992370604,14.170000076293944,14.215999603271484,14.222000122070312,14.223999977111816,14.229999542236328,14.223999977111816,14.22599983215332,14.21399974822998,14.20400047302246,14.20400047302246,14.20400047302246,14.194000244140623,14.194000244140623,14.175999641418455,14.187999725341797,14.184000015258787,14.206000328063965,14.227999687194824,14.223999977111816,14.241999626159668,14.239999771118164,14.253999710083008,14.26200008392334,14.255999565124512,14.22599983215332,14.211999893188477,14.222000122070312,14.229999542236328,14.220000267028809,14.222000122070312,14.215999603271484,14.19200038909912,14.182000160217283,14.19200038909912,14.199999809265137,14.197999954223633,14.194000244140623,14.185999870300291,14.182000160217283,14.175999641418455,14.17199993133545,14.18000030517578,14.182000160217283,14.182000160217283,14.18000030517578,14.19200038909912,14.184000015258787,14.185999870300291,14.1899995803833,14.185999870300291,14.18000030517578,14.184000015258787,14.185999870300291,14.184000015258787,14.182000160217283,14.185999870300291,14.196000099182127,14.199999809265137,14.196000099182127,14.208000183105469,14.208000183105469,14.215999603271484,14.215999603271484,14.215999603271484,14.211999893188477,14.20400047302246,14.19200038909912,14.182000160217283,14.17199993133545,14.182000160217283,14.19200038909912,14.178000450134276,14.16800022125244,14.178000450134276,14.156000137329102,14.161999702453612,14.131999969482422,14.145999908447266,14.140000343322754,14.104000091552734,14.118000030517578,14.119999885559082,14.130000114440918,14.131999969482422,14.12399959564209,14.11400032043457,14.118000030517578,14.097999572753906,14.104000091552734,14.10200023651123,14.116000175476074,14.116000175476074,14.112000465393066,14.10200023651123,14.107999801635742,14.112000465393066,14.109999656677246,14.095999717712402,14.100000381469728,14.100000381469728,14.100000381469728,14.09000015258789,14.109999656677246,14.18000030517578,14.194000244140623,14.21399974822998,14.223999977111816,14.220000267028809,14.218000411987305,14.232000350952148,14.239999771118164,14.232000350952148,14.25,14.244000434875488,14.253999710083008,14.236000061035156,14.260000228881836,14.251999855041504,14.260000228881836,14.260000228881836,14.26200008392334,14.260000228881836,14.26200008392334,14.26200008392334,14.26200008392334,14.276000022888184,14.263999938964844,14.272000312805176,14.277999877929688,14.277999877929688,14.279999732971191,14.279999732971191,14.277999877929688,14.272000312805176,14.284000396728516,14.291999816894531,14.291999816894531,14.305999755859377,14.302000045776367,14.29599952697754,14.293999671936035,14.300000190734863,14.29800033569336,14.300000190734863,14.293999671936035,14.29599952697754,14.3100004196167,14.31999969482422,14.324000358581545,14.315999984741213,14.31999969482422,14.32800006866455,14.333999633789062,14.31999969482422,14.315999984741213,14.312000274658203,14.302000045776367,14.29800033569336,14.30799961090088,14.3100004196167,14.317999839782717,14.312000274658203,14.317999839782717,14.3100004196167,14.315999984741213,14.312000274658203,14.312000274658203,14.3100004196167,14.305999755859377,14.3100004196167,14.324000358581545,14.30799961090088,14.29800033569336,14.305999755859377,14.3100004196167,14.30799961090088,14.312000274658203,14.31999969482422,14.31999969482422,14.3100004196167,14.315999984741213,14.324000358581545,14.305999755859377,14.32800006866455,14.32800006866455,14.329999923706056,14.329999923706056,14.30799961090088,14.29800033569336,14.30799961090088,14.302000045776367,14.303999900817873,14.291999816894531,14.300000190734863,14.29599952697754,14.30799961090088,14.281999588012695,14.289999961853027,14.293999671936035,14.29599952697754,14.289999961853027,14.289999961853027,14.28600025177002,14.281999588012695,14.277999877929688,14.232000350952148,14.222000122070312,14.220000267028809,14.232000350952148,14.22599983215332,14.229999542236328,14.21399974822998,14.239999771118164,14.239999771118164,14.210000038146973,14.20199966430664,14.21399974822998,14.218000411987305,14.229999542236328,14.208000183105469,14.210000038146973,14.218000411987305,14.208000183105469,14.222000122070312,14.232000350952148,14.234000205993652,14.244000434875488,14.232000350952148,14.227999687194824,14.22599983215332,14.23799991607666,14.246000289916992,14.232000350952148,14.25,14.27400016784668,14.260000228881836,14.260000228881836,14.248000144958496,14.248000144958496,14.25,14.241999626159668,14.246000289916992,14.248000144958496,14.26200008392334,14.258000373840332,14.26200008392334,14.258000373840332,14.26200008392334,14.258000373840332,14.258000373840332,14.26200008392334,14.260000228881836,14.258000373840332,14.258000373840332,14.253999710083008,14.251999855041504,14.253999710083008,14.25,14.25,14.248000144958496,14.251999855041504,14.25,14.251999855041504,14.248000144958496,14.223999977111816,14.232000350952148,14.236000061035156,14.232000350952148,14.229999542236328,14.241999626159668,14.246000289916992,14.251999855041504,14.239999771118164,14.23799991607666,14.246000289916992,14.25,14.241999626159668,14.25,14.246000289916992,14.241999626159668,14.260000228881836,14.255999565124512,14.248000144958496,14.263999938964844,14.227999687194824,14.244000434875488,14.253999710083008,14.272000312805176,14.277999877929688,14.284000396728516,14.27400016784668,14.265999794006348,14.284000396728516,14.26200008392334,14.239999771118164,14.258000373840332,14.260000228881836,14.251999855041504,14.267999649047852,14.270000457763672,14.265999794006348,14.267999649047852,14.272000312805176,14.279999732971191,14.277999877929688,14.276000022888184,14.279999732971191,14.258000373840332,14.270000457763672,14.26200008392334,14.27400016784668,14.263999938964844,14.267999649047852,14.255999565124512,14.263999938964844,14.26200008392334,14.265999794006348,14.241999626159668,14.246000289916992,14.246000289916992,14.248000144958496,14.25,14.25,14.239999771118164,14.25,14.253999710083008,14.251999855041504,14.229999542236328,14.234000205993652,14.227999687194824,14.236000061035156,14.253999710083008,14.265999794006348,14.270000457763672,14.272000312805176,14.26200008392334,14.260000228881836,14.258000373840332,14.253999710083008,14.239999771118164,14.25,14.251999855041504,14.270000457763672,14.260000228881836,14.265999794006348,14.258000373840332,14.25,14.253999710083008,14.229999542236328,14.222000122070312,14.236000061035156,14.236000061035156,14.23799991607666,14.236000061035156,14.220000267028809,14.222000122070312,14.239999771118164,14.23799991607666,14.236000061035156,14.227999687194824,14.232000350952148,14.236000061035156,14.236000061035156,14.234000205993652,14.251999855041504,14.246000289916992,14.248000144958496,14.23799991607666,14.227999687194824,14.22599983215332,14.23799991607666,14.25,14.255999565124512,14.236000061035156,14.236000061035156,14.232000350952148,14.227999687194824,14.211999893188477,14.211999893188477,14.223999977111816,14.229999542236328,14.22599983215332,14.22599983215332,14.218000411987305,14.222000122070312,14.222000122070312,14.206000328063965,14.220000267028809,14.239999771118164,14.248000144958496,14.260000228881836,14.25,14.255999565124512,14.232000350952148,14.239999771118164,14.23799991607666,14.236000061035156,14.215999603271484,14.21399974822998,14.215999603271484,14.21399974822998,14.211999893188477,14.211999893188477,14.206000328063965,14.194000244140623,14.1899995803833,14.184000015258787,14.182000160217283,14.178000450134276,14.37399959564209,14.347999572753906,14.37399959564209,14.37399959564209,14.37600040435791,14.37399959564209,14.338000297546388,14.333999633789062,14.33199977874756,14.336000442504885,14.350000381469728,14.345999717712402,14.34000015258789,14.35200023651123,14.35200023651123,14.354000091552734,14.362000465393066,14.357999801635742,14.354000091552734,14.36400032043457,14.359999656677246,14.342000007629396,14.338000297546388,14.34000015258789,14.33199977874756,14.338000297546388,14.34000015258789,14.347999572753906,14.345999717712402,14.362000465393066,14.35200023651123,14.357999801635742,14.354000091552734,14.343999862670898,14.362000465393066,14.362000465393066,14.343999862670898,14.350000381469728,14.343999862670898,14.35200023651123,14.359999656677246,14.357999801635742,14.354000091552734,14.355999946594238,14.357999801635742,14.345999717712402,14.329999923706056,14.333999633789062,14.324000358581545,14.32800006866455,14.317999839782717,14.324000358581545,14.317999839782717,14.312000274658203,14.312000274658203,14.315999984741213,14.302000045776367,14.321999549865724,14.31999969482422,14.3100004196167,14.312000274658203,14.324000358581545,14.31999969482422,14.326000213623049,14.32800006866455,14.321999549865724,14.33199977874756,14.329999923706056,14.324000358581545,14.324000358581545,14.32800006866455,14.324000358581545,14.293999671936035,14.30799961090088,14.312000274658203,14.303999900817873,14.289999961853027,14.289999961853027,14.29599952697754,14.284000396728516,14.289999961853027,14.276000022888184,14.265999794006348,14.28600025177002,14.26200008392334,14.260000228881836,14.255999565124512,14.258000373840332,14.251999855041504,14.251999855041504,14.220000267028809,14.227999687194824,14.215999603271484,14.187999725341797,14.157999992370604,14.185999870300291,14.173999786376951,14.175999641418455,14.196000099182127,14.20199966430664,14.206000328063965,14.229999542236328,14.284000396728516,14.371999740600586,14.369999885559082,14.343999862670898,14.383999824523926,14.329999923706056,14.315999984741213,14.32800006866455,14.321999549865724,14.324000358581545,14.3100004196167,14.326000213623049,14.338000297546388,14.31999969482422,14.29800033569336,14.29599952697754,14.315999984741213,14.312000274658203,14.315999984741213,14.29599952697754,14.29800033569336,14.300000190734863,14.324000358581545,14.315999984741213,14.317999839782717,14.31999969482422,14.32800006866455,14.317999839782717,14.343999862670898,14.345999717712402,14.35200023651123,14.343999862670898,14.350000381469728,14.36400032043457,14.366000175476074,14.36400032043457,14.350000381469728,14.345999717712402,14.350000381469728,14.34000015258789,14.345999717712402,14.355999946594238,14.345999717712402,14.355999946594238,14.350000381469728,14.350000381469728,14.355999946594238,14.354000091552734,14.347999572753906,14.35200023651123,14.355999946594238,14.35200023651123,14.37600040435791,14.390000343322754,14.381999969482422,14.416000366210938,14.411999702453612,14.406000137329102,14.406000137329102,14.402000427246094,14.411999702453612,14.413999557495115,14.416000366210938,14.41800022125244,14.41800022125244,14.42199993133545,14.43000030517578,14.435999870300291,14.43000030517578,14.449999809265137,14.460000038146973,14.460000038146973,14.458000183105469,14.444000244140623,14.449999809265137,14.465999603271484,14.489999771118164,14.494000434875488,14.517999649047852,14.496000289916992,14.486000061035156,14.473999977111816,14.470000267028809,14.460000038146973,14.449999809265137,14.465999603271484,14.461999893188477,14.479999542236328,14.47599983215332,14.470000267028809,14.479999542236328,14.468000411987305,14.47599983215332,14.468000411987305,14.477999687194824,14.473999977111816,14.48799991607666,14.477999687194824,14.47599983215332,14.472000122070312,14.477999687194824,14.465999603271484],\"decreasing\":{\"line\":{\"color\":\"gray\"}},\"high\":[13.998000144958496,13.994000434875488,13.982000350952148,13.989999771118164,14.0,13.991999626159668,13.984000205993652,13.973999977111816,13.970000267028809,13.972000122070312,13.961999893188477,13.958000183105469,13.95400047302246,13.95400047302246,13.956000328063965,13.95400047302246,13.947999954223633,13.956000328063965,13.93000030517578,13.916000366210938,13.906000137329102,13.91800022125244,13.916000366210938,13.92199993133545,13.920000076293944,13.93000030517578,13.935999870300291,13.937999725341797,13.913999557495115,13.937999725341797,13.968000411987305,13.97599983215332,13.965999603271484,13.960000038146973,13.956000328063965,13.965999603271484,13.968000411987305,13.965999603271484,13.968000411987305,13.97599983215332,13.977999687194824,14.10200023651123,14.093999862670898,14.095999717712402,14.105999946594238,14.118000030517578,14.118000030517578,14.128000259399414,14.116000175476074,14.105999946594238,14.076000213623049,14.076000213623049,14.086000442504885,14.08199977874756,14.07800006866455,14.086000442504885,14.079999923706056,14.079999923706056,14.0600004196167,14.067999839782717,14.062000274658203,14.0600004196167,14.0600004196167,14.067999839782717,14.067999839782717,14.06999969482422,14.064000129699709,14.064000129699709,14.052000045776367,14.062000274658203,14.067999839782717,14.074000358581545,14.071999549865724,14.06999969482422,14.065999984741213,14.074000358581545,14.074000358581545,14.074000358581545,14.071999549865724,14.06999969482422,14.067999839782717,14.067999839782717,14.076000213623049,14.067999839782717,14.065999984741213,14.053999900817873,14.0600004196167,14.055999755859377,14.05799961090088,14.055999755859377,14.062000274658203,14.067999839782717,14.0600004196167,14.062000274658203,14.067999839782717,14.062000274658203,14.064000129699709,14.06999969482422,14.074000358581545,14.065999984741213,14.074000358581545,14.07800006866455,14.07800006866455,14.07800006866455,14.092000007629396,14.105999946594238,14.107999801635742,14.107999801635742,14.104000091552734,14.109999656677246,14.112000465393066,14.11400032043457,14.11400032043457,14.109999656677246,14.109999656677246,14.093999862670898,14.095999717712402,14.09000015258789,14.09000015258789,14.10200023651123,14.109999656677246,14.107999801635742,14.105999946594238,14.09000015258789,14.100000381469728,14.097999572753906,14.10200023651123,14.100000381469728,14.104000091552734,14.104000091552734,14.105999946594238,14.109999656677246,14.109999656677246,14.105999946594238,14.112000465393066,14.109999656677246,14.112000465393066,14.112000465393066,14.088000297546388,14.076000213623049,14.06999969482422,14.06999969482422,14.06999969482422,14.09000015258789,14.093999862670898,14.11400032043457,14.104000091552734,14.105999946594238,14.105999946594238,14.107999801635742,14.088000297546388,14.093999862670898,14.093999862670898,14.093999862670898,14.105999946594238,14.112000465393066,14.112000465393066,14.118000030517578,14.112000465393066,14.116000175476074,14.119999885559082,14.130000114440918,14.133999824523926,14.13599967956543,14.131999969482422,14.137999534606934,14.13599967956543,14.140000343322754,14.137999534606934,14.137999534606934,14.133999824523926,14.130000114440918,14.130000114440918,14.128000259399414,14.133999824523926,14.13599967956543,14.142000198364258,14.157999992370604,14.156000137329102,14.156000137329102,14.154000282287598,14.154000282287598,14.149999618530272,14.152000427246094,14.149999618530272,14.149999618530272,14.14799976348877,14.149999618530272,14.14799976348877,14.144000053405762,14.14799976348877,14.145999908447266,14.14799976348877,14.14799976348877,14.149999618530272,14.152000427246094,14.152000427246094,14.152000427246094,14.149999618530272,14.149999618530272,14.142000198364258,14.140000343322754,14.145999908447266,14.145999908447266,14.142000198364258,14.152000427246094,14.152000427246094,14.154000282287598,14.152000427246094,14.170000076293944,14.178000450134276,14.184000015258787,14.18000030517578,14.173999786376951,14.18000030517578,14.17199993133545,14.173999786376951,14.178000450134276,14.18000030517578,14.184000015258787,14.182000160217283,14.166000366210938,14.170000076293944,14.173999786376951,14.196000099182127,14.194000244140623,14.1899995803833,14.178000450134276,14.184000015258787,14.182000160217283,14.182000160217283,14.18000030517578,14.178000450134276,14.16800022125244,14.166000366210938,14.17199993133545,14.16800022125244,14.163999557495115,14.157999992370604,14.161999702453612,14.166000366210938,14.157999992370604,14.161999702453612,14.15999984741211,14.173999786376951,14.229999542236328,14.222000122070312,14.227999687194824,14.234000205993652,14.232000350952148,14.229999542236328,14.229999542236328,14.215999603271484,14.211999893188477,14.211999893188477,14.20400047302246,14.197999954223633,14.194000244140623,14.187999725341797,14.187999725341797,14.206000328063965,14.229999542236328,14.232000350952148,14.241999626159668,14.248000144958496,14.260000228881836,14.265999794006348,14.263999938964844,14.255999565124512,14.222000122070312,14.222000122070312,14.232000350952148,14.229999542236328,14.229999542236328,14.222000122070312,14.21399974822998,14.19200038909912,14.194000244140623,14.199999809265137,14.20400047302246,14.199999809265137,14.206000328063965,14.187999725341797,14.182000160217283,14.178000450134276,14.182000160217283,14.184000015258787,14.187999725341797,14.184000015258787,14.19200038909912,14.1899995803833,14.187999725341797,14.1899995803833,14.196000099182127,14.185999870300291,14.184000015258787,14.185999870300291,14.184000015258787,14.185999870300291,14.187999725341797,14.20400047302246,14.20199966430664,14.20400047302246,14.211999893188477,14.210000038146973,14.215999603271484,14.215999603271484,14.215999603271484,14.215999603271484,14.210000038146973,14.20400047302246,14.197999954223633,14.182000160217283,14.182000160217283,14.19200038909912,14.19200038909912,14.175999641418455,14.18000030517578,14.178000450134276,14.161999702453612,14.163999557495115,14.149999618530272,14.149999618530272,14.156000137329102,14.121999740600586,14.121999740600586,14.144000053405762,14.140000343322754,14.137999534606934,14.12399959564209,14.121999740600586,14.119999885559082,14.105999946594238,14.107999801635742,14.121999740600586,14.119999885559082,14.12600040435791,14.11400032043457,14.109999656677246,14.118000030517578,14.112000465393066,14.109999656677246,14.10200023651123,14.10200023651123,14.107999801635742,14.100000381469728,14.109999656677246,14.197999954223633,14.20400047302246,14.21399974822998,14.234000205993652,14.236000061035156,14.223999977111816,14.23799991607666,14.239999771118164,14.246000289916992,14.263999938964844,14.253999710083008,14.260000228881836,14.251999855041504,14.263999938964844,14.260000228881836,14.26200008392334,14.263999938964844,14.26200008392334,14.260000228881836,14.263999938964844,14.265999794006348,14.263999938964844,14.277999877929688,14.276000022888184,14.27400016784668,14.277999877929688,14.28600025177002,14.28600025177002,14.28600025177002,14.284000396728516,14.277999877929688,14.28600025177002,14.29800033569336,14.300000190734863,14.30799961090088,14.30799961090088,14.303999900817873,14.293999671936035,14.303999900817873,14.302000045776367,14.305999755859377,14.29800033569336,14.302000045776367,14.312000274658203,14.326000213623049,14.32800006866455,14.324000358581545,14.31999969482422,14.32800006866455,14.336000442504885,14.333999633789062,14.324000358581545,14.317999839782717,14.30799961090088,14.303999900817873,14.30799961090088,14.314000129699709,14.31999969482422,14.317999839782717,14.317999839782717,14.317999839782717,14.317999839782717,14.315999984741213,14.314000129699709,14.312000274658203,14.315999984741213,14.3100004196167,14.326000213623049,14.324000358581545,14.314000129699709,14.30799961090088,14.315999984741213,14.30799961090088,14.314000129699709,14.324000358581545,14.324000358581545,14.324000358581545,14.317999839782717,14.329999923706056,14.326000213623049,14.33199977874756,14.33199977874756,14.338000297546388,14.336000442504885,14.333999633789062,14.3100004196167,14.314000129699709,14.314000129699709,14.312000274658203,14.305999755859377,14.302000045776367,14.302000045776367,14.30799961090088,14.30799961090088,14.289999961853027,14.300000190734863,14.29800033569336,14.29599952697754,14.291999816894531,14.291999816894531,14.288000106811523,14.288000106811523,14.279999732971191,14.234000205993652,14.232000350952148,14.241999626159668,14.236000061035156,14.246000289916992,14.22599983215332,14.244000434875488,14.25,14.234000205993652,14.208000183105469,14.215999603271484,14.222000122070312,14.229999542236328,14.229999542236328,14.211999893188477,14.220000267028809,14.227999687194824,14.22599983215332,14.236000061035156,14.236000061035156,14.248000144958496,14.244000434875488,14.23799991607666,14.229999542236328,14.241999626159668,14.251999855041504,14.246000289916992,14.25,14.277999877929688,14.288000106811523,14.276000022888184,14.26200008392334,14.253999710083008,14.25,14.251999855041504,14.246000289916992,14.248000144958496,14.265999794006348,14.26200008392334,14.263999938964844,14.263999938964844,14.272000312805176,14.26200008392334,14.258000373840332,14.263999938964844,14.265999794006348,14.26200008392334,14.260000228881836,14.260000228881836,14.255999565124512,14.255999565124512,14.258000373840332,14.258000373840332,14.255999565124512,14.251999855041504,14.253999710083008,14.251999855041504,14.251999855041504,14.248000144958496,14.234000205993652,14.23799991607666,14.241999626159668,14.236000061035156,14.241999626159668,14.248000144958496,14.251999855041504,14.251999855041504,14.244000434875488,14.246000289916992,14.258000373840332,14.255999565124512,14.263999938964844,14.260000228881836,14.248000144958496,14.260000228881836,14.263999938964844,14.253999710083008,14.267999649047852,14.26200008392334,14.244000434875488,14.253999710083008,14.27400016784668,14.31999969482422,14.28600025177002,14.288000106811523,14.284000396728516,14.284000396728516,14.284000396728516,14.260000228881836,14.258000373840332,14.26200008392334,14.260000228881836,14.272000312805176,14.279999732971191,14.270000457763672,14.270000457763672,14.27400016784668,14.279999732971191,14.281999588012695,14.281999588012695,14.281999588012695,14.26200008392334,14.277999877929688,14.277999877929688,14.277999877929688,14.27400016784668,14.272000312805176,14.277999877929688,14.265999794006348,14.267999649047852,14.265999794006348,14.267999649047852,14.246000289916992,14.246000289916992,14.258000373840332,14.25,14.255999565124512,14.248000144958496,14.251999855041504,14.253999710083008,14.260000228881836,14.25,14.23799991607666,14.234000205993652,14.236000061035156,14.253999710083008,14.265999794006348,14.272000312805176,14.276000022888184,14.276000022888184,14.267999649047852,14.260000228881836,14.258000373840332,14.251999855041504,14.25,14.253999710083008,14.272000312805176,14.267999649047852,14.267999649047852,14.265999794006348,14.260000228881836,14.26200008392334,14.25,14.229999542236328,14.236000061035156,14.23799991607666,14.244000434875488,14.246000289916992,14.236000061035156,14.22599983215332,14.239999771118164,14.23799991607666,14.239999771118164,14.236000061035156,14.232000350952148,14.236000061035156,14.23799991607666,14.23799991607666,14.251999855041504,14.251999855041504,14.251999855041504,14.251999855041504,14.23799991607666,14.234000205993652,14.244000434875488,14.25,14.260000228881836,14.258000373840332,14.236000061035156,14.234000205993652,14.239999771118164,14.229999542236328,14.215999603271484,14.223999977111816,14.232000350952148,14.236000061035156,14.22599983215332,14.229999542236328,14.22599983215332,14.229999542236328,14.22599983215332,14.220000267028809,14.244000434875488,14.251999855041504,14.272000312805176,14.265999794006348,14.258000373840332,14.258000373840332,14.248000144958496,14.246000289916992,14.244000434875488,14.232000350952148,14.220000267028809,14.22599983215332,14.218000411987305,14.222000122070312,14.220000267028809,14.21399974822998,14.206000328063965,14.194000244140623,14.194000244140623,14.19200038909912,14.185999870300291,14.392000198364258,14.38599967956543,14.378000259399414,14.395999908447266,14.378000259399414,14.383999824523926,14.381999969482422,14.342000007629396,14.338000297546388,14.336000442504885,14.355999946594238,14.36400032043457,14.350000381469728,14.357999801635742,14.354000091552734,14.357999801635742,14.362000465393066,14.36400032043457,14.36400032043457,14.371999740600586,14.362000465393066,14.359999656677246,14.345999717712402,14.345999717712402,14.34000015258789,14.342000007629396,14.342000007629396,14.350000381469728,14.350000381469728,14.366000175476074,14.366000175476074,14.357999801635742,14.355999946594238,14.354000091552734,14.362000465393066,14.378000259399414,14.362000465393066,14.354000091552734,14.347999572753906,14.355999946594238,14.359999656677246,14.359999656677246,14.357999801635742,14.362000465393066,14.359999656677246,14.357999801635742,14.347999572753906,14.343999862670898,14.33199977874756,14.32800006866455,14.32800006866455,14.32800006866455,14.324000358581545,14.315999984741213,14.314000129699709,14.315999984741213,14.317999839782717,14.321999549865724,14.321999549865724,14.321999549865724,14.312000274658203,14.324000358581545,14.326000213623049,14.32800006866455,14.33199977874756,14.33199977874756,14.342000007629396,14.338000297546388,14.329999923706056,14.32800006866455,14.333999633789062,14.333999633789062,14.321999549865724,14.30799961090088,14.317999839782717,14.3100004196167,14.300000190734863,14.29800033569336,14.30799961090088,14.302000045776367,14.29800033569336,14.289999961853027,14.27400016784668,14.28600025177002,14.27400016784668,14.263999938964844,14.260000228881836,14.26200008392334,14.258000373840332,14.265999794006348,14.25,14.232000350952148,14.22599983215332,14.215999603271484,14.187999725341797,14.1899995803833,14.1899995803833,14.182000160217283,14.199999809265137,14.206000328063965,14.210000038146973,14.229999542236328,14.369999885559082,14.37399959564209,14.41800022125244,14.359999656677246,14.383999824523926,14.34000015258789,14.336000442504885,14.34000015258789,14.32800006866455,14.324000358581545,14.312000274658203,14.32800006866455,14.338000297546388,14.34000015258789,14.317999839782717,14.303999900817873,14.324000358581545,14.317999839782717,14.326000213623049,14.314000129699709,14.29800033569336,14.30799961090088,14.324000358581545,14.326000213623049,14.321999549865724,14.321999549865724,14.32800006866455,14.32800006866455,14.347999572753906,14.347999572753906,14.357999801635742,14.35200023651123,14.35200023651123,14.36400032043457,14.368000030517578,14.378000259399414,14.36400032043457,14.354000091552734,14.355999946594238,14.354000091552734,14.350000381469728,14.362000465393066,14.357999801635742,14.359999656677246,14.357999801635742,14.350000381469728,14.357999801635742,14.357999801635742,14.355999946594238,14.354000091552734,14.359999656677246,14.357999801635742,14.380000114440918,14.392000198364258,14.390000343322754,14.42199993133545,14.416000366210938,14.413999557495115,14.40999984741211,14.40999984741211,14.413999557495115,14.416000366210938,14.425999641418455,14.420000076293944,14.41800022125244,14.428000450134276,14.43000030517578,14.437999725341797,14.435999870300291,14.45199966430664,14.46399974822998,14.470000267028809,14.468000411987305,14.456000328063965,14.458000183105469,14.465999603271484,14.494000434875488,14.498000144958496,14.541999816894531,14.515999794006348,14.503999710083008,14.486000061035156,14.491999626159668,14.468000411987305,14.461999893188477,14.472000122070312,14.465999603271484,14.479999542236328,14.479999542236328,14.47599983215332,14.484000205993652,14.479999542236328,14.479999542236328,14.473999977111816,14.477999687194824,14.477999687194824,14.48799991607666,14.479999542236328,14.47599983215332,14.477999687194824,14.477999687194824,14.468000411987305],\"increasing\":{\"line\":{\"color\":\"cyan\"}},\"low\":[13.98799991607666,13.979999542236328,13.972000122070312,13.979999542236328,13.98799991607666,13.972000122070312,13.965999603271484,13.96399974822998,13.960000038146973,13.960000038146973,13.95199966430664,13.944000244140623,13.944000244140623,13.944000244140623,13.944000244140623,13.944000244140623,13.9399995803833,13.920000076293944,13.90999984741211,13.880000114440918,13.881999969482422,13.892000198364258,13.899999618530272,13.899999618530272,13.906000137329102,13.91800022125244,13.911999702453612,13.904000282287598,13.887999534606934,13.892000198364258,13.93000030517578,13.960000038146973,13.944000244140623,13.94200038909912,13.935999870300291,13.947999954223633,13.956000328063965,13.949999809265137,13.956000328063965,13.956000328063965,13.956000328063965,14.029999732971191,14.050000190734863,14.05799961090088,14.08199977874756,14.093999862670898,14.095999717712402,14.109999656677246,14.104000091552734,14.071999549865724,14.055999755859377,14.064000129699709,14.067999839782717,14.053999900817873,14.05799961090088,14.076000213623049,14.074000358581545,14.062000274658203,14.04800033569336,14.052000045776367,14.050000190734863,14.039999961853027,14.052000045776367,14.055999755859377,14.055999755859377,14.0600004196167,14.050000190734863,14.041999816894531,14.041999816894531,14.038000106811523,14.055999755859377,14.064000129699709,14.065999984741213,14.062000274658203,14.052000045776367,14.05799961090088,14.067999839782717,14.067999839782717,14.0600004196167,14.05799961090088,14.055999755859377,14.062000274658203,14.064000129699709,14.053999900817873,14.052000045776367,14.04800033569336,14.04800033569336,14.04800033569336,14.050000190734863,14.043999671936035,14.04800033569336,14.0600004196167,14.055999755859377,14.05799961090088,14.0600004196167,14.05799961090088,14.05799961090088,14.062000274658203,14.065999984741213,14.062000274658203,14.0600004196167,14.074000358581545,14.06999969482422,14.065999984741213,14.074000358581545,14.09000015258789,14.100000381469728,14.093999862670898,14.095999717712402,14.104000091552734,14.104000091552734,14.105999946594238,14.10200023651123,14.104000091552734,14.093999862670898,14.079999923706056,14.086000442504885,14.074000358581545,14.076000213623049,14.079999923706056,14.09000015258789,14.09000015258789,14.09000015258789,14.074000358581545,14.088000297546388,14.083999633789062,14.092000007629396,14.09000015258789,14.09000015258789,14.097999572753906,14.100000381469728,14.097999572753906,14.097999572753906,14.095999717712402,14.105999946594238,14.104000091552734,14.10200023651123,14.088000297546388,14.062000274658203,14.065999984741213,14.062000274658203,14.053999900817873,14.052000045776367,14.03600025177002,14.071999549865724,14.083999633789062,14.092000007629396,14.08199977874756,14.088000297546388,14.08199977874756,14.06999969482422,14.076000213623049,14.076000213623049,14.088000297546388,14.09000015258789,14.104000091552734,14.104000091552734,14.100000381469728,14.097999572753906,14.104000091552734,14.11400032043457,14.118000030517578,14.121999740600586,14.118000030517578,14.121999740600586,14.12399959564209,14.128000259399414,14.128000259399414,14.131999969482422,14.12600040435791,14.128000259399414,14.121999740600586,14.112000465393066,14.116000175476074,14.12600040435791,14.133999824523926,14.133999824523926,14.142000198364258,14.145999908447266,14.14799976348877,14.145999908447266,14.14799976348877,14.137999534606934,14.144000053405762,14.142000198364258,14.144000053405762,14.140000343322754,14.140000343322754,14.128000259399414,14.13599967956543,14.144000053405762,14.140000343322754,14.140000343322754,14.144000053405762,14.145999908447266,14.144000053405762,14.14799976348877,14.14799976348877,14.142000198364258,14.137999534606934,14.131999969482422,14.13599967956543,14.137999534606934,14.137999534606934,14.131999969482422,14.13599967956543,14.13599967956543,14.144000053405762,14.142000198364258,14.144000053405762,14.166000366210938,14.170000076293944,14.163999557495115,14.166000366210938,14.17199993133545,14.144000053405762,14.14799976348877,14.16800022125244,14.16800022125244,14.178000450134276,14.161999702453612,14.144000053405762,14.149999618530272,14.15999984741211,14.17199993133545,14.185999870300291,14.173999786376951,14.156000137329102,14.16800022125244,14.163999557495115,14.166000366210938,14.17199993133545,14.154000282287598,14.149999618530272,14.157999992370604,14.156000137329102,14.157999992370604,14.14799976348877,14.149999618530272,14.152000427246094,14.156000137329102,14.13599967956543,14.149999618530272,14.149999618530272,14.157999992370604,14.187999725341797,14.20199966430664,14.20400047302246,14.21399974822998,14.211999893188477,14.215999603271484,14.21399974822998,14.20199966430664,14.197999954223633,14.194000244140623,14.19200038909912,14.185999870300291,14.175999641418455,14.170000076293944,14.18000030517578,14.184000015258787,14.199999809265137,14.220000267028809,14.223999977111816,14.236000061035156,14.239999771118164,14.25,14.25,14.223999977111816,14.208000183105469,14.210000038146973,14.210000038146973,14.218000411987305,14.211999893188477,14.21399974822998,14.187999725341797,14.18000030517578,14.182000160217283,14.1899995803833,14.194000244140623,14.19200038909912,14.182000160217283,14.182000160217283,14.17199993133545,14.17199993133545,14.173999786376951,14.17199993133545,14.18000030517578,14.175999641418455,14.18000030517578,14.184000015258787,14.184000015258787,14.175999641418455,14.182000160217283,14.18000030517578,14.175999641418455,14.18000030517578,14.18000030517578,14.182000160217283,14.184000015258787,14.185999870300291,14.194000244140623,14.196000099182127,14.196000099182127,14.206000328063965,14.20400047302246,14.210000038146973,14.211999893188477,14.206000328063965,14.20400047302246,14.1899995803833,14.182000160217283,14.170000076293944,14.173999786376951,14.182000160217283,14.175999641418455,14.163999557495115,14.16800022125244,14.152000427246094,14.154000282287598,14.109999656677246,14.131999969482422,14.131999969482422,14.095999717712402,14.093999862670898,14.10200023651123,14.107999801635742,14.121999740600586,14.118000030517578,14.10200023651123,14.112000465393066,14.076000213623049,14.093999862670898,14.095999717712402,14.104000091552734,14.109999656677246,14.109999656677246,14.10200023651123,14.104000091552734,14.107999801635742,14.097999572753906,14.093999862670898,14.09000015258789,14.097999572753906,14.100000381469728,14.09000015258789,14.09000015258789,14.116000175476074,14.163999557495115,14.187999725341797,14.211999893188477,14.211999893188477,14.21399974822998,14.218000411987305,14.232000350952148,14.227999687194824,14.236000061035156,14.239999771118164,14.246000289916992,14.236000061035156,14.234000205993652,14.25,14.248000144958496,14.253999710083008,14.251999855041504,14.25,14.258000373840332,14.255999565124512,14.258000373840332,14.260000228881836,14.263999938964844,14.26200008392334,14.267999649047852,14.277999877929688,14.277999877929688,14.276000022888184,14.276000022888184,14.265999794006348,14.267999649047852,14.284000396728516,14.291999816894531,14.291999816894531,14.29599952697754,14.29599952697754,14.288000106811523,14.289999961853027,14.29599952697754,14.291999816894531,14.293999671936035,14.293999671936035,14.300000190734863,14.305999755859377,14.31999969482422,14.3100004196167,14.312000274658203,14.314000129699709,14.317999839782717,14.317999839782717,14.314000129699709,14.30799961090088,14.29800033569336,14.29599952697754,14.29599952697754,14.305999755859377,14.30799961090088,14.3100004196167,14.314000129699709,14.30799961090088,14.30799961090088,14.3100004196167,14.312000274658203,14.302000045776367,14.305999755859377,14.302000045776367,14.314000129699709,14.30799961090088,14.29599952697754,14.29800033569336,14.305999755859377,14.302000045776367,14.305999755859377,14.30799961090088,14.312000274658203,14.303999900817873,14.312000274658203,14.303999900817873,14.29800033569336,14.305999755859377,14.3100004196167,14.32800006866455,14.321999549865724,14.303999900817873,14.281999588012695,14.29800033569336,14.29800033569336,14.303999900817873,14.288000106811523,14.289999961853027,14.289999961853027,14.293999671936035,14.281999588012695,14.272000312805176,14.288000106811523,14.28600025177002,14.281999588012695,14.284000396728516,14.281999588012695,14.272000312805176,14.267999649047852,14.232000350952148,14.211999893188477,14.211999893188477,14.218000411987305,14.222000122070312,14.222000122070312,14.206000328063965,14.215999603271484,14.236000061035156,14.210000038146973,14.185999870300291,14.1899995803833,14.210000038146973,14.215999603271484,14.20199966430664,14.20199966430664,14.197999954223633,14.208000183105469,14.20400047302246,14.218000411987305,14.22599983215332,14.234000205993652,14.232000350952148,14.227999687194824,14.223999977111816,14.222000122070312,14.236000061035156,14.229999542236328,14.227999687194824,14.251999855041504,14.260000228881836,14.258000373840332,14.248000144958496,14.23799991607666,14.239999771118164,14.239999771118164,14.239999771118164,14.239999771118164,14.248000144958496,14.25,14.25,14.253999710083008,14.258000373840332,14.253999710083008,14.25,14.255999565124512,14.260000228881836,14.255999565124512,14.25,14.251999855041504,14.25,14.25,14.25,14.25,14.248000144958496,14.248000144958496,14.25,14.25,14.244000434875488,14.223999977111816,14.223999977111816,14.232000350952148,14.232000350952148,14.227999687194824,14.229999542236328,14.239999771118164,14.241999626159668,14.239999771118164,14.23799991607666,14.236000061035156,14.246000289916992,14.239999771118164,14.244000434875488,14.246000289916992,14.236000061035156,14.239999771118164,14.253999710083008,14.246000289916992,14.244000434875488,14.223999977111816,14.223999977111816,14.232000350952148,14.253999710083008,14.270000457763672,14.270000457763672,14.27400016784668,14.265999794006348,14.258000373840332,14.255999565124512,14.236000061035156,14.244000434875488,14.253999710083008,14.25,14.253999710083008,14.267999649047852,14.260000228881836,14.26200008392334,14.260000228881836,14.270000457763672,14.27400016784668,14.27400016784668,14.276000022888184,14.210000038146973,14.251999855041504,14.251999855041504,14.260000228881836,14.263999938964844,14.255999565124512,14.255999565124512,14.260000228881836,14.258000373840332,14.253999710083008,14.241999626159668,14.227999687194824,14.234000205993652,14.248000144958496,14.241999626159668,14.248000144958496,14.232000350952148,14.244000434875488,14.239999771118164,14.248000144958496,14.229999542236328,14.223999977111816,14.22599983215332,14.222000122070312,14.239999771118164,14.253999710083008,14.26200008392334,14.270000457763672,14.26200008392334,14.258000373840332,14.255999565124512,14.253999710083008,14.23799991607666,14.23799991607666,14.246000289916992,14.251999855041504,14.260000228881836,14.260000228881836,14.258000373840332,14.25,14.25,14.21399974822998,14.220000267028809,14.222000122070312,14.227999687194824,14.236000061035156,14.236000061035156,14.215999603271484,14.220000267028809,14.220000267028809,14.234000205993652,14.234000205993652,14.227999687194824,14.222000122070312,14.22599983215332,14.232000350952148,14.234000205993652,14.236000061035156,14.246000289916992,14.246000289916992,14.23799991607666,14.220000267028809,14.223999977111816,14.227999687194824,14.229999542236328,14.25,14.236000061035156,14.229999542236328,14.227999687194824,14.227999687194824,14.211999893188477,14.210000038146973,14.184000015258787,14.218000411987305,14.220000267028809,14.218000411987305,14.218000411987305,14.215999603271484,14.211999893188477,14.20199966430664,14.206000328063965,14.220000267028809,14.23799991607666,14.248000144958496,14.244000434875488,14.244000434875488,14.22599983215332,14.227999687194824,14.232000350952148,14.234000205993652,14.215999603271484,14.210000038146973,14.211999893188477,14.211999893188477,14.199999809265137,14.210000038146973,14.20199966430664,14.194000244140623,14.175999641418455,14.184000015258787,14.182000160217283,14.17199993133545,14.277999877929688,14.333999633789062,14.329999923706056,14.368000030517578,14.355999946594238,14.368000030517578,14.326000213623049,14.321999549865724,14.321999549865724,14.324000358581545,14.336000442504885,14.345999717712402,14.333999633789062,14.343999862670898,14.342000007629396,14.347999572753906,14.347999572753906,14.357999801635742,14.354000091552734,14.357999801635742,14.354000091552734,14.342000007629396,14.33199977874756,14.338000297546388,14.324000358581545,14.324000358581545,14.326000213623049,14.338000297546388,14.338000297546388,14.343999862670898,14.35200023651123,14.35200023651123,14.350000381469728,14.343999862670898,14.336000442504885,14.359999656677246,14.343999862670898,14.34000015258789,14.34000015258789,14.342000007629396,14.347999572753906,14.350000381469728,14.35200023651123,14.350000381469728,14.354000091552734,14.345999717712402,14.317999839782717,14.32800006866455,14.317999839782717,14.321999549865724,14.315999984741213,14.31999969482422,14.312000274658203,14.312000274658203,14.300000190734863,14.30799961090088,14.29800033569336,14.303999900817873,14.315999984741213,14.3100004196167,14.302000045776367,14.3100004196167,14.314000129699709,14.31999969482422,14.326000213623049,14.31999969482422,14.31999969482422,14.329999923706056,14.317999839782717,14.31999969482422,14.326000213623049,14.317999839782717,14.28600025177002,14.288000106811523,14.3100004196167,14.29800033569336,14.28600025177002,14.289999961853027,14.272000312805176,14.276000022888184,14.281999588012695,14.265999794006348,14.239999771118164,14.253999710083008,14.25,14.251999855041504,14.241999626159668,14.244000434875488,14.248000144958496,14.25,14.21399974822998,14.215999603271484,14.208000183105469,14.184000015258787,14.157999992370604,14.157999992370604,14.173999786376951,14.17199993133545,14.178000450134276,14.194000244140623,14.20199966430664,14.206000328063965,14.246000289916992,14.355999946594238,14.368000030517578,14.343999862670898,14.345999717712402,14.324000358581545,14.314000129699709,14.324000358581545,14.315999984741213,14.317999839782717,14.305999755859377,14.305999755859377,14.336000442504885,14.315999984741213,14.29599952697754,14.291999816894531,14.30799961090088,14.3100004196167,14.303999900817873,14.293999671936035,14.28600025177002,14.29800033569336,14.302000045776367,14.315999984741213,14.312000274658203,14.305999755859377,14.314000129699709,14.314000129699709,14.315999984741213,14.342000007629396,14.343999862670898,14.342000007629396,14.343999862670898,14.350000381469728,14.35200023651123,14.362000465393066,14.343999862670898,14.345999717712402,14.345999717712402,14.34000015258789,14.338000297546388,14.347999572753906,14.345999717712402,14.342000007629396,14.347999572753906,14.343999862670898,14.350000381469728,14.350000381469728,14.347999572753906,14.345999717712402,14.347999572753906,14.350000381469728,14.35200023651123,14.378000259399414,14.380000114440918,14.378000259399414,14.399999618530272,14.399999618530272,14.399999618530272,14.399999618530272,14.402000427246094,14.407999992370604,14.413999557495115,14.413999557495115,14.411999702453612,14.41800022125244,14.420000076293944,14.428000450134276,14.42199993133545,14.43000030517578,14.446000099182127,14.45400047302246,14.45400047302246,14.444000244140623,14.4399995803833,14.447999954223633,14.465999603271484,14.479999542236328,14.486000061035156,14.477999687194824,14.486000061035156,14.461999893188477,14.470000267028809,14.456000328063965,14.444000244140623,14.45400047302246,14.458000183105469,14.45199966430664,14.449999809265137,14.468000411987305,14.468000411987305,14.468000411987305,14.46399974822998,14.46399974822998,14.468000411987305,14.472000122070312,14.473999977111816,14.477999687194824,14.47599983215332,14.46399974822998,14.477999687194824,14.458000183105469],\"name\":\"Candlestick\",\"open\":[13.98799991607666,13.991999626159668,13.982000350952148,13.979999542236328,13.991999626159668,13.989999771118164,13.979999542236328,13.968000411987305,13.968000411987305,13.970000267028809,13.961999893188477,13.95199966430664,13.95199966430664,13.949999809265137,13.944000244140623,13.95199966430664,13.946000099182127,13.947999954223633,13.928000450134276,13.911999702453612,13.902000427246094,13.907999992370604,13.913999557495115,13.902000427246094,13.916000366210938,13.91800022125244,13.920000076293944,13.934000015258787,13.907999992370604,13.89799976348877,13.93000030517578,13.961999893188477,13.961999893188477,13.944000244140623,13.95400047302246,13.95199966430664,13.965999603271484,13.958000183105469,13.961999893188477,13.968000411987305,13.960000038146973,14.031999588012695,14.092000007629396,14.065999984741213,14.086000442504885,14.100000381469728,14.095999717712402,14.11400032043457,14.109999656677246,14.104000091552734,14.076000213623049,14.06999969482422,14.071999549865724,14.08199977874756,14.07800006866455,14.07800006866455,14.079999923706056,14.076000213623049,14.0600004196167,14.05799961090088,14.062000274658203,14.052000045776367,14.053999900817873,14.055999755859377,14.064000129699709,14.062000274658203,14.064000129699709,14.050000190734863,14.04800033569336,14.041999816894531,14.0600004196167,14.067999839782717,14.06999969482422,14.065999984741213,14.064000129699709,14.05799961090088,14.071999549865724,14.071999549865724,14.071999549865724,14.062000274658203,14.062000274658203,14.067999839782717,14.065999984741213,14.067999839782717,14.064000129699709,14.052000045776367,14.055999755859377,14.050000190734863,14.050000190734863,14.055999755859377,14.04800033569336,14.067999839782717,14.0600004196167,14.05799961090088,14.062000274658203,14.062000274658203,14.05799961090088,14.064000129699709,14.06999969482422,14.064000129699709,14.062000274658203,14.074000358581545,14.076000213623049,14.074000358581545,14.074000358581545,14.09000015258789,14.10200023651123,14.10200023651123,14.095999717712402,14.105999946594238,14.105999946594238,14.112000465393066,14.11400032043457,14.104000091552734,14.107999801635742,14.093999862670898,14.092000007629396,14.088000297546388,14.09000015258789,14.08199977874756,14.100000381469728,14.107999801635742,14.097999572753906,14.09000015258789,14.088000297546388,14.09000015258789,14.097999572753906,14.100000381469728,14.093999862670898,14.100000381469728,14.105999946594238,14.100000381469728,14.105999946594238,14.100000381469728,14.105999946594238,14.109999656677246,14.104000091552734,14.112000465393066,14.088000297546388,14.065999984741213,14.067999839782717,14.062000274658203,14.06999969482422,14.039999961853027,14.086000442504885,14.088000297546388,14.095999717712402,14.100000381469728,14.09000015258789,14.100000381469728,14.08199977874756,14.088000297546388,14.083999633789062,14.092000007629396,14.09000015258789,14.104000091552734,14.105999946594238,14.112000465393066,14.112000465393066,14.104000091552734,14.116000175476074,14.121999740600586,14.12399959564209,14.133999824523926,14.121999740600586,14.130000114440918,14.130000114440918,14.128000259399414,14.13599967956543,14.133999824523926,14.128000259399414,14.130000114440918,14.128000259399414,14.118000030517578,14.12600040435791,14.133999824523926,14.133999824523926,14.142000198364258,14.156000137329102,14.14799976348877,14.154000282287598,14.149999618530272,14.14799976348877,14.145999908447266,14.149999618530272,14.144000053405762,14.145999908447266,14.142000198364258,14.145999908447266,14.140000343322754,14.144000053405762,14.145999908447266,14.140000343322754,14.145999908447266,14.145999908447266,14.145999908447266,14.149999618530272,14.152000427246094,14.14799976348877,14.14799976348877,14.142000198364258,14.13599967956543,14.137999534606934,14.145999908447266,14.142000198364258,14.13599967956543,14.144000053405762,14.145999908447266,14.14799976348877,14.14799976348877,14.166000366210938,14.18000030517578,14.173999786376951,14.170000076293944,14.175999641418455,14.17199993133545,14.14799976348877,14.16800022125244,14.173999786376951,14.18000030517578,14.182000160217283,14.163999557495115,14.15999984741211,14.163999557495115,14.173999786376951,14.185999870300291,14.1899995803833,14.178000450134276,14.170000076293944,14.182000160217283,14.166000366210938,14.173999786376951,14.178000450134276,14.152000427246094,14.163999557495115,14.166000366210938,14.157999992370604,14.161999702453612,14.152000427246094,14.154000282287598,14.15999984741211,14.156000137329102,14.149999618530272,14.157999992370604,14.157999992370604,14.199999809265137,14.220000267028809,14.222000122070312,14.223999977111816,14.227999687194824,14.229999542236328,14.223999977111816,14.21399974822998,14.206000328063965,14.20199966430664,14.20199966430664,14.196000099182127,14.194000244140623,14.18000030517578,14.187999725341797,14.184000015258787,14.20199966430664,14.227999687194824,14.223999977111816,14.244000434875488,14.239999771118164,14.251999855041504,14.26200008392334,14.255999565124512,14.222000122070312,14.21399974822998,14.220000267028809,14.22599983215332,14.220000267028809,14.222000122070312,14.21399974822998,14.1899995803833,14.184000015258787,14.196000099182127,14.197999954223633,14.196000099182127,14.19200038909912,14.185999870300291,14.18000030517578,14.175999641418455,14.173999786376951,14.175999641418455,14.184000015258787,14.184000015258787,14.18000030517578,14.1899995803833,14.185999870300291,14.184000015258787,14.185999870300291,14.18000030517578,14.18000030517578,14.18000030517578,14.182000160217283,14.185999870300291,14.184000015258787,14.185999870300291,14.194000244140623,14.20400047302246,14.197999954223633,14.208000183105469,14.210000038146973,14.215999603271484,14.215999603271484,14.215999603271484,14.210000038146973,14.20400047302246,14.194000244140623,14.182000160217283,14.173999786376951,14.182000160217283,14.19200038909912,14.175999641418455,14.16800022125244,14.178000450134276,14.154000282287598,14.157999992370604,14.131999969482422,14.145999908447266,14.142000198364258,14.10200023651123,14.119999885559082,14.116000175476074,14.130000114440918,14.131999969482422,14.12399959564209,14.11400032043457,14.118000030517578,14.100000381469728,14.100000381469728,14.104000091552734,14.116000175476074,14.116000175476074,14.11400032043457,14.104000091552734,14.107999801635742,14.107999801635742,14.109999656677246,14.095999717712402,14.100000381469728,14.100000381469728,14.100000381469728,14.092000007629396,14.119999885559082,14.173999786376951,14.196000099182127,14.218000411987305,14.227999687194824,14.220000267028809,14.218000411987305,14.232000350952148,14.23799991607666,14.236000061035156,14.25,14.248000144958496,14.251999855041504,14.234000205993652,14.258000373840332,14.25,14.253999710083008,14.258000373840332,14.260000228881836,14.258000373840332,14.263999938964844,14.260000228881836,14.26200008392334,14.276000022888184,14.263999938964844,14.27400016784668,14.277999877929688,14.279999732971191,14.279999732971191,14.277999877929688,14.277999877929688,14.272000312805176,14.284000396728516,14.291999816894531,14.291999816894531,14.305999755859377,14.302000045776367,14.293999671936035,14.289999961853027,14.300000190734863,14.29599952697754,14.29800033569336,14.293999671936035,14.300000190734863,14.3100004196167,14.31999969482422,14.324000358581545,14.315999984741213,14.31999969482422,14.326000213623049,14.333999633789062,14.317999839782717,14.317999839782717,14.30799961090088,14.302000045776367,14.300000190734863,14.30799961090088,14.3100004196167,14.317999839782717,14.315999984741213,14.315999984741213,14.30799961090088,14.315999984741213,14.314000129699709,14.312000274658203,14.312000274658203,14.305999755859377,14.315999984741213,14.324000358581545,14.312000274658203,14.29800033569336,14.30799961090088,14.30799961090088,14.3100004196167,14.30799961090088,14.31999969482422,14.321999549865724,14.312000274658203,14.317999839782717,14.326000213623049,14.305999755859377,14.32800006866455,14.329999923706056,14.333999633789062,14.329999923706056,14.3100004196167,14.29800033569336,14.303999900817873,14.305999755859377,14.303999900817873,14.293999671936035,14.300000190734863,14.29800033569336,14.30799961090088,14.288000106811523,14.291999816894531,14.293999671936035,14.29599952697754,14.291999816894531,14.289999961853027,14.288000106811523,14.284000396728516,14.255999565124512,14.234000205993652,14.227999687194824,14.22599983215332,14.236000061035156,14.222000122070312,14.22599983215332,14.215999603271484,14.23799991607666,14.234000205993652,14.208000183105469,14.199999809265137,14.215999603271484,14.215999603271484,14.227999687194824,14.206000328063965,14.211999893188477,14.220000267028809,14.211999893188477,14.220000267028809,14.229999542236328,14.236000061035156,14.239999771118164,14.232000350952148,14.22599983215332,14.22599983215332,14.23799991607666,14.244000434875488,14.229999542236328,14.251999855041504,14.27400016784668,14.26200008392334,14.26200008392334,14.248000144958496,14.246000289916992,14.251999855041504,14.244000434875488,14.241999626159668,14.248000144958496,14.26200008392334,14.26200008392334,14.260000228881836,14.258000373840332,14.26200008392334,14.253999710083008,14.258000373840332,14.265999794006348,14.26200008392334,14.260000228881836,14.260000228881836,14.253999710083008,14.251999855041504,14.253999710083008,14.251999855041504,14.253999710083008,14.248000144958496,14.25,14.251999855041504,14.251999855041504,14.248000144958496,14.223999977111816,14.234000205993652,14.236000061035156,14.234000205993652,14.229999542236328,14.239999771118164,14.246000289916992,14.251999855041504,14.23799991607666,14.23799991607666,14.25,14.25,14.244000434875488,14.255999565124512,14.244000434875488,14.239999771118164,14.260000228881836,14.251999855041504,14.246000289916992,14.26200008392334,14.223999977111816,14.246000289916992,14.255999565124512,14.27400016784668,14.276000022888184,14.279999732971191,14.27400016784668,14.263999938964844,14.284000396728516,14.260000228881836,14.244000434875488,14.26200008392334,14.260000228881836,14.253999710083008,14.267999649047852,14.267999649047852,14.265999794006348,14.267999649047852,14.272000312805176,14.279999732971191,14.276000022888184,14.276000022888184,14.210000038146973,14.251999855041504,14.27400016784668,14.265999794006348,14.272000312805176,14.263999938964844,14.272000312805176,14.260000228881836,14.265999794006348,14.263999938964844,14.263999938964844,14.239999771118164,14.239999771118164,14.25,14.248000144958496,14.251999855041504,14.248000144958496,14.244000434875488,14.25,14.253999710083008,14.25,14.234000205993652,14.229999542236328,14.22599983215332,14.241999626159668,14.253999710083008,14.263999938964844,14.272000312805176,14.276000022888184,14.265999794006348,14.258000373840332,14.258000373840332,14.251999855041504,14.239999771118164,14.251999855041504,14.251999855041504,14.267999649047852,14.263999938964844,14.263999938964844,14.260000228881836,14.255999565124512,14.25,14.22599983215332,14.223999977111816,14.23799991607666,14.236000061035156,14.241999626159668,14.236000061035156,14.223999977111816,14.220000267028809,14.23799991607666,14.234000205993652,14.234000205993652,14.227999687194824,14.229999542236328,14.23799991607666,14.23799991607666,14.236000061035156,14.251999855041504,14.248000144958496,14.25,14.23799991607666,14.229999542236328,14.227999687194824,14.236000061035156,14.253999710083008,14.258000373840332,14.236000061035156,14.234000205993652,14.234000205993652,14.227999687194824,14.211999893188477,14.208000183105469,14.218000411987305,14.229999542236328,14.223999977111816,14.22599983215332,14.220000267028809,14.222000122070312,14.222000122070312,14.208000183105469,14.220000267028809,14.241999626159668,14.248000144958496,14.260000228881836,14.25,14.258000373840332,14.234000205993652,14.241999626159668,14.23799991607666,14.232000350952148,14.215999603271484,14.215999603271484,14.215999603271484,14.215999603271484,14.210000038146973,14.211999893188477,14.206000328063965,14.194000244140623,14.1899995803833,14.184000015258787,14.182000160217283,14.289999961853027,14.368000030517578,14.347999572753906,14.371999740600586,14.368000030517578,14.37600040435791,14.378000259399414,14.333999633789062,14.336000442504885,14.329999923706056,14.338000297546388,14.357999801635742,14.347999572753906,14.343999862670898,14.354000091552734,14.355999946594238,14.357999801635742,14.359999656677246,14.357999801635742,14.357999801635742,14.359999656677246,14.359999656677246,14.34000015258789,14.342000007629396,14.34000015258789,14.32800006866455,14.338000297546388,14.342000007629396,14.350000381469728,14.345999717712402,14.366000175476074,14.35200023651123,14.354000091552734,14.354000091552734,14.343999862670898,14.362000465393066,14.362000465393066,14.345999717712402,14.347999572753906,14.342000007629396,14.354000091552734,14.357999801635742,14.357999801635742,14.355999946594238,14.354000091552734,14.357999801635742,14.347999572753906,14.329999923706056,14.33199977874756,14.326000213623049,14.326000213623049,14.31999969482422,14.321999549865724,14.315999984741213,14.312000274658203,14.3100004196167,14.317999839782717,14.303999900817873,14.321999549865724,14.31999969482422,14.30799961090088,14.312000274658203,14.31999969482422,14.324000358581545,14.32800006866455,14.32800006866455,14.321999549865724,14.333999633789062,14.329999923706056,14.324000358581545,14.326000213623049,14.32800006866455,14.321999549865724,14.291999816894531,14.3100004196167,14.3100004196167,14.300000190734863,14.289999961853027,14.291999816894531,14.302000045776367,14.284000396728516,14.289999961853027,14.27400016784668,14.263999938964844,14.27400016784668,14.26200008392334,14.260000228881836,14.253999710083008,14.258000373840332,14.251999855041504,14.25,14.220000267028809,14.22599983215332,14.215999603271484,14.187999725341797,14.15999984741211,14.184000015258787,14.173999786376951,14.178000450134276,14.197999954223633,14.20400047302246,14.206000328063965,14.369999885559082,14.366000175476074,14.371999740600586,14.359999656677246,14.350000381469728,14.34000015258789,14.336000442504885,14.33199977874756,14.326000213623049,14.317999839782717,14.305999755859377,14.315999984741213,14.336000442504885,14.338000297546388,14.317999839782717,14.302000045776367,14.30799961090088,14.314000129699709,14.312000274658203,14.312000274658203,14.29800033569336,14.29800033569336,14.302000045776367,14.324000358581545,14.315999984741213,14.31999969482422,14.317999839782717,14.32800006866455,14.317999839782717,14.342000007629396,14.345999717712402,14.350000381469728,14.347999572753906,14.35200023651123,14.357999801635742,14.368000030517578,14.36400032043457,14.347999572753906,14.347999572753906,14.35200023651123,14.342000007629396,14.347999572753906,14.355999946594238,14.345999717712402,14.354000091552734,14.347999572753906,14.350000381469728,14.355999946594238,14.355999946594238,14.345999717712402,14.350000381469728,14.354000091552734,14.35200023651123,14.378000259399414,14.390000343322754,14.383999824523926,14.416000366210938,14.411999702453612,14.407999992370604,14.407999992370604,14.402000427246094,14.407999992370604,14.41800022125244,14.420000076293944,14.41800022125244,14.420000076293944,14.42199993133545,14.43000030517578,14.435999870300291,14.43000030517578,14.447999954223633,14.458000183105469,14.456000328063965,14.456000328063965,14.446000099182127,14.45199966430664,14.468000411987305,14.48799991607666,14.491999626159668,14.515999794006348,14.494000434875488,14.477999687194824,14.47599983215332,14.468000411987305,14.461999893188477,14.456000328063965,14.465999603271484,14.461999893188477,14.47599983215332,14.473999977111816,14.470000267028809,14.479999542236328,14.468000411987305,14.473999977111816,14.470000267028809,14.47599983215332,14.47599983215332,14.479999542236328,14.47599983215332,14.473999977111816,14.477999687194824,14.468000411987305],\"x\":[\"2024-10-15T12:05:00\",\"2024-10-15T12:10:00\",\"2024-10-15T12:15:00\",\"2024-10-15T12:20:00\",\"2024-10-15T12:25:00\",\"2024-10-15T12:30:00\",\"2024-10-15T12:35:00\",\"2024-10-15T12:40:00\",\"2024-10-15T12:45:00\",\"2024-10-15T12:50:00\",\"2024-10-15T12:55:00\",\"2024-10-15T13:00:00\",\"2024-10-15T13:05:00\",\"2024-10-15T13:10:00\",\"2024-10-15T13:15:00\",\"2024-10-15T13:20:00\",\"2024-10-15T13:25:00\",\"2024-10-15T13:30:00\",\"2024-10-15T13:35:00\",\"2024-10-15T13:40:00\",\"2024-10-15T13:45:00\",\"2024-10-15T13:50:00\",\"2024-10-15T13:55:00\",\"2024-10-15T14:00:00\",\"2024-10-15T14:05:00\",\"2024-10-15T14:10:00\",\"2024-10-15T14:15:00\",\"2024-10-15T14:20:00\",\"2024-10-15T14:25:00\",\"2024-10-15T14:30:00\",\"2024-10-15T14:35:00\",\"2024-10-15T14:40:00\",\"2024-10-15T14:45:00\",\"2024-10-15T14:50:00\",\"2024-10-15T14:55:00\",\"2024-10-15T15:00:00\",\"2024-10-15T15:05:00\",\"2024-10-15T15:10:00\",\"2024-10-15T15:15:00\",\"2024-10-15T15:20:00\",\"2024-10-15T15:25:00\",\"2024-10-16T07:00:00\",\"2024-10-16T07:05:00\",\"2024-10-16T07:10:00\",\"2024-10-16T07:15:00\",\"2024-10-16T07:20:00\",\"2024-10-16T07:25:00\",\"2024-10-16T07:30:00\",\"2024-10-16T07:35:00\",\"2024-10-16T07:40:00\",\"2024-10-16T07:45:00\",\"2024-10-16T07:50:00\",\"2024-10-16T07:55:00\",\"2024-10-16T08:00:00\",\"2024-10-16T08:05:00\",\"2024-10-16T08:10:00\",\"2024-10-16T08:15:00\",\"2024-10-16T08:20:00\",\"2024-10-16T08:25:00\",\"2024-10-16T08:30:00\",\"2024-10-16T08:35:00\",\"2024-10-16T08:40:00\",\"2024-10-16T08:45:00\",\"2024-10-16T08:50:00\",\"2024-10-16T08:55:00\",\"2024-10-16T09:00:00\",\"2024-10-16T09:05:00\",\"2024-10-16T09:10:00\",\"2024-10-16T09:15:00\",\"2024-10-16T09:20:00\",\"2024-10-16T09:25:00\",\"2024-10-16T09:30:00\",\"2024-10-16T09:35:00\",\"2024-10-16T09:40:00\",\"2024-10-16T09:45:00\",\"2024-10-16T09:50:00\",\"2024-10-16T09:55:00\",\"2024-10-16T10:00:00\",\"2024-10-16T10:05:00\",\"2024-10-16T10:10:00\",\"2024-10-16T10:15:00\",\"2024-10-16T10:20:00\",\"2024-10-16T10:25:00\",\"2024-10-16T10:30:00\",\"2024-10-16T10:35:00\",\"2024-10-16T10:40:00\",\"2024-10-16T10:45:00\",\"2024-10-16T10:50:00\",\"2024-10-16T10:55:00\",\"2024-10-16T11:00:00\",\"2024-10-16T11:05:00\",\"2024-10-16T11:10:00\",\"2024-10-16T11:15:00\",\"2024-10-16T11:20:00\",\"2024-10-16T11:25:00\",\"2024-10-16T11:30:00\",\"2024-10-16T11:35:00\",\"2024-10-16T11:40:00\",\"2024-10-16T11:45:00\",\"2024-10-16T11:50:00\",\"2024-10-16T11:55:00\",\"2024-10-16T12:00:00\",\"2024-10-16T12:05:00\",\"2024-10-16T12:10:00\",\"2024-10-16T12:15:00\",\"2024-10-16T12:20:00\",\"2024-10-16T12:25:00\",\"2024-10-16T12:30:00\",\"2024-10-16T12:35:00\",\"2024-10-16T12:40:00\",\"2024-10-16T12:45:00\",\"2024-10-16T12:50:00\",\"2024-10-16T12:55:00\",\"2024-10-16T13:00:00\",\"2024-10-16T13:05:00\",\"2024-10-16T13:10:00\",\"2024-10-16T13:15:00\",\"2024-10-16T13:20:00\",\"2024-10-16T13:25:00\",\"2024-10-16T13:30:00\",\"2024-10-16T13:35:00\",\"2024-10-16T13:40:00\",\"2024-10-16T13:45:00\",\"2024-10-16T13:50:00\",\"2024-10-16T13:55:00\",\"2024-10-16T14:00:00\",\"2024-10-16T14:05:00\",\"2024-10-16T14:10:00\",\"2024-10-16T14:15:00\",\"2024-10-16T14:20:00\",\"2024-10-16T14:25:00\",\"2024-10-16T14:30:00\",\"2024-10-16T14:35:00\",\"2024-10-16T14:40:00\",\"2024-10-16T14:45:00\",\"2024-10-16T14:50:00\",\"2024-10-16T14:55:00\",\"2024-10-16T15:00:00\",\"2024-10-16T15:05:00\",\"2024-10-16T15:10:00\",\"2024-10-16T15:15:00\",\"2024-10-16T15:20:00\",\"2024-10-16T15:25:00\",\"2024-10-17T07:00:00\",\"2024-10-17T07:05:00\",\"2024-10-17T07:10:00\",\"2024-10-17T07:15:00\",\"2024-10-17T07:20:00\",\"2024-10-17T07:25:00\",\"2024-10-17T07:30:00\",\"2024-10-17T07:35:00\",\"2024-10-17T07:40:00\",\"2024-10-17T07:45:00\",\"2024-10-17T07:50:00\",\"2024-10-17T07:55:00\",\"2024-10-17T08:00:00\",\"2024-10-17T08:05:00\",\"2024-10-17T08:10:00\",\"2024-10-17T08:15:00\",\"2024-10-17T08:20:00\",\"2024-10-17T08:25:00\",\"2024-10-17T08:30:00\",\"2024-10-17T08:35:00\",\"2024-10-17T08:40:00\",\"2024-10-17T08:45:00\",\"2024-10-17T08:50:00\",\"2024-10-17T08:55:00\",\"2024-10-17T09:00:00\",\"2024-10-17T09:05:00\",\"2024-10-17T09:10:00\",\"2024-10-17T09:15:00\",\"2024-10-17T09:20:00\",\"2024-10-17T09:25:00\",\"2024-10-17T09:30:00\",\"2024-10-17T09:35:00\",\"2024-10-17T09:40:00\",\"2024-10-17T09:45:00\",\"2024-10-17T09:50:00\",\"2024-10-17T09:55:00\",\"2024-10-17T10:00:00\",\"2024-10-17T10:05:00\",\"2024-10-17T10:10:00\",\"2024-10-17T10:15:00\",\"2024-10-17T10:20:00\",\"2024-10-17T10:25:00\",\"2024-10-17T10:30:00\",\"2024-10-17T10:35:00\",\"2024-10-17T10:40:00\",\"2024-10-17T10:45:00\",\"2024-10-17T10:50:00\",\"2024-10-17T10:55:00\",\"2024-10-17T11:00:00\",\"2024-10-17T11:05:00\",\"2024-10-17T11:10:00\",\"2024-10-17T11:15:00\",\"2024-10-17T11:20:00\",\"2024-10-17T11:25:00\",\"2024-10-17T11:30:00\",\"2024-10-17T11:35:00\",\"2024-10-17T11:40:00\",\"2024-10-17T11:45:00\",\"2024-10-17T11:50:00\",\"2024-10-17T11:55:00\",\"2024-10-17T12:00:00\",\"2024-10-17T12:05:00\",\"2024-10-17T12:10:00\",\"2024-10-17T12:15:00\",\"2024-10-17T12:20:00\",\"2024-10-17T12:25:00\",\"2024-10-17T12:30:00\",\"2024-10-17T12:35:00\",\"2024-10-17T12:40:00\",\"2024-10-17T12:45:00\",\"2024-10-17T12:50:00\",\"2024-10-17T12:55:00\",\"2024-10-17T13:00:00\",\"2024-10-17T13:05:00\",\"2024-10-17T13:10:00\",\"2024-10-17T13:15:00\",\"2024-10-17T13:20:00\",\"2024-10-17T13:25:00\",\"2024-10-17T13:30:00\",\"2024-10-17T13:35:00\",\"2024-10-17T13:40:00\",\"2024-10-17T13:45:00\",\"2024-10-17T13:50:00\",\"2024-10-17T13:55:00\",\"2024-10-17T14:00:00\",\"2024-10-17T14:05:00\",\"2024-10-17T14:10:00\",\"2024-10-17T14:15:00\",\"2024-10-17T14:20:00\",\"2024-10-17T14:25:00\",\"2024-10-17T14:30:00\",\"2024-10-17T14:35:00\",\"2024-10-17T14:40:00\",\"2024-10-17T14:45:00\",\"2024-10-17T14:50:00\",\"2024-10-17T14:55:00\",\"2024-10-17T15:00:00\",\"2024-10-17T15:05:00\",\"2024-10-17T15:10:00\",\"2024-10-17T15:15:00\",\"2024-10-17T15:20:00\",\"2024-10-17T15:25:00\",\"2024-10-18T07:00:00\",\"2024-10-18T07:05:00\",\"2024-10-18T07:10:00\",\"2024-10-18T07:15:00\",\"2024-10-18T07:20:00\",\"2024-10-18T07:25:00\",\"2024-10-18T07:30:00\",\"2024-10-18T07:35:00\",\"2024-10-18T07:40:00\",\"2024-10-18T07:45:00\",\"2024-10-18T07:50:00\",\"2024-10-18T07:55:00\",\"2024-10-18T08:00:00\",\"2024-10-18T08:05:00\",\"2024-10-18T08:10:00\",\"2024-10-18T08:15:00\",\"2024-10-18T08:20:00\",\"2024-10-18T08:25:00\",\"2024-10-18T08:30:00\",\"2024-10-18T08:35:00\",\"2024-10-18T08:40:00\",\"2024-10-18T08:45:00\",\"2024-10-18T08:50:00\",\"2024-10-18T08:55:00\",\"2024-10-18T09:00:00\",\"2024-10-18T09:05:00\",\"2024-10-18T09:10:00\",\"2024-10-18T09:15:00\",\"2024-10-18T09:20:00\",\"2024-10-18T09:25:00\",\"2024-10-18T09:30:00\",\"2024-10-18T09:35:00\",\"2024-10-18T09:40:00\",\"2024-10-18T09:45:00\",\"2024-10-18T09:50:00\",\"2024-10-18T09:55:00\",\"2024-10-18T10:00:00\",\"2024-10-18T10:05:00\",\"2024-10-18T10:10:00\",\"2024-10-18T10:15:00\",\"2024-10-18T10:20:00\",\"2024-10-18T10:25:00\",\"2024-10-18T10:30:00\",\"2024-10-18T10:35:00\",\"2024-10-18T10:40:00\",\"2024-10-18T10:45:00\",\"2024-10-18T10:50:00\",\"2024-10-18T10:55:00\",\"2024-10-18T11:00:00\",\"2024-10-18T11:05:00\",\"2024-10-18T11:10:00\",\"2024-10-18T11:15:00\",\"2024-10-18T11:20:00\",\"2024-10-18T11:25:00\",\"2024-10-18T11:30:00\",\"2024-10-18T11:35:00\",\"2024-10-18T11:40:00\",\"2024-10-18T11:45:00\",\"2024-10-18T11:50:00\",\"2024-10-18T11:55:00\",\"2024-10-18T12:00:00\",\"2024-10-18T12:05:00\",\"2024-10-18T12:10:00\",\"2024-10-18T12:15:00\",\"2024-10-18T12:20:00\",\"2024-10-18T12:25:00\",\"2024-10-18T12:30:00\",\"2024-10-18T12:35:00\",\"2024-10-18T12:40:00\",\"2024-10-18T12:45:00\",\"2024-10-18T12:50:00\",\"2024-10-18T12:55:00\",\"2024-10-18T13:00:00\",\"2024-10-18T13:05:00\",\"2024-10-18T13:10:00\",\"2024-10-18T13:15:00\",\"2024-10-18T13:20:00\",\"2024-10-18T13:25:00\",\"2024-10-18T13:30:00\",\"2024-10-18T13:35:00\",\"2024-10-18T13:40:00\",\"2024-10-18T13:45:00\",\"2024-10-18T13:50:00\",\"2024-10-18T13:55:00\",\"2024-10-18T14:00:00\",\"2024-10-18T14:05:00\",\"2024-10-18T14:10:00\",\"2024-10-18T14:15:00\",\"2024-10-18T14:20:00\",\"2024-10-18T14:25:00\",\"2024-10-18T14:30:00\",\"2024-10-18T14:35:00\",\"2024-10-18T14:40:00\",\"2024-10-18T14:45:00\",\"2024-10-18T14:50:00\",\"2024-10-18T14:55:00\",\"2024-10-18T15:00:00\",\"2024-10-18T15:05:00\",\"2024-10-18T15:10:00\",\"2024-10-18T15:15:00\",\"2024-10-18T15:20:00\",\"2024-10-18T15:25:00\",\"2024-10-21T07:00:00\",\"2024-10-21T07:05:00\",\"2024-10-21T07:10:00\",\"2024-10-21T07:15:00\",\"2024-10-21T07:20:00\",\"2024-10-21T07:25:00\",\"2024-10-21T07:30:00\",\"2024-10-21T07:35:00\",\"2024-10-21T07:40:00\",\"2024-10-21T07:45:00\",\"2024-10-21T07:50:00\",\"2024-10-21T07:55:00\",\"2024-10-21T08:00:00\",\"2024-10-21T08:05:00\",\"2024-10-21T08:10:00\",\"2024-10-21T08:15:00\",\"2024-10-21T08:20:00\",\"2024-10-21T08:25:00\",\"2024-10-21T08:30:00\",\"2024-10-21T08:35:00\",\"2024-10-21T08:40:00\",\"2024-10-21T08:45:00\",\"2024-10-21T08:50:00\",\"2024-10-21T08:55:00\",\"2024-10-21T09:00:00\",\"2024-10-21T09:05:00\",\"2024-10-21T09:10:00\",\"2024-10-21T09:15:00\",\"2024-10-21T09:20:00\",\"2024-10-21T09:25:00\",\"2024-10-21T09:30:00\",\"2024-10-21T09:35:00\",\"2024-10-21T09:40:00\",\"2024-10-21T09:45:00\",\"2024-10-21T09:50:00\",\"2024-10-21T09:55:00\",\"2024-10-21T10:00:00\",\"2024-10-21T10:05:00\",\"2024-10-21T10:10:00\",\"2024-10-21T10:15:00\",\"2024-10-21T10:20:00\",\"2024-10-21T10:25:00\",\"2024-10-21T10:30:00\",\"2024-10-21T10:35:00\",\"2024-10-21T10:40:00\",\"2024-10-21T10:45:00\",\"2024-10-21T10:50:00\",\"2024-10-21T10:55:00\",\"2024-10-21T11:00:00\",\"2024-10-21T11:05:00\",\"2024-10-21T11:10:00\",\"2024-10-21T11:15:00\",\"2024-10-21T11:20:00\",\"2024-10-21T11:25:00\",\"2024-10-21T11:30:00\",\"2024-10-21T11:35:00\",\"2024-10-21T11:40:00\",\"2024-10-21T11:45:00\",\"2024-10-21T11:50:00\",\"2024-10-21T11:55:00\",\"2024-10-21T12:00:00\",\"2024-10-21T12:05:00\",\"2024-10-21T12:10:00\",\"2024-10-21T12:15:00\",\"2024-10-21T12:20:00\",\"2024-10-21T12:25:00\",\"2024-10-21T12:30:00\",\"2024-10-21T12:35:00\",\"2024-10-21T12:40:00\",\"2024-10-21T12:45:00\",\"2024-10-21T12:50:00\",\"2024-10-21T12:55:00\",\"2024-10-21T13:00:00\",\"2024-10-21T13:05:00\",\"2024-10-21T13:10:00\",\"2024-10-21T13:15:00\",\"2024-10-21T13:20:00\",\"2024-10-21T13:25:00\",\"2024-10-21T13:30:00\",\"2024-10-21T13:35:00\",\"2024-10-21T13:40:00\",\"2024-10-21T13:45:00\",\"2024-10-21T13:50:00\",\"2024-10-21T13:55:00\",\"2024-10-21T14:00:00\",\"2024-10-21T14:05:00\",\"2024-10-21T14:10:00\",\"2024-10-21T14:15:00\",\"2024-10-21T14:20:00\",\"2024-10-21T14:25:00\",\"2024-10-21T14:30:00\",\"2024-10-21T14:35:00\",\"2024-10-21T14:40:00\",\"2024-10-21T14:45:00\",\"2024-10-21T14:50:00\",\"2024-10-21T14:55:00\",\"2024-10-21T15:00:00\",\"2024-10-21T15:05:00\",\"2024-10-21T15:10:00\",\"2024-10-21T15:15:00\",\"2024-10-21T15:20:00\",\"2024-10-21T15:25:00\",\"2024-10-22T07:00:00\",\"2024-10-22T07:05:00\",\"2024-10-22T07:10:00\",\"2024-10-22T07:15:00\",\"2024-10-22T07:20:00\",\"2024-10-22T07:25:00\",\"2024-10-22T07:30:00\",\"2024-10-22T07:35:00\",\"2024-10-22T07:40:00\",\"2024-10-22T07:45:00\",\"2024-10-22T07:50:00\",\"2024-10-22T07:55:00\",\"2024-10-22T08:00:00\",\"2024-10-22T08:05:00\",\"2024-10-22T08:10:00\",\"2024-10-22T08:15:00\",\"2024-10-22T08:20:00\",\"2024-10-22T08:25:00\",\"2024-10-22T08:30:00\",\"2024-10-22T08:35:00\",\"2024-10-22T08:40:00\",\"2024-10-22T08:45:00\",\"2024-10-22T08:50:00\",\"2024-10-22T08:55:00\",\"2024-10-22T09:00:00\",\"2024-10-22T09:05:00\",\"2024-10-22T09:10:00\",\"2024-10-22T09:15:00\",\"2024-10-22T09:20:00\",\"2024-10-22T09:25:00\",\"2024-10-22T09:30:00\",\"2024-10-22T09:35:00\",\"2024-10-22T09:40:00\",\"2024-10-22T09:45:00\",\"2024-10-22T09:50:00\",\"2024-10-22T09:55:00\",\"2024-10-22T10:00:00\",\"2024-10-22T10:05:00\",\"2024-10-22T10:10:00\",\"2024-10-22T10:15:00\",\"2024-10-22T10:20:00\",\"2024-10-22T10:25:00\",\"2024-10-22T10:30:00\",\"2024-10-22T10:35:00\",\"2024-10-22T10:40:00\",\"2024-10-22T10:45:00\",\"2024-10-22T10:50:00\",\"2024-10-22T10:55:00\",\"2024-10-22T11:00:00\",\"2024-10-22T11:05:00\",\"2024-10-22T11:10:00\",\"2024-10-22T11:15:00\",\"2024-10-22T11:20:00\",\"2024-10-22T11:25:00\",\"2024-10-22T11:30:00\",\"2024-10-22T11:35:00\",\"2024-10-22T11:40:00\",\"2024-10-22T11:45:00\",\"2024-10-22T11:50:00\",\"2024-10-22T11:55:00\",\"2024-10-22T12:00:00\",\"2024-10-22T12:05:00\",\"2024-10-22T12:10:00\",\"2024-10-22T12:15:00\",\"2024-10-22T12:20:00\",\"2024-10-22T12:25:00\",\"2024-10-22T12:30:00\",\"2024-10-22T12:35:00\",\"2024-10-22T12:40:00\",\"2024-10-22T12:45:00\",\"2024-10-22T12:50:00\",\"2024-10-22T12:55:00\",\"2024-10-22T13:00:00\",\"2024-10-22T13:05:00\",\"2024-10-22T13:10:00\",\"2024-10-22T13:15:00\",\"2024-10-22T13:20:00\",\"2024-10-22T13:25:00\",\"2024-10-22T13:30:00\",\"2024-10-22T13:35:00\",\"2024-10-22T13:40:00\",\"2024-10-22T13:45:00\",\"2024-10-22T13:50:00\",\"2024-10-22T13:55:00\",\"2024-10-22T14:00:00\",\"2024-10-22T14:05:00\",\"2024-10-22T14:10:00\",\"2024-10-22T14:15:00\",\"2024-10-22T14:20:00\",\"2024-10-22T14:25:00\",\"2024-10-22T14:30:00\",\"2024-10-22T14:35:00\",\"2024-10-22T14:40:00\",\"2024-10-22T14:45:00\",\"2024-10-22T14:50:00\",\"2024-10-22T14:55:00\",\"2024-10-22T15:00:00\",\"2024-10-22T15:05:00\",\"2024-10-22T15:10:00\",\"2024-10-22T15:15:00\",\"2024-10-22T15:20:00\",\"2024-10-22T15:25:00\",\"2024-10-23T07:00:00\",\"2024-10-23T07:05:00\",\"2024-10-23T07:10:00\",\"2024-10-23T07:15:00\",\"2024-10-23T07:20:00\",\"2024-10-23T07:25:00\",\"2024-10-23T07:30:00\",\"2024-10-23T07:35:00\",\"2024-10-23T07:40:00\",\"2024-10-23T07:45:00\",\"2024-10-23T07:50:00\",\"2024-10-23T07:55:00\",\"2024-10-23T08:00:00\",\"2024-10-23T08:05:00\",\"2024-10-23T08:10:00\",\"2024-10-23T08:15:00\",\"2024-10-23T08:20:00\",\"2024-10-23T08:25:00\",\"2024-10-23T08:30:00\",\"2024-10-23T08:35:00\",\"2024-10-23T08:40:00\",\"2024-10-23T08:45:00\",\"2024-10-23T08:50:00\",\"2024-10-23T08:55:00\",\"2024-10-23T09:00:00\",\"2024-10-23T09:05:00\",\"2024-10-23T09:10:00\",\"2024-10-23T09:15:00\",\"2024-10-23T09:20:00\",\"2024-10-23T09:25:00\",\"2024-10-23T09:30:00\",\"2024-10-23T09:35:00\",\"2024-10-23T09:40:00\",\"2024-10-23T09:45:00\",\"2024-10-23T09:50:00\",\"2024-10-23T09:55:00\",\"2024-10-23T10:00:00\",\"2024-10-23T10:05:00\",\"2024-10-23T10:10:00\",\"2024-10-23T10:15:00\",\"2024-10-23T10:20:00\",\"2024-10-23T10:25:00\",\"2024-10-23T10:30:00\",\"2024-10-23T10:35:00\",\"2024-10-23T10:40:00\",\"2024-10-23T10:45:00\",\"2024-10-23T10:50:00\",\"2024-10-23T10:55:00\",\"2024-10-23T11:00:00\",\"2024-10-23T11:05:00\",\"2024-10-23T11:10:00\",\"2024-10-23T11:15:00\",\"2024-10-23T11:20:00\",\"2024-10-23T11:25:00\",\"2024-10-23T11:30:00\",\"2024-10-23T11:35:00\",\"2024-10-23T11:40:00\",\"2024-10-23T11:45:00\",\"2024-10-23T11:50:00\",\"2024-10-23T11:55:00\",\"2024-10-23T12:00:00\",\"2024-10-23T12:05:00\",\"2024-10-23T12:10:00\",\"2024-10-23T12:15:00\",\"2024-10-23T12:20:00\",\"2024-10-23T12:25:00\",\"2024-10-23T12:30:00\",\"2024-10-23T12:35:00\",\"2024-10-23T12:40:00\",\"2024-10-23T12:45:00\",\"2024-10-23T12:50:00\",\"2024-10-23T12:55:00\",\"2024-10-23T13:00:00\",\"2024-10-23T13:05:00\",\"2024-10-23T13:10:00\",\"2024-10-23T13:15:00\",\"2024-10-23T13:20:00\",\"2024-10-23T13:25:00\",\"2024-10-23T13:30:00\",\"2024-10-23T13:35:00\",\"2024-10-23T13:40:00\",\"2024-10-23T13:45:00\",\"2024-10-23T13:50:00\",\"2024-10-23T13:55:00\",\"2024-10-23T14:00:00\",\"2024-10-23T14:05:00\",\"2024-10-23T14:10:00\",\"2024-10-23T14:15:00\",\"2024-10-23T14:20:00\",\"2024-10-23T14:25:00\",\"2024-10-23T14:30:00\",\"2024-10-23T14:35:00\",\"2024-10-23T14:40:00\",\"2024-10-23T14:45:00\",\"2024-10-23T14:50:00\",\"2024-10-23T14:55:00\",\"2024-10-23T15:00:00\",\"2024-10-23T15:05:00\",\"2024-10-23T15:10:00\",\"2024-10-23T15:15:00\",\"2024-10-23T15:20:00\",\"2024-10-23T15:25:00\",\"2024-10-24T07:00:00\",\"2024-10-24T07:05:00\",\"2024-10-24T07:10:00\",\"2024-10-24T07:15:00\",\"2024-10-24T07:20:00\",\"2024-10-24T07:25:00\",\"2024-10-24T07:30:00\",\"2024-10-24T07:35:00\",\"2024-10-24T07:40:00\",\"2024-10-24T07:45:00\",\"2024-10-24T07:50:00\",\"2024-10-24T07:55:00\",\"2024-10-24T08:00:00\",\"2024-10-24T08:05:00\",\"2024-10-24T08:10:00\",\"2024-10-24T08:15:00\",\"2024-10-24T08:20:00\",\"2024-10-24T08:25:00\",\"2024-10-24T08:30:00\",\"2024-10-24T08:35:00\",\"2024-10-24T08:40:00\",\"2024-10-24T08:45:00\",\"2024-10-24T08:50:00\",\"2024-10-24T08:55:00\",\"2024-10-24T09:00:00\",\"2024-10-24T09:05:00\",\"2024-10-24T09:10:00\",\"2024-10-24T09:15:00\",\"2024-10-24T09:20:00\",\"2024-10-24T09:25:00\",\"2024-10-24T09:30:00\",\"2024-10-24T09:35:00\",\"2024-10-24T09:40:00\",\"2024-10-24T09:45:00\",\"2024-10-24T09:50:00\",\"2024-10-24T09:55:00\",\"2024-10-24T10:00:00\",\"2024-10-24T10:05:00\",\"2024-10-24T10:10:00\",\"2024-10-24T10:15:00\",\"2024-10-24T10:20:00\",\"2024-10-24T10:25:00\",\"2024-10-24T10:30:00\",\"2024-10-24T10:35:00\",\"2024-10-24T10:40:00\",\"2024-10-24T10:45:00\",\"2024-10-24T10:50:00\",\"2024-10-24T10:55:00\",\"2024-10-24T11:00:00\",\"2024-10-24T11:05:00\",\"2024-10-24T11:10:00\",\"2024-10-24T11:15:00\",\"2024-10-24T11:20:00\",\"2024-10-24T11:25:00\",\"2024-10-24T11:30:00\",\"2024-10-24T11:35:00\",\"2024-10-24T11:40:00\",\"2024-10-24T11:45:00\",\"2024-10-24T11:50:00\",\"2024-10-24T11:55:00\",\"2024-10-24T12:00:00\",\"2024-10-24T12:05:00\",\"2024-10-24T12:10:00\",\"2024-10-24T12:15:00\",\"2024-10-24T12:20:00\",\"2024-10-24T12:25:00\",\"2024-10-24T12:30:00\",\"2024-10-24T12:35:00\",\"2024-10-24T12:40:00\",\"2024-10-24T12:45:00\",\"2024-10-24T12:50:00\",\"2024-10-24T12:55:00\",\"2024-10-24T13:00:00\",\"2024-10-24T13:05:00\",\"2024-10-24T13:10:00\",\"2024-10-24T13:15:00\",\"2024-10-24T13:20:00\",\"2024-10-24T13:25:00\",\"2024-10-24T13:30:00\",\"2024-10-24T13:35:00\",\"2024-10-24T13:40:00\",\"2024-10-24T13:45:00\",\"2024-10-24T13:50:00\",\"2024-10-24T13:55:00\",\"2024-10-24T14:00:00\",\"2024-10-24T14:05:00\",\"2024-10-24T14:10:00\",\"2024-10-24T14:15:00\",\"2024-10-24T14:20:00\",\"2024-10-24T14:25:00\",\"2024-10-24T14:30:00\",\"2024-10-24T14:35:00\",\"2024-10-24T14:40:00\",\"2024-10-24T14:45:00\",\"2024-10-24T14:50:00\",\"2024-10-24T14:55:00\",\"2024-10-24T15:00:00\",\"2024-10-24T15:05:00\",\"2024-10-24T15:10:00\",\"2024-10-24T15:15:00\",\"2024-10-24T15:20:00\",\"2024-10-24T15:25:00\",\"2024-10-25T07:00:00\",\"2024-10-25T07:05:00\",\"2024-10-25T07:10:00\",\"2024-10-25T07:15:00\",\"2024-10-25T07:20:00\",\"2024-10-25T07:25:00\",\"2024-10-25T07:30:00\",\"2024-10-25T07:35:00\",\"2024-10-25T07:40:00\",\"2024-10-25T07:45:00\",\"2024-10-25T07:50:00\",\"2024-10-25T07:55:00\",\"2024-10-25T08:00:00\",\"2024-10-25T08:05:00\",\"2024-10-25T08:10:00\",\"2024-10-25T08:15:00\",\"2024-10-25T08:20:00\",\"2024-10-25T08:25:00\",\"2024-10-25T08:30:00\",\"2024-10-25T08:35:00\",\"2024-10-25T08:40:00\",\"2024-10-25T08:45:00\",\"2024-10-25T08:50:00\",\"2024-10-25T08:55:00\",\"2024-10-25T09:00:00\",\"2024-10-25T09:05:00\",\"2024-10-25T09:10:00\",\"2024-10-25T09:15:00\",\"2024-10-25T09:20:00\",\"2024-10-25T09:25:00\",\"2024-10-25T09:30:00\",\"2024-10-25T09:35:00\",\"2024-10-25T09:40:00\",\"2024-10-25T09:45:00\",\"2024-10-25T09:50:00\",\"2024-10-25T09:55:00\",\"2024-10-25T10:00:00\",\"2024-10-25T10:05:00\",\"2024-10-25T10:10:00\",\"2024-10-25T10:15:00\",\"2024-10-25T10:20:00\",\"2024-10-25T10:25:00\",\"2024-10-25T10:30:00\",\"2024-10-25T10:35:00\",\"2024-10-25T10:40:00\",\"2024-10-25T10:45:00\",\"2024-10-25T10:50:00\",\"2024-10-25T10:55:00\",\"2024-10-25T11:00:00\",\"2024-10-25T11:05:00\",\"2024-10-25T11:10:00\",\"2024-10-25T11:15:00\",\"2024-10-25T11:20:00\",\"2024-10-25T11:25:00\",\"2024-10-25T11:30:00\",\"2024-10-25T11:35:00\",\"2024-10-25T11:40:00\",\"2024-10-25T11:45:00\",\"2024-10-25T11:50:00\",\"2024-10-25T11:55:00\",\"2024-10-25T12:00:00\",\"2024-10-25T12:05:00\",\"2024-10-25T12:10:00\",\"2024-10-25T12:15:00\",\"2024-10-25T12:20:00\",\"2024-10-25T12:25:00\",\"2024-10-25T12:30:00\",\"2024-10-25T12:35:00\",\"2024-10-25T12:40:00\",\"2024-10-25T12:45:00\",\"2024-10-25T12:50:00\",\"2024-10-25T12:55:00\",\"2024-10-25T13:00:00\",\"2024-10-25T13:05:00\",\"2024-10-25T13:10:00\",\"2024-10-25T13:15:00\",\"2024-10-25T13:20:00\",\"2024-10-25T13:25:00\",\"2024-10-25T13:30:00\",\"2024-10-25T13:35:00\",\"2024-10-25T13:40:00\",\"2024-10-25T13:45:00\",\"2024-10-25T13:50:00\",\"2024-10-25T13:55:00\",\"2024-10-25T14:00:00\",\"2024-10-25T14:05:00\",\"2024-10-25T14:10:00\",\"2024-10-25T14:15:00\",\"2024-10-25T14:20:00\",\"2024-10-25T14:25:00\",\"2024-10-25T14:30:00\",\"2024-10-25T14:35:00\",\"2024-10-25T14:40:00\",\"2024-10-25T14:45:00\",\"2024-10-25T14:50:00\",\"2024-10-25T14:55:00\",\"2024-10-25T15:00:00\",\"2024-10-25T15:05:00\",\"2024-10-25T15:10:00\",\"2024-10-25T15:15:00\",\"2024-10-25T15:20:00\",\"2024-10-25T15:25:00\"],\"type\":\"candlestick\"},{\"line\":{\"color\":\"orange\",\"width\":2},\"mode\":\"lines\",\"name\":\"Portfolio Value\",\"x\":[\"2024-10-15T12:05:00\",\"2024-10-15T12:10:00\",\"2024-10-15T12:15:00\",\"2024-10-15T12:20:00\",\"2024-10-15T12:25:00\",\"2024-10-15T12:30:00\",\"2024-10-15T12:35:00\",\"2024-10-15T12:40:00\",\"2024-10-15T12:45:00\",\"2024-10-15T12:50:00\",\"2024-10-15T12:55:00\",\"2024-10-15T13:00:00\",\"2024-10-15T13:05:00\",\"2024-10-15T13:10:00\",\"2024-10-15T13:15:00\",\"2024-10-15T13:20:00\",\"2024-10-15T13:25:00\",\"2024-10-15T13:30:00\",\"2024-10-15T13:35:00\",\"2024-10-15T13:40:00\",\"2024-10-15T13:45:00\",\"2024-10-15T13:50:00\",\"2024-10-15T13:55:00\",\"2024-10-15T14:00:00\",\"2024-10-15T14:05:00\",\"2024-10-15T14:10:00\",\"2024-10-15T14:15:00\",\"2024-10-15T14:20:00\",\"2024-10-15T14:25:00\",\"2024-10-15T14:30:00\",\"2024-10-15T14:35:00\",\"2024-10-15T14:40:00\",\"2024-10-15T14:45:00\",\"2024-10-15T14:50:00\",\"2024-10-15T14:55:00\",\"2024-10-15T15:00:00\",\"2024-10-15T15:05:00\",\"2024-10-15T15:10:00\",\"2024-10-15T15:15:00\",\"2024-10-15T15:20:00\",\"2024-10-15T15:25:00\",\"2024-10-16T07:00:00\",\"2024-10-16T07:05:00\",\"2024-10-16T07:10:00\",\"2024-10-16T07:15:00\",\"2024-10-16T07:20:00\",\"2024-10-16T07:25:00\",\"2024-10-16T07:30:00\",\"2024-10-16T07:35:00\",\"2024-10-16T07:40:00\",\"2024-10-16T07:45:00\",\"2024-10-16T07:50:00\",\"2024-10-16T07:55:00\",\"2024-10-16T08:00:00\",\"2024-10-16T08:05:00\",\"2024-10-16T08:10:00\",\"2024-10-16T08:15:00\",\"2024-10-16T08:20:00\",\"2024-10-16T08:25:00\",\"2024-10-16T08:30:00\",\"2024-10-16T08:35:00\",\"2024-10-16T08:40:00\",\"2024-10-16T08:45:00\",\"2024-10-16T08:50:00\",\"2024-10-16T08:55:00\",\"2024-10-16T09:00:00\",\"2024-10-16T09:05:00\",\"2024-10-16T09:10:00\",\"2024-10-16T09:15:00\",\"2024-10-16T09:20:00\",\"2024-10-16T09:25:00\",\"2024-10-16T09:30:00\",\"2024-10-16T09:35:00\",\"2024-10-16T09:40:00\",\"2024-10-16T09:45:00\",\"2024-10-16T09:50:00\",\"2024-10-16T09:55:00\",\"2024-10-16T10:00:00\",\"2024-10-16T10:05:00\",\"2024-10-16T10:10:00\",\"2024-10-16T10:15:00\",\"2024-10-16T10:20:00\",\"2024-10-16T10:25:00\",\"2024-10-16T10:30:00\",\"2024-10-16T10:35:00\",\"2024-10-16T10:40:00\",\"2024-10-16T10:45:00\",\"2024-10-16T10:50:00\",\"2024-10-16T10:55:00\",\"2024-10-16T11:00:00\",\"2024-10-16T11:05:00\",\"2024-10-16T11:10:00\",\"2024-10-16T11:15:00\",\"2024-10-16T11:20:00\",\"2024-10-16T11:25:00\",\"2024-10-16T11:30:00\",\"2024-10-16T11:35:00\",\"2024-10-16T11:40:00\",\"2024-10-16T11:45:00\",\"2024-10-16T11:50:00\",\"2024-10-16T11:55:00\",\"2024-10-16T12:00:00\",\"2024-10-16T12:05:00\",\"2024-10-16T12:10:00\",\"2024-10-16T12:15:00\",\"2024-10-16T12:20:00\",\"2024-10-16T12:25:00\",\"2024-10-16T12:30:00\",\"2024-10-16T12:35:00\",\"2024-10-16T12:40:00\",\"2024-10-16T12:45:00\",\"2024-10-16T12:50:00\",\"2024-10-16T12:55:00\",\"2024-10-16T13:00:00\",\"2024-10-16T13:05:00\",\"2024-10-16T13:10:00\",\"2024-10-16T13:15:00\",\"2024-10-16T13:20:00\",\"2024-10-16T13:25:00\",\"2024-10-16T13:30:00\",\"2024-10-16T13:35:00\",\"2024-10-16T13:40:00\",\"2024-10-16T13:45:00\",\"2024-10-16T13:50:00\",\"2024-10-16T13:55:00\",\"2024-10-16T14:00:00\",\"2024-10-16T14:05:00\",\"2024-10-16T14:10:00\",\"2024-10-16T14:15:00\",\"2024-10-16T14:20:00\",\"2024-10-16T14:25:00\",\"2024-10-16T14:30:00\",\"2024-10-16T14:35:00\",\"2024-10-16T14:40:00\",\"2024-10-16T14:45:00\",\"2024-10-16T14:50:00\",\"2024-10-16T14:55:00\",\"2024-10-16T15:00:00\",\"2024-10-16T15:05:00\",\"2024-10-16T15:10:00\",\"2024-10-16T15:15:00\",\"2024-10-16T15:20:00\",\"2024-10-16T15:25:00\",\"2024-10-17T07:00:00\",\"2024-10-17T07:05:00\",\"2024-10-17T07:10:00\",\"2024-10-17T07:15:00\",\"2024-10-17T07:20:00\",\"2024-10-17T07:25:00\",\"2024-10-17T07:30:00\",\"2024-10-17T07:35:00\",\"2024-10-17T07:40:00\",\"2024-10-17T07:45:00\",\"2024-10-17T07:50:00\",\"2024-10-17T07:55:00\",\"2024-10-17T08:00:00\",\"2024-10-17T08:05:00\",\"2024-10-17T08:10:00\",\"2024-10-17T08:15:00\",\"2024-10-17T08:20:00\",\"2024-10-17T08:25:00\",\"2024-10-17T08:30:00\",\"2024-10-17T08:35:00\",\"2024-10-17T08:40:00\",\"2024-10-17T08:45:00\",\"2024-10-17T08:50:00\",\"2024-10-17T08:55:00\",\"2024-10-17T09:00:00\",\"2024-10-17T09:05:00\",\"2024-10-17T09:10:00\",\"2024-10-17T09:15:00\",\"2024-10-17T09:20:00\",\"2024-10-17T09:25:00\",\"2024-10-17T09:30:00\",\"2024-10-17T09:35:00\",\"2024-10-17T09:40:00\",\"2024-10-17T09:45:00\",\"2024-10-17T09:50:00\",\"2024-10-17T09:55:00\",\"2024-10-17T10:00:00\",\"2024-10-17T10:05:00\",\"2024-10-17T10:10:00\",\"2024-10-17T10:15:00\",\"2024-10-17T10:20:00\",\"2024-10-17T10:25:00\",\"2024-10-17T10:30:00\",\"2024-10-17T10:35:00\",\"2024-10-17T10:40:00\",\"2024-10-17T10:45:00\",\"2024-10-17T10:50:00\",\"2024-10-17T10:55:00\",\"2024-10-17T11:00:00\",\"2024-10-17T11:05:00\",\"2024-10-17T11:10:00\",\"2024-10-17T11:15:00\",\"2024-10-17T11:20:00\",\"2024-10-17T11:25:00\",\"2024-10-17T11:30:00\",\"2024-10-17T11:35:00\",\"2024-10-17T11:40:00\",\"2024-10-17T11:45:00\",\"2024-10-17T11:50:00\",\"2024-10-17T11:55:00\",\"2024-10-17T12:00:00\",\"2024-10-17T12:05:00\",\"2024-10-17T12:10:00\",\"2024-10-17T12:15:00\",\"2024-10-17T12:20:00\",\"2024-10-17T12:25:00\",\"2024-10-17T12:30:00\",\"2024-10-17T12:35:00\",\"2024-10-17T12:40:00\",\"2024-10-17T12:45:00\",\"2024-10-17T12:50:00\",\"2024-10-17T12:55:00\",\"2024-10-17T13:00:00\",\"2024-10-17T13:05:00\",\"2024-10-17T13:10:00\",\"2024-10-17T13:15:00\",\"2024-10-17T13:20:00\",\"2024-10-17T13:25:00\",\"2024-10-17T13:30:00\",\"2024-10-17T13:35:00\",\"2024-10-17T13:40:00\",\"2024-10-17T13:45:00\",\"2024-10-17T13:50:00\",\"2024-10-17T13:55:00\",\"2024-10-17T14:00:00\",\"2024-10-17T14:05:00\",\"2024-10-17T14:10:00\",\"2024-10-17T14:15:00\",\"2024-10-17T14:20:00\",\"2024-10-17T14:25:00\",\"2024-10-17T14:30:00\",\"2024-10-17T14:35:00\",\"2024-10-17T14:40:00\",\"2024-10-17T14:45:00\",\"2024-10-17T14:50:00\",\"2024-10-17T14:55:00\",\"2024-10-17T15:00:00\",\"2024-10-17T15:05:00\",\"2024-10-17T15:10:00\",\"2024-10-17T15:15:00\",\"2024-10-17T15:20:00\",\"2024-10-17T15:25:00\",\"2024-10-18T07:00:00\",\"2024-10-18T07:05:00\",\"2024-10-18T07:10:00\",\"2024-10-18T07:15:00\",\"2024-10-18T07:20:00\",\"2024-10-18T07:25:00\",\"2024-10-18T07:30:00\",\"2024-10-18T07:35:00\",\"2024-10-18T07:40:00\",\"2024-10-18T07:45:00\",\"2024-10-18T07:50:00\",\"2024-10-18T07:55:00\",\"2024-10-18T08:00:00\",\"2024-10-18T08:05:00\",\"2024-10-18T08:10:00\",\"2024-10-18T08:15:00\",\"2024-10-18T08:20:00\",\"2024-10-18T08:25:00\",\"2024-10-18T08:30:00\",\"2024-10-18T08:35:00\",\"2024-10-18T08:40:00\",\"2024-10-18T08:45:00\",\"2024-10-18T08:50:00\",\"2024-10-18T08:55:00\",\"2024-10-18T09:00:00\",\"2024-10-18T09:05:00\",\"2024-10-18T09:10:00\",\"2024-10-18T09:15:00\",\"2024-10-18T09:20:00\",\"2024-10-18T09:25:00\",\"2024-10-18T09:30:00\",\"2024-10-18T09:35:00\",\"2024-10-18T09:40:00\",\"2024-10-18T09:45:00\",\"2024-10-18T09:50:00\",\"2024-10-18T09:55:00\",\"2024-10-18T10:00:00\",\"2024-10-18T10:05:00\",\"2024-10-18T10:10:00\",\"2024-10-18T10:15:00\",\"2024-10-18T10:20:00\",\"2024-10-18T10:25:00\",\"2024-10-18T10:30:00\",\"2024-10-18T10:35:00\",\"2024-10-18T10:40:00\",\"2024-10-18T10:45:00\",\"2024-10-18T10:50:00\",\"2024-10-18T10:55:00\",\"2024-10-18T11:00:00\",\"2024-10-18T11:05:00\",\"2024-10-18T11:10:00\",\"2024-10-18T11:15:00\",\"2024-10-18T11:20:00\",\"2024-10-18T11:25:00\",\"2024-10-18T11:30:00\",\"2024-10-18T11:35:00\",\"2024-10-18T11:40:00\",\"2024-10-18T11:45:00\",\"2024-10-18T11:50:00\",\"2024-10-18T11:55:00\",\"2024-10-18T12:00:00\",\"2024-10-18T12:05:00\",\"2024-10-18T12:10:00\",\"2024-10-18T12:15:00\",\"2024-10-18T12:20:00\",\"2024-10-18T12:25:00\",\"2024-10-18T12:30:00\",\"2024-10-18T12:35:00\",\"2024-10-18T12:40:00\",\"2024-10-18T12:45:00\",\"2024-10-18T12:50:00\",\"2024-10-18T12:55:00\",\"2024-10-18T13:00:00\",\"2024-10-18T13:05:00\",\"2024-10-18T13:10:00\",\"2024-10-18T13:15:00\",\"2024-10-18T13:20:00\",\"2024-10-18T13:25:00\",\"2024-10-18T13:30:00\",\"2024-10-18T13:35:00\",\"2024-10-18T13:40:00\",\"2024-10-18T13:45:00\",\"2024-10-18T13:50:00\",\"2024-10-18T13:55:00\",\"2024-10-18T14:00:00\",\"2024-10-18T14:05:00\",\"2024-10-18T14:10:00\",\"2024-10-18T14:15:00\",\"2024-10-18T14:20:00\",\"2024-10-18T14:25:00\",\"2024-10-18T14:30:00\",\"2024-10-18T14:35:00\",\"2024-10-18T14:40:00\",\"2024-10-18T14:45:00\",\"2024-10-18T14:50:00\",\"2024-10-18T14:55:00\",\"2024-10-18T15:00:00\",\"2024-10-18T15:05:00\",\"2024-10-18T15:10:00\",\"2024-10-18T15:15:00\",\"2024-10-18T15:20:00\",\"2024-10-18T15:25:00\",\"2024-10-21T07:00:00\",\"2024-10-21T07:05:00\",\"2024-10-21T07:10:00\",\"2024-10-21T07:15:00\",\"2024-10-21T07:20:00\",\"2024-10-21T07:25:00\",\"2024-10-21T07:30:00\",\"2024-10-21T07:35:00\",\"2024-10-21T07:40:00\",\"2024-10-21T07:45:00\",\"2024-10-21T07:50:00\",\"2024-10-21T07:55:00\",\"2024-10-21T08:00:00\",\"2024-10-21T08:05:00\",\"2024-10-21T08:10:00\",\"2024-10-21T08:15:00\",\"2024-10-21T08:20:00\",\"2024-10-21T08:25:00\",\"2024-10-21T08:30:00\",\"2024-10-21T08:35:00\",\"2024-10-21T08:40:00\",\"2024-10-21T08:45:00\",\"2024-10-21T08:50:00\",\"2024-10-21T08:55:00\",\"2024-10-21T09:00:00\",\"2024-10-21T09:05:00\",\"2024-10-21T09:10:00\",\"2024-10-21T09:15:00\",\"2024-10-21T09:20:00\",\"2024-10-21T09:25:00\",\"2024-10-21T09:30:00\",\"2024-10-21T09:35:00\",\"2024-10-21T09:40:00\",\"2024-10-21T09:45:00\",\"2024-10-21T09:50:00\",\"2024-10-21T09:55:00\",\"2024-10-21T10:00:00\",\"2024-10-21T10:05:00\",\"2024-10-21T10:10:00\",\"2024-10-21T10:15:00\",\"2024-10-21T10:20:00\",\"2024-10-21T10:25:00\",\"2024-10-21T10:30:00\",\"2024-10-21T10:35:00\",\"2024-10-21T10:40:00\",\"2024-10-21T10:45:00\",\"2024-10-21T10:50:00\",\"2024-10-21T10:55:00\",\"2024-10-21T11:00:00\",\"2024-10-21T11:05:00\",\"2024-10-21T11:10:00\",\"2024-10-21T11:15:00\",\"2024-10-21T11:20:00\",\"2024-10-21T11:25:00\",\"2024-10-21T11:30:00\",\"2024-10-21T11:35:00\",\"2024-10-21T11:40:00\",\"2024-10-21T11:45:00\",\"2024-10-21T11:50:00\",\"2024-10-21T11:55:00\",\"2024-10-21T12:00:00\",\"2024-10-21T12:05:00\",\"2024-10-21T12:10:00\",\"2024-10-21T12:15:00\",\"2024-10-21T12:20:00\",\"2024-10-21T12:25:00\",\"2024-10-21T12:30:00\",\"2024-10-21T12:35:00\",\"2024-10-21T12:40:00\",\"2024-10-21T12:45:00\",\"2024-10-21T12:50:00\",\"2024-10-21T12:55:00\",\"2024-10-21T13:00:00\",\"2024-10-21T13:05:00\",\"2024-10-21T13:10:00\",\"2024-10-21T13:15:00\",\"2024-10-21T13:20:00\",\"2024-10-21T13:25:00\",\"2024-10-21T13:30:00\",\"2024-10-21T13:35:00\",\"2024-10-21T13:40:00\",\"2024-10-21T13:45:00\",\"2024-10-21T13:50:00\",\"2024-10-21T13:55:00\",\"2024-10-21T14:00:00\",\"2024-10-21T14:05:00\",\"2024-10-21T14:10:00\",\"2024-10-21T14:15:00\",\"2024-10-21T14:20:00\",\"2024-10-21T14:25:00\",\"2024-10-21T14:30:00\",\"2024-10-21T14:35:00\",\"2024-10-21T14:40:00\",\"2024-10-21T14:45:00\",\"2024-10-21T14:50:00\",\"2024-10-21T14:55:00\",\"2024-10-21T15:00:00\",\"2024-10-21T15:05:00\",\"2024-10-21T15:10:00\",\"2024-10-21T15:15:00\",\"2024-10-21T15:20:00\",\"2024-10-21T15:25:00\",\"2024-10-22T07:00:00\",\"2024-10-22T07:05:00\",\"2024-10-22T07:10:00\",\"2024-10-22T07:15:00\",\"2024-10-22T07:20:00\",\"2024-10-22T07:25:00\",\"2024-10-22T07:30:00\",\"2024-10-22T07:35:00\",\"2024-10-22T07:40:00\",\"2024-10-22T07:45:00\",\"2024-10-22T07:50:00\",\"2024-10-22T07:55:00\",\"2024-10-22T08:00:00\",\"2024-10-22T08:05:00\",\"2024-10-22T08:10:00\",\"2024-10-22T08:15:00\",\"2024-10-22T08:20:00\",\"2024-10-22T08:25:00\",\"2024-10-22T08:30:00\",\"2024-10-22T08:35:00\",\"2024-10-22T08:40:00\",\"2024-10-22T08:45:00\",\"2024-10-22T08:50:00\",\"2024-10-22T08:55:00\",\"2024-10-22T09:00:00\",\"2024-10-22T09:05:00\",\"2024-10-22T09:10:00\",\"2024-10-22T09:15:00\",\"2024-10-22T09:20:00\",\"2024-10-22T09:25:00\",\"2024-10-22T09:30:00\",\"2024-10-22T09:35:00\",\"2024-10-22T09:40:00\",\"2024-10-22T09:45:00\",\"2024-10-22T09:50:00\",\"2024-10-22T09:55:00\",\"2024-10-22T10:00:00\",\"2024-10-22T10:05:00\",\"2024-10-22T10:10:00\",\"2024-10-22T10:15:00\",\"2024-10-22T10:20:00\",\"2024-10-22T10:25:00\",\"2024-10-22T10:30:00\",\"2024-10-22T10:35:00\",\"2024-10-22T10:40:00\",\"2024-10-22T10:45:00\",\"2024-10-22T10:50:00\",\"2024-10-22T10:55:00\",\"2024-10-22T11:00:00\",\"2024-10-22T11:05:00\",\"2024-10-22T11:10:00\",\"2024-10-22T11:15:00\",\"2024-10-22T11:20:00\",\"2024-10-22T11:25:00\",\"2024-10-22T11:30:00\",\"2024-10-22T11:35:00\",\"2024-10-22T11:40:00\",\"2024-10-22T11:45:00\",\"2024-10-22T11:50:00\",\"2024-10-22T11:55:00\",\"2024-10-22T12:00:00\",\"2024-10-22T12:05:00\",\"2024-10-22T12:10:00\",\"2024-10-22T12:15:00\",\"2024-10-22T12:20:00\",\"2024-10-22T12:25:00\",\"2024-10-22T12:30:00\",\"2024-10-22T12:35:00\",\"2024-10-22T12:40:00\",\"2024-10-22T12:45:00\",\"2024-10-22T12:50:00\",\"2024-10-22T12:55:00\",\"2024-10-22T13:00:00\",\"2024-10-22T13:05:00\",\"2024-10-22T13:10:00\",\"2024-10-22T13:15:00\",\"2024-10-22T13:20:00\",\"2024-10-22T13:25:00\",\"2024-10-22T13:30:00\",\"2024-10-22T13:35:00\",\"2024-10-22T13:40:00\",\"2024-10-22T13:45:00\",\"2024-10-22T13:50:00\",\"2024-10-22T13:55:00\",\"2024-10-22T14:00:00\",\"2024-10-22T14:05:00\",\"2024-10-22T14:10:00\",\"2024-10-22T14:15:00\",\"2024-10-22T14:20:00\",\"2024-10-22T14:25:00\",\"2024-10-22T14:30:00\",\"2024-10-22T14:35:00\",\"2024-10-22T14:40:00\",\"2024-10-22T14:45:00\",\"2024-10-22T14:50:00\",\"2024-10-22T14:55:00\",\"2024-10-22T15:00:00\",\"2024-10-22T15:05:00\",\"2024-10-22T15:10:00\",\"2024-10-22T15:15:00\",\"2024-10-22T15:20:00\",\"2024-10-22T15:25:00\",\"2024-10-23T07:00:00\",\"2024-10-23T07:05:00\",\"2024-10-23T07:10:00\",\"2024-10-23T07:15:00\",\"2024-10-23T07:20:00\",\"2024-10-23T07:25:00\",\"2024-10-23T07:30:00\",\"2024-10-23T07:35:00\",\"2024-10-23T07:40:00\",\"2024-10-23T07:45:00\",\"2024-10-23T07:50:00\",\"2024-10-23T07:55:00\",\"2024-10-23T08:00:00\",\"2024-10-23T08:05:00\",\"2024-10-23T08:10:00\",\"2024-10-23T08:15:00\",\"2024-10-23T08:20:00\",\"2024-10-23T08:25:00\",\"2024-10-23T08:30:00\",\"2024-10-23T08:35:00\",\"2024-10-23T08:40:00\",\"2024-10-23T08:45:00\",\"2024-10-23T08:50:00\",\"2024-10-23T08:55:00\",\"2024-10-23T09:00:00\",\"2024-10-23T09:05:00\",\"2024-10-23T09:10:00\",\"2024-10-23T09:15:00\",\"2024-10-23T09:20:00\",\"2024-10-23T09:25:00\",\"2024-10-23T09:30:00\",\"2024-10-23T09:35:00\",\"2024-10-23T09:40:00\",\"2024-10-23T09:45:00\",\"2024-10-23T09:50:00\",\"2024-10-23T09:55:00\",\"2024-10-23T10:00:00\",\"2024-10-23T10:05:00\",\"2024-10-23T10:10:00\",\"2024-10-23T10:15:00\",\"2024-10-23T10:20:00\",\"2024-10-23T10:25:00\",\"2024-10-23T10:30:00\",\"2024-10-23T10:35:00\",\"2024-10-23T10:40:00\",\"2024-10-23T10:45:00\",\"2024-10-23T10:50:00\",\"2024-10-23T10:55:00\",\"2024-10-23T11:00:00\",\"2024-10-23T11:05:00\",\"2024-10-23T11:10:00\",\"2024-10-23T11:15:00\",\"2024-10-23T11:20:00\",\"2024-10-23T11:25:00\",\"2024-10-23T11:30:00\",\"2024-10-23T11:35:00\",\"2024-10-23T11:40:00\",\"2024-10-23T11:45:00\",\"2024-10-23T11:50:00\",\"2024-10-23T11:55:00\",\"2024-10-23T12:00:00\",\"2024-10-23T12:05:00\",\"2024-10-23T12:10:00\",\"2024-10-23T12:15:00\",\"2024-10-23T12:20:00\",\"2024-10-23T12:25:00\",\"2024-10-23T12:30:00\",\"2024-10-23T12:35:00\",\"2024-10-23T12:40:00\",\"2024-10-23T12:45:00\",\"2024-10-23T12:50:00\",\"2024-10-23T12:55:00\",\"2024-10-23T13:00:00\",\"2024-10-23T13:05:00\",\"2024-10-23T13:10:00\",\"2024-10-23T13:15:00\",\"2024-10-23T13:20:00\",\"2024-10-23T13:25:00\",\"2024-10-23T13:30:00\",\"2024-10-23T13:35:00\",\"2024-10-23T13:40:00\",\"2024-10-23T13:45:00\",\"2024-10-23T13:50:00\",\"2024-10-23T13:55:00\",\"2024-10-23T14:00:00\",\"2024-10-23T14:05:00\",\"2024-10-23T14:10:00\",\"2024-10-23T14:15:00\",\"2024-10-23T14:20:00\",\"2024-10-23T14:25:00\",\"2024-10-23T14:30:00\",\"2024-10-23T14:35:00\",\"2024-10-23T14:40:00\",\"2024-10-23T14:45:00\",\"2024-10-23T14:50:00\",\"2024-10-23T14:55:00\",\"2024-10-23T15:00:00\",\"2024-10-23T15:05:00\",\"2024-10-23T15:10:00\",\"2024-10-23T15:15:00\",\"2024-10-23T15:20:00\",\"2024-10-23T15:25:00\",\"2024-10-24T07:00:00\",\"2024-10-24T07:05:00\",\"2024-10-24T07:10:00\",\"2024-10-24T07:15:00\",\"2024-10-24T07:20:00\",\"2024-10-24T07:25:00\",\"2024-10-24T07:30:00\",\"2024-10-24T07:35:00\",\"2024-10-24T07:40:00\",\"2024-10-24T07:45:00\",\"2024-10-24T07:50:00\",\"2024-10-24T07:55:00\",\"2024-10-24T08:00:00\",\"2024-10-24T08:05:00\",\"2024-10-24T08:10:00\",\"2024-10-24T08:15:00\",\"2024-10-24T08:20:00\",\"2024-10-24T08:25:00\",\"2024-10-24T08:30:00\",\"2024-10-24T08:35:00\",\"2024-10-24T08:40:00\",\"2024-10-24T08:45:00\",\"2024-10-24T08:50:00\",\"2024-10-24T08:55:00\",\"2024-10-24T09:00:00\",\"2024-10-24T09:05:00\",\"2024-10-24T09:10:00\",\"2024-10-24T09:15:00\",\"2024-10-24T09:20:00\",\"2024-10-24T09:25:00\",\"2024-10-24T09:30:00\",\"2024-10-24T09:35:00\",\"2024-10-24T09:40:00\",\"2024-10-24T09:45:00\",\"2024-10-24T09:50:00\",\"2024-10-24T09:55:00\",\"2024-10-24T10:00:00\",\"2024-10-24T10:05:00\",\"2024-10-24T10:10:00\",\"2024-10-24T10:15:00\",\"2024-10-24T10:20:00\",\"2024-10-24T10:25:00\",\"2024-10-24T10:30:00\",\"2024-10-24T10:35:00\",\"2024-10-24T10:40:00\",\"2024-10-24T10:45:00\",\"2024-10-24T10:50:00\",\"2024-10-24T10:55:00\",\"2024-10-24T11:00:00\",\"2024-10-24T11:05:00\",\"2024-10-24T11:10:00\",\"2024-10-24T11:15:00\",\"2024-10-24T11:20:00\",\"2024-10-24T11:25:00\",\"2024-10-24T11:30:00\",\"2024-10-24T11:35:00\",\"2024-10-24T11:40:00\",\"2024-10-24T11:45:00\",\"2024-10-24T11:50:00\",\"2024-10-24T11:55:00\",\"2024-10-24T12:00:00\",\"2024-10-24T12:05:00\",\"2024-10-24T12:10:00\",\"2024-10-24T12:15:00\",\"2024-10-24T12:20:00\",\"2024-10-24T12:25:00\",\"2024-10-24T12:30:00\",\"2024-10-24T12:35:00\",\"2024-10-24T12:40:00\",\"2024-10-24T12:45:00\",\"2024-10-24T12:50:00\",\"2024-10-24T12:55:00\",\"2024-10-24T13:00:00\",\"2024-10-24T13:05:00\",\"2024-10-24T13:10:00\",\"2024-10-24T13:15:00\",\"2024-10-24T13:20:00\",\"2024-10-24T13:25:00\",\"2024-10-24T13:30:00\",\"2024-10-24T13:35:00\",\"2024-10-24T13:40:00\",\"2024-10-24T13:45:00\",\"2024-10-24T13:50:00\",\"2024-10-24T13:55:00\",\"2024-10-24T14:00:00\",\"2024-10-24T14:05:00\",\"2024-10-24T14:10:00\",\"2024-10-24T14:15:00\",\"2024-10-24T14:20:00\",\"2024-10-24T14:25:00\",\"2024-10-24T14:30:00\",\"2024-10-24T14:35:00\",\"2024-10-24T14:40:00\",\"2024-10-24T14:45:00\",\"2024-10-24T14:50:00\",\"2024-10-24T14:55:00\",\"2024-10-24T15:00:00\",\"2024-10-24T15:05:00\",\"2024-10-24T15:10:00\",\"2024-10-24T15:15:00\",\"2024-10-24T15:20:00\",\"2024-10-24T15:25:00\",\"2024-10-25T07:00:00\",\"2024-10-25T07:05:00\",\"2024-10-25T07:10:00\",\"2024-10-25T07:15:00\",\"2024-10-25T07:20:00\",\"2024-10-25T07:25:00\",\"2024-10-25T07:30:00\",\"2024-10-25T07:35:00\",\"2024-10-25T07:40:00\",\"2024-10-25T07:45:00\",\"2024-10-25T07:50:00\",\"2024-10-25T07:55:00\",\"2024-10-25T08:00:00\",\"2024-10-25T08:05:00\",\"2024-10-25T08:10:00\",\"2024-10-25T08:15:00\",\"2024-10-25T08:20:00\",\"2024-10-25T08:25:00\",\"2024-10-25T08:30:00\",\"2024-10-25T08:35:00\",\"2024-10-25T08:40:00\",\"2024-10-25T08:45:00\",\"2024-10-25T08:50:00\",\"2024-10-25T08:55:00\",\"2024-10-25T09:00:00\",\"2024-10-25T09:05:00\",\"2024-10-25T09:10:00\",\"2024-10-25T09:15:00\",\"2024-10-25T09:20:00\",\"2024-10-25T09:25:00\",\"2024-10-25T09:30:00\",\"2024-10-25T09:35:00\",\"2024-10-25T09:40:00\",\"2024-10-25T09:45:00\",\"2024-10-25T09:50:00\",\"2024-10-25T09:55:00\",\"2024-10-25T10:00:00\",\"2024-10-25T10:05:00\",\"2024-10-25T10:10:00\",\"2024-10-25T10:15:00\",\"2024-10-25T10:20:00\",\"2024-10-25T10:25:00\",\"2024-10-25T10:30:00\",\"2024-10-25T10:35:00\",\"2024-10-25T10:40:00\",\"2024-10-25T10:45:00\",\"2024-10-25T10:50:00\",\"2024-10-25T10:55:00\",\"2024-10-25T11:00:00\",\"2024-10-25T11:05:00\",\"2024-10-25T11:10:00\",\"2024-10-25T11:15:00\",\"2024-10-25T11:20:00\",\"2024-10-25T11:25:00\",\"2024-10-25T11:30:00\",\"2024-10-25T11:35:00\",\"2024-10-25T11:40:00\",\"2024-10-25T11:45:00\",\"2024-10-25T11:50:00\",\"2024-10-25T11:55:00\",\"2024-10-25T12:00:00\",\"2024-10-25T12:05:00\",\"2024-10-25T12:10:00\",\"2024-10-25T12:15:00\",\"2024-10-25T12:20:00\",\"2024-10-25T12:25:00\",\"2024-10-25T12:30:00\",\"2024-10-25T12:35:00\",\"2024-10-25T12:40:00\",\"2024-10-25T12:45:00\",\"2024-10-25T12:50:00\",\"2024-10-25T12:55:00\",\"2024-10-25T13:00:00\",\"2024-10-25T13:05:00\",\"2024-10-25T13:10:00\",\"2024-10-25T13:15:00\",\"2024-10-25T13:20:00\",\"2024-10-25T13:25:00\",\"2024-10-25T13:30:00\",\"2024-10-25T13:35:00\",\"2024-10-25T13:40:00\",\"2024-10-25T13:45:00\",\"2024-10-25T13:50:00\",\"2024-10-25T13:55:00\",\"2024-10-25T14:00:00\",\"2024-10-25T14:05:00\",\"2024-10-25T14:10:00\",\"2024-10-25T14:15:00\",\"2024-10-25T14:20:00\",\"2024-10-25T14:25:00\",\"2024-10-25T14:30:00\",\"2024-10-25T14:35:00\",\"2024-10-25T14:40:00\",\"2024-10-25T14:45:00\",\"2024-10-25T14:50:00\",\"2024-10-25T14:55:00\",\"2024-10-25T15:00:00\",\"2024-10-25T15:05:00\",\"2024-10-25T15:10:00\",\"2024-10-25T15:15:00\",\"2024-10-25T15:20:00\",\"2024-10-25T15:25:00\"],\"y\":[10000.0,10000.0,10000.0,10000.0,10000.0,10000.0,10000.0,10000.0,10000.0,10000.0,10000.0,10000.0,10000.0,10000.0,10000.0,10000.0,10000.0,10000.0,10000.0,10000.0,10000.0,10000.0,10000.0,10000.0,10000.0,10000.0,10000.0,10000.0,10000.0,10000.0,10000.0,10000.0,10000.0,10000.0,10000.0,10000.0,10000.0,10000.0,10000.0,10000.0,10000.0,10000.0,10000.0,10000.0,10000.0,10000.0,10000.0,10000.0,10000.0,10000.0,10000.0,10000.0,10000.0,10000.0,10000.0,10000.0,10000.0,10000.0,10000.0,10000.0,10000.0,10000.0,10000.0,10000.0,10000.0,10000.0,10000.0,10000.0,10000.0,10000.0,10000.0,10000.0,10000.0,10000.0,10000.0,10000.0,10000.0,10000.0,10000.0,10000.0,10000.0,10000.0,10000.0,10000.0,10000.0,10000.0,10000.0,10000.0,10000.0,10000.0,10000.0,10000.0,10000.0,10000.0,10000.0,10000.0,10000.0,10000.0,10000.0,10000.0,10000.0,10000.0,10000.0,10000.0,10000.0,10000.0,10000.0,10000.0,10000.0,10000.0,10000.0,10000.0,10000.0,10000.0,10000.0,10000.0,10000.0,10000.0,10000.0,10000.0,10000.0,10000.0,10000.0,10000.0,10000.0,10000.0,10000.0,10000.0,10000.0,10000.0,10000.0,10000.0,10000.0,10000.0,10000.0,10000.0,10000.0,10000.0,10000.0,10000.0,10000.0,10000.0,10000.0,10000.0,10000.0,10000.0,10000.0,10000.0,10000.0,10000.0,10000.0,10000.0,10000.0,10000.0,10000.0,10000.0,10000.0,10000.0,10000.0,10000.0,10000.0,10000.0,10000.0,10000.0,10000.0,10000.0,10000.0,10000.0,10000.0,10000.0,10000.0,10000.0,10000.0,10000.0,10000.0,10000.0,10000.0,10000.0,10000.0,10000.0,10000.0,10000.0,10000.0,10000.0,10000.0,10000.0,10000.0,10000.0,10000.0,10000.0,10000.0,10000.0,10000.0,10000.0,10000.0,10000.0,10000.0,10000.0,10000.0,10000.0,10000.0,10000.0,10000.0,10000.0,10000.0,10000.0,10000.0,10000.0,10000.0,10000.0,10000.0,10000.0,10000.0,10000.0,10000.0,10000.0,10000.0,10000.0,10000.0,10000.0,10000.0,10000.0,10000.0,10000.0,10000.0,10000.0,10000.0,10000.0,10000.0,10000.0,10000.0,10000.0,10000.0,10000.0,10000.0,10000.0,10000.0,10000.0,10000.0,10000.0,10000.0,10000.0,10000.0,10000.0,10000.0,10000.0,10000.0,10000.0,10000.0,10000.0,10000.0,10000.0,10000.0,10000.0,10000.0,10000.0,10000.0,10000.0,10000.0,10000.0,10000.0,10000.0,10000.0,10000.0,10000.0,10000.0,10000.0,10000.0,10000.0,10000.0,10000.0,10000.0,10000.0,10000.0,10000.0,10000.0,10000.0,10000.0,10000.0,10000.0,10000.0,10000.0,10000.0,10000.0,10000.0,10000.0,10000.0,10000.0,10000.0,10000.0,10000.0,10000.0,10000.0,10000.0,10000.0,10000.0,10000.0,10000.0,10000.0,10000.0,10000.0,10000.0,10000.0,10000.0,10000.0,10000.0,10000.0,10000.0,10000.0,10000.0,10000.0,10000.0,10000.0,10000.0,10000.0,10000.0,10000.0,10000.0,10000.0,10000.0,10000.0,10000.0,10000.0,10000.0,10000.0,10000.0,10000.0,10000.0,10000.0,10000.0,10000.0,10000.0,10000.0,10000.0,10000.0,10000.0,10000.0,10000.0,10000.0,10000.0,10000.0,10000.0,10000.0,10000.0,10000.0,10000.0,10000.0,10000.0,10000.0,10000.0,10000.0,10000.0,10000.0,10000.0,10000.0,10000.0,10000.0,10000.0,10000.0,10000.0,10000.0,10000.0,10000.0,10000.0,10000.0,10000.0,10000.0,10000.0,10000.0,10000.0,10000.0,10000.0,10000.0,10000.0,10000.0,10000.0,10000.0,10000.0,10000.0,10000.0,10000.0,10000.0,10000.0,10000.0,10000.0,10000.0,10000.0,10000.0,10000.0,10000.0,10000.0,10000.0,10000.0,10000.0,10000.0,10000.0,10000.0,10000.0,10000.0,10000.0,10000.0,10000.0,10000.0,10000.0,10000.0,10000.0,10000.0,10000.0,10000.0,10000.0,10000.0,10000.0,10000.0,10000.0,10000.0,10000.0,10000.0,10000.0,10000.0,10000.0,10000.0,10000.0,10000.0,10000.0,10000.0,10000.0,10000.0,10000.0,10000.0,10000.0,10000.0,10000.0,10000.0,10000.0,10000.0,10000.0,10000.0,10000.0,10000.0,10000.0,10000.0,10000.0,10000.0,10000.0,10000.0,10000.0,10000.0,10000.0,10000.0,10000.0,10000.0,10000.0,10000.0,10000.0,10000.0,10000.0,10000.0,10000.0,10000.0,10000.0,10000.0,10000.0,10000.0,10000.0,10000.0,10000.0,10000.0,10000.0,10000.0,10000.0,10000.0,10000.0,10000.0,10000.0,10000.0,10000.0,10000.0,10000.0,10000.0,10000.0,10000.0,10000.0,10000.0,10000.0,10000.0,10000.0,10000.0,10000.0,10000.0,10000.0,10000.0,10000.0,10000.0,10000.0,10000.0,10000.0,10000.0,10000.0,10000.0,10000.0,10000.0,10000.0,10000.0,10000.0,10000.0,10000.0,10000.0,10000.0,10000.0,10000.0,10000.0,10000.0,10000.0,10000.0,10000.0,10000.0,10000.0,10000.0,10000.0,10000.0,10000.0,10000.0,10000.0,10000.0,10000.0,10000.0,10000.0,10000.0,10000.0,10000.0,10000.0,10000.0,10000.0,10000.0,10000.0,10000.0,10000.0,10000.0,10000.0,10000.0,10000.0,10000.0,10000.0,10000.0,10000.0,10000.0,10000.0,10000.0,10000.0,10000.0,10000.0,10000.0,10000.0,10000.0,10000.0,10000.0,10000.0,10000.0,10000.0,10000.0,10000.0,10000.0,10000.0,10000.0,10000.0,10000.0,10000.0,10000.0,10000.0,10000.0,10000.0,10000.0,10000.0,10000.0,10000.0,10000.0,10000.0,10000.0,10000.0,10000.0,10000.0,10000.0,10000.0,10000.0,10000.0,10000.0,10000.0,10000.0,10000.0,10000.0,10000.0,10000.0,10000.0,10000.0,10000.0,10000.0,10000.0,10000.0,10000.0,10000.0,10000.0,10000.0,10000.0,10000.0,10000.0,10000.0,10000.0,10000.0,10000.0,10000.0,10000.0,10000.0,10000.0,10000.0,10000.0,10000.0,10000.0,10000.0,10000.0,10000.0,10000.0,10000.0,10000.0,10000.0,10000.0,10000.0,10000.0,10000.0,10000.0,10000.0,10000.0,10000.0,10000.0,10000.0,10000.0,10000.0,10000.0,10000.0,10000.0,10000.0,10000.0,10000.0,10000.0,10000.0,10000.0,10000.0,10000.0,10000.0,10000.0,10000.0,10000.0,10000.0,10000.0,10000.0,10000.0,10000.0,10000.0,10000.0,10000.0,10000.0,10000.0,10000.0,10000.0,10000.0,10000.0,10000.0,10000.0,10000.0,10000.0,10000.0,10000.0,10000.0,10000.0,10000.0,10000.0,10000.0,10000.0,10000.0,10000.0,10000.0,10000.0,10000.0,10000.0,10000.0,10000.0,10000.0,10000.0,10000.0,10000.0,10000.0,10000.0,10000.0,10000.0,10000.0,10000.0,10000.0,10000.0,10000.0,10000.0,10000.0,10000.0,10000.0,10000.0,10000.0,10000.0,10000.0,10000.0,10000.0,10000.0,10000.0,10000.0,10000.0,10000.0,10000.0,10000.0,10000.0,10000.0,10000.0,10000.0,10000.0,10000.0,10000.0,10000.0,10000.0,10000.0,10000.0,10000.0,10000.0,10000.0,10000.0,10000.0,10000.0,10000.0,10000.0,10000.0,10000.0,10000.0,10000.0,10000.0,10000.0,10000.0,10000.0,10000.0,10000.0,10000.0,10000.0,10000.0,10000.0,10000.0,10000.0,10000.0,10000.0,10000.0,10000.0,10000.0,10000.0,10000.0,10000.0,10000.0,10000.0,10000.0,10000.0,10000.0,10000.0,10000.0,10000.0,10000.0,10000.0,10000.0,10000.0,10000.0,10000.0,10000.0,10000.0,10000.0,10000.0,10000.0,10000.0,10000.0,10000.0,10000.0,10000.0,10000.0,10000.0,10000.0,10000.0,10000.0,10000.0,10000.0,10000.0,10000.0,10000.0,10000.0,10000.0,10000.0,10000.0,10000.0,10000.0,10000.0,10000.0,10000.0,10000.0,10000.0,10000.0,10000.0,10000.0,10000.0,10000.0,10000.0,10000.0,10000.0,10000.0,10000.0,10000.0,10000.0,10000.0,10000.0,10000.0,10000.0,10000.0,10000.0,10000.0,10000.0,10000.0,10000.0,10000.0,10000.0,10000.0,10000.0,10000.0,10000.0,10000.0,10000.0,10000.0,10000.0,10000.0,10000.0,10000.0,10000.0,10000.0,10000.0,10000.0,10000.0,10000.0,10000.0,10000.0,10000.0,10000.0,10000.0,10000.0,10000.0,10000.0,10000.0,10000.0,10000.0,10000.0,10000.0],\"type\":\"scatter\"},{\"marker\":{\"color\":\"green\",\"size\":10,\"symbol\":\"triangle-up\"},\"mode\":\"markers\",\"name\":\"Buy\",\"text\":[],\"x\":[],\"y\":[],\"type\":\"scatter\"},{\"marker\":{\"color\":\"red\",\"size\":10,\"symbol\":\"triangle-down\"},\"mode\":\"markers\",\"name\":\"Sell\",\"text\":[],\"x\":[],\"y\":[],\"type\":\"scatter\"}],                        {\"template\":{\"data\":{\"barpolar\":[{\"marker\":{\"line\":{\"color\":\"rgb(17,17,17)\",\"width\":0.5},\"pattern\":{\"fillmode\":\"overlay\",\"size\":10,\"solidity\":0.2}},\"type\":\"barpolar\"}],\"bar\":[{\"error_x\":{\"color\":\"#f2f5fa\"},\"error_y\":{\"color\":\"#f2f5fa\"},\"marker\":{\"line\":{\"color\":\"rgb(17,17,17)\",\"width\":0.5},\"pattern\":{\"fillmode\":\"overlay\",\"size\":10,\"solidity\":0.2}},\"type\":\"bar\"}],\"carpet\":[{\"aaxis\":{\"endlinecolor\":\"#A2B1C6\",\"gridcolor\":\"#506784\",\"linecolor\":\"#506784\",\"minorgridcolor\":\"#506784\",\"startlinecolor\":\"#A2B1C6\"},\"baxis\":{\"endlinecolor\":\"#A2B1C6\",\"gridcolor\":\"#506784\",\"linecolor\":\"#506784\",\"minorgridcolor\":\"#506784\",\"startlinecolor\":\"#A2B1C6\"},\"type\":\"carpet\"}],\"choropleth\":[{\"colorbar\":{\"outlinewidth\":0,\"ticks\":\"\"},\"type\":\"choropleth\"}],\"contourcarpet\":[{\"colorbar\":{\"outlinewidth\":0,\"ticks\":\"\"},\"type\":\"contourcarpet\"}],\"contour\":[{\"colorbar\":{\"outlinewidth\":0,\"ticks\":\"\"},\"colorscale\":[[0.0,\"#0d0887\"],[0.1111111111111111,\"#46039f\"],[0.2222222222222222,\"#7201a8\"],[0.3333333333333333,\"#9c179e\"],[0.4444444444444444,\"#bd3786\"],[0.5555555555555556,\"#d8576b\"],[0.6666666666666666,\"#ed7953\"],[0.7777777777777778,\"#fb9f3a\"],[0.8888888888888888,\"#fdca26\"],[1.0,\"#f0f921\"]],\"type\":\"contour\"}],\"heatmapgl\":[{\"colorbar\":{\"outlinewidth\":0,\"ticks\":\"\"},\"colorscale\":[[0.0,\"#0d0887\"],[0.1111111111111111,\"#46039f\"],[0.2222222222222222,\"#7201a8\"],[0.3333333333333333,\"#9c179e\"],[0.4444444444444444,\"#bd3786\"],[0.5555555555555556,\"#d8576b\"],[0.6666666666666666,\"#ed7953\"],[0.7777777777777778,\"#fb9f3a\"],[0.8888888888888888,\"#fdca26\"],[1.0,\"#f0f921\"]],\"type\":\"heatmapgl\"}],\"heatmap\":[{\"colorbar\":{\"outlinewidth\":0,\"ticks\":\"\"},\"colorscale\":[[0.0,\"#0d0887\"],[0.1111111111111111,\"#46039f\"],[0.2222222222222222,\"#7201a8\"],[0.3333333333333333,\"#9c179e\"],[0.4444444444444444,\"#bd3786\"],[0.5555555555555556,\"#d8576b\"],[0.6666666666666666,\"#ed7953\"],[0.7777777777777778,\"#fb9f3a\"],[0.8888888888888888,\"#fdca26\"],[1.0,\"#f0f921\"]],\"type\":\"heatmap\"}],\"histogram2dcontour\":[{\"colorbar\":{\"outlinewidth\":0,\"ticks\":\"\"},\"colorscale\":[[0.0,\"#0d0887\"],[0.1111111111111111,\"#46039f\"],[0.2222222222222222,\"#7201a8\"],[0.3333333333333333,\"#9c179e\"],[0.4444444444444444,\"#bd3786\"],[0.5555555555555556,\"#d8576b\"],[0.6666666666666666,\"#ed7953\"],[0.7777777777777778,\"#fb9f3a\"],[0.8888888888888888,\"#fdca26\"],[1.0,\"#f0f921\"]],\"type\":\"histogram2dcontour\"}],\"histogram2d\":[{\"colorbar\":{\"outlinewidth\":0,\"ticks\":\"\"},\"colorscale\":[[0.0,\"#0d0887\"],[0.1111111111111111,\"#46039f\"],[0.2222222222222222,\"#7201a8\"],[0.3333333333333333,\"#9c179e\"],[0.4444444444444444,\"#bd3786\"],[0.5555555555555556,\"#d8576b\"],[0.6666666666666666,\"#ed7953\"],[0.7777777777777778,\"#fb9f3a\"],[0.8888888888888888,\"#fdca26\"],[1.0,\"#f0f921\"]],\"type\":\"histogram2d\"}],\"histogram\":[{\"marker\":{\"pattern\":{\"fillmode\":\"overlay\",\"size\":10,\"solidity\":0.2}},\"type\":\"histogram\"}],\"mesh3d\":[{\"colorbar\":{\"outlinewidth\":0,\"ticks\":\"\"},\"type\":\"mesh3d\"}],\"parcoords\":[{\"line\":{\"colorbar\":{\"outlinewidth\":0,\"ticks\":\"\"}},\"type\":\"parcoords\"}],\"pie\":[{\"automargin\":true,\"type\":\"pie\"}],\"scatter3d\":[{\"line\":{\"colorbar\":{\"outlinewidth\":0,\"ticks\":\"\"}},\"marker\":{\"colorbar\":{\"outlinewidth\":0,\"ticks\":\"\"}},\"type\":\"scatter3d\"}],\"scattercarpet\":[{\"marker\":{\"colorbar\":{\"outlinewidth\":0,\"ticks\":\"\"}},\"type\":\"scattercarpet\"}],\"scattergeo\":[{\"marker\":{\"colorbar\":{\"outlinewidth\":0,\"ticks\":\"\"}},\"type\":\"scattergeo\"}],\"scattergl\":[{\"marker\":{\"line\":{\"color\":\"#283442\"}},\"type\":\"scattergl\"}],\"scattermapbox\":[{\"marker\":{\"colorbar\":{\"outlinewidth\":0,\"ticks\":\"\"}},\"type\":\"scattermapbox\"}],\"scatterpolargl\":[{\"marker\":{\"colorbar\":{\"outlinewidth\":0,\"ticks\":\"\"}},\"type\":\"scatterpolargl\"}],\"scatterpolar\":[{\"marker\":{\"colorbar\":{\"outlinewidth\":0,\"ticks\":\"\"}},\"type\":\"scatterpolar\"}],\"scatter\":[{\"marker\":{\"line\":{\"color\":\"#283442\"}},\"type\":\"scatter\"}],\"scatterternary\":[{\"marker\":{\"colorbar\":{\"outlinewidth\":0,\"ticks\":\"\"}},\"type\":\"scatterternary\"}],\"surface\":[{\"colorbar\":{\"outlinewidth\":0,\"ticks\":\"\"},\"colorscale\":[[0.0,\"#0d0887\"],[0.1111111111111111,\"#46039f\"],[0.2222222222222222,\"#7201a8\"],[0.3333333333333333,\"#9c179e\"],[0.4444444444444444,\"#bd3786\"],[0.5555555555555556,\"#d8576b\"],[0.6666666666666666,\"#ed7953\"],[0.7777777777777778,\"#fb9f3a\"],[0.8888888888888888,\"#fdca26\"],[1.0,\"#f0f921\"]],\"type\":\"surface\"}],\"table\":[{\"cells\":{\"fill\":{\"color\":\"#506784\"},\"line\":{\"color\":\"rgb(17,17,17)\"}},\"header\":{\"fill\":{\"color\":\"#2a3f5f\"},\"line\":{\"color\":\"rgb(17,17,17)\"}},\"type\":\"table\"}]},\"layout\":{\"annotationdefaults\":{\"arrowcolor\":\"#f2f5fa\",\"arrowhead\":0,\"arrowwidth\":1},\"autotypenumbers\":\"strict\",\"coloraxis\":{\"colorbar\":{\"outlinewidth\":0,\"ticks\":\"\"}},\"colorscale\":{\"diverging\":[[0,\"#8e0152\"],[0.1,\"#c51b7d\"],[0.2,\"#de77ae\"],[0.3,\"#f1b6da\"],[0.4,\"#fde0ef\"],[0.5,\"#f7f7f7\"],[0.6,\"#e6f5d0\"],[0.7,\"#b8e186\"],[0.8,\"#7fbc41\"],[0.9,\"#4d9221\"],[1,\"#276419\"]],\"sequential\":[[0.0,\"#0d0887\"],[0.1111111111111111,\"#46039f\"],[0.2222222222222222,\"#7201a8\"],[0.3333333333333333,\"#9c179e\"],[0.4444444444444444,\"#bd3786\"],[0.5555555555555556,\"#d8576b\"],[0.6666666666666666,\"#ed7953\"],[0.7777777777777778,\"#fb9f3a\"],[0.8888888888888888,\"#fdca26\"],[1.0,\"#f0f921\"]],\"sequentialminus\":[[0.0,\"#0d0887\"],[0.1111111111111111,\"#46039f\"],[0.2222222222222222,\"#7201a8\"],[0.3333333333333333,\"#9c179e\"],[0.4444444444444444,\"#bd3786\"],[0.5555555555555556,\"#d8576b\"],[0.6666666666666666,\"#ed7953\"],[0.7777777777777778,\"#fb9f3a\"],[0.8888888888888888,\"#fdca26\"],[1.0,\"#f0f921\"]]},\"colorway\":[\"#636efa\",\"#EF553B\",\"#00cc96\",\"#ab63fa\",\"#FFA15A\",\"#19d3f3\",\"#FF6692\",\"#B6E880\",\"#FF97FF\",\"#FECB52\"],\"font\":{\"color\":\"#f2f5fa\"},\"geo\":{\"bgcolor\":\"rgb(17,17,17)\",\"lakecolor\":\"rgb(17,17,17)\",\"landcolor\":\"rgb(17,17,17)\",\"showlakes\":true,\"showland\":true,\"subunitcolor\":\"#506784\"},\"hoverlabel\":{\"align\":\"left\"},\"hovermode\":\"closest\",\"mapbox\":{\"style\":\"dark\"},\"paper_bgcolor\":\"rgb(17,17,17)\",\"plot_bgcolor\":\"rgb(17,17,17)\",\"polar\":{\"angularaxis\":{\"gridcolor\":\"#506784\",\"linecolor\":\"#506784\",\"ticks\":\"\"},\"bgcolor\":\"rgb(17,17,17)\",\"radialaxis\":{\"gridcolor\":\"#506784\",\"linecolor\":\"#506784\",\"ticks\":\"\"}},\"scene\":{\"xaxis\":{\"backgroundcolor\":\"rgb(17,17,17)\",\"gridcolor\":\"#506784\",\"gridwidth\":2,\"linecolor\":\"#506784\",\"showbackground\":true,\"ticks\":\"\",\"zerolinecolor\":\"#C8D4E3\"},\"yaxis\":{\"backgroundcolor\":\"rgb(17,17,17)\",\"gridcolor\":\"#506784\",\"gridwidth\":2,\"linecolor\":\"#506784\",\"showbackground\":true,\"ticks\":\"\",\"zerolinecolor\":\"#C8D4E3\"},\"zaxis\":{\"backgroundcolor\":\"rgb(17,17,17)\",\"gridcolor\":\"#506784\",\"gridwidth\":2,\"linecolor\":\"#506784\",\"showbackground\":true,\"ticks\":\"\",\"zerolinecolor\":\"#C8D4E3\"}},\"shapedefaults\":{\"line\":{\"color\":\"#f2f5fa\"}},\"sliderdefaults\":{\"bgcolor\":\"#C8D4E3\",\"bordercolor\":\"rgb(17,17,17)\",\"borderwidth\":1,\"tickwidth\":0},\"ternary\":{\"aaxis\":{\"gridcolor\":\"#506784\",\"linecolor\":\"#506784\",\"ticks\":\"\"},\"baxis\":{\"gridcolor\":\"#506784\",\"linecolor\":\"#506784\",\"ticks\":\"\"},\"bgcolor\":\"rgb(17,17,17)\",\"caxis\":{\"gridcolor\":\"#506784\",\"linecolor\":\"#506784\",\"ticks\":\"\"}},\"title\":{\"x\":0.05},\"updatemenudefaults\":{\"bgcolor\":\"#506784\",\"borderwidth\":0},\"xaxis\":{\"automargin\":true,\"gridcolor\":\"#283442\",\"linecolor\":\"#506784\",\"ticks\":\"\",\"title\":{\"standoff\":15},\"zerolinecolor\":\"#283442\",\"zerolinewidth\":2},\"yaxis\":{\"automargin\":true,\"gridcolor\":\"#283442\",\"linecolor\":\"#506784\",\"ticks\":\"\",\"title\":{\"standoff\":15},\"zerolinecolor\":\"#283442\",\"zerolinewidth\":2}}},\"xaxis\":{\"rangeslider\":{\"visible\":false},\"title\":{\"text\":\"Date\"}},\"title\":{\"text\":\"Backtrader Portfolio Value with Buy and Sell Actions and Candlestick Chart\"},\"yaxis\":{\"title\":{\"text\":\"Price \\u002f Portfolio Value\"}},\"legend\":{\"title\":{\"text\":\"Legend\"}}},                        {\"responsive\": true}                    ).then(function(){\n",
              "                            \n",
              "var gd = document.getElementById('8ec8c810-5ced-4cfd-bd36-1f13d15480ee');\n",
              "var x = new MutationObserver(function (mutations, observer) {{\n",
              "        var display = window.getComputedStyle(gd).display;\n",
              "        if (!display || display === 'none') {{\n",
              "            console.log([gd, 'removed!']);\n",
              "            Plotly.purge(gd);\n",
              "            observer.disconnect();\n",
              "        }}\n",
              "}});\n",
              "\n",
              "// Listen for the removal of the full notebook cells\n",
              "var notebookContainer = gd.closest('#notebook-container');\n",
              "if (notebookContainer) {{\n",
              "    x.observe(notebookContainer, {childList: true});\n",
              "}}\n",
              "\n",
              "// Listen for the clearing of the current output cell\n",
              "var outputEl = gd.closest('.output');\n",
              "if (outputEl) {{\n",
              "    x.observe(outputEl, {childList: true});\n",
              "}}\n",
              "\n",
              "                        })                };                            </script>        </div>\n",
              "</body>\n",
              "</html>"
            ]
          },
          "metadata": {}
        }
      ]
    },
    {
      "cell_type": "code",
      "source": [],
      "metadata": {
        "id": "PLrmY72wHg_E"
      },
      "execution_count": null,
      "outputs": []
    }
  ]
}