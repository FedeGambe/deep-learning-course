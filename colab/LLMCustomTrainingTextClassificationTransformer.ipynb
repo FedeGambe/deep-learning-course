{
  "nbformat": 4,
  "nbformat_minor": 0,
  "metadata": {
    "colab": {
      "provenance": [],
      "gpuType": "T4",
      "authorship_tag": "ABX9TyNDEoLNl62SJeXhFZgds9sz",
      "include_colab_link": true
    },
    "kernelspec": {
      "name": "python3",
      "display_name": "Python 3"
    },
    "language_info": {
      "name": "python"
    },
    "accelerator": "GPU",
    "widgets": {
      "application/vnd.jupyter.widget-state+json": {
        "5dbeaa2bc9d84f2dab1e0728304c8268": {
          "model_module": "@jupyter-widgets/controls",
          "model_name": "HBoxModel",
          "model_module_version": "1.5.0",
          "state": {
            "_dom_classes": [],
            "_model_module": "@jupyter-widgets/controls",
            "_model_module_version": "1.5.0",
            "_model_name": "HBoxModel",
            "_view_count": null,
            "_view_module": "@jupyter-widgets/controls",
            "_view_module_version": "1.5.0",
            "_view_name": "HBoxView",
            "box_style": "",
            "children": [
              "IPY_MODEL_087702b31f4c4992a023f1cd6fa79e82",
              "IPY_MODEL_dc21a53cd90e4a5c8510485c6d06ac1a",
              "IPY_MODEL_8b49055195a240d49c35debfcde6af1d"
            ],
            "layout": "IPY_MODEL_e7c77b03beab4347b694708453286fc8"
          }
        },
        "087702b31f4c4992a023f1cd6fa79e82": {
          "model_module": "@jupyter-widgets/controls",
          "model_name": "HTMLModel",
          "model_module_version": "1.5.0",
          "state": {
            "_dom_classes": [],
            "_model_module": "@jupyter-widgets/controls",
            "_model_module_version": "1.5.0",
            "_model_name": "HTMLModel",
            "_view_count": null,
            "_view_module": "@jupyter-widgets/controls",
            "_view_module_version": "1.5.0",
            "_view_name": "HTMLView",
            "description": "",
            "description_tooltip": null,
            "layout": "IPY_MODEL_a96bab054c7d4fb3bfe614bbdf6e76c1",
            "placeholder": "​",
            "style": "IPY_MODEL_85f337a5694d43c9aabf946ad371acb6",
            "value": "Map: 100%"
          }
        },
        "dc21a53cd90e4a5c8510485c6d06ac1a": {
          "model_module": "@jupyter-widgets/controls",
          "model_name": "FloatProgressModel",
          "model_module_version": "1.5.0",
          "state": {
            "_dom_classes": [],
            "_model_module": "@jupyter-widgets/controls",
            "_model_module_version": "1.5.0",
            "_model_name": "FloatProgressModel",
            "_view_count": null,
            "_view_module": "@jupyter-widgets/controls",
            "_view_module_version": "1.5.0",
            "_view_name": "ProgressView",
            "bar_style": "success",
            "description": "",
            "description_tooltip": null,
            "layout": "IPY_MODEL_d4c48c48999042dcb7af6ca9e2a1f036",
            "max": 88,
            "min": 0,
            "orientation": "horizontal",
            "style": "IPY_MODEL_387ec688060a4390bf83273b26003de6",
            "value": 88
          }
        },
        "8b49055195a240d49c35debfcde6af1d": {
          "model_module": "@jupyter-widgets/controls",
          "model_name": "HTMLModel",
          "model_module_version": "1.5.0",
          "state": {
            "_dom_classes": [],
            "_model_module": "@jupyter-widgets/controls",
            "_model_module_version": "1.5.0",
            "_model_name": "HTMLModel",
            "_view_count": null,
            "_view_module": "@jupyter-widgets/controls",
            "_view_module_version": "1.5.0",
            "_view_name": "HTMLView",
            "description": "",
            "description_tooltip": null,
            "layout": "IPY_MODEL_9fe6144d08c04ee9b199efb83dcbeb4a",
            "placeholder": "​",
            "style": "IPY_MODEL_7b7d557f979844adaa9cc39007480209",
            "value": " 88/88 [00:00&lt;00:00, 1978.15 examples/s]"
          }
        },
        "e7c77b03beab4347b694708453286fc8": {
          "model_module": "@jupyter-widgets/base",
          "model_name": "LayoutModel",
          "model_module_version": "1.2.0",
          "state": {
            "_model_module": "@jupyter-widgets/base",
            "_model_module_version": "1.2.0",
            "_model_name": "LayoutModel",
            "_view_count": null,
            "_view_module": "@jupyter-widgets/base",
            "_view_module_version": "1.2.0",
            "_view_name": "LayoutView",
            "align_content": null,
            "align_items": null,
            "align_self": null,
            "border": null,
            "bottom": null,
            "display": null,
            "flex": null,
            "flex_flow": null,
            "grid_area": null,
            "grid_auto_columns": null,
            "grid_auto_flow": null,
            "grid_auto_rows": null,
            "grid_column": null,
            "grid_gap": null,
            "grid_row": null,
            "grid_template_areas": null,
            "grid_template_columns": null,
            "grid_template_rows": null,
            "height": null,
            "justify_content": null,
            "justify_items": null,
            "left": null,
            "margin": null,
            "max_height": null,
            "max_width": null,
            "min_height": null,
            "min_width": null,
            "object_fit": null,
            "object_position": null,
            "order": null,
            "overflow": null,
            "overflow_x": null,
            "overflow_y": null,
            "padding": null,
            "right": null,
            "top": null,
            "visibility": null,
            "width": null
          }
        },
        "a96bab054c7d4fb3bfe614bbdf6e76c1": {
          "model_module": "@jupyter-widgets/base",
          "model_name": "LayoutModel",
          "model_module_version": "1.2.0",
          "state": {
            "_model_module": "@jupyter-widgets/base",
            "_model_module_version": "1.2.0",
            "_model_name": "LayoutModel",
            "_view_count": null,
            "_view_module": "@jupyter-widgets/base",
            "_view_module_version": "1.2.0",
            "_view_name": "LayoutView",
            "align_content": null,
            "align_items": null,
            "align_self": null,
            "border": null,
            "bottom": null,
            "display": null,
            "flex": null,
            "flex_flow": null,
            "grid_area": null,
            "grid_auto_columns": null,
            "grid_auto_flow": null,
            "grid_auto_rows": null,
            "grid_column": null,
            "grid_gap": null,
            "grid_row": null,
            "grid_template_areas": null,
            "grid_template_columns": null,
            "grid_template_rows": null,
            "height": null,
            "justify_content": null,
            "justify_items": null,
            "left": null,
            "margin": null,
            "max_height": null,
            "max_width": null,
            "min_height": null,
            "min_width": null,
            "object_fit": null,
            "object_position": null,
            "order": null,
            "overflow": null,
            "overflow_x": null,
            "overflow_y": null,
            "padding": null,
            "right": null,
            "top": null,
            "visibility": null,
            "width": null
          }
        },
        "85f337a5694d43c9aabf946ad371acb6": {
          "model_module": "@jupyter-widgets/controls",
          "model_name": "DescriptionStyleModel",
          "model_module_version": "1.5.0",
          "state": {
            "_model_module": "@jupyter-widgets/controls",
            "_model_module_version": "1.5.0",
            "_model_name": "DescriptionStyleModel",
            "_view_count": null,
            "_view_module": "@jupyter-widgets/base",
            "_view_module_version": "1.2.0",
            "_view_name": "StyleView",
            "description_width": ""
          }
        },
        "d4c48c48999042dcb7af6ca9e2a1f036": {
          "model_module": "@jupyter-widgets/base",
          "model_name": "LayoutModel",
          "model_module_version": "1.2.0",
          "state": {
            "_model_module": "@jupyter-widgets/base",
            "_model_module_version": "1.2.0",
            "_model_name": "LayoutModel",
            "_view_count": null,
            "_view_module": "@jupyter-widgets/base",
            "_view_module_version": "1.2.0",
            "_view_name": "LayoutView",
            "align_content": null,
            "align_items": null,
            "align_self": null,
            "border": null,
            "bottom": null,
            "display": null,
            "flex": null,
            "flex_flow": null,
            "grid_area": null,
            "grid_auto_columns": null,
            "grid_auto_flow": null,
            "grid_auto_rows": null,
            "grid_column": null,
            "grid_gap": null,
            "grid_row": null,
            "grid_template_areas": null,
            "grid_template_columns": null,
            "grid_template_rows": null,
            "height": null,
            "justify_content": null,
            "justify_items": null,
            "left": null,
            "margin": null,
            "max_height": null,
            "max_width": null,
            "min_height": null,
            "min_width": null,
            "object_fit": null,
            "object_position": null,
            "order": null,
            "overflow": null,
            "overflow_x": null,
            "overflow_y": null,
            "padding": null,
            "right": null,
            "top": null,
            "visibility": null,
            "width": null
          }
        },
        "387ec688060a4390bf83273b26003de6": {
          "model_module": "@jupyter-widgets/controls",
          "model_name": "ProgressStyleModel",
          "model_module_version": "1.5.0",
          "state": {
            "_model_module": "@jupyter-widgets/controls",
            "_model_module_version": "1.5.0",
            "_model_name": "ProgressStyleModel",
            "_view_count": null,
            "_view_module": "@jupyter-widgets/base",
            "_view_module_version": "1.2.0",
            "_view_name": "StyleView",
            "bar_color": null,
            "description_width": ""
          }
        },
        "9fe6144d08c04ee9b199efb83dcbeb4a": {
          "model_module": "@jupyter-widgets/base",
          "model_name": "LayoutModel",
          "model_module_version": "1.2.0",
          "state": {
            "_model_module": "@jupyter-widgets/base",
            "_model_module_version": "1.2.0",
            "_model_name": "LayoutModel",
            "_view_count": null,
            "_view_module": "@jupyter-widgets/base",
            "_view_module_version": "1.2.0",
            "_view_name": "LayoutView",
            "align_content": null,
            "align_items": null,
            "align_self": null,
            "border": null,
            "bottom": null,
            "display": null,
            "flex": null,
            "flex_flow": null,
            "grid_area": null,
            "grid_auto_columns": null,
            "grid_auto_flow": null,
            "grid_auto_rows": null,
            "grid_column": null,
            "grid_gap": null,
            "grid_row": null,
            "grid_template_areas": null,
            "grid_template_columns": null,
            "grid_template_rows": null,
            "height": null,
            "justify_content": null,
            "justify_items": null,
            "left": null,
            "margin": null,
            "max_height": null,
            "max_width": null,
            "min_height": null,
            "min_width": null,
            "object_fit": null,
            "object_position": null,
            "order": null,
            "overflow": null,
            "overflow_x": null,
            "overflow_y": null,
            "padding": null,
            "right": null,
            "top": null,
            "visibility": null,
            "width": null
          }
        },
        "7b7d557f979844adaa9cc39007480209": {
          "model_module": "@jupyter-widgets/controls",
          "model_name": "DescriptionStyleModel",
          "model_module_version": "1.5.0",
          "state": {
            "_model_module": "@jupyter-widgets/controls",
            "_model_module_version": "1.5.0",
            "_model_name": "DescriptionStyleModel",
            "_view_count": null,
            "_view_module": "@jupyter-widgets/base",
            "_view_module_version": "1.2.0",
            "_view_name": "StyleView",
            "description_width": ""
          }
        },
        "31d180ae0d234780815527f17ba2b7b1": {
          "model_module": "@jupyter-widgets/controls",
          "model_name": "HBoxModel",
          "model_module_version": "1.5.0",
          "state": {
            "_dom_classes": [],
            "_model_module": "@jupyter-widgets/controls",
            "_model_module_version": "1.5.0",
            "_model_name": "HBoxModel",
            "_view_count": null,
            "_view_module": "@jupyter-widgets/controls",
            "_view_module_version": "1.5.0",
            "_view_name": "HBoxView",
            "box_style": "",
            "children": [
              "IPY_MODEL_7fb34e60f81a48bf9014a9ef6ee30cfb",
              "IPY_MODEL_870d5b3aab58418e880b7cdfd4b4cf80",
              "IPY_MODEL_db5127bc2f80411eb6b099374e540828"
            ],
            "layout": "IPY_MODEL_6bbd22b5cb78412ead4d35b3fa558c77"
          }
        },
        "7fb34e60f81a48bf9014a9ef6ee30cfb": {
          "model_module": "@jupyter-widgets/controls",
          "model_name": "HTMLModel",
          "model_module_version": "1.5.0",
          "state": {
            "_dom_classes": [],
            "_model_module": "@jupyter-widgets/controls",
            "_model_module_version": "1.5.0",
            "_model_name": "HTMLModel",
            "_view_count": null,
            "_view_module": "@jupyter-widgets/controls",
            "_view_module_version": "1.5.0",
            "_view_name": "HTMLView",
            "description": "",
            "description_tooltip": null,
            "layout": "IPY_MODEL_7b79cc27f14d4c0f93009ee62a11f531",
            "placeholder": "​",
            "style": "IPY_MODEL_8628e5d4aa9540dd9d18147fafb2601a",
            "value": "Map: 100%"
          }
        },
        "870d5b3aab58418e880b7cdfd4b4cf80": {
          "model_module": "@jupyter-widgets/controls",
          "model_name": "FloatProgressModel",
          "model_module_version": "1.5.0",
          "state": {
            "_dom_classes": [],
            "_model_module": "@jupyter-widgets/controls",
            "_model_module_version": "1.5.0",
            "_model_name": "FloatProgressModel",
            "_view_count": null,
            "_view_module": "@jupyter-widgets/controls",
            "_view_module_version": "1.5.0",
            "_view_name": "ProgressView",
            "bar_style": "success",
            "description": "",
            "description_tooltip": null,
            "layout": "IPY_MODEL_48c2f1c9f387462988be541fccb5296e",
            "max": 22,
            "min": 0,
            "orientation": "horizontal",
            "style": "IPY_MODEL_66095dddcee7472482dc5667527359f8",
            "value": 22
          }
        },
        "db5127bc2f80411eb6b099374e540828": {
          "model_module": "@jupyter-widgets/controls",
          "model_name": "HTMLModel",
          "model_module_version": "1.5.0",
          "state": {
            "_dom_classes": [],
            "_model_module": "@jupyter-widgets/controls",
            "_model_module_version": "1.5.0",
            "_model_name": "HTMLModel",
            "_view_count": null,
            "_view_module": "@jupyter-widgets/controls",
            "_view_module_version": "1.5.0",
            "_view_name": "HTMLView",
            "description": "",
            "description_tooltip": null,
            "layout": "IPY_MODEL_d64034a9e12840bcab273c613b1d07f5",
            "placeholder": "​",
            "style": "IPY_MODEL_2a90706b250b4f52a8ba4ab0b2e7e550",
            "value": " 22/22 [00:00&lt;00:00, 649.01 examples/s]"
          }
        },
        "6bbd22b5cb78412ead4d35b3fa558c77": {
          "model_module": "@jupyter-widgets/base",
          "model_name": "LayoutModel",
          "model_module_version": "1.2.0",
          "state": {
            "_model_module": "@jupyter-widgets/base",
            "_model_module_version": "1.2.0",
            "_model_name": "LayoutModel",
            "_view_count": null,
            "_view_module": "@jupyter-widgets/base",
            "_view_module_version": "1.2.0",
            "_view_name": "LayoutView",
            "align_content": null,
            "align_items": null,
            "align_self": null,
            "border": null,
            "bottom": null,
            "display": null,
            "flex": null,
            "flex_flow": null,
            "grid_area": null,
            "grid_auto_columns": null,
            "grid_auto_flow": null,
            "grid_auto_rows": null,
            "grid_column": null,
            "grid_gap": null,
            "grid_row": null,
            "grid_template_areas": null,
            "grid_template_columns": null,
            "grid_template_rows": null,
            "height": null,
            "justify_content": null,
            "justify_items": null,
            "left": null,
            "margin": null,
            "max_height": null,
            "max_width": null,
            "min_height": null,
            "min_width": null,
            "object_fit": null,
            "object_position": null,
            "order": null,
            "overflow": null,
            "overflow_x": null,
            "overflow_y": null,
            "padding": null,
            "right": null,
            "top": null,
            "visibility": null,
            "width": null
          }
        },
        "7b79cc27f14d4c0f93009ee62a11f531": {
          "model_module": "@jupyter-widgets/base",
          "model_name": "LayoutModel",
          "model_module_version": "1.2.0",
          "state": {
            "_model_module": "@jupyter-widgets/base",
            "_model_module_version": "1.2.0",
            "_model_name": "LayoutModel",
            "_view_count": null,
            "_view_module": "@jupyter-widgets/base",
            "_view_module_version": "1.2.0",
            "_view_name": "LayoutView",
            "align_content": null,
            "align_items": null,
            "align_self": null,
            "border": null,
            "bottom": null,
            "display": null,
            "flex": null,
            "flex_flow": null,
            "grid_area": null,
            "grid_auto_columns": null,
            "grid_auto_flow": null,
            "grid_auto_rows": null,
            "grid_column": null,
            "grid_gap": null,
            "grid_row": null,
            "grid_template_areas": null,
            "grid_template_columns": null,
            "grid_template_rows": null,
            "height": null,
            "justify_content": null,
            "justify_items": null,
            "left": null,
            "margin": null,
            "max_height": null,
            "max_width": null,
            "min_height": null,
            "min_width": null,
            "object_fit": null,
            "object_position": null,
            "order": null,
            "overflow": null,
            "overflow_x": null,
            "overflow_y": null,
            "padding": null,
            "right": null,
            "top": null,
            "visibility": null,
            "width": null
          }
        },
        "8628e5d4aa9540dd9d18147fafb2601a": {
          "model_module": "@jupyter-widgets/controls",
          "model_name": "DescriptionStyleModel",
          "model_module_version": "1.5.0",
          "state": {
            "_model_module": "@jupyter-widgets/controls",
            "_model_module_version": "1.5.0",
            "_model_name": "DescriptionStyleModel",
            "_view_count": null,
            "_view_module": "@jupyter-widgets/base",
            "_view_module_version": "1.2.0",
            "_view_name": "StyleView",
            "description_width": ""
          }
        },
        "48c2f1c9f387462988be541fccb5296e": {
          "model_module": "@jupyter-widgets/base",
          "model_name": "LayoutModel",
          "model_module_version": "1.2.0",
          "state": {
            "_model_module": "@jupyter-widgets/base",
            "_model_module_version": "1.2.0",
            "_model_name": "LayoutModel",
            "_view_count": null,
            "_view_module": "@jupyter-widgets/base",
            "_view_module_version": "1.2.0",
            "_view_name": "LayoutView",
            "align_content": null,
            "align_items": null,
            "align_self": null,
            "border": null,
            "bottom": null,
            "display": null,
            "flex": null,
            "flex_flow": null,
            "grid_area": null,
            "grid_auto_columns": null,
            "grid_auto_flow": null,
            "grid_auto_rows": null,
            "grid_column": null,
            "grid_gap": null,
            "grid_row": null,
            "grid_template_areas": null,
            "grid_template_columns": null,
            "grid_template_rows": null,
            "height": null,
            "justify_content": null,
            "justify_items": null,
            "left": null,
            "margin": null,
            "max_height": null,
            "max_width": null,
            "min_height": null,
            "min_width": null,
            "object_fit": null,
            "object_position": null,
            "order": null,
            "overflow": null,
            "overflow_x": null,
            "overflow_y": null,
            "padding": null,
            "right": null,
            "top": null,
            "visibility": null,
            "width": null
          }
        },
        "66095dddcee7472482dc5667527359f8": {
          "model_module": "@jupyter-widgets/controls",
          "model_name": "ProgressStyleModel",
          "model_module_version": "1.5.0",
          "state": {
            "_model_module": "@jupyter-widgets/controls",
            "_model_module_version": "1.5.0",
            "_model_name": "ProgressStyleModel",
            "_view_count": null,
            "_view_module": "@jupyter-widgets/base",
            "_view_module_version": "1.2.0",
            "_view_name": "StyleView",
            "bar_color": null,
            "description_width": ""
          }
        },
        "d64034a9e12840bcab273c613b1d07f5": {
          "model_module": "@jupyter-widgets/base",
          "model_name": "LayoutModel",
          "model_module_version": "1.2.0",
          "state": {
            "_model_module": "@jupyter-widgets/base",
            "_model_module_version": "1.2.0",
            "_model_name": "LayoutModel",
            "_view_count": null,
            "_view_module": "@jupyter-widgets/base",
            "_view_module_version": "1.2.0",
            "_view_name": "LayoutView",
            "align_content": null,
            "align_items": null,
            "align_self": null,
            "border": null,
            "bottom": null,
            "display": null,
            "flex": null,
            "flex_flow": null,
            "grid_area": null,
            "grid_auto_columns": null,
            "grid_auto_flow": null,
            "grid_auto_rows": null,
            "grid_column": null,
            "grid_gap": null,
            "grid_row": null,
            "grid_template_areas": null,
            "grid_template_columns": null,
            "grid_template_rows": null,
            "height": null,
            "justify_content": null,
            "justify_items": null,
            "left": null,
            "margin": null,
            "max_height": null,
            "max_width": null,
            "min_height": null,
            "min_width": null,
            "object_fit": null,
            "object_position": null,
            "order": null,
            "overflow": null,
            "overflow_x": null,
            "overflow_y": null,
            "padding": null,
            "right": null,
            "top": null,
            "visibility": null,
            "width": null
          }
        },
        "2a90706b250b4f52a8ba4ab0b2e7e550": {
          "model_module": "@jupyter-widgets/controls",
          "model_name": "DescriptionStyleModel",
          "model_module_version": "1.5.0",
          "state": {
            "_model_module": "@jupyter-widgets/controls",
            "_model_module_version": "1.5.0",
            "_model_name": "DescriptionStyleModel",
            "_view_count": null,
            "_view_module": "@jupyter-widgets/base",
            "_view_module_version": "1.2.0",
            "_view_name": "StyleView",
            "description_width": ""
          }
        }
      }
    }
  },
  "cells": [
    {
      "cell_type": "markdown",
      "metadata": {
        "id": "view-in-github",
        "colab_type": "text"
      },
      "source": [
        "<a href=\"https://colab.research.google.com/github/manuelrucci7/deep-learning-course/blob/main/colab/LLMCustomTrainingTextClassificationTransformer.ipynb\" target=\"_parent\"><img src=\"https://colab.research.google.com/assets/colab-badge.svg\" alt=\"Open In Colab\"/></a>"
      ]
    },
    {
      "cell_type": "markdown",
      "source": [
        "# Custom Traning"
      ],
      "metadata": {
        "id": "dwF85qs_LDLf"
      }
    },
    {
      "cell_type": "code",
      "source": [
        "%%capture\n",
        "!pip install transformers datasets evaluate"
      ],
      "metadata": {
        "id": "RDOyjUEALCTs"
      },
      "execution_count": 36,
      "outputs": []
    },
    {
      "cell_type": "markdown",
      "source": [
        "## Dataset"
      ],
      "metadata": {
        "id": "-WjwYgmQK_GK"
      }
    },
    {
      "cell_type": "markdown",
      "source": [
        "Il problema consiste nel creare un dataset con 200 frasi in italiano, suddivise in due classi: \"Rischio\" (etichetta 1) e \"Non Rischio\" (etichetta 0). Le frasi devono essere costruite in base a un contesto economico, dove un aumento del tasso di interesse implica una situazione di rischio economico, mentre una diminuzione del tasso di interesse rappresenta un contesto più favorevole e meno rischioso. Il dataset deve essere bilanciato, con 100 frasi per ciascuna classe, e strutturato in modo tale da includere frasi pertinenti all'argomento. Questo dataset può essere utilizzato per addestrare modelli di classificazione o analisi economica."
      ],
      "metadata": {
        "id": "mZyA1ziTMhGO"
      }
    },
    {
      "cell_type": "code",
      "source": [
        "from datasets import DatasetDict, Dataset\n",
        "\n",
        "# Generazione di 110 frasi (55 Rischio, 55 Non Rischio)\n",
        "data = {\n",
        "    \"sentence\": [\n",
        "        # Frasi Rischio (etichetta 1)\n",
        "        \"L'aumento del tasso di interesse rallenta l'economia.\",\n",
        "        \"Un forte aumento del tasso di interesse può portare alla recessione.\",\n",
        "        \"La banca centrale ha alzato i tassi, aumentando il rischio per le imprese.\",\n",
        "        \"L'aumento improvviso dei tassi di interesse crea incertezza nei mercati.\",\n",
        "        \"Con tassi in aumento, le aziende potrebbero ridurre gli investimenti.\",\n",
        "        \"Tassi di interesse elevati aumentano il rischio di default sui prestiti.\",\n",
        "        \"L'incremento dei tassi rende il debito pubblico più oneroso.\",\n",
        "        \"Un rialzo repentino dei tassi spaventa gli investitori.\",\n",
        "        \"L'aumento dei tassi frena la crescita economica globale.\",\n",
        "        \"Tassi più alti scoraggiano i consumatori dal contrarre nuovi debiti.\",\n",
        "        \"Un rialzo dei tassi crea instabilità nei settori ad alta leva finanziaria.\",\n",
        "        \"Con i tassi in crescita, i mutui diventano meno accessibili.\",\n",
        "        \"Tassi elevati aumentano i rischi di una contrazione economica.\",\n",
        "        \"L'aumento dei tassi rende più costosi i prestiti per i consumatori.\",\n",
        "        \"Con tassi più alti, il rischio di insolvenza aumenta per le famiglie.\",\n",
        "        \"Un rialzo dei tassi penalizza il settore del credito al consumo.\",\n",
        "        \"Tassi elevati creano tensioni nel settore immobiliare.\",\n",
        "        \"L'aumento dei tassi rallenta il flusso di capitali nelle economie emergenti.\",\n",
        "        \"Con tassi al rialzo, le banche riducono l'erogazione di prestiti.\",\n",
        "        \"Un improvviso aumento dei tassi destabilizza le economie fragili.\",\n",
        "        \"L'aumento dei tassi riduce la liquidità nei mercati emergenti.\",\n",
        "        \"Tassi alti scoraggiano nuovi progetti di investimento.\",\n",
        "        \"La crescita dei tassi rende i finanziamenti aziendali meno sostenibili.\",\n",
        "        \"Un incremento del tasso porta a una contrazione nei consumi.\",\n",
        "        \"Con l'aumento dei tassi, le obbligazioni diventano meno attraenti.\",\n",
        "        # Aggiungi altre frasi \"Rischio\" fino a raggiungere 100\n",
        "        \"Tassi di interesse elevati aumentano i costi di finanziamento per le imprese.\",\n",
        "        \"L'aumento dei tassi riduce la domanda di mutui da parte delle famiglie.\",\n",
        "        \"Con tassi più alti, i mercati azionari tendono a subire una flessione.\",\n",
        "        \"Tassi elevati ostacolano la ripresa economica in tempi di crisi.\",\n",
        "        \"Un rialzo dei tassi scoraggia gli investimenti nel settore tecnologico.\",\n",
        "        \"Con tassi in aumento, molte aziende rivedono al ribasso i loro budget.\",\n",
        "        \"L'incremento dei tassi peggiora la situazione finanziaria dei paesi in via di sviluppo.\",\n",
        "        \"Un aumento repentino dei tassi di interesse può causare una fuga di capitali.\",\n",
        "        \"Con i tassi elevati, i consumatori sono meno propensi a spendere.\",\n",
        "        \"Tassi di interesse alti limitano l'accesso al credito per le piccole imprese.\",\n",
        "        \"L'aumento dei tassi di interesse penalizza il settore immobiliare.\",\n",
        "        \"Un incremento dei tassi crea instabilità nei settori ad alto debito.\",\n",
        "        \"Tassi più alti riducono la redditività degli investimenti a lungo termine.\",\n",
        "        \"L'aumento dei tassi frena l'innovazione nei settori chiave.\",\n",
        "        \"Un rialzo dei tassi aumenta la pressione sui bilanci statali già in deficit.\",\n",
        "        \"Tassi elevati rendono più difficile il finanziamento di progetti infrastrutturali.\",\n",
        "        \"Con tassi alti, le esportazioni diventano meno competitive.\",\n",
        "        \"Un improvviso aumento dei tassi destabilizza le economie emergenti.\",\n",
        "        \"L'incremento dei tassi riduce i margini di profitto delle imprese manifatturiere.\",\n",
        "        \"Tassi di interesse elevati portano a un calo della fiducia degli investitori.\",\n",
        "        \"Con tassi più alti, le imprese tagliano le spese per la formazione dei dipendenti.\",\n",
        "        \"Un forte rialzo dei tassi aumenta il rischio di insolvenza per le famiglie.\",\n",
        "        \"L'aumento dei tassi riduce la domanda di beni durevoli.\",\n",
        "        \"Tassi elevati ostacolano il flusso di capitali verso le startup innovative.\",\n",
        "        \"Con l'aumento dei tassi, il settore turistico subisce un calo di investimenti.\",\n",
        "        \"Un incremento dei tassi limita l'espansione delle aziende nei mercati esteri.\",\n",
        "        \"Tassi elevati aumentano le difficoltà di accesso al credito per i giovani imprenditori.\",\n",
        "        \"L'aumento dei tassi di interesse aggrava le difficoltà finanziarie delle imprese agricole.\",\n",
        "        \"Con tassi elevati, il debito diventa insostenibile per molte economie fragili.\",\n",
        "        \"Un rialzo improvviso dei tassi di interesse può causare un'ondata di fallimenti aziendali.\"\n",
        "    ] + [\n",
        "        # Frasi Non Rischio (etichetta 0)\n",
        "        \"La diminuzione del tasso di interesse favorisce gli investimenti.\",\n",
        "        \"Un calo del tasso di interesse stimola il mercato immobiliare.\",\n",
        "        \"Il taglio dei tassi di interesse incoraggia il consumo.\",\n",
        "        \"La riduzione graduale dei tassi rende i prestiti più accessibili.\",\n",
        "        \"La politica di tassi bassi favorisce la crescita economica.\",\n",
        "        \"Un abbassamento del tasso d'interesse migliora la fiducia dei consumatori.\",\n",
        "        \"La diminuzione dei tassi riduce il costo del capitale per le aziende.\",\n",
        "        \"Tassi bassi stimolano il mercato dei prestiti personali.\",\n",
        "        \"Un calo dei tassi sostiene le piccole e medie imprese.\",\n",
        "        \"Tassi di interesse più bassi migliorano la competitività delle esportazioni.\",\n",
        "        \"La riduzione dei tassi aumenta la liquidità nel sistema economico.\",\n",
        "        \"Un abbassamento dei tassi di interesse supporta il settore bancario.\",\n",
        "        \"Un calo del tasso d'interesse stimola la domanda di beni durevoli.\",\n",
        "        \"Un taglio ai tassi di interesse favorisce il settore tecnologico.\",\n",
        "        \"Tassi più bassi incentivano gli investimenti nelle infrastrutture.\",\n",
        "        \"La politica di tassi bassi rafforza il mercato azionario.\",\n",
        "        \"La diminuzione dei tassi riduce il rischio di crisi finanziaria.\",\n",
        "        \"Tassi bassi incoraggiano gli imprenditori a sviluppare nuove attività.\",\n",
        "        \"La diminuzione dei tassi stimola la ripresa economica.\",\n",
        "        \"Tassi bassi sostengono la crescita del settore manifatturiero.\",\n",
        "        \"Un calo dei tassi favorisce gli investimenti esteri.\",\n",
        "        \"La diminuzione dei tassi facilita l'accesso al credito per i consumatori.\",\n",
        "        \"La politica di tassi bassi rende i mutui più accessibili.\",\n",
        "        \"La riduzione dei tassi sostiene il settore agricolo.\",\n",
        "        \"Con i tassi bassi, l'economia si espande più rapidamente.\",\n",
        "        # Aggiungi altre frasi \"Non Rischio\" fino a raggiungere 100\n",
        "        \"Un abbassamento dei tassi di interesse promuove la stabilità economica.\",\n",
        "        \"Tassi bassi favoriscono il finanziamento di progetti innovativi.\",\n",
        "        \"La riduzione dei tassi rende i prestiti aziendali più sostenibili.\",\n",
        "        \"Tassi di interesse bassi stimolano l'acquisto di nuove abitazioni.\",\n",
        "        \"La diminuzione dei tassi facilita la creazione di nuove imprese.\",\n",
        "        \"Con tassi bassi, il settore turistico beneficia di maggiori investimenti.\",\n",
        "        \"Tassi bassi migliorano la competitività delle economie locali.\",\n",
        "        \"Un calo dei tassi di interesse rende il debito pubblico più gestibile.\",\n",
        "        \"La riduzione dei tassi promuove l'accessibilità ai prestiti per le famiglie.\",\n",
        "        \"Tassi bassi aumentano la fiducia dei consumatori nei mercati finanziari.\",\n",
        "        \"Un abbassamento dei tassi incoraggia l'espansione delle PMI.\",\n",
        "        \"La diminuzione dei tassi stimola l'acquisto di beni di consumo durevoli.\",\n",
        "        \"Tassi bassi migliorano il flusso di capitali verso i paesi in via di sviluppo.\",\n",
        "        \"Con i tassi bassi, i settori tecnologici ricevono maggiore supporto finanziario.\",\n",
        "        \"Un calo dei tassi di interesse favorisce la creazione di posti di lavoro.\",\n",
        "        \"La riduzione dei tassi aiuta le economie a riprendersi dalle crisi.\",\n",
        "        \"Con tassi bassi, i giovani imprenditori possono accedere più facilmente al credito.\",\n",
        "        \"Tassi bassi aumentano la capacità di spesa delle famiglie.\",\n",
        "        \"Un abbassamento dei tassi incentiva gli investimenti nel settore energetico.\",\n",
        "        \"Con tassi bassi, le economie emergenti attraggono più investimenti esteri.\",\n",
        "        \"La riduzione dei tassi di interesse migliora il benessere economico generale.\",\n",
        "        \"Un calo dei tassi rafforza la stabilità delle banche centrali.\",\n",
        "        \"Con tassi bassi, i mercati azionari registrano una crescita sostenuta.\",\n",
        "        \"Un abbassamento dei tassi riduce i costi di finanziamento per le imprese.\",\n",
        "        \"Tassi bassi favoriscono la ripresa del mercato immobiliare.\",\n",
        "        \"La riduzione dei tassi aumenta la liquidità per le economie locali.\",\n",
        "        \"Un calo dei tassi rende più semplice finanziare progetti infrastrutturali.\",\n",
        "        \"Tassi bassi stimolano la domanda nei settori legati alla produzione industriale.\",\n",
        "        \"Con tassi bassi, le economie fragili possono riprendersi più rapidamente.\",\n",
        "        \"La diminuzione dei tassi sostiene gli investimenti nei settori ad alta innovazione.\"\n",
        "    ],\n",
        "    \"label\": [1] * 55 + [0] * 55,  # 55 Rischio (1) e 55 Non Rischio (0)\n",
        "    \"idx\": list(range(110))  # Indici unici per ciascuna frase\n",
        "}\n"
      ],
      "metadata": {
        "id": "WY9jzQRMMSWb"
      },
      "execution_count": 93,
      "outputs": []
    },
    {
      "cell_type": "code",
      "execution_count": 94,
      "metadata": {
        "colab": {
          "base_uri": "https://localhost:8080/"
        },
        "id": "ZV9WcWswKxPh",
        "outputId": "a0654edc-a5c4-4392-87ea-cdc63048394e"
      },
      "outputs": [
        {
          "output_type": "stream",
          "name": "stdout",
          "text": [
            "DatasetDict({\n",
            "    train: Dataset({\n",
            "        features: ['sentence', 'label', 'idx'],\n",
            "        num_rows: 88\n",
            "    })\n",
            "    validation: Dataset({\n",
            "        features: ['sentence', 'label', 'idx'],\n",
            "        num_rows: 22\n",
            "    })\n",
            "})\n"
          ]
        }
      ],
      "source": [
        "# Creare il Dataset da addestramento e validazione\n",
        "dataset = Dataset.from_dict(data)\n",
        "\n",
        "# Dividere il dataset train e  test\n",
        "split = dataset.train_test_split(test_size=0.2, seed=42)\n",
        "\n",
        "# DatasetDict\n",
        "raw_datasets = DatasetDict({\n",
        "    \"train\": split[\"train\"],\n",
        "    \"validation\": split[\"test\"]\n",
        "})\n",
        "\n",
        "# Visualizza la struttura finale\n",
        "print(raw_datasets)"
      ]
    },
    {
      "cell_type": "markdown",
      "source": [
        "## Model Tokenizer"
      ],
      "metadata": {
        "id": "FU9Cj-e8Nj6M"
      }
    },
    {
      "cell_type": "code",
      "source": [
        "#def compute_metrics(eval_preds):\n",
        "#    metric = evaluate.load(\"glue\", \"mrpc\")\n",
        "#    logits, labels = eval_preds\n",
        "#    predictions = np.argmax(logits, axis=-1)\n",
        "#    return metric.compute(predictions=predictions, references=labels)\n",
        "\n",
        "def tokenize_function(example):\n",
        "    return tokenizer(example[\"sentence\"], truncation=True)\n"
      ],
      "metadata": {
        "id": "17Sn8YdPN2dj"
      },
      "execution_count": 95,
      "outputs": []
    },
    {
      "cell_type": "code",
      "source": [
        "from transformers import AutoTokenizer, AutoModelForSequenceClassification, TrainingArguments, Trainer, DataCollatorWithPadding\n",
        "import evaluate\n",
        "import numpy as np\n",
        "\n",
        "#checkpoint = \"bert-base-uncased\"\n",
        "checkpoint = \"tabularisai/multilingual-sentiment-analysis\"\n",
        "tokenizer = AutoTokenizer.from_pretrained(checkpoint)\n",
        "model = AutoModelForSequenceClassification.from_pretrained(checkpoint, num_labels=2, ignore_mismatched_sizes=True)"
      ],
      "metadata": {
        "colab": {
          "base_uri": "https://localhost:8080/"
        },
        "id": "Zja5ASPYNnIm",
        "outputId": "17193133-48af-4d5b-a65e-ddabc449b961"
      },
      "execution_count": 96,
      "outputs": [
        {
          "output_type": "stream",
          "name": "stderr",
          "text": [
            "Some weights of DistilBertForSequenceClassification were not initialized from the model checkpoint at tabularisai/multilingual-sentiment-analysis and are newly initialized because the shapes did not match:\n",
            "- classifier.bias: found shape torch.Size([5]) in the checkpoint and torch.Size([2]) in the model instantiated\n",
            "- classifier.weight: found shape torch.Size([5, 768]) in the checkpoint and torch.Size([2, 768]) in the model instantiated\n",
            "You should probably TRAIN this model on a down-stream task to be able to use it for predictions and inference.\n"
          ]
        }
      ]
    },
    {
      "cell_type": "code",
      "source": [
        "tokenized_datasets = raw_datasets.map(tokenize_function, batched=True)\n",
        "data_collator = DataCollatorWithPadding(tokenizer=tokenizer)"
      ],
      "metadata": {
        "colab": {
          "base_uri": "https://localhost:8080/",
          "height": 81,
          "referenced_widgets": [
            "5dbeaa2bc9d84f2dab1e0728304c8268",
            "087702b31f4c4992a023f1cd6fa79e82",
            "dc21a53cd90e4a5c8510485c6d06ac1a",
            "8b49055195a240d49c35debfcde6af1d",
            "e7c77b03beab4347b694708453286fc8",
            "a96bab054c7d4fb3bfe614bbdf6e76c1",
            "85f337a5694d43c9aabf946ad371acb6",
            "d4c48c48999042dcb7af6ca9e2a1f036",
            "387ec688060a4390bf83273b26003de6",
            "9fe6144d08c04ee9b199efb83dcbeb4a",
            "7b7d557f979844adaa9cc39007480209",
            "31d180ae0d234780815527f17ba2b7b1",
            "7fb34e60f81a48bf9014a9ef6ee30cfb",
            "870d5b3aab58418e880b7cdfd4b4cf80",
            "db5127bc2f80411eb6b099374e540828",
            "6bbd22b5cb78412ead4d35b3fa558c77",
            "7b79cc27f14d4c0f93009ee62a11f531",
            "8628e5d4aa9540dd9d18147fafb2601a",
            "48c2f1c9f387462988be541fccb5296e",
            "66095dddcee7472482dc5667527359f8",
            "d64034a9e12840bcab273c613b1d07f5",
            "2a90706b250b4f52a8ba4ab0b2e7e550"
          ]
        },
        "id": "m8LtL26ROsZP",
        "outputId": "ebecca87-90cb-4c84-93b5-687c58b86fd8"
      },
      "execution_count": 97,
      "outputs": [
        {
          "output_type": "display_data",
          "data": {
            "text/plain": [
              "Map:   0%|          | 0/88 [00:00<?, ? examples/s]"
            ],
            "application/vnd.jupyter.widget-view+json": {
              "version_major": 2,
              "version_minor": 0,
              "model_id": "5dbeaa2bc9d84f2dab1e0728304c8268"
            }
          },
          "metadata": {}
        },
        {
          "output_type": "display_data",
          "data": {
            "text/plain": [
              "Map:   0%|          | 0/22 [00:00<?, ? examples/s]"
            ],
            "application/vnd.jupyter.widget-view+json": {
              "version_major": 2,
              "version_minor": 0,
              "model_id": "31d180ae0d234780815527f17ba2b7b1"
            }
          },
          "metadata": {}
        }
      ]
    },
    {
      "cell_type": "code",
      "source": [
        "import numpy as np\n",
        "from sklearn.metrics import accuracy_score, precision_recall_fscore_support\n",
        "\n",
        "def compute_metrics(eval_preds):\n",
        "    \"\"\"\n",
        "    Compute metrics for evaluation.\n",
        "\n",
        "    Args:\n",
        "        eval_preds: A tuple (logits, labels) where logits are the model's outputs\n",
        "                    and labels are the true labels.\n",
        "\n",
        "    Returns:\n",
        "        dict: A dictionary with the evaluation metrics (accuracy, precision, recall, F1 score).\n",
        "    \"\"\"\n",
        "    # Unpack predictions and labels\n",
        "    logits, labels = eval_preds\n",
        "\n",
        "    # Convert logits to predicted class labels\n",
        "    predictions = np.argmax(logits, axis=-1)\n",
        "\n",
        "    # Calculate accuracy, precision, recall, and F1 score\n",
        "    accuracy = accuracy_score(labels, predictions)\n",
        "    precision, recall, f1, _ = precision_recall_fscore_support(labels, predictions, average=\"binary\")\n",
        "\n",
        "    # Return metrics as a dictionary\n",
        "    return {\n",
        "        \"accuracy\": accuracy,\n",
        "        \"precision\": precision,\n",
        "        \"recall\": recall,\n",
        "        \"f1\": f1\n",
        "    }"
      ],
      "metadata": {
        "id": "zM2Nvr1pQvxN"
      },
      "execution_count": 99,
      "outputs": []
    },
    {
      "cell_type": "code",
      "source": [
        "training_args = TrainingArguments(\"test-trainer\", evaluation_strategy=\"epoch\", num_train_epochs=4)\n",
        "# training_args = TrainingArguments(\n",
        "#     output_dir=\"test-trainer\",          # Output directory\n",
        "#     evaluation_strategy=\"epoch\",    # Evaluate after each epoch\n",
        "#     #learning_rate=2e-5,             # Learning rate\n",
        "#     #per_device_train_batch_size=16, # Batch size for training\n",
        "#     #per_device_eval_batch_size=16,  # Batch size for evaluation\n",
        "#     num_train_epochs=3,             # Number of epochs\n",
        "#     #weight_decay=0.01,              # Weight decay\n",
        "#     #logging_dir=\"./logs\",           # Directory for logs\n",
        "#     #logging_steps=10,               # Log every 10 steps\n",
        "#     #save_total_limit=2,             # Save only the last 2 checkpoints\n",
        "#     #save_steps=500,                 # Save every 500 steps\n",
        "# )\n",
        "\n",
        "trainer = Trainer(\n",
        "    model,\n",
        "    training_args,\n",
        "    train_dataset=tokenized_datasets[\"train\"],\n",
        "    eval_dataset=tokenized_datasets[\"validation\"],\n",
        "    data_collator=data_collator,\n",
        "    tokenizer=tokenizer,\n",
        "    compute_metrics=compute_metrics,\n",
        ")\n"
      ],
      "metadata": {
        "colab": {
          "base_uri": "https://localhost:8080/"
        },
        "id": "IBtYFV7iOkmS",
        "outputId": "54eacdb9-510b-49cf-9083-3fb402612dfd"
      },
      "execution_count": 100,
      "outputs": [
        {
          "output_type": "stream",
          "name": "stderr",
          "text": [
            "/usr/local/lib/python3.10/dist-packages/transformers/training_args.py:1575: FutureWarning: `evaluation_strategy` is deprecated and will be removed in version 4.46 of 🤗 Transformers. Use `eval_strategy` instead\n",
            "  warnings.warn(\n",
            "<ipython-input-100-63bc3597193a>:16: FutureWarning: `tokenizer` is deprecated and will be removed in version 5.0.0 for `Trainer.__init__`. Use `processing_class` instead.\n",
            "  trainer = Trainer(\n"
          ]
        }
      ]
    },
    {
      "cell_type": "code",
      "source": [
        "import wandb\n",
        "wandb.init(mode=\"disabled\")\n",
        "# https://huggingface.co/docs/datasets/v1.13.0/quickstart.html\n",
        "# https://huggingface.co/docs/transformers/main_classes/trainer\n",
        "# https://huggingface.co/learn/nlp-course/chapter7/3\n",
        "#os.environ[\"WANDB_DISABLED\"] = \"true\"\n",
        "trainer.train()\n"
      ],
      "metadata": {
        "colab": {
          "base_uri": "https://localhost:8080/",
          "height": 75
        },
        "id": "c1WGbDyfQfrM",
        "outputId": "f178ba63-d6cb-4184-d6fe-17f79b683bcb"
      },
      "execution_count": null,
      "outputs": [
        {
          "output_type": "display_data",
          "data": {
            "text/plain": [
              "<IPython.core.display.HTML object>"
            ],
            "text/html": [
              "\n",
              "    <div>\n",
              "      \n",
              "      <progress value='12' max='44' style='width:300px; height:20px; vertical-align: middle;'></progress>\n",
              "      [12/44 00:41 < 02:14, 0.24 it/s, Epoch 1/4]\n",
              "    </div>\n",
              "    <table border=\"1\" class=\"dataframe\">\n",
              "  <thead>\n",
              " <tr style=\"text-align: left;\">\n",
              "      <th>Epoch</th>\n",
              "      <th>Training Loss</th>\n",
              "      <th>Validation Loss</th>\n",
              "    </tr>\n",
              "  </thead>\n",
              "  <tbody>\n",
              "  </tbody>\n",
              "</table><p>"
            ]
          },
          "metadata": {}
        }
      ]
    },
    {
      "cell_type": "markdown",
      "source": [
        "## Validation"
      ],
      "metadata": {
        "id": "71flpgD_RshO"
      }
    },
    {
      "cell_type": "code",
      "source": [
        "from transformers import AutoModelForSequenceClassification, AutoTokenizer\n",
        "import torch\n",
        "import torch.nn.functional as F\n",
        "\n",
        "model_path = \"/content/test-trainer/checkpoint-15\"  # Update this path to where your model is saved\n",
        "tokenizer = AutoTokenizer.from_pretrained(model_path)\n",
        "model = AutoModelForSequenceClassification.from_pretrained(model_path)"
      ],
      "metadata": {
        "id": "yiFhUmm-SyX7"
      },
      "execution_count": 91,
      "outputs": []
    },
    {
      "cell_type": "code",
      "source": [
        "label = {\n",
        "    0: \"Non Rischio\",\n",
        "    1: \"Rischio\"\n",
        "}\n",
        "\n",
        "# Rischio\n",
        "sentences = [\n",
        "    \"Con tassi elevati, il costo del debito aumenta per le famiglie.\",\n",
        "    \"Un incremento dei tassi spinge le imprese a tagliare i costi.\",\n",
        "    \"Con tassi in rialzo, le economie fragili subiscono pressioni aggiuntive.\",\n",
        "    \"Tassi più alti portano a una diminuzione della fiducia dei consumatori.\",\n",
        "    \"L'aumento dei tassi rende il credito al consumo meno conveniente.\",\n",
        "    \"Con tassi elevati, le famiglie riducono la spesa discrezionale.\",\n",
        "    \"Un forte aumento dei tassi peggiora le condizioni economiche generali.\"\n",
        "]\n",
        "\n",
        "# Frasi non rischio\n",
        "\"\"\"\n",
        "sentences= [\n",
        "   \"Con i tassi bassi, le famiglie possono investire in nuove proprietà.\",\n",
        "   \"La riduzione dei tassi favorisce il settore delle esportazioni.\",\n",
        "   \"Un calo dei tassi promuove il benessere delle economie emergenti.\",\n",
        "   \"Tassi bassi aumentano la stabilità economica a livello globale.\",\n",
        "   \"La diminuzione dei tassi riduce i rischi di una recessione prolungata.\",\n",
        "   \"Con tassi bassi, le startup trovano più finanziamenti per crescere.\",\n",
        "   \"Un abbassamento dei tassi rende più attraenti gli investimenti infrastrutturali.\"\n",
        "]\n",
        "\"\"\"\n",
        "\n",
        "token_inputs = tokenizer(sentences, return_tensors=\"pt\", padding=True, truncation=True)  # Ensure tensor shapes are correct\n",
        "inputs = {k: v.to(model.device) for k, v in token_inputs.items()}\n",
        "with torch.no_grad():\n",
        "    outputs = model(**inputs)\n",
        "logits = outputs.logits\n",
        "probabilities = torch.softmax(logits, dim=-1)\n",
        "for sentence, probs in zip(sentences, probabilities):\n",
        "    print(f\"{label[predicted_class.item()]}: {probs[predicted_class.item()]:.3f}: {sentence} {probs}\")\n",
        "    predicted_class = torch.argmax(probs, dim=-1)\n"
      ],
      "metadata": {
        "colab": {
          "base_uri": "https://localhost:8080/"
        },
        "id": "GamB8vCtRyXX",
        "outputId": "af04187d-5003-4e09-d952-9f47f582a698"
      },
      "execution_count": 92,
      "outputs": [
        {
          "output_type": "stream",
          "name": "stdout",
          "text": [
            "Rischio: 0.965: Con tassi elevati, il costo del debito aumenta per le famiglie. tensor([0.0354, 0.9646])\n",
            "Rischio: 0.960: Un incremento dei tassi spinge le imprese a tagliare i costi. tensor([0.0399, 0.9601])\n",
            "Rischio: 0.961: Con tassi in rialzo, le economie fragili subiscono pressioni aggiuntive. tensor([0.0385, 0.9615])\n",
            "Rischio: 0.966: Tassi più alti portano a una diminuzione della fiducia dei consumatori. tensor([0.0337, 0.9663])\n",
            "Rischio: 0.966: L'aumento dei tassi rende il credito al consumo meno conveniente. tensor([0.0336, 0.9664])\n",
            "Rischio: 0.964: Con tassi elevati, le famiglie riducono la spesa discrezionale. tensor([0.0356, 0.9644])\n",
            "Rischio: 0.964: Un forte aumento dei tassi peggiora le condizioni economiche generali. tensor([0.0359, 0.9641])\n"
          ]
        }
      ]
    },
    {
      "cell_type": "markdown",
      "source": [],
      "metadata": {
        "id": "zbbiPJ6aK9sT"
      }
    }
  ]
}