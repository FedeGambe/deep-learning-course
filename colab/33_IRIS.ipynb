{
 "cells": [
  {
   "cell_type": "markdown",
   "metadata": {
    "id": "2m4wdmw4fK0M"
   },
   "source": [
    "# Reti neurali\n",
    "IRIS\n"
   ]
  },
  {
   "cell_type": "code",
   "execution_count": null,
   "metadata": {
    "colab": {
     "base_uri": "https://localhost:8080/"
    },
    "executionInfo": {
     "elapsed": 2021,
     "status": "ok",
     "timestamp": 1615583301065,
     "user": {
      "displayName": "T3Lab Vision",
      "photoUrl": "",
      "userId": "14779383426442114373"
     },
     "user_tz": -60
    },
    "id": "_sKMGS-KkIhj",
    "outputId": "54fbf634-df2d-46eb-81a5-fa662ecf4e89"
   },
   "outputs": [
    {
     "name": "stdout",
     "output_type": "stream",
     "text": [
      "2.4.1\n"
     ]
    }
   ],
   "source": [
    "import tensorflow\n",
    "print(tensorflow.__version__)"
   ]
  },
  {
   "cell_type": "code",
   "execution_count": null,
   "metadata": {
    "id": "lJxYV6OykSa7"
   },
   "outputs": [],
   "source": [
    "#%tensorflow_version 1.x"
   ]
  },
  {
   "cell_type": "code",
   "execution_count": null,
   "metadata": {
    "id": "7dReRAZvfK0Q"
   },
   "outputs": [],
   "source": [
    "import pandas as pd\n",
    "import numpy as np\n",
    "import seaborn as sns\n",
    "import matplotlib.pyplot as plt\n",
    "\n",
    "from sklearn.model_selection import train_test_split\n",
    "from sklearn.preprocessing import StandardScaler, OneHotEncoder\n",
    "\n",
    "from tensorflow.keras.models import Sequential\n",
    "from tensorflow.keras.layers import Dense"
   ]
  },
  {
   "cell_type": "code",
   "execution_count": null,
   "metadata": {
    "id": "AiYZJLPJBmd2"
   },
   "outputs": [],
   "source": [
    "from sklearn.datasets import load_iris\n",
    "iris = load_iris()\n",
    "X =iris.data\n",
    "y =iris.target"
   ]
  },
  {
   "cell_type": "code",
   "execution_count": null,
   "metadata": {
    "id": "XBuR1vOwBmd2"
   },
   "outputs": [],
   "source": [
    "ss = StandardScaler()\n",
    "X = ss.fit_transform(X)"
   ]
  },
  {
   "cell_type": "code",
   "execution_count": null,
   "metadata": {
    "id": "Uwxv9QG1fK0T"
   },
   "outputs": [],
   "source": [
    "X_train, X_test, y_train, y_test = train_test_split(X,y, test_size=0.3, random_state=667)"
   ]
  },
  {
   "cell_type": "code",
   "execution_count": null,
   "metadata": {
    "id": "PF-Sh_PMKxPL"
   },
   "outputs": [],
   "source": [
    "# # # One hot encoding\n",
    "# enc = OneHotEncoder()\n",
    "# y_train = enc.fit_transform(y_train[:, np.newaxis]).toarray()\n",
    "\n",
    "# # oppore\n",
    "# loss = 'sparse_categorical_crossentropy'\n",
    "# se usiamo il one hot encoder ---> optimizer == categorical_crossentropy, altrimenti optimizer == sparse_categorical_crossentropy\n",
    "\n",
    "from tensorflow.keras.utils import to_categorical\n",
    "y_train = to_categorical(y_train, num_classes=3)"
   ]
  },
  {
   "cell_type": "code",
   "execution_count": null,
   "metadata": {
    "colab": {
     "base_uri": "https://localhost:8080/"
    },
    "executionInfo": {
     "elapsed": 2321,
     "status": "ok",
     "timestamp": 1615583301410,
     "user": {
      "displayName": "T3Lab Vision",
      "photoUrl": "",
      "userId": "14779383426442114373"
     },
     "user_tz": -60
    },
    "id": "PLkjZZpN4_G6",
    "outputId": "7d11587e-2cfe-43cb-b3fa-0267301e9fea"
   },
   "outputs": [
    {
     "data": {
      "text/plain": [
       "4"
      ]
     },
     "execution_count": 8,
     "metadata": {
      "tags": []
     },
     "output_type": "execute_result"
    }
   ],
   "source": [
    "X_train.shape[1]"
   ]
  },
  {
   "cell_type": "code",
   "execution_count": null,
   "metadata": {
    "id": "2JQPHvDHBmd4"
   },
   "outputs": [],
   "source": [
    "import tensorflow as tf\n",
    "tf.random.set_seed(667) \n",
    "\n",
    "model = Sequential()\n",
    "model.add(Dense(32, input_dim=4, activation='relu'))\n",
    "model.add(Dense(16,activation='tanh'))\n",
    "model.add(Dense(3, activation='softmax'))"
   ]
  },
  {
   "cell_type": "code",
   "execution_count": null,
   "metadata": {
    "colab": {
     "base_uri": "https://localhost:8080/"
    },
    "executionInfo": {
     "elapsed": 2310,
     "status": "ok",
     "timestamp": 1615583301411,
     "user": {
      "displayName": "T3Lab Vision",
      "photoUrl": "",
      "userId": "14779383426442114373"
     },
     "user_tz": -60
    },
    "id": "1Sd6ar3NBmd5",
    "outputId": "99ef1745-ff52-4080-f3e4-a76809610dfd"
   },
   "outputs": [
    {
     "name": "stdout",
     "output_type": "stream",
     "text": [
      "Model: \"sequential\"\n",
      "_________________________________________________________________\n",
      "Layer (type)                 Output Shape              Param #   \n",
      "=================================================================\n",
      "dense (Dense)                (None, 32)                160       \n",
      "_________________________________________________________________\n",
      "dense_1 (Dense)              (None, 16)                528       \n",
      "_________________________________________________________________\n",
      "dense_2 (Dense)              (None, 3)                 51        \n",
      "=================================================================\n",
      "Total params: 739\n",
      "Trainable params: 739\n",
      "Non-trainable params: 0\n",
      "_________________________________________________________________\n"
     ]
    }
   ],
   "source": [
    "model.summary()"
   ]
  },
  {
   "cell_type": "code",
   "execution_count": null,
   "metadata": {
    "id": "OsJX-PgMFiWs"
   },
   "outputs": [],
   "source": [
    "#the sparse_categorical_crossentropy is defined as categorical crossentropy with integer targets\n",
    "#the categorical_crossentropy is defined as categorical cross-entropy between an output tensor and a target tensor."
   ]
  },
  {
   "cell_type": "code",
   "execution_count": null,
   "metadata": {
    "id": "ArnFjI2sfK0V"
   },
   "outputs": [],
   "source": [
    "from tensorflow.keras.optimizers import Adam\n",
    "\n",
    "model.compile(optimizer=Adam(lr=0.04), loss='categorical_crossentropy', metrics=['accuracy'])\n",
    "#model.compile(optimizer=Adam(lr=0.04), loss='sparse_categorical_crossentropy', metrics=['accuracy'])"
   ]
  },
  {
   "cell_type": "code",
   "execution_count": null,
   "metadata": {
    "colab": {
     "base_uri": "https://localhost:8080/"
    },
    "executionInfo": {
     "elapsed": 2981,
     "status": "ok",
     "timestamp": 1615583302099,
     "user": {
      "displayName": "T3Lab Vision",
      "photoUrl": "",
      "userId": "14779383426442114373"
     },
     "user_tz": -60
    },
    "id": "hDhWs7W4fK0W",
    "outputId": "0a243caa-4056-4878-b453-b8cdc7236044"
   },
   "outputs": [
    {
     "name": "stdout",
     "output_type": "stream",
     "text": [
      "Epoch 1/10\n",
      "4/4 [==============================] - 0s 3ms/step - loss: 0.7697 - accuracy: 0.6406\n",
      "Epoch 2/10\n",
      "4/4 [==============================] - 0s 2ms/step - loss: 0.3622 - accuracy: 0.8078\n",
      "Epoch 3/10\n",
      "4/4 [==============================] - 0s 2ms/step - loss: 0.2527 - accuracy: 0.9071\n",
      "Epoch 4/10\n",
      "4/4 [==============================] - 0s 2ms/step - loss: 0.2337 - accuracy: 0.8696\n",
      "Epoch 5/10\n",
      "4/4 [==============================] - 0s 4ms/step - loss: 0.1162 - accuracy: 0.9757\n",
      "Epoch 6/10\n",
      "4/4 [==============================] - 0s 2ms/step - loss: 0.1286 - accuracy: 0.9546\n",
      "Epoch 7/10\n",
      "4/4 [==============================] - 0s 2ms/step - loss: 0.0685 - accuracy: 0.9788\n",
      "Epoch 8/10\n",
      "4/4 [==============================] - 0s 2ms/step - loss: 0.0746 - accuracy: 0.9660\n",
      "Epoch 9/10\n",
      "4/4 [==============================] - 0s 2ms/step - loss: 0.0500 - accuracy: 0.9882\n",
      "Epoch 10/10\n",
      "4/4 [==============================] - 0s 2ms/step - loss: 0.0465 - accuracy: 0.9851\n"
     ]
    },
    {
     "data": {
      "text/plain": [
       "<tensorflow.python.keras.callbacks.History at 0x7f195c163810>"
      ]
     },
     "execution_count": 13,
     "metadata": {
      "tags": []
     },
     "output_type": "execute_result"
    }
   ],
   "source": [
    "model.fit(X_train, y_train, epochs=10)"
   ]
  },
  {
   "cell_type": "code",
   "execution_count": null,
   "metadata": {
    "colab": {
     "base_uri": "https://localhost:8080/"
    },
    "executionInfo": {
     "elapsed": 3329,
     "status": "ok",
     "timestamp": 1615583302453,
     "user": {
      "displayName": "T3Lab Vision",
      "photoUrl": "",
      "userId": "14779383426442114373"
     },
     "user_tz": -60
    },
    "id": "lWuEjXLnfK0W",
    "outputId": "4934fb07-dec4-4ff4-cada-1af3fe5ed14b"
   },
   "outputs": [
    {
     "name": "stdout",
     "output_type": "stream",
     "text": [
      "4/4 [==============================] - 0s 2ms/step - loss: 0.0626 - accuracy: 0.9619\n",
      "Loss sul train set: 0.0626\n",
      "Accuracy sul train set: 0.9619\n"
     ]
    }
   ],
   "source": [
    "loss, acc = model.evaluate(X_train, y_train)\n",
    "print(\"Loss sul train set: %.4f\" % loss)\n",
    "print(\"Accuracy sul train set: %.4f\" % acc)"
   ]
  },
  {
   "cell_type": "code",
   "execution_count": null,
   "metadata": {
    "colab": {
     "base_uri": "https://localhost:8080/"
    },
    "executionInfo": {
     "elapsed": 3322,
     "status": "ok",
     "timestamp": 1615583302453,
     "user": {
      "displayName": "T3Lab Vision",
      "photoUrl": "",
      "userId": "14779383426442114373"
     },
     "user_tz": -60
    },
    "id": "3ivVjPNKBmd6",
    "outputId": "7866c6d7-bf77-4bb4-afda-9012f8f7e545"
   },
   "outputs": [
    {
     "data": {
      "text/plain": [
       "array([[8.87785136e-05, 4.29114774e-02, 9.56999719e-01],\n",
       "       [9.99912858e-01, 7.37165683e-05, 1.34894144e-05],\n",
       "       [1.13873866e-04, 9.99138594e-01, 7.47560116e-04],\n",
       "       [9.04101908e-05, 9.99662280e-01, 2.47282442e-04],\n",
       "       [1.72266664e-04, 9.99664187e-01, 1.63492659e-04],\n",
       "       [2.87407951e-04, 9.98846531e-01, 8.66043963e-04],\n",
       "       [4.82971518e-04, 4.80753124e-01, 5.18763959e-01],\n",
       "       [3.63762229e-05, 6.51534181e-03, 9.93448317e-01],\n",
       "       [1.49097148e-04, 9.99335229e-01, 5.15646243e-04],\n",
       "       [1.80383038e-04, 2.16191679e-01, 7.83627868e-01],\n",
       "       [9.99731719e-01, 2.59587017e-04, 8.65866241e-06],\n",
       "       [1.48095933e-04, 9.83761966e-01, 1.60898939e-02],\n",
       "       [1.12741305e-04, 9.99633193e-01, 2.54113460e-04],\n",
       "       [9.99847770e-01, 1.42781879e-04, 9.44261319e-06],\n",
       "       [1.12604401e-04, 3.84671539e-02, 9.61420238e-01],\n",
       "       [6.71995513e-05, 1.25512555e-02, 9.87381518e-01],\n",
       "       [9.99873638e-01, 1.15428338e-04, 1.09362245e-05],\n",
       "       [9.99782622e-01, 2.06869139e-04, 1.04439259e-05],\n",
       "       [9.99836802e-01, 1.52619672e-04, 1.06385332e-05],\n",
       "       [1.93931810e-05, 1.85979332e-03, 9.98120844e-01],\n",
       "       [5.85816888e-05, 9.99767482e-01, 1.73850451e-04],\n",
       "       [1.67558610e-04, 9.82092261e-01, 1.77401714e-02],\n",
       "       [9.99715269e-01, 2.76211387e-04, 8.42770351e-06],\n",
       "       [9.99863982e-01, 1.26074519e-04, 9.93012873e-06],\n",
       "       [2.79806482e-05, 3.46411020e-03, 9.96507943e-01],\n",
       "       [5.16304535e-05, 1.70542169e-02, 9.82894123e-01],\n",
       "       [9.99751508e-01, 2.38660636e-04, 9.74312479e-06],\n",
       "       [1.69316976e-04, 9.99353349e-01, 4.77304333e-04],\n",
       "       [1.73888844e-03, 9.98061359e-01, 1.99810427e-04],\n",
       "       [9.99764383e-01, 2.27045326e-04, 8.62863453e-06],\n",
       "       [9.99891281e-01, 9.77330565e-05, 1.09768762e-05],\n",
       "       [6.99871161e-05, 3.43224593e-02, 9.65607643e-01],\n",
       "       [1.86933885e-05, 1.46046642e-03, 9.98520911e-01],\n",
       "       [2.69305834e-04, 3.34230393e-01, 6.65500224e-01],\n",
       "       [9.99754965e-01, 2.36393273e-04, 8.64629692e-06],\n",
       "       [3.32967233e-04, 9.98680770e-01, 9.86253959e-04],\n",
       "       [9.99889731e-01, 9.92962232e-05, 1.09470648e-05],\n",
       "       [4.70079794e-05, 1.55583937e-02, 9.84394610e-01],\n",
       "       [9.99892116e-01, 9.65288637e-05, 1.12705939e-05],\n",
       "       [9.99838948e-01, 1.52064444e-04, 8.91342916e-06],\n",
       "       [1.83785123e-05, 1.64063694e-03, 9.98340964e-01],\n",
       "       [9.11155803e-05, 9.99182284e-01, 7.26563565e-04],\n",
       "       [2.28435965e-05, 1.90144137e-03, 9.98075724e-01],\n",
       "       [2.95681584e-05, 6.22560643e-03, 9.93744910e-01],\n",
       "       [4.82639771e-05, 1.11320801e-02, 9.88819659e-01]], dtype=float32)"
      ]
     },
     "execution_count": 15,
     "metadata": {
      "tags": []
     },
     "output_type": "execute_result"
    }
   ],
   "source": [
    "y_pred = model.predict(X_test)\n",
    "y_pred"
   ]
  },
  {
   "cell_type": "code",
   "execution_count": null,
   "metadata": {
    "colab": {
     "base_uri": "https://localhost:8080/",
     "height": 483
    },
    "executionInfo": {
     "elapsed": 3799,
     "status": "ok",
     "timestamp": 1615583302937,
     "user": {
      "displayName": "T3Lab Vision",
      "photoUrl": "",
      "userId": "14779383426442114373"
     },
     "user_tz": -60
    },
    "id": "X-4_H2w4fK0Z",
    "outputId": "d9a56ac6-4966-4381-89a8-d50a6ceddb5a"
   },
   "outputs": [
    {
     "data": {
      "image/png": "[encoded data removed]",
      "text/plain": [
       "<Figure size 864x576 with 2 Axes>"
      ]
     },
     "metadata": {
      "needs_background": "light",
      "tags": []
     },
     "output_type": "display_data"
    }
   ],
   "source": [
    "from sklearn.metrics import confusion_matrix\n",
    "import seaborn as sns\n",
    "import matplotlib.pyplot as plt\n",
    "\n",
    "plt.figure(figsize=(12,8))\n",
    "y_pred = np.argmax(model.predict(X_test), axis=-1)\n",
    "cm = confusion_matrix(y_test, y_pred)\n",
    "labels = ['setosa','verginica','versicolor']\n",
    "sns.heatmap(cm,xticklabels=labels,yticklabels=labels,annot=True,fmt=\".0f\",cmap='viridis');"
   ]
  },
  {
   "cell_type": "code",
   "execution_count": null,
   "metadata": {
    "colab": {
     "base_uri": "https://localhost:8080/"
    },
    "executionInfo": {
     "elapsed": 3792,
     "status": "ok",
     "timestamp": 1615583302937,
     "user": {
      "displayName": "T3Lab Vision",
      "photoUrl": "",
      "userId": "14779383426442114373"
     },
     "user_tz": -60
    },
    "id": "zu5kAlHhvEig",
    "outputId": "6239af02-10d2-49bb-a57c-af053580195e"
   },
   "outputs": [
    {
     "name": "stdout",
     "output_type": "stream",
     "text": [
      "              precision    recall  f1-score   support\n",
      "\n",
      "           0       1.00      1.00      1.00        15\n",
      "           1       0.92      1.00      0.96        12\n",
      "           2       1.00      0.94      0.97        18\n",
      "\n",
      "    accuracy                           0.98        45\n",
      "   macro avg       0.97      0.98      0.98        45\n",
      "weighted avg       0.98      0.98      0.98        45\n",
      "\n"
     ]
    }
   ],
   "source": [
    "from sklearn.metrics import classification_report\n",
    "print(classification_report(y_test,y_pred))"
   ]
  },
  {
   "cell_type": "code",
   "execution_count": null,
   "metadata": {
    "id": "aML1h4Zp_BNa"
   },
   "outputs": [],
   "source": [
    "# from sklearn.metrics import roc_curve, auc\n",
    "# y_pred = model.predict(X_test).ravel() #flatten array\n",
    "\n",
    "# plt.figure(figsize=(12,10))\n",
    "\n",
    "# nn_fpr_keras, nn_tpr_keras, nn_thresholds_keras = roc_curve(y_test, y_pred)\n",
    "# auc_keras = auc(nn_fpr_keras, nn_tpr_keras)\n",
    "# plt.plot(nn_fpr_keras, nn_tpr_keras, marker='*', label='Neural Network (auc = %0.3f)' % auc_keras);\n",
    "\n",
    "# # Title\n",
    "# plt.title('ROC CURVE Plot')\n",
    "\n",
    "# #Axis labels\n",
    "# plt.xlabel('False Positive Rate')\n",
    "# plt.ylabel('True Positive Rate')\n",
    "\n",
    "# #Legend\n",
    "# plt.legend();"
   ]
  },
  {
   "cell_type": "code",
   "execution_count": null,
   "metadata": {
    "id": "wrQi8S3xt5GM"
   },
   "outputs": [],
   "source": [
    "from sklearn.preprocessing import MinMaxScaler\n",
    "from tensorflow.keras.models import load_model"
   ]
  },
  {
   "cell_type": "code",
   "execution_count": null,
   "metadata": {
    "id": "VHtJH6Lyt_Qw"
   },
   "outputs": [],
   "source": [
    "model.save('iris.h5') "
   ]
  },
  {
   "cell_type": "code",
   "execution_count": null,
   "metadata": {
    "id": "hI3v5Rdot_5K"
   },
   "outputs": [],
   "source": [
    "load_model = load_model('iris.h5')"
   ]
  },
  {
   "cell_type": "code",
   "execution_count": null,
   "metadata": {
    "colab": {
     "base_uri": "https://localhost:8080/"
    },
    "executionInfo": {
     "elapsed": 3766,
     "status": "ok",
     "timestamp": 1615583302939,
     "user": {
      "displayName": "T3Lab Vision",
      "photoUrl": "",
      "userId": "14779383426442114373"
     },
     "user_tz": -60
    },
    "id": "lJfwc1m7uAV0",
    "outputId": "537d27c8-4e18-4e8e-858c-af185a674e54"
   },
   "outputs": [
    {
     "data": {
      "text/plain": [
       "4"
      ]
     },
     "execution_count": 22,
     "metadata": {
      "tags": []
     },
     "output_type": "execute_result"
    }
   ],
   "source": [
    "# [[Feature1, Feature2....,Feature[30]]]\n",
    "new_sample = [[1,6,6,8],\n",
    "             [0,0,2,0]]\n",
    "len(new_sample[0])"
   ]
  },
  {
   "cell_type": "code",
   "execution_count": null,
   "metadata": {
    "id": "9Q5vs7fauAYm"
   },
   "outputs": [],
   "source": [
    "scaler = MinMaxScaler()\n",
    "new_sample_scaled = scaler.fit_transform(new_sample)"
   ]
  },
  {
   "cell_type": "code",
   "execution_count": null,
   "metadata": {
    "colab": {
     "base_uri": "https://localhost:8080/"
    },
    "executionInfo": {
     "elapsed": 3974,
     "status": "ok",
     "timestamp": 1615583303159,
     "user": {
      "displayName": "T3Lab Vision",
      "photoUrl": "",
      "userId": "14779383426442114373"
     },
     "user_tz": -60
    },
    "id": "tYk3Rfd6E1ER",
    "outputId": "faefd9a9-88e3-4c1f-ed2b-7439c6aef7e4"
   },
   "outputs": [
    {
     "data": {
      "text/plain": [
       "array([[4.2767762e-04, 2.2948089e-01, 7.7009141e-01],\n",
       "       [1.6594652e-02, 9.8315191e-01, 2.5340213e-04]], dtype=float32)"
      ]
     },
     "execution_count": 24,
     "metadata": {
      "tags": []
     },
     "output_type": "execute_result"
    }
   ],
   "source": [
    "load_model.predict(new_sample_scaled)"
   ]
  },
  {
   "cell_type": "code",
   "execution_count": null,
   "metadata": {
    "id": "gvhLGgRABmd8"
   },
   "outputs": [],
   "source": [
    "prediction = load_model.predict(new_sample_scaled)"
   ]
  },
  {
   "cell_type": "code",
   "execution_count": null,
   "metadata": {
    "colab": {
     "base_uri": "https://localhost:8080/"
    },
    "executionInfo": {
     "elapsed": 3965,
     "status": "ok",
     "timestamp": 1615583303160,
     "user": {
      "displayName": "T3Lab Vision",
      "photoUrl": "",
      "userId": "14779383426442114373"
     },
     "user_tz": -60
    },
    "id": "3KJ92JDwBmd8",
    "outputId": "478a9b44-b23f-4022-dae2-4cfa70bfc4be"
   },
   "outputs": [
    {
     "data": {
      "text/plain": [
       "array([2, 1])"
      ]
     },
     "execution_count": 26,
     "metadata": {
      "tags": []
     },
     "output_type": "execute_result"
    }
   ],
   "source": [
    "predict_label=np.argmax(prediction,axis=1)\n",
    "predict_label"
   ]
  },
  {
   "cell_type": "code",
   "execution_count": null,
   "metadata": {
    "id": "OgSJ52sHuAi8"
   },
   "outputs": [],
   "source": [
    "def pred(x):\n",
    "    res = []\n",
    "    for i in x:\n",
    "        if i==0:\n",
    "            res.append('setosa')\n",
    "        elif i==1:\n",
    "            res.append('verginica')      \n",
    "        else:\n",
    "            res.append('versicolor')\n",
    "    return res"
   ]
  },
  {
   "cell_type": "code",
   "execution_count": null,
   "metadata": {
    "colab": {
     "base_uri": "https://localhost:8080/"
    },
    "executionInfo": {
     "elapsed": 3955,
     "status": "ok",
     "timestamp": 1615583303161,
     "user": {
      "displayName": "T3Lab Vision",
      "photoUrl": "",
      "userId": "14779383426442114373"
     },
     "user_tz": -60
    },
    "id": "8ngk0HQjrdf8",
    "outputId": "55b8bb6b-21ca-44b3-8a00-6d5cbf3b84f0"
   },
   "outputs": [
    {
     "data": {
      "text/plain": [
       "['versicolor', 'verginica']"
      ]
     },
     "execution_count": 28,
     "metadata": {
      "tags": []
     },
     "output_type": "execute_result"
    }
   ],
   "source": [
    "pred(predict_label)"
   ]
  },
  {
   "cell_type": "code",
   "execution_count": null,
   "metadata": {
    "id": "a8bTZIlGBmd9"
   },
   "outputs": [],
   "source": []
  },
  {
   "cell_type": "markdown",
   "metadata": {
    "id": "OKfW6HHswp88"
   },
   "source": [
    "## Early Stopping + Validation"
   ]
  },
  {
   "cell_type": "markdown",
   "metadata": {},
   "source": [
    "Early Stopping -->Stop training when a monitored metric has stopped improving.\n",
    "\n",
    "Assuming the goal of a training is to minimize the loss. With this, the metric to be monitored would be 'loss', and mode would be 'min'. A model.fit() training loop will check at end of every epoch whether the loss is no longer decreasing, considering the min_delta and patience if applicable. Once it's found no longer decreasing, model.stop_training is marked True and the training terminates.\n",
    "\n",
    "The quantity to be monitored needs to be available in logs dict. To make it so, pass the loss or metrics at model.compile().\n",
    "\n",
    "Arguments\n",
    "\n",
    "    - monitor: Quantity to be monitored.\n",
    "    - min_delta: Minimum change in the monitored quantity to qualify as an improvement, i.e. an absolute change of less than  min_delta, will count as no improvement.\n",
    "    - patience: Number of epochs with no improvement after which training will be stopped.\n",
    "    - verbose: verbosity mode.\n",
    "    - mode: One of {\"auto\", \"min\", \"max\"}. In min mode, training will stop when the quantity monitored has stopped decreasing; in \"max\" mode it will stop when the quantity monitored has stopped increasing; in \"auto\" mode, the direction is automatically inferred from the name of the monitored quantity.\n",
    "    - baseline: Baseline value for the monitored quantity. Training will stop if the model doesn't show improvement over the baseline.\n",
    "    - restore_best_weights: Whether to restore model weights from the epoch with the best value of the monitored quantity. If False, the model weights obtained at the last step of training are used.\n"
   ]
  },
  {
   "cell_type": "code",
   "execution_count": null,
   "metadata": {
    "id": "NfWJPz88QVZA"
   },
   "outputs": [],
   "source": [
    "from tensorflow.keras.callbacks import EarlyStopping\n",
    "from sklearn.model_selection import train_test_split"
   ]
  },
  {
   "cell_type": "code",
   "execution_count": null,
   "metadata": {
    "id": "inqopYPGBmd9"
   },
   "outputs": [],
   "source": [
    "# Split into train/test + Validation set\n",
    "X_train, X_test, y_train, y_test = train_test_split(X, y, test_size=0.25, random_state=667)\n",
    "X_train, X_val, y_train, y_val = train_test_split(X_train, y_train, test_size=0.25, random_state=667) # 0.25 x 0.8 = 0.2\n",
    "\n",
    "\n",
    "model = Sequential()\n",
    "model.add(Dense(100, input_dim=X_train.shape[1], activation='relu',kernel_initializer='random_normal'))\n",
    "model.add(Dense(50,activation='relu',kernel_initializer='random_normal'))\n",
    "model.add(Dense(25,activation='relu',kernel_initializer='random_normal'))\n",
    "model.add(Dense(3,activation='softmax',kernel_initializer='random_normal'))\n",
    "\n",
    "model.compile(loss='sparse_categorical_crossentropy', \n",
    "              optimizer='adam',\n",
    "              metrics =['accuracy'])\n",
    "\n",
    "monitor = EarlyStopping(monitor='val_loss',\n",
    "                        min_delta=1e-3, \n",
    "                        patience=5,\n",
    "                        verbose=1, \n",
    "                        mode='auto', \n",
    "                        restore_best_weights=True)"
   ]
  },
  {
   "cell_type": "code",
   "execution_count": null,
   "metadata": {
    "colab": {
     "base_uri": "https://localhost:8080/"
    },
    "executionInfo": {
     "elapsed": 7343,
     "status": "ok",
     "timestamp": 1615583306567,
     "user": {
      "displayName": "T3Lab Vision",
      "photoUrl": "",
      "userId": "14779383426442114373"
     },
     "user_tz": -60
    },
    "id": "DPzsFhAtuBhJ",
    "outputId": "caccb9f1-6e82-4d77-cd08-be2311c6af27"
   },
   "outputs": [
    {
     "name": "stdout",
     "output_type": "stream",
     "text": [
      "Epoch 1/1000\n",
      "3/3 - 1s - loss: 1.0985 - accuracy: 0.3452 - val_loss: 1.0970 - val_accuracy: 0.2857\n",
      "Epoch 2/1000\n",
      "3/3 - 0s - loss: 1.0966 - accuracy: 0.5238 - val_loss: 1.0954 - val_accuracy: 0.5714\n",
      "Epoch 3/1000\n",
      "3/3 - 0s - loss: 1.0945 - accuracy: 0.7024 - val_loss: 1.0929 - val_accuracy: 0.6071\n",
      "Epoch 4/1000\n",
      "3/3 - 0s - loss: 1.0914 - accuracy: 0.7024 - val_loss: 1.0893 - val_accuracy: 0.6071\n",
      "Epoch 5/1000\n",
      "3/3 - 0s - loss: 1.0873 - accuracy: 0.7262 - val_loss: 1.0844 - val_accuracy: 0.6071\n",
      "Epoch 6/1000\n",
      "3/3 - 0s - loss: 1.0817 - accuracy: 0.7143 - val_loss: 1.0777 - val_accuracy: 0.5714\n",
      "Epoch 7/1000\n",
      "3/3 - 0s - loss: 1.0744 - accuracy: 0.7143 - val_loss: 1.0690 - val_accuracy: 0.5714\n",
      "Epoch 8/1000\n",
      "3/3 - 0s - loss: 1.0642 - accuracy: 0.7143 - val_loss: 1.0568 - val_accuracy: 0.5714\n",
      "Epoch 9/1000\n",
      "3/3 - 0s - loss: 1.0504 - accuracy: 0.7143 - val_loss: 1.0402 - val_accuracy: 0.5714\n",
      "Epoch 10/1000\n",
      "3/3 - 0s - loss: 1.0328 - accuracy: 0.7143 - val_loss: 1.0186 - val_accuracy: 0.5714\n",
      "Epoch 11/1000\n",
      "3/3 - 0s - loss: 1.0092 - accuracy: 0.7143 - val_loss: 0.9906 - val_accuracy: 0.5714\n",
      "Epoch 12/1000\n",
      "3/3 - 0s - loss: 0.9800 - accuracy: 0.7143 - val_loss: 0.9554 - val_accuracy: 0.5714\n",
      "Epoch 13/1000\n",
      "3/3 - 0s - loss: 0.9429 - accuracy: 0.7143 - val_loss: 0.9114 - val_accuracy: 0.5714\n",
      "Epoch 14/1000\n",
      "3/3 - 0s - loss: 0.8985 - accuracy: 0.7143 - val_loss: 0.8608 - val_accuracy: 0.5714\n",
      "Epoch 15/1000\n",
      "3/3 - 0s - loss: 0.8455 - accuracy: 0.7143 - val_loss: 0.8051 - val_accuracy: 0.6071\n",
      "Epoch 16/1000\n",
      "3/3 - 0s - loss: 0.7866 - accuracy: 0.7500 - val_loss: 0.7402 - val_accuracy: 0.8571\n",
      "Epoch 17/1000\n",
      "3/3 - 0s - loss: 0.7232 - accuracy: 0.8452 - val_loss: 0.6716 - val_accuracy: 0.8929\n",
      "Epoch 18/1000\n",
      "3/3 - 0s - loss: 0.6597 - accuracy: 0.8452 - val_loss: 0.6039 - val_accuracy: 0.9286\n",
      "Epoch 19/1000\n",
      "3/3 - 0s - loss: 0.5954 - accuracy: 0.8690 - val_loss: 0.5494 - val_accuracy: 0.9286\n",
      "Epoch 20/1000\n",
      "3/3 - 0s - loss: 0.5422 - accuracy: 0.8333 - val_loss: 0.4953 - val_accuracy: 0.8929\n",
      "Epoch 21/1000\n",
      "3/3 - 0s - loss: 0.4981 - accuracy: 0.7976 - val_loss: 0.4548 - val_accuracy: 0.8929\n",
      "Epoch 22/1000\n",
      "3/3 - 0s - loss: 0.4687 - accuracy: 0.7857 - val_loss: 0.4164 - val_accuracy: 0.8929\n",
      "Epoch 23/1000\n",
      "3/3 - 0s - loss: 0.4443 - accuracy: 0.7619 - val_loss: 0.3950 - val_accuracy: 0.8929\n",
      "Epoch 24/1000\n",
      "3/3 - 0s - loss: 0.4262 - accuracy: 0.7738 - val_loss: 0.3816 - val_accuracy: 0.8929\n",
      "Epoch 25/1000\n",
      "3/3 - 0s - loss: 0.4096 - accuracy: 0.8095 - val_loss: 0.3757 - val_accuracy: 0.8929\n",
      "Epoch 26/1000\n",
      "3/3 - 0s - loss: 0.3991 - accuracy: 0.8214 - val_loss: 0.3740 - val_accuracy: 0.9286\n",
      "Epoch 27/1000\n",
      "3/3 - 0s - loss: 0.3861 - accuracy: 0.8571 - val_loss: 0.3504 - val_accuracy: 0.9286\n",
      "Epoch 28/1000\n",
      "3/3 - 0s - loss: 0.3719 - accuracy: 0.8452 - val_loss: 0.3329 - val_accuracy: 0.9286\n",
      "Epoch 29/1000\n",
      "3/3 - 0s - loss: 0.3586 - accuracy: 0.8690 - val_loss: 0.3156 - val_accuracy: 0.9286\n",
      "Epoch 30/1000\n",
      "3/3 - 0s - loss: 0.3494 - accuracy: 0.8810 - val_loss: 0.3007 - val_accuracy: 0.9286\n",
      "Epoch 31/1000\n",
      "3/3 - 0s - loss: 0.3346 - accuracy: 0.8571 - val_loss: 0.2726 - val_accuracy: 0.9286\n",
      "Epoch 32/1000\n",
      "3/3 - 0s - loss: 0.3237 - accuracy: 0.8452 - val_loss: 0.2546 - val_accuracy: 0.9286\n",
      "Epoch 33/1000\n",
      "3/3 - 0s - loss: 0.3098 - accuracy: 0.8690 - val_loss: 0.2467 - val_accuracy: 0.9643\n",
      "Epoch 34/1000\n",
      "3/3 - 0s - loss: 0.2957 - accuracy: 0.9048 - val_loss: 0.2385 - val_accuracy: 0.9286\n",
      "Epoch 35/1000\n",
      "3/3 - 0s - loss: 0.2830 - accuracy: 0.9048 - val_loss: 0.2259 - val_accuracy: 0.9286\n",
      "Epoch 36/1000\n",
      "3/3 - 0s - loss: 0.2694 - accuracy: 0.9048 - val_loss: 0.2138 - val_accuracy: 0.9286\n",
      "Epoch 37/1000\n",
      "3/3 - 0s - loss: 0.2583 - accuracy: 0.9167 - val_loss: 0.1990 - val_accuracy: 0.9286\n",
      "Epoch 38/1000\n",
      "3/3 - 0s - loss: 0.2444 - accuracy: 0.9167 - val_loss: 0.1899 - val_accuracy: 0.9286\n",
      "Epoch 39/1000\n",
      "3/3 - 0s - loss: 0.2310 - accuracy: 0.9167 - val_loss: 0.1722 - val_accuracy: 0.9286\n",
      "Epoch 40/1000\n",
      "3/3 - 0s - loss: 0.2181 - accuracy: 0.9286 - val_loss: 0.1625 - val_accuracy: 0.9286\n",
      "Epoch 41/1000\n",
      "3/3 - 0s - loss: 0.2029 - accuracy: 0.9524 - val_loss: 0.1499 - val_accuracy: 0.9286\n",
      "Epoch 42/1000\n",
      "3/3 - 0s - loss: 0.1900 - accuracy: 0.9405 - val_loss: 0.1403 - val_accuracy: 0.9286\n",
      "Epoch 43/1000\n",
      "3/3 - 0s - loss: 0.1766 - accuracy: 0.9405 - val_loss: 0.1299 - val_accuracy: 0.9643\n",
      "Epoch 44/1000\n",
      "3/3 - 0s - loss: 0.1659 - accuracy: 0.9405 - val_loss: 0.1196 - val_accuracy: 0.9643\n",
      "Epoch 45/1000\n",
      "3/3 - 0s - loss: 0.1547 - accuracy: 0.9405 - val_loss: 0.1149 - val_accuracy: 0.9643\n",
      "Epoch 46/1000\n",
      "3/3 - 0s - loss: 0.1427 - accuracy: 0.9524 - val_loss: 0.1034 - val_accuracy: 0.9643\n",
      "Epoch 47/1000\n",
      "3/3 - 0s - loss: 0.1334 - accuracy: 0.9643 - val_loss: 0.0962 - val_accuracy: 0.9643\n",
      "Epoch 48/1000\n",
      "3/3 - 0s - loss: 0.1252 - accuracy: 0.9643 - val_loss: 0.0973 - val_accuracy: 0.9643\n",
      "Epoch 49/1000\n",
      "3/3 - 0s - loss: 0.1169 - accuracy: 0.9524 - val_loss: 0.0877 - val_accuracy: 0.9643\n",
      "Epoch 50/1000\n",
      "3/3 - 0s - loss: 0.1085 - accuracy: 0.9643 - val_loss: 0.0828 - val_accuracy: 0.9643\n",
      "Epoch 51/1000\n",
      "3/3 - 0s - loss: 0.1028 - accuracy: 0.9643 - val_loss: 0.0772 - val_accuracy: 0.9643\n",
      "Epoch 52/1000\n",
      "3/3 - 0s - loss: 0.0955 - accuracy: 0.9643 - val_loss: 0.0779 - val_accuracy: 0.9643\n",
      "Epoch 53/1000\n",
      "3/3 - 0s - loss: 0.0939 - accuracy: 0.9643 - val_loss: 0.0794 - val_accuracy: 0.9643\n",
      "Epoch 54/1000\n",
      "3/3 - 0s - loss: 0.0886 - accuracy: 0.9762 - val_loss: 0.0661 - val_accuracy: 0.9643\n",
      "Epoch 55/1000\n",
      "3/3 - 0s - loss: 0.0835 - accuracy: 0.9762 - val_loss: 0.0602 - val_accuracy: 0.9643\n",
      "Epoch 56/1000\n",
      "3/3 - 0s - loss: 0.0801 - accuracy: 0.9762 - val_loss: 0.0594 - val_accuracy: 0.9643\n",
      "Epoch 57/1000\n",
      "3/3 - 0s - loss: 0.0770 - accuracy: 0.9762 - val_loss: 0.0611 - val_accuracy: 0.9643\n",
      "Epoch 58/1000\n",
      "3/3 - 0s - loss: 0.0728 - accuracy: 0.9881 - val_loss: 0.0672 - val_accuracy: 0.9643\n",
      "Epoch 59/1000\n",
      "3/3 - 0s - loss: 0.0723 - accuracy: 0.9643 - val_loss: 0.0766 - val_accuracy: 0.9643\n",
      "Epoch 60/1000\n",
      "3/3 - 0s - loss: 0.0726 - accuracy: 0.9643 - val_loss: 0.0723 - val_accuracy: 0.9643\n",
      "Restoring model weights from the end of the best epoch.\n",
      "Epoch 00060: early stopping\n"
     ]
    }
   ],
   "source": [
    "history = model.fit(X_train,\n",
    "                    y_train,\n",
    "                    validation_data=(X_val,y_val),\n",
    "                    callbacks=[monitor],\n",
    "                    verbose=2,\n",
    "                    epochs=1000)"
   ]
  },
  {
   "cell_type": "code",
   "execution_count": null,
   "metadata": {
    "colab": {
     "base_uri": "https://localhost:8080/",
     "height": 299
    },
    "executionInfo": {
     "elapsed": 7601,
     "status": "ok",
     "timestamp": 1615583306834,
     "user": {
      "displayName": "T3Lab Vision",
      "photoUrl": "",
      "userId": "14779383426442114373"
     },
     "user_tz": -60
    },
    "id": "pzJYAUGMuc3U",
    "outputId": "3b78a350-9ea4-4bdd-b507-bca2721d95b3"
   },
   "outputs": [
    {
     "data": {
      "text/plain": [
       "Text(0.5, 1.0, 'Training and validation accuracy')"
      ]
     },
     "execution_count": 31,
     "metadata": {
      "tags": []
     },
     "output_type": "execute_result"
    },
    {
     "data": {
      "image/png": "[encoded data removed]",
      "text/plain": [
       "<Figure size 432x288 with 1 Axes>"
      ]
     },
     "metadata": {
      "needs_background": "light",
      "tags": []
     },
     "output_type": "display_data"
    }
   ],
   "source": [
    "import matplotlib.pyplot as plt\n",
    "acc = history.history['accuracy']\n",
    "val_acc = history.history['val_accuracy']\n",
    "loss = history.history['loss']\n",
    "val_loss = history.history['val_loss']\n",
    "\n",
    "epochs = range(len(acc))\n",
    "\n",
    "plt.figure()\n",
    "plt.plot(epochs, acc, label='Training accuracy')\n",
    "plt.plot(epochs, val_acc, label='Validation accuracy')\n",
    "plt.title('Training and validation accuracy')"
   ]
  },
  {
   "cell_type": "code",
   "execution_count": null,
   "metadata": {
    "colab": {
     "base_uri": "https://localhost:8080/",
     "height": 299
    },
    "executionInfo": {
     "elapsed": 7593,
     "status": "ok",
     "timestamp": 1615583306835,
     "user": {
      "displayName": "T3Lab Vision",
      "photoUrl": "",
      "userId": "14779383426442114373"
     },
     "user_tz": -60
    },
    "id": "fZU96WTWwMc3",
    "outputId": "39540ca8-98cf-4f04-eb58-856a332c6ea5"
   },
   "outputs": [
    {
     "data": {
      "text/plain": [
       "<matplotlib.legend.Legend at 0x7f195917d850>"
      ]
     },
     "execution_count": 32,
     "metadata": {
      "tags": []
     },
     "output_type": "execute_result"
    },
    {
     "data": {
      "image/png": "[encoded data removed]",
      "text/plain": [
       "<Figure size 432x288 with 1 Axes>"
      ]
     },
     "metadata": {
      "needs_background": "light",
      "tags": []
     },
     "output_type": "display_data"
    }
   ],
   "source": [
    "plt.figure()\n",
    "\n",
    "plt.plot(epochs, loss, label='Training Loss')\n",
    "plt.plot(epochs, val_loss, label='Validation Loss')\n",
    "plt.title('Training and validation loss')\n",
    "plt.legend()"
   ]
  },
  {
   "cell_type": "code",
   "execution_count": null,
   "metadata": {
    "id": "3e2yrd5Cwke_"
   },
   "outputs": [],
   "source": []
  }
 ],
 "metadata": {
  "colab": {
   "collapsed_sections": [],
   "name": "32_IRIS.ipynb",
   "provenance": [
    {
     "file_id": "https://github.com/visiont3lab/deep-learning-course/blob/main/colab/02_Breast_Cancer.ipynb",
     "timestamp": 1615463899158
    }
   ]
  },
  "kernelspec": {
   "display_name": "Python 3",
   "language": "python",
   "name": "python3"
  },
  "language_info": {
   "codemirror_mode": {
    "name": "ipython",
    "version": 3
   },
   "file_extension": ".py",
   "mimetype": "text/x-python",
   "name": "python",
   "nbconvert_exporter": "python",
   "pygments_lexer": "ipython3",
   "version": "3.8.6"
  }
 },
 "nbformat": 4,
 "nbformat_minor": 1
}
