{
  "nbformat": 4,
  "nbformat_minor": 0,
  "metadata": {
    "colab": {
      "provenance": [],
      "gpuType": "T4"
    },
    "kernelspec": {
      "name": "python3",
      "display_name": "Python 3"
    },
    "language_info": {
      "name": "python"
    },
    "accelerator": "GPU"
  },
  "cells": [
    {
      "cell_type": "code",
      "source": [
        "%%capture\n",
        "!pip install ultralytics"
      ],
      "metadata": {
        "id": "6cHrzUszPhpZ"
      },
      "execution_count": 1,
      "outputs": []
    },
    {
      "cell_type": "code",
      "source": [
        "%%capture\n",
        "!wget https://ultralytics.com/images/bus.jpg"
      ],
      "metadata": {
        "id": "Q7TpGJ6OP6xx"
      },
      "execution_count": 2,
      "outputs": []
    },
    {
      "cell_type": "code",
      "execution_count": 1,
      "metadata": {
        "colab": {
          "base_uri": "https://localhost:8080/"
        },
        "id": "u-gXU1UVPdP_",
        "outputId": "9e837097-c693-408a-f469-cd7366168ff9"
      },
      "outputs": [
        {
          "output_type": "stream",
          "name": "stdout",
          "text": [
            "Downloading https://github.com/ultralytics/assets/releases/download/v8.1.0/sam_b.pt to 'sam_b.pt'...\n"
          ]
        },
        {
          "output_type": "stream",
          "name": "stderr",
          "text": [
            "100%|██████████| 358M/358M [00:01<00:00, 226MB/s]\n"
          ]
        },
        {
          "output_type": "stream",
          "name": "stdout",
          "text": [
            "Model summary: 238 layers, 93735472 parameters, 93735472 gradients\n",
            "\n",
            "0: 1024x1024 1 0, 1 1, 1 2, 1 3, 1 4, 1 5, 1 6, 1 7, 1 8, 1 9, 1 10, 1 11, 1 12, 1 13, 1 14, 1 15, 1 16, 1 17, 1 18, 1 19, 1 20, 1 21, 1 22, 1 23, 1 24, 1 25, 1 26, 1 27, 1 28, 1 29, 1 30, 1 31, 1 32, 1 33, 1 34, 1 35, 1 36, 1 37, 1 38, 1 39, 1 40, 1 41, 1 42, 1 43, 1 44, 1 45, 1 46, 1 47, 1 48, 1 49, 1 50, 1 51, 1 52, 1 53, 1 54, 1 55, 1 56, 1 57, 1 58, 1 59, 1 60, 1 61, 1 62, 1 63, 1 64, 1 65, 1 66, 1 67, 1 68, 1 69, 1 70, 1 71, 1 72, 1 73, 1 74, 1 75, 1 76, 1 77, 1 78, 12105.2ms\n",
            "Speed: 104.9ms preprocess, 12105.2ms inference, 4.4ms postprocess per image at shape (1, 3, 1024, 1024)\n"
          ]
        }
      ],
      "source": [
        "import os\n",
        "from tqdm import tqdm\n",
        "from PIL import Image, ImageEnhance\n",
        "import numpy as np\n",
        "import imutils\n",
        "\n",
        "from ultralytics import FastSAM\n",
        "from ultralytics.models.fastsam import FastSAMPrompt\n",
        "\n",
        "from ultralytics import SAM\n",
        "\n",
        "# https://docs.ultralytics.com/models/sam/#how-to-use-sam-versatility-and-power-in-image-segmentation\n",
        "\n",
        "def preprocess(im_pil, contrast=5.5, enhance=0.7):\n",
        "\n",
        "    enhancer = ImageEnhance.Contrast(im_pil)\n",
        "    im_pil_res = enhancer.enhance(contrast)  # Increasing contrast\n",
        "\n",
        "    # Enhance the contrast of the image\n",
        "    brightness_enhancer = ImageEnhance.Brightness(im_pil_res)\n",
        "    im_pil_res = brightness_enhancer.enhance(enhance)  # Reduce brightness by half\n",
        "    return im_pil_res\n",
        "\n",
        "def run(filepath):\n",
        "    im_pil = Image.open(filepath).convert(\"RGB\")\n",
        "    resize = True\n",
        "    w, h = im_pil.size\n",
        "    if resize:\n",
        "        if h>640:\n",
        "            im = np.array(im_pil)\n",
        "            im = imutils.resize(im, height=640)\n",
        "            im_pil = Image.fromarray(im)\n",
        "            w, h = im_pil.size\n",
        "\n",
        "    #im_pil_prep = preprocess(im_pil, contrast=1.1, enhance=1.1)\n",
        "\n",
        "    im_pil_prep = im_pil\n",
        "\n",
        "    # Run inference\n",
        "    im_run = np.array(im_pil_prep)\n",
        "    #im_run = np.array(im_pil)\n",
        "    # Run inference on an image\n",
        "    everything_results = model(im_run, device='cuda', retina_masks=True, imgsz=w, conf=0.5, iou=0.5)\n",
        "    #everything_results = model(im_run)\n",
        "\n",
        "    im_res = everything_results[0].plot()\n",
        "    im_pil_res = Image.fromarray(im_res)\n",
        "\n",
        "    im_pil.save(\"init.png\", \"PNG\")\n",
        "    im_pil_prep.save(\"prep.png\", \"PNG\")\n",
        "    im_pil_res.save(\"res.png\", \"PNG\")\n",
        "\n",
        "\n",
        "if __name__ == \"__main__\":\n",
        "\n",
        "\n",
        "    # Create a FastSAM model\n",
        "    #model = FastSAM('FastSAM-s.pt')  # or FastSAM-x.pt\n",
        "    model = SAM('sam_b.pt')\n",
        "\n",
        "    # Display model information (optional)\n",
        "    model.info()\n",
        "\n",
        "    try:\n",
        "        run(\"bus.jpg\")\n",
        "\n",
        "    except Exception as e:\n",
        "        print(e)"
      ]
    },
    {
      "cell_type": "code",
      "source": [],
      "metadata": {
        "id": "4yxGWqDBRA4n"
      },
      "execution_count": null,
      "outputs": []
    }
  ]
}