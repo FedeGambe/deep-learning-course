{
  "nbformat": 4,
  "nbformat_minor": 0,
  "metadata": {
    "colab": {
      "name": "Python-RecapClass.ipynb",
      "provenance": [],
      "collapsed_sections": [],
      "authorship_tag": "ABX9TyNNuYekgzWrEIvwHPq1XNWY",
      "include_colab_link": true
    },
    "kernelspec": {
      "name": "python3",
      "display_name": "Python 3"
    },
    "accelerator": "GPU"
  },
  "cells": [
    {
      "cell_type": "markdown",
      "metadata": {
        "id": "view-in-github",
        "colab_type": "text"
      },
      "source": [
        "<a href=\"https://colab.research.google.com/github/visiont3lab/deep-learning-course/blob/main/colab/Python_RecapClass.ipynb\" target=\"_parent\"><img src=\"https://colab.research.google.com/assets/colab-badge.svg\" alt=\"Open In Colab\"/></a>"
      ]
    },
    {
      "cell_type": "markdown",
      "metadata": {
        "id": "38zhmhg57csZ"
      },
      "source": [
        "# Getting Started With Python for Deep Learning\n",
        "\n"
      ]
    },
    {
      "cell_type": "markdown",
      "metadata": {
        "id": "MrxlHaHG53rG"
      },
      "source": [
        "* [PyTorch Computer Vision Cookbook](https://github.com/PacktPublishing/PyTorch-Computer-Vision-Cookbook)\n",
        "* [Nerual Network from sctract](https://www.kickstarter.com/projects/sentdex/neural-networks-from-scratch-in-python?lang=it)\n",
        "* [Programming Pytorch for Deep Learning](https://www.amazon.it/Programming-Pytorch-Deep-Learning-Applications/dp/1492045357)\n",
        "* [Deep Learning Sample Code](https://github.com/PacktPublishing)"
      ]
    },
    {
      "cell_type": "markdown",
      "metadata": {
        "id": "37QzybuNIvsn"
      },
      "source": [
        "## Google Colab\n",
        "\n",
        "* Server  (Sistema Operativo) Linux (Ubuntu 18.04)\n",
        "* Google colaboraty --> PC fornito da google 12.72 GB RAM, Disco Rigido > 15 GB --> GPU Settare il Runtime Type a GPU (Training)\n",
        "\n",
        "* [Markdown Commands](https://visiont3lab.github.io/tecnologie_data_science/docs/programming/google_colab.html)\n",
        "\n",
        "---\n",
        "\n"
      ]
    },
    {
      "cell_type": "code",
      "metadata": {
        "colab": {
          "base_uri": "https://localhost:8080/"
        },
        "id": "tS6PiZjFEY22",
        "outputId": "842473e2-b7e5-4727-84a3-45cae9e7482a"
      },
      "source": [
        "a=5\n",
        "a+6"
      ],
      "execution_count": null,
      "outputs": [
        {
          "output_type": "execute_result",
          "data": {
            "text/plain": [
              "11"
            ]
          },
          "metadata": {
            "tags": []
          },
          "execution_count": 1
        }
      ]
    },
    {
      "cell_type": "markdown",
      "metadata": {
        "id": "SM8NTyYOEull"
      },
      "source": [
        "# Titolo\n",
        "## Sottotilo\n",
        "\n",
        "* ds\n",
        "* ds\n",
        "* fsd\n",
        "\n",
        "1. d\n",
        "2. 34\n",
        "3. ds\n",
        "\n",
        "**sfsdf**\n",
        "\n",
        "fsdf fdsf\n",
        "fdsfds \n",
        "fdsfsd\n",
        "```python\n",
        "import numpy as np\n",
        "```\n",
        "\n"
      ]
    },
    {
      "cell_type": "code",
      "metadata": {
        "id": "F1KRskJMFSWQ"
      },
      "source": [
        "#!ls\n",
        "#%cd /content\n",
        "#!ls\n",
        "#!mkdir -p ciao\n",
        "!rm -rf ciaoo\n",
        "# !mkdir --help"
      ],
      "execution_count": null,
      "outputs": []
    },
    {
      "cell_type": "code",
      "metadata": {
        "colab": {
          "base_uri": "https://localhost:8080/"
        },
        "id": "Ud26WbDrG5uW",
        "outputId": "f7cf3318-6b92-4c0f-aec0-1db713a8310f"
      },
      "source": [
        "!python --version"
      ],
      "execution_count": null,
      "outputs": [
        {
          "output_type": "stream",
          "text": [
            "Python 3.7.10\n"
          ],
          "name": "stdout"
        }
      ]
    },
    {
      "cell_type": "code",
      "metadata": {
        "id": "455BjEmYH9ua"
      },
      "source": [
        "#!pip install -r requirments.txt\n",
        "#!pip list > t.txt"
      ],
      "execution_count": null,
      "outputs": []
    },
    {
      "cell_type": "code",
      "metadata": {
        "colab": {
          "base_uri": "https://localhost:8080/"
        },
        "id": "vCXB18abKZ2P",
        "outputId": "151b15a6-032d-465f-ce10-a112514c38cd"
      },
      "source": [
        "!pip list | grep pandas"
      ],
      "execution_count": null,
      "outputs": [
        {
          "output_type": "stream",
          "text": [
            "pandas                        1.2.3         \n",
            "pandas-datareader             0.9.0         \n",
            "pandas-gbq                    0.13.3        \n",
            "pandas-profiling              1.4.1         \n",
            "sklearn-pandas                1.8.0         \n"
          ],
          "name": "stdout"
        }
      ]
    },
    {
      "cell_type": "code",
      "metadata": {
        "id": "w-Nf_NceKkbK"
      },
      "source": [
        "!pip uninstall pandas #==1.2.3"
      ],
      "execution_count": null,
      "outputs": []
    },
    {
      "cell_type": "markdown",
      "metadata": {
        "id": "3oym1H46VPrB"
      },
      "source": [
        "### Bash basic requirements"
      ]
    },
    {
      "cell_type": "code",
      "metadata": {
        "colab": {
          "base_uri": "https://localhost:8080/"
        },
        "id": "rJ8HEsbSTGRH",
        "outputId": "aed62f41-b32b-4d40-a66f-500d1fb17271"
      },
      "source": [
        "# Elencare i file in una cartella\n",
        "#!ls \n",
        "# Percorso file\n",
        "#!pwd\n",
        "# Rimuovere una cartella\n",
        "#!rm -rf dataset \n",
        "# Creare una cartella\n",
        "#!mkdir -p dataset\n",
        "# Creare un file\n",
        "#!touch dataset/manuel.txt\n",
        "# Muoverci all'interno di una cartella\n",
        "#%cd .. \n",
        "\n",
        "# --- Esercizio\n",
        "# Create una cartella data\n",
        "# Inserite nella cartella data un file a.txt, b.txt\n",
        "# Eleminate il file b.txt\n",
        "# Eliminate la cartella data"
      ],
      "execution_count": null,
      "outputs": [
        {
          "output_type": "stream",
          "text": [
            "/content\n"
          ],
          "name": "stdout"
        }
      ]
    },
    {
      "cell_type": "markdown",
      "metadata": {
        "id": "1wPQ0Bw5LgNM"
      },
      "source": [
        "## Ripasso"
      ]
    },
    {
      "cell_type": "code",
      "metadata": {
        "colab": {
          "base_uri": "https://localhost:8080/"
        },
        "id": "vTjBJJBwMMZp",
        "outputId": "22d1ae39-96e5-4e37-f10f-fa2644a01c6e"
      },
      "source": [
        "!pip list | grep torchvision"
      ],
      "execution_count": null,
      "outputs": [
        {
          "output_type": "stream",
          "text": [
            "torchvision                   0.9.1+cu101   \n"
          ],
          "name": "stdout"
        }
      ]
    },
    {
      "cell_type": "code",
      "metadata": {
        "colab": {
          "base_uri": "https://localhost:8080/"
        },
        "id": "xHpkfjmSLdjO",
        "outputId": "feafcddc-d253-49e8-814a-a6f318a8e5a3"
      },
      "source": [
        "import numpy as np # algebra --> matlab\n",
        "import pandas as pd # manipolazione (prendere file da csv, xcel)\n",
        "import torch #  pytorch\n",
        "import torchvision # pytorch\n",
        "\n",
        "# lista ha lunghezza variabile\n",
        "# una lista è iterabile\n",
        "\n",
        "# array ha una dimensione finita (shape)\n",
        "# operazioni algebriche\n",
        "\n",
        "\n",
        "p = [\"kl\",2, [3,4,5,6], \"d\",{\"l\": 5}]\n",
        "m = [\"l\", \"k\", \"k\", \"k\", \"k\"]\n",
        "p.insert(2, [\"ciao\"])\n",
        "p.append([3,4,5])\n",
        "for elp,elm in zip(p,m):\n",
        "    print(elp,elm)\n",
        "\n",
        "\n",
        "#print(len(p))\n",
        "#print(p)\n",
        "\n",
        "a = np.array([[4.6,7,9.7]])\n",
        "#print(a.shape)\n",
        "#display(a)\n",
        "#print(a)\n",
        "#b = np.array([3,4])"
      ],
      "execution_count": null,
      "outputs": [
        {
          "output_type": "stream",
          "text": [
            "kl l\n",
            "2 k\n",
            "['ciao'] k\n",
            "[3, 4, 5, 6] k\n",
            "d k\n"
          ],
          "name": "stdout"
        }
      ]
    },
    {
      "cell_type": "code",
      "metadata": {
        "id": "pJkYDRmDSprM",
        "colab": {
          "base_uri": "https://localhost:8080/"
        },
        "outputId": "77a19c8f-cd80-44fb-896b-deb1659566b6"
      },
      "source": [
        "a = np.array([\n",
        "              [3,4,5],\n",
        "              [2.3,5,6]\n",
        "            ])\n",
        "a[:,:-1]"
      ],
      "execution_count": null,
      "outputs": [
        {
          "output_type": "execute_result",
          "data": {
            "text/plain": [
              "array([[3. , 4. ],\n",
              "       [2.3, 5. ]])"
            ]
          },
          "metadata": {
            "tags": []
          },
          "execution_count": 33
        }
      ]
    },
    {
      "cell_type": "code",
      "metadata": {
        "id": "WVtMAes3T64g",
        "colab": {
          "base_uri": "https://localhost:8080/"
        },
        "outputId": "fc872a0b-744f-4c93-bc29-542666423abd"
      },
      "source": [
        "img1 = np.ones((10,3,128,128)) # BCHW\n",
        "r = img1[2,0,:,:]\n",
        "g = img1[2,1,:,:]\n",
        "b = img1[2,2,:,:]\n",
        "\n",
        "img2 = 2*np.zeros((3,128,128)) # ones, zeros\n",
        "img3 = 3*np.ones((3,128,128))\n",
        "img4 = 4*np.ones((3,128,128))\n",
        "imgs = [img1,img2,img3,img4]\n",
        "for img in imgs:\n",
        "    print(img.max())"
      ],
      "execution_count": null,
      "outputs": [
        {
          "output_type": "stream",
          "text": [
            "1.0\n",
            "0.0\n",
            "3.0\n",
            "4.0\n"
          ],
          "name": "stdout"
        }
      ]
    },
    {
      "cell_type": "code",
      "metadata": {
        "id": "x5Fjl9kHWSnt",
        "colab": {
          "base_uri": "https://localhost:8080/"
        },
        "outputId": "c3191a77-5ebe-4249-ab10-491d8c973f59"
      },
      "source": [
        "m = np.random.randn(1,3,128,128)\n",
        "print(m.min())\n",
        "print(m.max())\n"
      ],
      "execution_count": null,
      "outputs": [
        {
          "output_type": "stream",
          "text": [
            "-4.143691887429908\n",
            "4.040349122101629\n"
          ],
          "name": "stdout"
        }
      ]
    },
    {
      "cell_type": "code",
      "metadata": {
        "id": "yYM9Ar_2TroM",
        "colab": {
          "base_uri": "https://localhost:8080/"
        },
        "outputId": "92e4c946-32d0-4553-fc77-9aa83c96843a"
      },
      "source": [
        "for row in range(0,a.shape[0]):\n",
        "    for col in range(0,a.shape[1]):\n",
        "        print(a[row,col])"
      ],
      "execution_count": null,
      "outputs": [
        {
          "output_type": "stream",
          "text": [
            "3.0\n",
            "4.0\n",
            "5.0\n",
            "2.3\n",
            "5.0\n",
            "6.0\n"
          ],
          "name": "stdout"
        }
      ]
    },
    {
      "cell_type": "code",
      "metadata": {
        "id": "omkWr3jHXf0m",
        "colab": {
          "base_uri": "https://localhost:8080/"
        },
        "outputId": "4ba0834a-afbd-435f-a656-6b97be2dc9ef"
      },
      "source": [
        "a = np.array([\n",
        "              [3,60,5],\n",
        "              [2.3,3,6],\n",
        "              [200,300,600],\n",
        "            ])\n",
        "a = a[np.newaxis,np.newaxis,:,:,np.newaxis]\n",
        "#print(a.shape)\n",
        "\n",
        "def stampa(a):\n",
        "    m = []\n",
        "    for row in range(0,a.shape[0]):\n",
        "        for col in range(0,a.shape[1]):\n",
        "            m.append(a[row,col])\n",
        "    return m, 5, [3,3]\n",
        "\n",
        "l,k,j = stampa(a)\n",
        "print(l)\n",
        "print(k,j)"
      ],
      "execution_count": null,
      "outputs": [
        {
          "output_type": "stream",
          "text": [
            "[array([[[  3. ],\n",
            "        [ 60. ],\n",
            "        [  5. ]],\n",
            "\n",
            "       [[  2.3],\n",
            "        [  3. ],\n",
            "        [  6. ]],\n",
            "\n",
            "       [[200. ],\n",
            "        [300. ],\n",
            "        [600. ]]])]\n",
            "5 [3, 3]\n"
          ],
          "name": "stdout"
        }
      ]
    },
    {
      "cell_type": "code",
      "metadata": {
        "id": "WGysvccoZgi6",
        "colab": {
          "base_uri": "https://localhost:8080/"
        },
        "outputId": "bf788248-3368-4e25-ea47-828e6d03e463"
      },
      "source": [
        "def test(a,b):\n",
        "    return a+b, a*b, [a+b, a*b]\n",
        "\n",
        "sum,moltiplicazione, lista =  test(6,7) \n",
        "\n",
        "print(sum)\n",
        "print(moltiplicazione)\n",
        "print(lista)"
      ],
      "execution_count": null,
      "outputs": [
        {
          "output_type": "stream",
          "text": [
            "13\n",
            "42\n",
            "[13, 42]\n"
          ],
          "name": "stdout"
        }
      ]
    },
    {
      "cell_type": "code",
      "metadata": {
        "id": "ooFK_acSaGr1"
      },
      "source": [
        "class MyClass:\n",
        "    def test1(self,a,b):\n",
        "        return self.j\n",
        "\n",
        "    def test2(self,a,b):\n",
        "        return a-b, a/b+self.j, [a-b, a/b] \n",
        "\n",
        "a = MyClass()\n",
        "a.j = 30\n",
        "print(a.test1(5,6))\n",
        "b = MyClass()\n",
        "b.j = 20\n",
        "print(b.test1(6,3))"
      ],
      "execution_count": null,
      "outputs": []
    },
    {
      "cell_type": "code",
      "metadata": {
        "id": "8j-U08FoeDC3",
        "colab": {
          "base_uri": "https://localhost:8080/"
        },
        "outputId": "6ae45c28-2201-43f7-9bfa-78cb47f848f6"
      },
      "source": [
        "# Dizionari!\n",
        "a = {\n",
        "        \"nome\": [\"manuel\",\";l\"],\n",
        "        \"cognome\": [\"rucci\",7], \n",
        "    }\n",
        "a.keys()\n",
        "a.values()"
      ],
      "execution_count": null,
      "outputs": [
        {
          "output_type": "execute_result",
          "data": {
            "text/plain": [
              "dict_values([['manuel', ';l'], ['rucci', 7]])"
            ]
          },
          "metadata": {
            "tags": []
          },
          "execution_count": 7
        }
      ]
    },
    {
      "cell_type": "code",
      "metadata": {
        "id": "J38uQLf9lvDt",
        "colab": {
          "base_uri": "https://localhost:8080/"
        },
        "outputId": "c7581cb8-345e-49bf-c90f-54cf1a2a1cad"
      },
      "source": [
        "def casa(a,b,c=5):\n",
        "    return a+b+c\n",
        "casa(4,5,1)"
      ],
      "execution_count": null,
      "outputs": [
        {
          "output_type": "execute_result",
          "data": {
            "text/plain": [
              "10"
            ]
          },
          "metadata": {
            "tags": []
          },
          "execution_count": 48
        }
      ]
    },
    {
      "cell_type": "code",
      "metadata": {
        "id": "dHtZ6E3de1qn",
        "colab": {
          "base_uri": "https://localhost:8080/"
        },
        "outputId": "0931f4cc-9960-45d2-c65f-9cc2ee3f14ce"
      },
      "source": [
        "import pandas as pd\n",
        "a = {\n",
        "        \"nomi\": [\"manuel\",\"ilaria\",\"sara\",\"manuel\"],\n",
        "        \"cognomi\": [\"rucci\",\"mp\", \"p\",\"s\"], \n",
        "    }\n",
        "\n",
        "#print(a[\"nomi\"])\n",
        "df = pd.DataFrame(a)\n",
        "#df.to_excel(\"m.xlsx\",index=None)\n",
        "df[\"nomi\"].unique()"
      ],
      "execution_count": null,
      "outputs": [
        {
          "output_type": "execute_result",
          "data": {
            "text/plain": [
              "array(['manuel', 'ilaria', 'sara'], dtype=object)"
            ]
          },
          "metadata": {
            "tags": []
          },
          "execution_count": 46
        }
      ]
    },
    {
      "cell_type": "code",
      "metadata": {
        "id": "0n7pZ_8ZgXlS"
      },
      "source": [
        "import json\n",
        "\n",
        "data = {}\n",
        "data['people'] = []\n",
        "data['people'].append({\n",
        "    'name': 'Scott',\n",
        "    'website': 'stackabuse.com',\n",
        "    'from': 'Nebraska'\n",
        "})\n",
        "data['people'].append({\n",
        "    'name': 'Larry',\n",
        "    'website': 'google.com',\n",
        "    'from': 'Michigan'\n",
        "})\n",
        "data['people'].append({\n",
        "    'name': 'Tim',\n",
        "    'website': 'apple.com',\n",
        "    'from': 'Alabama'\n",
        "})\n",
        "\n",
        "with open('data.json', 'w') as outfile:\n",
        "    json.dump(data, outfile)"
      ],
      "execution_count": null,
      "outputs": []
    },
    {
      "cell_type": "code",
      "metadata": {
        "id": "elDnva-8gf40",
        "colab": {
          "base_uri": "https://localhost:8080/"
        },
        "outputId": "8963beb3-8e04-499d-ff9d-1c46bcd7213e"
      },
      "source": [
        "import json\n",
        "\n",
        "with open('data.json','r') as json_file:\n",
        "    data = json.load(json_file)\n",
        "    print(data[\"people\"])"
      ],
      "execution_count": null,
      "outputs": [
        {
          "output_type": "stream",
          "text": [
            "[{'name': 'Scott', 'website': 'stackabuse.com', 'from': 'Nebraska'}, {'name': 'Larry', 'website': 'google.com', 'from': 'Michigan'}, {'name': 'Tim', 'website': 'apple.com', 'from': 'Alabama'}]\n"
          ],
          "name": "stdout"
        }
      ]
    },
    {
      "cell_type": "code",
      "metadata": {
        "id": "DuKoW5qbhO6_",
        "colab": {
          "base_uri": "https://localhost:8080/"
        },
        "outputId": "1ebe7248-ec34-4f88-caa6-ed9155de70c5"
      },
      "source": [
        "ww,hh = [640,480]\n",
        "hh\n",
        "\n",
        "a = set([\"manuel\", \"klk\", \"lkl\", \"manuel\"])\n",
        "a"
      ],
      "execution_count": null,
      "outputs": [
        {
          "output_type": "execute_result",
          "data": {
            "text/plain": [
              "{'klk', 'lkl', 'manuel'}"
            ]
          },
          "metadata": {
            "tags": []
          },
          "execution_count": 42
        }
      ]
    },
    {
      "cell_type": "markdown",
      "metadata": {
        "id": "drqLSjwyIbV7"
      },
      "source": [
        "## Python Basic Requirements\n",
        "\n",
        "* Tuple\n",
        "* List\n",
        "* array\n",
        "* dictionary\n",
        "* function\n",
        "* class\n",
        "* python packages and pip"
      ]
    },
    {
      "cell_type": "code",
      "metadata": {
        "colab": {
          "base_uri": "https://localhost:8080/"
        },
        "id": "uO83IloLWpnj",
        "outputId": "4575245e-9372-4b29-b8d5-5aaca73b43de"
      },
      "source": [
        "# python è un linguaggio interpretato\n",
        "# Script language --> alto livello\n",
        "\n",
        "# Lista --> non hanno una dimensione fissa\n",
        "lista_python = [2,3,4,5,6,\"ciao\"]\n",
        "print(\"lunghezza lista: \", len(lista_python))\n",
        "nuova_lista = []\n",
        "for m in lista_python:\n",
        "    #print(m)\n",
        "    nuova_lista.append(m)\n",
        "\n",
        "print(nuova_lista)"
      ],
      "execution_count": null,
      "outputs": [
        {
          "output_type": "stream",
          "text": [
            "lunghezza lista:  6\n",
            "[2, 3, 4, 5, 6, 'ciao']\n"
          ],
          "name": "stdout"
        }
      ]
    },
    {
      "cell_type": "code",
      "metadata": {
        "colab": {
          "base_uri": "https://localhost:8080/"
        },
        "id": "WKfXY9U1X4jJ",
        "outputId": "5e095b20-7da6-4d15-ea63-358e6e1dfcac"
      },
      "source": [
        "# Importare una libreria\n",
        "import numpy  as np\n",
        "# array hanno una dimensione fissa\n",
        "a = np.random.randint(10,30,1)*np.ones((1,5),dtype=np.float32)\n",
        "print(a.shape,a.dtype)\n",
        "print(a)"
      ],
      "execution_count": null,
      "outputs": [
        {
          "output_type": "stream",
          "text": [
            "(1, 5) float64\n",
            "[[27. 27. 27. 27. 27.]]\n"
          ],
          "name": "stdout"
        }
      ]
    },
    {
      "cell_type": "code",
      "metadata": {
        "colab": {
          "base_uri": "https://localhost:8080/"
        },
        "id": "25IeQSESbdt_",
        "outputId": "ac658bb3-307a-4b5b-b1a0-023a2cf62fd9"
      },
      "source": [
        "# Creare un array\n",
        "l = [7,6,10,8]\n",
        "#l.sort(reverse=True)\n",
        "arr = np.array(l,dtype=np.float32)\n",
        "#arr\n",
        "arr_sort = np.sort(arr)\n",
        "arr_sort"
      ],
      "execution_count": null,
      "outputs": [
        {
          "output_type": "execute_result",
          "data": {
            "text/plain": [
              "array([ 6.,  7.,  8., 10.], dtype=float32)"
            ]
          },
          "metadata": {
            "tags": []
          },
          "execution_count": 108
        }
      ]
    },
    {
      "cell_type": "code",
      "metadata": {
        "colab": {
          "base_uri": "https://localhost:8080/"
        },
        "id": "WNMLZm0eZB0Z",
        "outputId": "724f792a-e946-4063-e719-686a298a80a2"
      },
      "source": [
        "def __my_function__(a):\n",
        "    return a*2\n",
        "m = __my_function__(10)\n",
        "print(m)    "
      ],
      "execution_count": null,
      "outputs": [
        {
          "output_type": "stream",
          "text": [
            "20\n"
          ],
          "name": "stdout"
        }
      ]
    },
    {
      "cell_type": "code",
      "metadata": {
        "id": "M_-jo8meam_D"
      },
      "source": [
        "# Esercizio\n",
        "lista_python = [12,13,\"kl\", 2,56,8,\"ciao\"]\n",
        "Data una lista crea una funzione che mi ritorna un array che contiene i numeri ordinati\n",
        "--> array[2,8,12,13,56] --> shape (1,5) --> (5,)"
      ],
      "execution_count": null,
      "outputs": []
    },
    {
      "cell_type": "code",
      "metadata": {
        "id": "FHp-ihx4dbKw"
      },
      "source": [
        "Python + Libreria sul tuo pc --> jupyter notebook -> interfaccia web --> ambient virtuale \n",
        "Python + libreria sul pc google --> jupyter notebook -> interfaccia google web --> ambient virtuale \n",
        "# ip:port"
      ],
      "execution_count": null,
      "outputs": []
    },
    {
      "cell_type": "code",
      "metadata": {
        "id": "JYqVk_1yfIdm",
        "colab": {
          "base_uri": "https://localhost:8080/"
        },
        "outputId": "cf39d095-872d-4b33-dc08-45abaa071316"
      },
      "source": [
        "# Rimuovere string da una lista\n",
        "# float , int, string, object\n",
        "lista_python = [12,13,\"kl\", 2.3, \"Klk\", 56.898,8.0,\"o\"]\n",
        "def my_function(lista):\n",
        "    nlist = []\n",
        "    for el in lista:\n",
        "        if type(el) is not str:\n",
        "            nlist.append(el)\n",
        "    nlist.sort()\n",
        "    arr =  np.array(nlist, dtype=np.float) \n",
        "    arr_round = np.round( np.array(nlist, dtype=np.float), 0 )\n",
        "    #print(arr.shape)\n",
        "    return arr, arr_round\n",
        "notround, round = my_function(lista_python) \n",
        "print(notround, round)"
      ],
      "execution_count": null,
      "outputs": [
        {
          "output_type": "stream",
          "text": [
            "[ 2.3    8.    12.    13.    56.898] [ 2.  8. 12. 13. 57.]\n"
          ],
          "name": "stdout"
        }
      ]
    },
    {
      "cell_type": "code",
      "metadata": {
        "id": "DwzwS969iE-D",
        "colab": {
          "base_uri": "https://localhost:8080/"
        },
        "outputId": "2e813793-d0a4-47fc-e058-3f7b421fdf31"
      },
      "source": [
        "lista_python = [12,13,\"kl\", 2,56,8.0,\"o\"]\n",
        "lista_python.remove(\"kl\")\n",
        "lista_python.remove(\"o\")\n",
        "arr = np.array(lista_python)\n",
        "arr = np.sort(arr)\n",
        "print(arr)\n",
        "arr = arr.reshape(1,5)\n",
        "print(arr)"
      ],
      "execution_count": null,
      "outputs": [
        {
          "output_type": "stream",
          "text": [
            "[ 2.  8. 12. 13. 56.]\n",
            "[[ 2.  8. 12. 13. 56.]]\n"
          ],
          "name": "stdout"
        }
      ]
    },
    {
      "cell_type": "code",
      "metadata": {
        "id": "Ld83J9FskTJL",
        "colab": {
          "base_uri": "https://localhost:8080/"
        },
        "outputId": "bf03759f-1ed3-4c8b-842a-e2552f5cc489"
      },
      "source": [
        "# pandas \n",
        "# key - valore\n",
        "d = { \n",
        "        \"size\" : [64,64,3],\n",
        "        \"training\" : np.array([45,6,7]), \n",
        "        \"training_lr\" : 0.5,\n",
        "        \"testing\" : [4,65,7],    \n",
        "    }\n",
        "d[\"app\"] = [\"lò\" ,4]\n",
        "d"
      ],
      "execution_count": null,
      "outputs": [
        {
          "output_type": "execute_result",
          "data": {
            "text/plain": [
              "{'app': ['lò', 4],\n",
              " 'size': [64, 64, 3],\n",
              " 'testing': [4, 65, 7],\n",
              " 'training': array([45,  6,  7]),\n",
              " 'training_lr': 0.5}"
            ]
          },
          "metadata": {
            "tags": []
          },
          "execution_count": 190
        }
      ]
    },
    {
      "cell_type": "code",
      "metadata": {
        "id": "Os-IyK_1lexj",
        "colab": {
          "base_uri": "https://localhost:8080/"
        },
        "outputId": "149f8461-e4c4-487c-fc63-f0ae776f9e15"
      },
      "source": [
        "h,w,c = (64,64,3)\n",
        "b = {\"klk\" : 5}\n",
        "c = [5,6,7,8]\n",
        "print(a,b,c)"
      ],
      "execution_count": null,
      "outputs": [
        {
          "output_type": "stream",
          "text": [
            "(64, 64, 3) {'klk': 5} [5, 6, 7, 8]\n"
          ],
          "name": "stdout"
        }
      ]
    },
    {
      "cell_type": "code",
      "metadata": {
        "id": "My4iwb9clrY8",
        "colab": {
          "base_uri": "https://localhost:8080/"
        },
        "outputId": "c3cbc922-fc35-4aa2-e33d-c0cf4a64432b"
      },
      "source": [
        "d,e,f,g = a\n",
        "print(d,e,f,g)"
      ],
      "execution_count": null,
      "outputs": [
        {
          "output_type": "stream",
          "text": [
            "5 6 7 8\n"
          ],
          "name": "stdout"
        }
      ]
    },
    {
      "cell_type": "code",
      "metadata": {
        "id": "PWISYzSin_u-",
        "colab": {
          "base_uri": "https://localhost:8080/"
        },
        "outputId": "656ec447-b5c6-427a-87f2-ad8d3ff48254"
      },
      "source": [
        "a = np.array([6,7,8],dtype=np.float)\n",
        "a = torch.tensor([6,7,8],dtype=torch.float32)\n",
        "a"
      ],
      "execution_count": null,
      "outputs": [
        {
          "output_type": "execute_result",
          "data": {
            "text/plain": [
              "tensor([6., 7., 8.])"
            ]
          },
          "metadata": {
            "tags": []
          },
          "execution_count": 69
        }
      ]
    },
    {
      "cell_type": "code",
      "metadata": {
        "id": "VqyWR1-5m3Z9",
        "colab": {
          "base_uri": "https://localhost:8080/"
        },
        "outputId": "575f11a7-5ffe-41f5-fd3a-eba4867b46f6"
      },
      "source": [
        "# !python --version  # check python version\n",
        "# data analisi pandas, matplotlib, plotly, seaborn,\n",
        "# machine learning: scikit-learn\n",
        "# deep learning : tensorflow (+ keras) (google) [deploy] , pytorch (facebook) [educazione]\n",
        "# image processing: Pillow, opencv-python (image processing)\n",
        "#!pip list | grep torch\n",
        "#!pip install torch \n",
        "#!pip uninstall torch \n",
        "#!pip install tensorflow==2.4.1\n",
        "#!pip list | grep tensorflow\n",
        "#!python --version #--> 3.8 --> tensortflow pytorch"
      ],
      "execution_count": null,
      "outputs": [
        {
          "output_type": "stream",
          "text": [
            "Python 3.7.10\n"
          ],
          "name": "stdout"
        }
      ]
    },
    {
      "cell_type": "markdown",
      "metadata": {
        "id": "BidnhEVh7tn6"
      },
      "source": [
        "## Pytorch: Installation"
      ]
    },
    {
      "cell_type": "markdown",
      "metadata": {
        "id": "YNjKSYqb7_PD"
      },
      "source": [
        "* Local (Own Pc)\n",
        "\n",
        "    Install [python 3.8](https://www.python.org/downloads/)\n",
        "\n",
        "    ```\n",
        "    pip3 install virtualenv\n",
        "    virtualenv env\n",
        "    source env/bin/activate # Linux - Mac\n",
        "    source env/Scripts/activate # Windows\n",
        "    pip install torch torchvision\n",
        "    ```\n",
        "\n",
        "\n",
        "* Google Colab\n",
        "\n",
        "    ```\n",
        "    pip3 install torch torchvision\n",
        "    ```\n",
        "These requirements should be arealdy satisied\n"
      ]
    },
    {
      "cell_type": "code",
      "metadata": {
        "colab": {
          "base_uri": "https://localhost:8080/"
        },
        "id": "NEIaS-Q8tSI-",
        "outputId": "02d0c6d6-95a9-4601-be59-f3a2e80d4225"
      },
      "source": [
        "!nvidia-smi"
      ],
      "execution_count": null,
      "outputs": [
        {
          "output_type": "stream",
          "text": [
            "Tue Apr 13 18:59:26 2021       \n",
            "+-----------------------------------------------------------------------------+\n",
            "| NVIDIA-SMI 460.67       Driver Version: 460.32.03    CUDA Version: 11.2     |\n",
            "|-------------------------------+----------------------+----------------------+\n",
            "| GPU  Name        Persistence-M| Bus-Id        Disp.A | Volatile Uncorr. ECC |\n",
            "| Fan  Temp  Perf  Pwr:Usage/Cap|         Memory-Usage | GPU-Util  Compute M. |\n",
            "|                               |                      |               MIG M. |\n",
            "|===============================+======================+======================|\n",
            "|   0  Tesla T4            Off  | 00000000:00:04.0 Off |                    0 |\n",
            "| N/A   45C    P8     9W /  70W |      0MiB / 15109MiB |      0%      Default |\n",
            "|                               |                      |                  N/A |\n",
            "+-------------------------------+----------------------+----------------------+\n",
            "                                                                               \n",
            "+-----------------------------------------------------------------------------+\n",
            "| Processes:                                                                  |\n",
            "|  GPU   GI   CI        PID   Type   Process name                  GPU Memory |\n",
            "|        ID   ID                                                   Usage      |\n",
            "|=============================================================================|\n",
            "|  No running processes found                                                 |\n",
            "+-----------------------------------------------------------------------------+\n"
          ],
          "name": "stdout"
        }
      ]
    },
    {
      "cell_type": "code",
      "metadata": {
        "colab": {
          "base_uri": "https://localhost:8080/"
        },
        "id": "1tH0Ck6L5kTQ",
        "outputId": "19c511d7-cbe1-4a3d-a434-411643f749ee"
      },
      "source": [
        "# Verify installation\n",
        "!pip list | grep torch"
      ],
      "execution_count": null,
      "outputs": [
        {
          "output_type": "stream",
          "text": [
            "torch                         1.8.1+cu101   \n",
            "torchsummary                  1.5.1         \n",
            "torchtext                     0.9.1         \n",
            "torchvision                   0.9.1+cu101   \n"
          ],
          "name": "stdout"
        }
      ]
    },
    {
      "cell_type": "code",
      "metadata": {
        "colab": {
          "base_uri": "https://localhost:8080/"
        },
        "id": "q2rHdZ4a9Gl9",
        "outputId": "b012b90e-4781-4b70-95e1-d5a51acb1ebd"
      },
      "source": [
        "# Change runtime colab type to enable GPU\n",
        "# Click on Runtime --> Select Change Runtime Type --> Select Hardware Accelarion GPU\n",
        "\n",
        "import torch\n",
        "import torchvision\n",
        "print(\"Torch Version: \",torch.__version__)\n",
        "print(\"Torch Vision Version:\", torchvision.__version__)\n",
        "print(\"Is Cuda available: \", torch.cuda.is_available())\n",
        "print(\"Number of  Cuda device: \", torch.cuda.device_count())\n",
        "print(\"Get Cuda Current device: \", torch.cuda.current_device())\n",
        "print(\"Get Name of Cuda  device: \", torch.cuda.get_device_name(0))"
      ],
      "execution_count": null,
      "outputs": [
        {
          "output_type": "stream",
          "text": [
            "Torch Version:  1.8.1+cu101\n",
            "Torch Vision Version: 0.9.1+cu101\n",
            "Is Cuda available:  True\n",
            "Number of  Cuda device:  1\n",
            "Get Cuda Current device:  0\n",
            "Get Name of Cuda  device:  Tesla T4\n"
          ],
          "name": "stdout"
        }
      ]
    },
    {
      "cell_type": "code",
      "metadata": {
        "colab": {
          "base_uri": "https://localhost:8080/"
        },
        "id": "NgrFTeOYvWdV",
        "outputId": "10656de9-5db4-4a20-e067-0ca849fb6395"
      },
      "source": [
        "torch.cuda.is_available()"
      ],
      "execution_count": null,
      "outputs": [
        {
          "output_type": "execute_result",
          "data": {
            "text/plain": [
              "True"
            ]
          },
          "metadata": {
            "tags": []
          },
          "execution_count": 13
        }
      ]
    },
    {
      "cell_type": "code",
      "metadata": {
        "colab": {
          "base_uri": "https://localhost:8080/"
        },
        "id": "VvzvvjNRKF5b",
        "outputId": "fd044815-c9ac-4f78-b06a-b5a908fd8622"
      },
      "source": [
        "! pip3 install torch torchvision"
      ],
      "execution_count": null,
      "outputs": [
        {
          "output_type": "stream",
          "text": [
            "Requirement already satisfied: torch in /usr/local/lib/python3.7/dist-packages (1.7.1+cu101)\n",
            "Requirement already satisfied: torchvision in /usr/local/lib/python3.7/dist-packages (0.8.2+cu101)\n",
            "Requirement already satisfied: typing-extensions in /usr/local/lib/python3.7/dist-packages (from torch) (3.7.4.3)\n",
            "Requirement already satisfied: numpy in /usr/local/lib/python3.7/dist-packages (from torch) (1.19.5)\n",
            "Requirement already satisfied: pillow>=4.1.1 in /usr/local/lib/python3.7/dist-packages (from torchvision) (7.0.0)\n"
          ],
          "name": "stdout"
        }
      ]
    },
    {
      "cell_type": "markdown",
      "metadata": {
        "id": "xV3_nBpi_YJ5"
      },
      "source": [
        "## Pytorch: Tensors"
      ]
    },
    {
      "cell_type": "markdown",
      "metadata": {
        "id": "ERI7NZCk_dIu"
      },
      "source": [
        "> Tensor: n-dimensional array\n",
        "\n",
        "* [Pytoch documentation](https://pytorch.org/docs/stable/index.html)\n",
        "* [List of Pytorch Type](https://pytorch.org/docs/stable/tensors.html)"
      ]
    },
    {
      "cell_type": "code",
      "metadata": {
        "id": "TV9-uMZrnUc7",
        "colab": {
          "base_uri": "https://localhost:8080/"
        },
        "outputId": "46fcc49d-e9ef-4b54-ffcf-da3cfb348b50"
      },
      "source": [
        "import numpy as np\n",
        "A= np.ones((4,4))\n",
        "B = torch.ones((4,4))\n",
        "B.shape"
      ],
      "execution_count": null,
      "outputs": [
        {
          "output_type": "execute_result",
          "data": {
            "text/plain": [
              "torch.Size([4, 4])"
            ]
          },
          "metadata": {
            "tags": []
          },
          "execution_count": 60
        }
      ]
    },
    {
      "cell_type": "code",
      "metadata": {
        "colab": {
          "base_uri": "https://localhost:8080/"
        },
        "id": "Daxr3q3798gv",
        "outputId": "a26a0702-8614-4db8-8ed6-fc78bd21fff6"
      },
      "source": [
        "import torch\n",
        "import numpy as np\n",
        "x = torch.ones((4,4), dtype=torch.float16)\n",
        "#x = np.ones((4,4), dtype=np.float16)\n",
        "print(x)\n",
        "print(\"Shape: \", x.shape)\n",
        "print(\"Type : \", x.dtype) # Torch default data type is torch.float32"
      ],
      "execution_count": null,
      "outputs": [
        {
          "output_type": "stream",
          "text": [
            "tensor([[1., 1., 1., 1.],\n",
            "        [1., 1., 1., 1.],\n",
            "        [1., 1., 1., 1.],\n",
            "        [1., 1., 1., 1.]], dtype=torch.float16)\n",
            "Shape:  torch.Size([4, 4])\n",
            "Type :  torch.float16\n"
          ],
          "name": "stdout"
        }
      ]
    },
    {
      "cell_type": "code",
      "metadata": {
        "colab": {
          "base_uri": "https://localhost:8080/"
        },
        "id": "NSM5NQafADMj",
        "outputId": "333061f9-edda-48a8-ecd5-ec34c1aed5b5"
      },
      "source": [
        "# Specify tensor type\n",
        "x = 2*torch.ones((1,3,2), dtype=torch.int8)\n",
        "print(x)\n",
        "print(\"Shape: \", x.shape)\n",
        "print(\"Type : \", x.dtype)"
      ],
      "execution_count": null,
      "outputs": [
        {
          "output_type": "stream",
          "text": [
            "tensor([[[2, 2],\n",
            "         [2, 2],\n",
            "         [2, 2]]], dtype=torch.int8)\n",
            "Shape:  torch.Size([1, 3, 2])\n",
            "Type :  torch.int8\n"
          ],
          "name": "stdout"
        }
      ]
    },
    {
      "cell_type": "code",
      "metadata": {
        "colab": {
          "base_uri": "https://localhost:8080/"
        },
        "id": "UyLARNB4AjiJ",
        "outputId": "1c3a9173-81f7-4f9d-8f4b-fd79d05b5638"
      },
      "source": [
        "# Change tensor type\n",
        "x = torch.rand(3, dtype=torch.float32) # random uniform 0-1\n",
        "x = 5*x # Multiply by 5\n",
        "print(\"Tensor: %s , Type: %s \" % (x, x.dtype))\n",
        "x = x.type(torch.uint8) # change data type to unit8\n",
        "print(\"Tensor: %s , Type: %s \" % (x, x.dtype))"
      ],
      "execution_count": null,
      "outputs": [
        {
          "output_type": "stream",
          "text": [
            "Tensor: tensor([1.4643, 3.4013, 4.4163]) , Type: torch.float32 \n",
            "Tensor: tensor([1, 3, 4], dtype=torch.uint8) , Type: torch.uint8 \n"
          ],
          "name": "stdout"
        }
      ]
    },
    {
      "cell_type": "code",
      "metadata": {
        "colab": {
          "base_uri": "https://localhost:8080/"
        },
        "id": "eb-gH_3EBFAC",
        "outputId": "76ecacc9-ad40-4cfe-cfda-33cf9bfa3532"
      },
      "source": [
        "# Tensor to numpy array\n",
        "x = torch.sin( torch.rand(4) + 2*torch.rand(4) )\n",
        "xnp = x.numpy()\n",
        "print(\"Numpy Array: %s , Type: %s \" % (xnp, xnp.dtype))"
      ],
      "execution_count": null,
      "outputs": [
        {
          "output_type": "stream",
          "text": [
            "Numpy Array: [0.9982301 0.6028976 0.7176252 0.8889904] , Type: float32 \n"
          ],
          "name": "stdout"
        }
      ]
    },
    {
      "cell_type": "code",
      "metadata": {
        "colab": {
          "base_uri": "https://localhost:8080/"
        },
        "id": "_QNpDjIwCPlK",
        "outputId": "6d36a8dc-5d49-455c-f69f-caf98527d547"
      },
      "source": [
        "# Numpy array to tensor\n",
        "import numpy as np\n",
        "xnp = np.sin( np.random.rand(4) + 2*np.random.rand(4) ) # Float64 by default numpy\n",
        "print(xnp)\n",
        "x = torch.from_numpy(xnp)\n",
        "x = x.type(torch.float32)\n",
        "print(\"Tensor: %s , Type: %s \" % (x, x.dtype))"
      ],
      "execution_count": null,
      "outputs": [
        {
          "output_type": "stream",
          "text": [
            "[0.87555113 0.62579561 0.79933828 0.97127132]\n",
            "Tensor: tensor([0.8756, 0.6258, 0.7993, 0.9713]) , Type: torch.float32 \n"
          ],
          "name": "stdout"
        }
      ]
    },
    {
      "cell_type": "code",
      "metadata": {
        "colab": {
          "base_uri": "https://localhost:8080/"
        },
        "id": "DEN8ncC-CsCK",
        "outputId": "bea1eec2-0539-4723-da88-2817a33f44e9"
      },
      "source": [
        "# Moving tensor bettwen cpu and cuda device\n",
        "# If u do not specify the device the tensorf will be hosted by default on cpu\n",
        "x = torch.tensor([[1,3,4.4,5.6]]) # RAM\n",
        "print(\"Tensor: %s , Type: %s ,Shape: %s, Device: %s\" % (x.tolist(), x.dtype,x.shape,x.device))\n",
        "if torch.cuda.is_available():\n",
        "    device = torch.device(\"cuda:0\")\n",
        "    x = x.to(device)\n",
        "    print(\"Tensor: %s , Type: %s ,Shape: %s, Device: %s\" % (x.tolist(), x.dtype,x.shape,x.device))\n"
      ],
      "execution_count": null,
      "outputs": [
        {
          "output_type": "stream",
          "text": [
            "Tensor: [[1.0, 3.0, 4.400000095367432, 5.599999904632568]] , Type: torch.float32 ,Shape: torch.Size([1, 4]), Device: cpu\n",
            "Tensor: [[1.0, 3.0, 4.400000095367432, 5.599999904632568]] , Type: torch.float32 ,Shape: torch.Size([1, 4]), Device: cuda:0\n"
          ],
          "name": "stdout"
        }
      ]
    },
    {
      "cell_type": "code",
      "metadata": {
        "id": "xVKcytBEzXNG"
      },
      "source": [
        "class myclass: # la classe è un contenitore (diverse funzioni)\n",
        "    def __init__(self, lista):\n",
        "        # Initial\n",
        "        self.arr = np.array(lista, dtype=np.float32)\n",
        "        #self.device = torch.device(\"cuda:0\")\n",
        "        self.device = torch.device(\"cpu\")\n",
        "        \n",
        "    def arrayToTensor(self):\n",
        "        x = torch.from_numpy(self.arr).to(self.device)\n",
        "        return x\n",
        "    def arrayDouble(self):\n",
        "        x = self.arr*2\n",
        "        return x\n",
        "        \n",
        "cl = myclass([5,7,8,9])\n",
        "p1 = cl.arrayToTensor()\n",
        "p2  = cl.arrayDouble()\n",
        "print(p1.device,p2)\n",
        "\n",
        "cr = myclass([5,16,2,9])\n",
        "pr1 = cr.arrayToTensor()\n",
        "pr2  = cr.arrayDouble()\n",
        "print(pr1,pr2)"
      ],
      "execution_count": null,
      "outputs": []
    }
  ]
}